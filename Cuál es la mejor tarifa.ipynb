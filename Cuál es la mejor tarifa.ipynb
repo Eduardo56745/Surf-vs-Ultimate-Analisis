{
 "cells": [
  {
   "cell_type": "markdown",
   "metadata": {
    "id": "3rYiDeEH0q0f"
   },
   "source": [
    "# ¿Cuál es la mejor tarifa?\n",
    "\n",
    "## Introducción\n",
    "\n",
    "Trabajas como analista para el operador de telecomunicaciones Megaline. La empresa ofrece a sus clientes dos tarifas de prepago, Surf y Ultimate. El departamento comercial quiere saber cuál de las tarifas genera más ingresos para poder ajustar el presupuesto de publicidad.\n",
    "\n",
    "Vas a realizar un análisis preliminar de las tarifas basado en una selección de clientes relativamente pequeña. Tendrás los datos de 500 clientes de Megaline: quiénes son los clientes, de dónde son, qué tarifa usan, así como la cantidad de llamadas que hicieron y los mensajes de texto que enviaron en 2018. Tu trabajo es analizar el comportamiento de los clientes y determinar qué tarifa de prepago genera más ingresos."
   ]
  },
  {
   "cell_type": "markdown",
   "metadata": {
    "id": "MQi4IPy70q0y"
   },
   "source": [
    "## Inicialización"
   ]
  },
  {
   "cell_type": "code",
   "execution_count": 103,
   "metadata": {
    "id": "MtYIuBxu0q0z"
   },
   "outputs": [],
   "source": [
    "# Cargar todas las librerías\n",
    "import pandas as pd\n",
    "import matplotlib.pyplot as plt\n",
    "import numpy as np\n",
    "import math as mt\n",
    "import scipy.stats as st\n"
   ]
  },
  {
   "cell_type": "markdown",
   "metadata": {
    "id": "4ysWWC5i0q00"
   },
   "source": [
    "## Cargar datos"
   ]
  },
  {
   "cell_type": "code",
   "execution_count": 104,
   "metadata": {
    "id": "CCqPW7rS0q01"
   },
   "outputs": [],
   "source": [
    "# Carga los archivos de datos en diferentes DataFrames\n",
    "users = pd.read_csv('/datasets/megaline_users.csv')\n",
    "plans = pd.read_csv('/datasets/megaline_plans.csv')\n",
    "messages = pd.read_csv('/datasets/megaline_messages.csv')\n",
    "internet = pd.read_csv('/datasets/megaline_internet.csv')\n",
    "calls = pd.read_csv('/datasets/megaline_calls.csv')"
   ]
  },
  {
   "cell_type": "markdown",
   "metadata": {
    "id": "69qqoJ3r0q01"
   },
   "source": [
    "## Preparar los datos"
   ]
  },
  {
   "cell_type": "markdown",
   "metadata": {
    "id": "ohBhimvH0q01"
   },
   "source": [
    "## Tarifas"
   ]
  },
  {
   "cell_type": "code",
   "execution_count": 105,
   "metadata": {
    "id": "GptqP3Q40q02"
   },
   "outputs": [
    {
     "name": "stdout",
     "output_type": "stream",
     "text": [
      "<class 'pandas.core.frame.DataFrame'>\n",
      "RangeIndex: 2 entries, 0 to 1\n",
      "Data columns (total 8 columns):\n",
      " #   Column                 Non-Null Count  Dtype  \n",
      "---  ------                 --------------  -----  \n",
      " 0   messages_included      2 non-null      int64  \n",
      " 1   mb_per_month_included  2 non-null      int64  \n",
      " 2   minutes_included       2 non-null      int64  \n",
      " 3   usd_monthly_pay        2 non-null      int64  \n",
      " 4   usd_per_gb             2 non-null      int64  \n",
      " 5   usd_per_message        2 non-null      float64\n",
      " 6   usd_per_minute         2 non-null      float64\n",
      " 7   plan_name              2 non-null      object \n",
      "dtypes: float64(2), int64(5), object(1)\n",
      "memory usage: 256.0+ bytes\n"
     ]
    }
   ],
   "source": [
    "# Imprime la información general/resumida sobre el DataFrame de las tarifas\n",
    "\n",
    "plans.info()"
   ]
  },
  {
   "cell_type": "code",
   "execution_count": 106,
   "metadata": {
    "id": "64xzjwL70q02"
   },
   "outputs": [
    {
     "data": {
      "text/html": [
       "<div>\n",
       "<style scoped>\n",
       "    .dataframe tbody tr th:only-of-type {\n",
       "        vertical-align: middle;\n",
       "    }\n",
       "\n",
       "    .dataframe tbody tr th {\n",
       "        vertical-align: top;\n",
       "    }\n",
       "\n",
       "    .dataframe thead th {\n",
       "        text-align: right;\n",
       "    }\n",
       "</style>\n",
       "<table border=\"1\" class=\"dataframe\">\n",
       "  <thead>\n",
       "    <tr style=\"text-align: right;\">\n",
       "      <th></th>\n",
       "      <th>messages_included</th>\n",
       "      <th>mb_per_month_included</th>\n",
       "      <th>minutes_included</th>\n",
       "      <th>usd_monthly_pay</th>\n",
       "      <th>usd_per_gb</th>\n",
       "      <th>usd_per_message</th>\n",
       "      <th>usd_per_minute</th>\n",
       "      <th>plan_name</th>\n",
       "    </tr>\n",
       "  </thead>\n",
       "  <tbody>\n",
       "    <tr>\n",
       "      <th>0</th>\n",
       "      <td>50</td>\n",
       "      <td>15360</td>\n",
       "      <td>500</td>\n",
       "      <td>20</td>\n",
       "      <td>10</td>\n",
       "      <td>0.03</td>\n",
       "      <td>0.03</td>\n",
       "      <td>surf</td>\n",
       "    </tr>\n",
       "    <tr>\n",
       "      <th>1</th>\n",
       "      <td>1000</td>\n",
       "      <td>30720</td>\n",
       "      <td>3000</td>\n",
       "      <td>70</td>\n",
       "      <td>7</td>\n",
       "      <td>0.01</td>\n",
       "      <td>0.01</td>\n",
       "      <td>ultimate</td>\n",
       "    </tr>\n",
       "  </tbody>\n",
       "</table>\n",
       "</div>"
      ],
      "text/plain": [
       "   messages_included  mb_per_month_included  minutes_included  \\\n",
       "0                 50                  15360               500   \n",
       "1               1000                  30720              3000   \n",
       "\n",
       "   usd_monthly_pay  usd_per_gb  usd_per_message  usd_per_minute plan_name  \n",
       "0               20          10             0.03            0.03      surf  \n",
       "1               70           7             0.01            0.01  ultimate  "
      ]
     },
     "execution_count": 106,
     "metadata": {},
     "output_type": "execute_result"
    }
   ],
   "source": [
    "# Imprime una muestra de los datos para las tarifas\n",
    "\n",
    "plans"
   ]
  },
  {
   "cell_type": "markdown",
   "metadata": {},
   "source": [
    "###### No hay valores ausentes en el Dataframe, lo que es positivo y sugiere que los datos están completos, todos los tipos de datos son adecuado para el tipo de información que representan."
   ]
  },
  {
   "cell_type": "markdown",
   "metadata": {
    "id": "R3C05i1l0q03"
   },
   "source": [
    "## Corregir datos"
   ]
  },
  {
   "cell_type": "markdown",
   "metadata": {
    "id": "LJir7bml0q03"
   },
   "source": [
    "## Enriquecer los datos"
   ]
  },
  {
   "cell_type": "code",
   "execution_count": 107,
   "metadata": {
    "id": "gfcIEuXV0q04"
   },
   "outputs": [
    {
     "name": "stdout",
     "output_type": "stream",
     "text": [
      "<class 'pandas.core.frame.DataFrame'>\n",
      "RangeIndex: 2 entries, 0 to 1\n",
      "Data columns (total 9 columns):\n",
      " #   Column                 Non-Null Count  Dtype  \n",
      "---  ------                 --------------  -----  \n",
      " 0   messages_included      2 non-null      int64  \n",
      " 1   mb_per_month_included  2 non-null      int64  \n",
      " 2   minutes_included       2 non-null      int64  \n",
      " 3   usd_monthly_pay        2 non-null      int64  \n",
      " 4   usd_per_gb             2 non-null      int64  \n",
      " 5   usd_per_message        2 non-null      float64\n",
      " 6   usd_per_minute         2 non-null      float64\n",
      " 7   plan_name              2 non-null      object \n",
      " 8   gb_per_month_included  2 non-null      int64  \n",
      "dtypes: float64(2), int64(6), object(1)\n",
      "memory usage: 272.0+ bytes\n"
     ]
    }
   ],
   "source": [
    "# Convertimos mb a gb y cambiamos el tipo de columna a int\n",
    "plans['gb_per_month_included'] = plans['mb_per_month_included'] / 1024\n",
    "plans['gb_per_month_included'] = plans['gb_per_month_included'].apply(mt.ceil)\n",
    "\n",
    "plans.info()"
   ]
  },
  {
   "cell_type": "markdown",
   "metadata": {
    "id": "1n2X6WXf0q04"
   },
   "source": [
    "## Usuarios/as"
   ]
  },
  {
   "cell_type": "code",
   "execution_count": 108,
   "metadata": {
    "id": "2NgjWFqx0q05"
   },
   "outputs": [
    {
     "name": "stdout",
     "output_type": "stream",
     "text": [
      "<class 'pandas.core.frame.DataFrame'>\n",
      "RangeIndex: 500 entries, 0 to 499\n",
      "Data columns (total 8 columns):\n",
      " #   Column      Non-Null Count  Dtype \n",
      "---  ------      --------------  ----- \n",
      " 0   user_id     500 non-null    int64 \n",
      " 1   first_name  500 non-null    object\n",
      " 2   last_name   500 non-null    object\n",
      " 3   age         500 non-null    int64 \n",
      " 4   city        500 non-null    object\n",
      " 5   reg_date    500 non-null    object\n",
      " 6   plan        500 non-null    object\n",
      " 7   churn_date  34 non-null     object\n",
      "dtypes: int64(2), object(6)\n",
      "memory usage: 31.4+ KB\n"
     ]
    }
   ],
   "source": [
    "# Imprime la información general/resumida sobre el DataFrame de usuarios\n",
    "\n",
    "users.info()"
   ]
  },
  {
   "cell_type": "code",
   "execution_count": 109,
   "metadata": {
    "id": "1IN1L9uh0q05"
   },
   "outputs": [
    {
     "data": {
      "text/html": [
       "<div>\n",
       "<style scoped>\n",
       "    .dataframe tbody tr th:only-of-type {\n",
       "        vertical-align: middle;\n",
       "    }\n",
       "\n",
       "    .dataframe tbody tr th {\n",
       "        vertical-align: top;\n",
       "    }\n",
       "\n",
       "    .dataframe thead th {\n",
       "        text-align: right;\n",
       "    }\n",
       "</style>\n",
       "<table border=\"1\" class=\"dataframe\">\n",
       "  <thead>\n",
       "    <tr style=\"text-align: right;\">\n",
       "      <th></th>\n",
       "      <th>user_id</th>\n",
       "      <th>first_name</th>\n",
       "      <th>last_name</th>\n",
       "      <th>age</th>\n",
       "      <th>city</th>\n",
       "      <th>reg_date</th>\n",
       "      <th>plan</th>\n",
       "      <th>churn_date</th>\n",
       "    </tr>\n",
       "  </thead>\n",
       "  <tbody>\n",
       "    <tr>\n",
       "      <th>0</th>\n",
       "      <td>1000</td>\n",
       "      <td>Anamaria</td>\n",
       "      <td>Bauer</td>\n",
       "      <td>45</td>\n",
       "      <td>Atlanta-Sandy Springs-Roswell, GA MSA</td>\n",
       "      <td>2018-12-24</td>\n",
       "      <td>ultimate</td>\n",
       "      <td>NaN</td>\n",
       "    </tr>\n",
       "    <tr>\n",
       "      <th>1</th>\n",
       "      <td>1001</td>\n",
       "      <td>Mickey</td>\n",
       "      <td>Wilkerson</td>\n",
       "      <td>28</td>\n",
       "      <td>Seattle-Tacoma-Bellevue, WA MSA</td>\n",
       "      <td>2018-08-13</td>\n",
       "      <td>surf</td>\n",
       "      <td>NaN</td>\n",
       "    </tr>\n",
       "    <tr>\n",
       "      <th>2</th>\n",
       "      <td>1002</td>\n",
       "      <td>Carlee</td>\n",
       "      <td>Hoffman</td>\n",
       "      <td>36</td>\n",
       "      <td>Las Vegas-Henderson-Paradise, NV MSA</td>\n",
       "      <td>2018-10-21</td>\n",
       "      <td>surf</td>\n",
       "      <td>NaN</td>\n",
       "    </tr>\n",
       "    <tr>\n",
       "      <th>3</th>\n",
       "      <td>1003</td>\n",
       "      <td>Reynaldo</td>\n",
       "      <td>Jenkins</td>\n",
       "      <td>52</td>\n",
       "      <td>Tulsa, OK MSA</td>\n",
       "      <td>2018-01-28</td>\n",
       "      <td>surf</td>\n",
       "      <td>NaN</td>\n",
       "    </tr>\n",
       "    <tr>\n",
       "      <th>4</th>\n",
       "      <td>1004</td>\n",
       "      <td>Leonila</td>\n",
       "      <td>Thompson</td>\n",
       "      <td>40</td>\n",
       "      <td>Seattle-Tacoma-Bellevue, WA MSA</td>\n",
       "      <td>2018-05-23</td>\n",
       "      <td>surf</td>\n",
       "      <td>NaN</td>\n",
       "    </tr>\n",
       "    <tr>\n",
       "      <th>5</th>\n",
       "      <td>1005</td>\n",
       "      <td>Livia</td>\n",
       "      <td>Shields</td>\n",
       "      <td>31</td>\n",
       "      <td>Dallas-Fort Worth-Arlington, TX MSA</td>\n",
       "      <td>2018-11-29</td>\n",
       "      <td>surf</td>\n",
       "      <td>NaN</td>\n",
       "    </tr>\n",
       "    <tr>\n",
       "      <th>6</th>\n",
       "      <td>1006</td>\n",
       "      <td>Jesusa</td>\n",
       "      <td>Bradford</td>\n",
       "      <td>73</td>\n",
       "      <td>San Francisco-Oakland-Berkeley, CA MSA</td>\n",
       "      <td>2018-11-27</td>\n",
       "      <td>ultimate</td>\n",
       "      <td>2018-12-18</td>\n",
       "    </tr>\n",
       "    <tr>\n",
       "      <th>7</th>\n",
       "      <td>1007</td>\n",
       "      <td>Eusebio</td>\n",
       "      <td>Welch</td>\n",
       "      <td>42</td>\n",
       "      <td>Grand Rapids-Kentwood, MI MSA</td>\n",
       "      <td>2018-07-11</td>\n",
       "      <td>surf</td>\n",
       "      <td>NaN</td>\n",
       "    </tr>\n",
       "    <tr>\n",
       "      <th>8</th>\n",
       "      <td>1008</td>\n",
       "      <td>Emely</td>\n",
       "      <td>Hoffman</td>\n",
       "      <td>53</td>\n",
       "      <td>Orlando-Kissimmee-Sanford, FL MSA</td>\n",
       "      <td>2018-08-03</td>\n",
       "      <td>ultimate</td>\n",
       "      <td>NaN</td>\n",
       "    </tr>\n",
       "    <tr>\n",
       "      <th>9</th>\n",
       "      <td>1009</td>\n",
       "      <td>Gerry</td>\n",
       "      <td>Little</td>\n",
       "      <td>19</td>\n",
       "      <td>San Jose-Sunnyvale-Santa Clara, CA MSA</td>\n",
       "      <td>2018-04-22</td>\n",
       "      <td>surf</td>\n",
       "      <td>NaN</td>\n",
       "    </tr>\n",
       "  </tbody>\n",
       "</table>\n",
       "</div>"
      ],
      "text/plain": [
       "   user_id first_name  last_name  age                                    city  \\\n",
       "0     1000   Anamaria      Bauer   45   Atlanta-Sandy Springs-Roswell, GA MSA   \n",
       "1     1001     Mickey  Wilkerson   28         Seattle-Tacoma-Bellevue, WA MSA   \n",
       "2     1002     Carlee    Hoffman   36    Las Vegas-Henderson-Paradise, NV MSA   \n",
       "3     1003   Reynaldo    Jenkins   52                           Tulsa, OK MSA   \n",
       "4     1004    Leonila   Thompson   40         Seattle-Tacoma-Bellevue, WA MSA   \n",
       "5     1005      Livia    Shields   31     Dallas-Fort Worth-Arlington, TX MSA   \n",
       "6     1006     Jesusa   Bradford   73  San Francisco-Oakland-Berkeley, CA MSA   \n",
       "7     1007    Eusebio      Welch   42           Grand Rapids-Kentwood, MI MSA   \n",
       "8     1008      Emely    Hoffman   53       Orlando-Kissimmee-Sanford, FL MSA   \n",
       "9     1009      Gerry     Little   19  San Jose-Sunnyvale-Santa Clara, CA MSA   \n",
       "\n",
       "     reg_date      plan  churn_date  \n",
       "0  2018-12-24  ultimate         NaN  \n",
       "1  2018-08-13      surf         NaN  \n",
       "2  2018-10-21      surf         NaN  \n",
       "3  2018-01-28      surf         NaN  \n",
       "4  2018-05-23      surf         NaN  \n",
       "5  2018-11-29      surf         NaN  \n",
       "6  2018-11-27  ultimate  2018-12-18  \n",
       "7  2018-07-11      surf         NaN  \n",
       "8  2018-08-03  ultimate         NaN  \n",
       "9  2018-04-22      surf         NaN  "
      ]
     },
     "execution_count": 109,
     "metadata": {},
     "output_type": "execute_result"
    }
   ],
   "source": [
    "# Imprime una muestra de datos para usuarios\n",
    "\n",
    "users.head(10)"
   ]
  },
  {
   "cell_type": "markdown",
   "metadata": {
    "id": "dCZoUq4f0q06"
   },
   "source": [
    "###### Las columnas ´reg_date´ y ´churn_date´ están en formato object, lo que no permite operaciones de fecha, la columna ´churn_date´ tienen un número significativo de valores ausentes."
   ]
  },
  {
   "cell_type": "markdown",
   "metadata": {
    "id": "BX5FQh_I0q06"
   },
   "source": [
    "### Corregir los datos"
   ]
  },
  {
   "cell_type": "code",
   "execution_count": 110,
   "metadata": {
    "id": "yUqX-K0C0q07"
   },
   "outputs": [],
   "source": [
    "# cambiamos el formato de la columna a datetime\n",
    "users['reg_date'] = pd.to_datetime(users['reg_date'], format= '%Y-%m-%d')\n",
    "users['churn_date'] = pd.to_datetime(users['churn_date'], format= '%Y-%m-%d')\n",
    "users['churn_date'] = pd.Timestamp('today').normalize()"
   ]
  },
  {
   "cell_type": "markdown",
   "metadata": {
    "id": "ycwuARJp0q07"
   },
   "source": [
    "### Enriquecer los datos"
   ]
  },
  {
   "cell_type": "code",
   "execution_count": 111,
   "metadata": {},
   "outputs": [
    {
     "data": {
      "text/html": [
       "<div>\n",
       "<style scoped>\n",
       "    .dataframe tbody tr th:only-of-type {\n",
       "        vertical-align: middle;\n",
       "    }\n",
       "\n",
       "    .dataframe tbody tr th {\n",
       "        vertical-align: top;\n",
       "    }\n",
       "\n",
       "    .dataframe thead th {\n",
       "        text-align: right;\n",
       "    }\n",
       "</style>\n",
       "<table border=\"1\" class=\"dataframe\">\n",
       "  <thead>\n",
       "    <tr style=\"text-align: right;\">\n",
       "      <th></th>\n",
       "      <th>user_id</th>\n",
       "      <th>first_name</th>\n",
       "      <th>last_name</th>\n",
       "      <th>age</th>\n",
       "      <th>city</th>\n",
       "      <th>reg_date</th>\n",
       "      <th>plan_name</th>\n",
       "      <th>churn_date</th>\n",
       "    </tr>\n",
       "  </thead>\n",
       "  <tbody>\n",
       "    <tr>\n",
       "      <th>0</th>\n",
       "      <td>1000</td>\n",
       "      <td>Anamaria</td>\n",
       "      <td>Bauer</td>\n",
       "      <td>45</td>\n",
       "      <td>Atlanta-Sandy Springs-Roswell, GA MSA</td>\n",
       "      <td>2018-12-24</td>\n",
       "      <td>ultimate</td>\n",
       "      <td>2024-10-30</td>\n",
       "    </tr>\n",
       "    <tr>\n",
       "      <th>1</th>\n",
       "      <td>1001</td>\n",
       "      <td>Mickey</td>\n",
       "      <td>Wilkerson</td>\n",
       "      <td>28</td>\n",
       "      <td>Seattle-Tacoma-Bellevue, WA MSA</td>\n",
       "      <td>2018-08-13</td>\n",
       "      <td>surf</td>\n",
       "      <td>2024-10-30</td>\n",
       "    </tr>\n",
       "    <tr>\n",
       "      <th>2</th>\n",
       "      <td>1002</td>\n",
       "      <td>Carlee</td>\n",
       "      <td>Hoffman</td>\n",
       "      <td>36</td>\n",
       "      <td>Las Vegas-Henderson-Paradise, NV MSA</td>\n",
       "      <td>2018-10-21</td>\n",
       "      <td>surf</td>\n",
       "      <td>2024-10-30</td>\n",
       "    </tr>\n",
       "    <tr>\n",
       "      <th>3</th>\n",
       "      <td>1003</td>\n",
       "      <td>Reynaldo</td>\n",
       "      <td>Jenkins</td>\n",
       "      <td>52</td>\n",
       "      <td>Tulsa, OK MSA</td>\n",
       "      <td>2018-01-28</td>\n",
       "      <td>surf</td>\n",
       "      <td>2024-10-30</td>\n",
       "    </tr>\n",
       "    <tr>\n",
       "      <th>4</th>\n",
       "      <td>1004</td>\n",
       "      <td>Leonila</td>\n",
       "      <td>Thompson</td>\n",
       "      <td>40</td>\n",
       "      <td>Seattle-Tacoma-Bellevue, WA MSA</td>\n",
       "      <td>2018-05-23</td>\n",
       "      <td>surf</td>\n",
       "      <td>2024-10-30</td>\n",
       "    </tr>\n",
       "    <tr>\n",
       "      <th>...</th>\n",
       "      <td>...</td>\n",
       "      <td>...</td>\n",
       "      <td>...</td>\n",
       "      <td>...</td>\n",
       "      <td>...</td>\n",
       "      <td>...</td>\n",
       "      <td>...</td>\n",
       "      <td>...</td>\n",
       "    </tr>\n",
       "    <tr>\n",
       "      <th>495</th>\n",
       "      <td>1495</td>\n",
       "      <td>Fidel</td>\n",
       "      <td>Sharpe</td>\n",
       "      <td>67</td>\n",
       "      <td>New York-Newark-Jersey City, NY-NJ-PA MSA</td>\n",
       "      <td>2018-09-04</td>\n",
       "      <td>surf</td>\n",
       "      <td>2024-10-30</td>\n",
       "    </tr>\n",
       "    <tr>\n",
       "      <th>496</th>\n",
       "      <td>1496</td>\n",
       "      <td>Ariel</td>\n",
       "      <td>Shepherd</td>\n",
       "      <td>49</td>\n",
       "      <td>New Orleans-Metairie, LA MSA</td>\n",
       "      <td>2018-02-20</td>\n",
       "      <td>surf</td>\n",
       "      <td>2024-10-30</td>\n",
       "    </tr>\n",
       "    <tr>\n",
       "      <th>497</th>\n",
       "      <td>1497</td>\n",
       "      <td>Donte</td>\n",
       "      <td>Barrera</td>\n",
       "      <td>49</td>\n",
       "      <td>Los Angeles-Long Beach-Anaheim, CA MSA</td>\n",
       "      <td>2018-12-10</td>\n",
       "      <td>ultimate</td>\n",
       "      <td>2024-10-30</td>\n",
       "    </tr>\n",
       "    <tr>\n",
       "      <th>498</th>\n",
       "      <td>1498</td>\n",
       "      <td>Scot</td>\n",
       "      <td>Williamson</td>\n",
       "      <td>51</td>\n",
       "      <td>New York-Newark-Jersey City, NY-NJ-PA MSA</td>\n",
       "      <td>2018-02-04</td>\n",
       "      <td>surf</td>\n",
       "      <td>2024-10-30</td>\n",
       "    </tr>\n",
       "    <tr>\n",
       "      <th>499</th>\n",
       "      <td>1499</td>\n",
       "      <td>Shena</td>\n",
       "      <td>Dickson</td>\n",
       "      <td>37</td>\n",
       "      <td>Orlando-Kissimmee-Sanford, FL MSA</td>\n",
       "      <td>2018-05-06</td>\n",
       "      <td>surf</td>\n",
       "      <td>2024-10-30</td>\n",
       "    </tr>\n",
       "  </tbody>\n",
       "</table>\n",
       "<p>500 rows × 8 columns</p>\n",
       "</div>"
      ],
      "text/plain": [
       "     user_id first_name   last_name  age  \\\n",
       "0       1000   Anamaria       Bauer   45   \n",
       "1       1001     Mickey   Wilkerson   28   \n",
       "2       1002     Carlee     Hoffman   36   \n",
       "3       1003   Reynaldo     Jenkins   52   \n",
       "4       1004    Leonila    Thompson   40   \n",
       "..       ...        ...         ...  ...   \n",
       "495     1495      Fidel      Sharpe   67   \n",
       "496     1496      Ariel    Shepherd   49   \n",
       "497     1497      Donte     Barrera   49   \n",
       "498     1498       Scot  Williamson   51   \n",
       "499     1499      Shena     Dickson   37   \n",
       "\n",
       "                                          city   reg_date plan_name churn_date  \n",
       "0        Atlanta-Sandy Springs-Roswell, GA MSA 2018-12-24  ultimate 2024-10-30  \n",
       "1              Seattle-Tacoma-Bellevue, WA MSA 2018-08-13      surf 2024-10-30  \n",
       "2         Las Vegas-Henderson-Paradise, NV MSA 2018-10-21      surf 2024-10-30  \n",
       "3                                Tulsa, OK MSA 2018-01-28      surf 2024-10-30  \n",
       "4              Seattle-Tacoma-Bellevue, WA MSA 2018-05-23      surf 2024-10-30  \n",
       "..                                         ...        ...       ...        ...  \n",
       "495  New York-Newark-Jersey City, NY-NJ-PA MSA 2018-09-04      surf 2024-10-30  \n",
       "496               New Orleans-Metairie, LA MSA 2018-02-20      surf 2024-10-30  \n",
       "497     Los Angeles-Long Beach-Anaheim, CA MSA 2018-12-10  ultimate 2024-10-30  \n",
       "498  New York-Newark-Jersey City, NY-NJ-PA MSA 2018-02-04      surf 2024-10-30  \n",
       "499          Orlando-Kissimmee-Sanford, FL MSA 2018-05-06      surf 2024-10-30  \n",
       "\n",
       "[500 rows x 8 columns]"
      ]
     },
     "execution_count": 111,
     "metadata": {},
     "output_type": "execute_result"
    }
   ],
   "source": [
    "# Cambiamos el nombre de la columna plan a plan_name\n",
    "\n",
    "users = users.rename(columns={'plan': 'plan_name'})\n",
    "users"
   ]
  },
  {
   "cell_type": "code",
   "execution_count": 112,
   "metadata": {
    "id": "6dDlnoDm0q08"
   },
   "outputs": [
    {
     "name": "stdout",
     "output_type": "stream",
     "text": [
      "<class 'pandas.core.frame.DataFrame'>\n",
      "RangeIndex: 137735 entries, 0 to 137734\n",
      "Data columns (total 4 columns):\n",
      " #   Column     Non-Null Count   Dtype  \n",
      "---  ------     --------------   -----  \n",
      " 0   id         137735 non-null  object \n",
      " 1   user_id    137735 non-null  int64  \n",
      " 2   call_date  137735 non-null  object \n",
      " 3   duration   137735 non-null  float64\n",
      "dtypes: float64(1), int64(1), object(2)\n",
      "memory usage: 4.2+ MB\n"
     ]
    }
   ],
   "source": [
    "# Imprime la información general/resumida sobre el DataFrame de las llamadas\n",
    "\n",
    "calls.info()"
   ]
  },
  {
   "cell_type": "code",
   "execution_count": 113,
   "metadata": {
    "id": "kuh1vlNB0q09"
   },
   "outputs": [
    {
     "data": {
      "text/html": [
       "<div>\n",
       "<style scoped>\n",
       "    .dataframe tbody tr th:only-of-type {\n",
       "        vertical-align: middle;\n",
       "    }\n",
       "\n",
       "    .dataframe tbody tr th {\n",
       "        vertical-align: top;\n",
       "    }\n",
       "\n",
       "    .dataframe thead th {\n",
       "        text-align: right;\n",
       "    }\n",
       "</style>\n",
       "<table border=\"1\" class=\"dataframe\">\n",
       "  <thead>\n",
       "    <tr style=\"text-align: right;\">\n",
       "      <th></th>\n",
       "      <th>id</th>\n",
       "      <th>user_id</th>\n",
       "      <th>call_date</th>\n",
       "      <th>duration</th>\n",
       "    </tr>\n",
       "  </thead>\n",
       "  <tbody>\n",
       "    <tr>\n",
       "      <th>0</th>\n",
       "      <td>1000_93</td>\n",
       "      <td>1000</td>\n",
       "      <td>2018-12-27</td>\n",
       "      <td>8.52</td>\n",
       "    </tr>\n",
       "    <tr>\n",
       "      <th>1</th>\n",
       "      <td>1000_145</td>\n",
       "      <td>1000</td>\n",
       "      <td>2018-12-27</td>\n",
       "      <td>13.66</td>\n",
       "    </tr>\n",
       "    <tr>\n",
       "      <th>2</th>\n",
       "      <td>1000_247</td>\n",
       "      <td>1000</td>\n",
       "      <td>2018-12-27</td>\n",
       "      <td>14.48</td>\n",
       "    </tr>\n",
       "    <tr>\n",
       "      <th>3</th>\n",
       "      <td>1000_309</td>\n",
       "      <td>1000</td>\n",
       "      <td>2018-12-28</td>\n",
       "      <td>5.76</td>\n",
       "    </tr>\n",
       "    <tr>\n",
       "      <th>4</th>\n",
       "      <td>1000_380</td>\n",
       "      <td>1000</td>\n",
       "      <td>2018-12-30</td>\n",
       "      <td>4.22</td>\n",
       "    </tr>\n",
       "    <tr>\n",
       "      <th>5</th>\n",
       "      <td>1000_388</td>\n",
       "      <td>1000</td>\n",
       "      <td>2018-12-31</td>\n",
       "      <td>2.20</td>\n",
       "    </tr>\n",
       "    <tr>\n",
       "      <th>6</th>\n",
       "      <td>1000_510</td>\n",
       "      <td>1000</td>\n",
       "      <td>2018-12-27</td>\n",
       "      <td>5.75</td>\n",
       "    </tr>\n",
       "    <tr>\n",
       "      <th>7</th>\n",
       "      <td>1000_521</td>\n",
       "      <td>1000</td>\n",
       "      <td>2018-12-28</td>\n",
       "      <td>14.18</td>\n",
       "    </tr>\n",
       "    <tr>\n",
       "      <th>8</th>\n",
       "      <td>1000_530</td>\n",
       "      <td>1000</td>\n",
       "      <td>2018-12-28</td>\n",
       "      <td>5.77</td>\n",
       "    </tr>\n",
       "    <tr>\n",
       "      <th>9</th>\n",
       "      <td>1000_544</td>\n",
       "      <td>1000</td>\n",
       "      <td>2018-12-26</td>\n",
       "      <td>4.40</td>\n",
       "    </tr>\n",
       "  </tbody>\n",
       "</table>\n",
       "</div>"
      ],
      "text/plain": [
       "         id  user_id   call_date  duration\n",
       "0   1000_93     1000  2018-12-27      8.52\n",
       "1  1000_145     1000  2018-12-27     13.66\n",
       "2  1000_247     1000  2018-12-27     14.48\n",
       "3  1000_309     1000  2018-12-28      5.76\n",
       "4  1000_380     1000  2018-12-30      4.22\n",
       "5  1000_388     1000  2018-12-31      2.20\n",
       "6  1000_510     1000  2018-12-27      5.75\n",
       "7  1000_521     1000  2018-12-28     14.18\n",
       "8  1000_530     1000  2018-12-28      5.77\n",
       "9  1000_544     1000  2018-12-26      4.40"
      ]
     },
     "execution_count": 113,
     "metadata": {},
     "output_type": "execute_result"
    }
   ],
   "source": [
    "# Imprime una muestra de datos para las llamadas\n",
    "\n",
    "calls.head(10)"
   ]
  },
  {
   "cell_type": "markdown",
   "metadata": {
    "id": "DOAxYJSx0q09"
   },
   "source": [
    "###### Todas las columnas tienen el mismo número de datos no nulos por lo que no hay valores ausentes, la columna call_date debería de estar en formato datetime ya que esto permitirá realizar análisis de forma más precisa"
   ]
  },
  {
   "cell_type": "markdown",
   "metadata": {
    "id": "S7hzxmbX0q0-"
   },
   "source": [
    "### Corregir los datos"
   ]
  },
  {
   "cell_type": "code",
   "execution_count": 114,
   "metadata": {
    "id": "S2r8xA4f0q0-"
   },
   "outputs": [
    {
     "name": "stdout",
     "output_type": "stream",
     "text": [
      "<class 'pandas.core.frame.DataFrame'>\n",
      "RangeIndex: 137735 entries, 0 to 137734\n",
      "Data columns (total 4 columns):\n",
      " #   Column     Non-Null Count   Dtype         \n",
      "---  ------     --------------   -----         \n",
      " 0   id         137735 non-null  object        \n",
      " 1   user_id    137735 non-null  int64         \n",
      " 2   call_date  137735 non-null  datetime64[ns]\n",
      " 3   duration   137735 non-null  float64       \n",
      "dtypes: datetime64[ns](1), float64(1), int64(1), object(1)\n",
      "memory usage: 4.2+ MB\n"
     ]
    }
   ],
   "source": [
    "# Cambiamos el formato de la columna call_date a datetime\n",
    "calls['call_date'] = pd.to_datetime(calls['call_date'], format= '%Y-%m-%d')\n",
    "calls.info()"
   ]
  },
  {
   "cell_type": "markdown",
   "metadata": {
    "id": "KrMgTrlG0q0_"
   },
   "source": [
    "### Enriquecer los datos"
   ]
  },
  {
   "cell_type": "code",
   "execution_count": 115,
   "metadata": {
    "id": "iZ1avpA_0q0_"
   },
   "outputs": [
    {
     "data": {
      "text/html": [
       "<div>\n",
       "<style scoped>\n",
       "    .dataframe tbody tr th:only-of-type {\n",
       "        vertical-align: middle;\n",
       "    }\n",
       "\n",
       "    .dataframe tbody tr th {\n",
       "        vertical-align: top;\n",
       "    }\n",
       "\n",
       "    .dataframe thead th {\n",
       "        text-align: right;\n",
       "    }\n",
       "</style>\n",
       "<table border=\"1\" class=\"dataframe\">\n",
       "  <thead>\n",
       "    <tr style=\"text-align: right;\">\n",
       "      <th></th>\n",
       "      <th>id</th>\n",
       "      <th>user_id</th>\n",
       "      <th>call_date</th>\n",
       "      <th>duration</th>\n",
       "    </tr>\n",
       "  </thead>\n",
       "  <tbody>\n",
       "    <tr>\n",
       "      <th>0</th>\n",
       "      <td>1000_93</td>\n",
       "      <td>1000</td>\n",
       "      <td>2018-12-27</td>\n",
       "      <td>9</td>\n",
       "    </tr>\n",
       "    <tr>\n",
       "      <th>1</th>\n",
       "      <td>1000_145</td>\n",
       "      <td>1000</td>\n",
       "      <td>2018-12-27</td>\n",
       "      <td>14</td>\n",
       "    </tr>\n",
       "    <tr>\n",
       "      <th>2</th>\n",
       "      <td>1000_247</td>\n",
       "      <td>1000</td>\n",
       "      <td>2018-12-27</td>\n",
       "      <td>15</td>\n",
       "    </tr>\n",
       "    <tr>\n",
       "      <th>3</th>\n",
       "      <td>1000_309</td>\n",
       "      <td>1000</td>\n",
       "      <td>2018-12-28</td>\n",
       "      <td>6</td>\n",
       "    </tr>\n",
       "    <tr>\n",
       "      <th>4</th>\n",
       "      <td>1000_380</td>\n",
       "      <td>1000</td>\n",
       "      <td>2018-12-30</td>\n",
       "      <td>5</td>\n",
       "    </tr>\n",
       "    <tr>\n",
       "      <th>5</th>\n",
       "      <td>1000_388</td>\n",
       "      <td>1000</td>\n",
       "      <td>2018-12-31</td>\n",
       "      <td>3</td>\n",
       "    </tr>\n",
       "    <tr>\n",
       "      <th>6</th>\n",
       "      <td>1000_510</td>\n",
       "      <td>1000</td>\n",
       "      <td>2018-12-27</td>\n",
       "      <td>6</td>\n",
       "    </tr>\n",
       "    <tr>\n",
       "      <th>7</th>\n",
       "      <td>1000_521</td>\n",
       "      <td>1000</td>\n",
       "      <td>2018-12-28</td>\n",
       "      <td>15</td>\n",
       "    </tr>\n",
       "    <tr>\n",
       "      <th>8</th>\n",
       "      <td>1000_530</td>\n",
       "      <td>1000</td>\n",
       "      <td>2018-12-28</td>\n",
       "      <td>6</td>\n",
       "    </tr>\n",
       "    <tr>\n",
       "      <th>9</th>\n",
       "      <td>1000_544</td>\n",
       "      <td>1000</td>\n",
       "      <td>2018-12-26</td>\n",
       "      <td>5</td>\n",
       "    </tr>\n",
       "  </tbody>\n",
       "</table>\n",
       "</div>"
      ],
      "text/plain": [
       "         id  user_id  call_date  duration\n",
       "0   1000_93     1000 2018-12-27         9\n",
       "1  1000_145     1000 2018-12-27        14\n",
       "2  1000_247     1000 2018-12-27        15\n",
       "3  1000_309     1000 2018-12-28         6\n",
       "4  1000_380     1000 2018-12-30         5\n",
       "5  1000_388     1000 2018-12-31         3\n",
       "6  1000_510     1000 2018-12-27         6\n",
       "7  1000_521     1000 2018-12-28        15\n",
       "8  1000_530     1000 2018-12-28         6\n",
       "9  1000_544     1000 2018-12-26         5"
      ]
     },
     "execution_count": 115,
     "metadata": {},
     "output_type": "execute_result"
    }
   ],
   "source": [
    "# Redondeamos hacia arriba el valor de la columna duration\n",
    "calls['duration'] = np.ceil(calls['duration'])\n",
    "calls['duration'] = calls['duration'].astype(int)\n",
    "calls.head(10)"
   ]
  },
  {
   "cell_type": "markdown",
   "metadata": {
    "id": "mOUZSi180q0_"
   },
   "source": [
    "## Mensajes"
   ]
  },
  {
   "cell_type": "code",
   "execution_count": 116,
   "metadata": {
    "id": "R-bYJpdV0q1A"
   },
   "outputs": [
    {
     "name": "stdout",
     "output_type": "stream",
     "text": [
      "<class 'pandas.core.frame.DataFrame'>\n",
      "RangeIndex: 76051 entries, 0 to 76050\n",
      "Data columns (total 3 columns):\n",
      " #   Column        Non-Null Count  Dtype \n",
      "---  ------        --------------  ----- \n",
      " 0   id            76051 non-null  object\n",
      " 1   user_id       76051 non-null  int64 \n",
      " 2   message_date  76051 non-null  object\n",
      "dtypes: int64(1), object(2)\n",
      "memory usage: 1.7+ MB\n"
     ]
    }
   ],
   "source": [
    "# Imprime la información general/resumida sobre el DataFrame de los mensajes\n",
    "\n",
    "messages.info()"
   ]
  },
  {
   "cell_type": "code",
   "execution_count": 117,
   "metadata": {
    "id": "mCEl2iGE0q1A"
   },
   "outputs": [
    {
     "data": {
      "text/html": [
       "<div>\n",
       "<style scoped>\n",
       "    .dataframe tbody tr th:only-of-type {\n",
       "        vertical-align: middle;\n",
       "    }\n",
       "\n",
       "    .dataframe tbody tr th {\n",
       "        vertical-align: top;\n",
       "    }\n",
       "\n",
       "    .dataframe thead th {\n",
       "        text-align: right;\n",
       "    }\n",
       "</style>\n",
       "<table border=\"1\" class=\"dataframe\">\n",
       "  <thead>\n",
       "    <tr style=\"text-align: right;\">\n",
       "      <th></th>\n",
       "      <th>id</th>\n",
       "      <th>user_id</th>\n",
       "      <th>message_date</th>\n",
       "    </tr>\n",
       "  </thead>\n",
       "  <tbody>\n",
       "    <tr>\n",
       "      <th>0</th>\n",
       "      <td>1000_125</td>\n",
       "      <td>1000</td>\n",
       "      <td>2018-12-27</td>\n",
       "    </tr>\n",
       "    <tr>\n",
       "      <th>1</th>\n",
       "      <td>1000_160</td>\n",
       "      <td>1000</td>\n",
       "      <td>2018-12-31</td>\n",
       "    </tr>\n",
       "    <tr>\n",
       "      <th>2</th>\n",
       "      <td>1000_223</td>\n",
       "      <td>1000</td>\n",
       "      <td>2018-12-31</td>\n",
       "    </tr>\n",
       "    <tr>\n",
       "      <th>3</th>\n",
       "      <td>1000_251</td>\n",
       "      <td>1000</td>\n",
       "      <td>2018-12-27</td>\n",
       "    </tr>\n",
       "    <tr>\n",
       "      <th>4</th>\n",
       "      <td>1000_255</td>\n",
       "      <td>1000</td>\n",
       "      <td>2018-12-26</td>\n",
       "    </tr>\n",
       "    <tr>\n",
       "      <th>5</th>\n",
       "      <td>1000_346</td>\n",
       "      <td>1000</td>\n",
       "      <td>2018-12-29</td>\n",
       "    </tr>\n",
       "    <tr>\n",
       "      <th>6</th>\n",
       "      <td>1000_386</td>\n",
       "      <td>1000</td>\n",
       "      <td>2018-12-30</td>\n",
       "    </tr>\n",
       "    <tr>\n",
       "      <th>7</th>\n",
       "      <td>1000_413</td>\n",
       "      <td>1000</td>\n",
       "      <td>2018-12-31</td>\n",
       "    </tr>\n",
       "    <tr>\n",
       "      <th>8</th>\n",
       "      <td>1000_502</td>\n",
       "      <td>1000</td>\n",
       "      <td>2018-12-27</td>\n",
       "    </tr>\n",
       "    <tr>\n",
       "      <th>9</th>\n",
       "      <td>1000_525</td>\n",
       "      <td>1000</td>\n",
       "      <td>2018-12-28</td>\n",
       "    </tr>\n",
       "  </tbody>\n",
       "</table>\n",
       "</div>"
      ],
      "text/plain": [
       "         id  user_id message_date\n",
       "0  1000_125     1000   2018-12-27\n",
       "1  1000_160     1000   2018-12-31\n",
       "2  1000_223     1000   2018-12-31\n",
       "3  1000_251     1000   2018-12-27\n",
       "4  1000_255     1000   2018-12-26\n",
       "5  1000_346     1000   2018-12-29\n",
       "6  1000_386     1000   2018-12-30\n",
       "7  1000_413     1000   2018-12-31\n",
       "8  1000_502     1000   2018-12-27\n",
       "9  1000_525     1000   2018-12-28"
      ]
     },
     "execution_count": 117,
     "metadata": {},
     "output_type": "execute_result"
    }
   ],
   "source": [
    "# Imprime una muestra de datos para los mensajes\n",
    "\n",
    "messages.head(10)"
   ]
  },
  {
   "cell_type": "markdown",
   "metadata": {
    "id": "04xDj7KH0q1A"
   },
   "source": [
    "###### El Dataframe tiene 3 columnas: ´id´, ´user_id´ y ´message_date´. El tipo de dato object en message_date sugiere que la columna está en formato de texto y no en un tipo de dato de fecha"
   ]
  },
  {
   "cell_type": "markdown",
   "metadata": {
    "id": "Sprfak900q1B"
   },
   "source": [
    "### Corregir los datos"
   ]
  },
  {
   "cell_type": "code",
   "execution_count": 118,
   "metadata": {
    "id": "vsllvkoa0q1B"
   },
   "outputs": [
    {
     "name": "stdout",
     "output_type": "stream",
     "text": [
      "<class 'pandas.core.frame.DataFrame'>\n",
      "RangeIndex: 76051 entries, 0 to 76050\n",
      "Data columns (total 3 columns):\n",
      " #   Column        Non-Null Count  Dtype         \n",
      "---  ------        --------------  -----         \n",
      " 0   id            76051 non-null  object        \n",
      " 1   user_id       76051 non-null  int64         \n",
      " 2   message_date  76051 non-null  datetime64[ns]\n",
      "dtypes: datetime64[ns](1), int64(1), object(1)\n",
      "memory usage: 1.7+ MB\n"
     ]
    }
   ],
   "source": [
    "# Cambiamos el formato de object a datetime en la columna message_date\n",
    "messages['message_date'] = pd.to_datetime(messages['message_date'], format= '%Y-%m-%d')\n",
    "messages.info()"
   ]
  },
  {
   "cell_type": "markdown",
   "metadata": {
    "id": "HvLid7iD0q1B"
   },
   "source": [
    "### Enriquecer los datos"
   ]
  },
  {
   "cell_type": "code",
   "execution_count": 119,
   "metadata": {
    "id": "zYEXZac10q1C",
    "scrolled": true
   },
   "outputs": [
    {
     "data": {
      "text/html": [
       "<div>\n",
       "<style scoped>\n",
       "    .dataframe tbody tr th:only-of-type {\n",
       "        vertical-align: middle;\n",
       "    }\n",
       "\n",
       "    .dataframe tbody tr th {\n",
       "        vertical-align: top;\n",
       "    }\n",
       "\n",
       "    .dataframe thead th {\n",
       "        text-align: right;\n",
       "    }\n",
       "</style>\n",
       "<table border=\"1\" class=\"dataframe\">\n",
       "  <thead>\n",
       "    <tr style=\"text-align: right;\">\n",
       "      <th></th>\n",
       "      <th>id</th>\n",
       "      <th>user_id</th>\n",
       "      <th>message_date</th>\n",
       "      <th>message_count_per_user</th>\n",
       "    </tr>\n",
       "  </thead>\n",
       "  <tbody>\n",
       "    <tr>\n",
       "      <th>0</th>\n",
       "      <td>1000_125</td>\n",
       "      <td>1000</td>\n",
       "      <td>2018-12-27</td>\n",
       "      <td>11</td>\n",
       "    </tr>\n",
       "    <tr>\n",
       "      <th>1</th>\n",
       "      <td>1000_160</td>\n",
       "      <td>1000</td>\n",
       "      <td>2018-12-31</td>\n",
       "      <td>11</td>\n",
       "    </tr>\n",
       "    <tr>\n",
       "      <th>2</th>\n",
       "      <td>1000_223</td>\n",
       "      <td>1000</td>\n",
       "      <td>2018-12-31</td>\n",
       "      <td>11</td>\n",
       "    </tr>\n",
       "    <tr>\n",
       "      <th>3</th>\n",
       "      <td>1000_251</td>\n",
       "      <td>1000</td>\n",
       "      <td>2018-12-27</td>\n",
       "      <td>11</td>\n",
       "    </tr>\n",
       "    <tr>\n",
       "      <th>4</th>\n",
       "      <td>1000_255</td>\n",
       "      <td>1000</td>\n",
       "      <td>2018-12-26</td>\n",
       "      <td>11</td>\n",
       "    </tr>\n",
       "    <tr>\n",
       "      <th>...</th>\n",
       "      <td>...</td>\n",
       "      <td>...</td>\n",
       "      <td>...</td>\n",
       "      <td>...</td>\n",
       "    </tr>\n",
       "    <tr>\n",
       "      <th>76046</th>\n",
       "      <td>1497_526</td>\n",
       "      <td>1497</td>\n",
       "      <td>2018-12-24</td>\n",
       "      <td>50</td>\n",
       "    </tr>\n",
       "    <tr>\n",
       "      <th>76047</th>\n",
       "      <td>1497_536</td>\n",
       "      <td>1497</td>\n",
       "      <td>2018-12-24</td>\n",
       "      <td>50</td>\n",
       "    </tr>\n",
       "    <tr>\n",
       "      <th>76048</th>\n",
       "      <td>1497_547</td>\n",
       "      <td>1497</td>\n",
       "      <td>2018-12-31</td>\n",
       "      <td>50</td>\n",
       "    </tr>\n",
       "    <tr>\n",
       "      <th>76049</th>\n",
       "      <td>1497_558</td>\n",
       "      <td>1497</td>\n",
       "      <td>2018-12-24</td>\n",
       "      <td>50</td>\n",
       "    </tr>\n",
       "    <tr>\n",
       "      <th>76050</th>\n",
       "      <td>1497_613</td>\n",
       "      <td>1497</td>\n",
       "      <td>2018-12-23</td>\n",
       "      <td>50</td>\n",
       "    </tr>\n",
       "  </tbody>\n",
       "</table>\n",
       "<p>76051 rows × 4 columns</p>\n",
       "</div>"
      ],
      "text/plain": [
       "             id  user_id message_date  message_count_per_user\n",
       "0      1000_125     1000   2018-12-27                      11\n",
       "1      1000_160     1000   2018-12-31                      11\n",
       "2      1000_223     1000   2018-12-31                      11\n",
       "3      1000_251     1000   2018-12-27                      11\n",
       "4      1000_255     1000   2018-12-26                      11\n",
       "...         ...      ...          ...                     ...\n",
       "76046  1497_526     1497   2018-12-24                      50\n",
       "76047  1497_536     1497   2018-12-24                      50\n",
       "76048  1497_547     1497   2018-12-31                      50\n",
       "76049  1497_558     1497   2018-12-24                      50\n",
       "76050  1497_613     1497   2018-12-23                      50\n",
       "\n",
       "[76051 rows x 4 columns]"
      ]
     },
     "execution_count": 119,
     "metadata": {},
     "output_type": "execute_result"
    }
   ],
   "source": [
    "# Contamos los mensajes totales que mandó cada usuario\n",
    "messages['message_count_per_user'] = messages.groupby('user_id')['id'].transform('count')\n",
    "messages"
   ]
  },
  {
   "cell_type": "markdown",
   "metadata": {
    "id": "bStkaxn40q1C"
   },
   "source": [
    "## Internet"
   ]
  },
  {
   "cell_type": "code",
   "execution_count": 120,
   "metadata": {
    "id": "e-Uz5qyn0q1C"
   },
   "outputs": [
    {
     "name": "stdout",
     "output_type": "stream",
     "text": [
      "<class 'pandas.core.frame.DataFrame'>\n",
      "RangeIndex: 104825 entries, 0 to 104824\n",
      "Data columns (total 4 columns):\n",
      " #   Column        Non-Null Count   Dtype  \n",
      "---  ------        --------------   -----  \n",
      " 0   id            104825 non-null  object \n",
      " 1   user_id       104825 non-null  int64  \n",
      " 2   session_date  104825 non-null  object \n",
      " 3   mb_used       104825 non-null  float64\n",
      "dtypes: float64(1), int64(1), object(2)\n",
      "memory usage: 3.2+ MB\n"
     ]
    }
   ],
   "source": [
    "# Imprime la información general/resumida sobre el DataFrame de internet\n",
    "\n",
    "internet.info()"
   ]
  },
  {
   "cell_type": "code",
   "execution_count": 121,
   "metadata": {
    "id": "9r3x_XLw0q1C"
   },
   "outputs": [
    {
     "data": {
      "text/html": [
       "<div>\n",
       "<style scoped>\n",
       "    .dataframe tbody tr th:only-of-type {\n",
       "        vertical-align: middle;\n",
       "    }\n",
       "\n",
       "    .dataframe tbody tr th {\n",
       "        vertical-align: top;\n",
       "    }\n",
       "\n",
       "    .dataframe thead th {\n",
       "        text-align: right;\n",
       "    }\n",
       "</style>\n",
       "<table border=\"1\" class=\"dataframe\">\n",
       "  <thead>\n",
       "    <tr style=\"text-align: right;\">\n",
       "      <th></th>\n",
       "      <th>id</th>\n",
       "      <th>user_id</th>\n",
       "      <th>session_date</th>\n",
       "      <th>mb_used</th>\n",
       "    </tr>\n",
       "  </thead>\n",
       "  <tbody>\n",
       "    <tr>\n",
       "      <th>0</th>\n",
       "      <td>1000_13</td>\n",
       "      <td>1000</td>\n",
       "      <td>2018-12-29</td>\n",
       "      <td>89.86</td>\n",
       "    </tr>\n",
       "    <tr>\n",
       "      <th>1</th>\n",
       "      <td>1000_204</td>\n",
       "      <td>1000</td>\n",
       "      <td>2018-12-31</td>\n",
       "      <td>0.00</td>\n",
       "    </tr>\n",
       "    <tr>\n",
       "      <th>2</th>\n",
       "      <td>1000_379</td>\n",
       "      <td>1000</td>\n",
       "      <td>2018-12-28</td>\n",
       "      <td>660.40</td>\n",
       "    </tr>\n",
       "    <tr>\n",
       "      <th>3</th>\n",
       "      <td>1000_413</td>\n",
       "      <td>1000</td>\n",
       "      <td>2018-12-26</td>\n",
       "      <td>270.99</td>\n",
       "    </tr>\n",
       "    <tr>\n",
       "      <th>4</th>\n",
       "      <td>1000_442</td>\n",
       "      <td>1000</td>\n",
       "      <td>2018-12-27</td>\n",
       "      <td>880.22</td>\n",
       "    </tr>\n",
       "    <tr>\n",
       "      <th>5</th>\n",
       "      <td>1001_0</td>\n",
       "      <td>1001</td>\n",
       "      <td>2018-08-24</td>\n",
       "      <td>284.68</td>\n",
       "    </tr>\n",
       "    <tr>\n",
       "      <th>6</th>\n",
       "      <td>1001_3</td>\n",
       "      <td>1001</td>\n",
       "      <td>2018-12-09</td>\n",
       "      <td>656.04</td>\n",
       "    </tr>\n",
       "    <tr>\n",
       "      <th>7</th>\n",
       "      <td>1001_4</td>\n",
       "      <td>1001</td>\n",
       "      <td>2018-11-04</td>\n",
       "      <td>16.97</td>\n",
       "    </tr>\n",
       "    <tr>\n",
       "      <th>8</th>\n",
       "      <td>1001_10</td>\n",
       "      <td>1001</td>\n",
       "      <td>2018-11-27</td>\n",
       "      <td>135.18</td>\n",
       "    </tr>\n",
       "    <tr>\n",
       "      <th>9</th>\n",
       "      <td>1001_15</td>\n",
       "      <td>1001</td>\n",
       "      <td>2018-12-13</td>\n",
       "      <td>761.92</td>\n",
       "    </tr>\n",
       "  </tbody>\n",
       "</table>\n",
       "</div>"
      ],
      "text/plain": [
       "         id  user_id session_date  mb_used\n",
       "0   1000_13     1000   2018-12-29    89.86\n",
       "1  1000_204     1000   2018-12-31     0.00\n",
       "2  1000_379     1000   2018-12-28   660.40\n",
       "3  1000_413     1000   2018-12-26   270.99\n",
       "4  1000_442     1000   2018-12-27   880.22\n",
       "5    1001_0     1001   2018-08-24   284.68\n",
       "6    1001_3     1001   2018-12-09   656.04\n",
       "7    1001_4     1001   2018-11-04    16.97\n",
       "8   1001_10     1001   2018-11-27   135.18\n",
       "9   1001_15     1001   2018-12-13   761.92"
      ]
     },
     "execution_count": 121,
     "metadata": {},
     "output_type": "execute_result"
    }
   ],
   "source": [
    "# Imprime una muestra de datos para el tráfico de internet\n",
    "\n",
    "internet.head(10)"
   ]
  },
  {
   "cell_type": "markdown",
   "metadata": {
    "id": "EzOG5ik30q1D"
   },
   "source": [
    "###### El Dataframe tiene cuatro columnas: id, user_id, session_date y mb_used. No hay valores nulos en ninguna columna, el tipo de dato object en la columna session_date sugiere que las fechas están almacenadas como texto"
   ]
  },
  {
   "cell_type": "markdown",
   "metadata": {
    "id": "yA0tkPFg0q1D"
   },
   "source": [
    "### Corregir los datos"
   ]
  },
  {
   "cell_type": "code",
   "execution_count": 122,
   "metadata": {
    "id": "zVeanzdd0q1E"
   },
   "outputs": [
    {
     "data": {
      "text/html": [
       "<div>\n",
       "<style scoped>\n",
       "    .dataframe tbody tr th:only-of-type {\n",
       "        vertical-align: middle;\n",
       "    }\n",
       "\n",
       "    .dataframe tbody tr th {\n",
       "        vertical-align: top;\n",
       "    }\n",
       "\n",
       "    .dataframe thead th {\n",
       "        text-align: right;\n",
       "    }\n",
       "</style>\n",
       "<table border=\"1\" class=\"dataframe\">\n",
       "  <thead>\n",
       "    <tr style=\"text-align: right;\">\n",
       "      <th></th>\n",
       "      <th>id</th>\n",
       "      <th>user_id</th>\n",
       "      <th>session_date</th>\n",
       "      <th>mb_used</th>\n",
       "    </tr>\n",
       "  </thead>\n",
       "  <tbody>\n",
       "    <tr>\n",
       "      <th>0</th>\n",
       "      <td>1000_13</td>\n",
       "      <td>1000</td>\n",
       "      <td>2018-12-29</td>\n",
       "      <td>89.86</td>\n",
       "    </tr>\n",
       "    <tr>\n",
       "      <th>1</th>\n",
       "      <td>1000_204</td>\n",
       "      <td>1000</td>\n",
       "      <td>2018-12-31</td>\n",
       "      <td>0.00</td>\n",
       "    </tr>\n",
       "    <tr>\n",
       "      <th>2</th>\n",
       "      <td>1000_379</td>\n",
       "      <td>1000</td>\n",
       "      <td>2018-12-28</td>\n",
       "      <td>660.40</td>\n",
       "    </tr>\n",
       "    <tr>\n",
       "      <th>3</th>\n",
       "      <td>1000_413</td>\n",
       "      <td>1000</td>\n",
       "      <td>2018-12-26</td>\n",
       "      <td>270.99</td>\n",
       "    </tr>\n",
       "    <tr>\n",
       "      <th>4</th>\n",
       "      <td>1000_442</td>\n",
       "      <td>1000</td>\n",
       "      <td>2018-12-27</td>\n",
       "      <td>880.22</td>\n",
       "    </tr>\n",
       "    <tr>\n",
       "      <th>5</th>\n",
       "      <td>1001_0</td>\n",
       "      <td>1001</td>\n",
       "      <td>2018-08-24</td>\n",
       "      <td>284.68</td>\n",
       "    </tr>\n",
       "    <tr>\n",
       "      <th>6</th>\n",
       "      <td>1001_3</td>\n",
       "      <td>1001</td>\n",
       "      <td>2018-12-09</td>\n",
       "      <td>656.04</td>\n",
       "    </tr>\n",
       "    <tr>\n",
       "      <th>7</th>\n",
       "      <td>1001_4</td>\n",
       "      <td>1001</td>\n",
       "      <td>2018-11-04</td>\n",
       "      <td>16.97</td>\n",
       "    </tr>\n",
       "    <tr>\n",
       "      <th>8</th>\n",
       "      <td>1001_10</td>\n",
       "      <td>1001</td>\n",
       "      <td>2018-11-27</td>\n",
       "      <td>135.18</td>\n",
       "    </tr>\n",
       "    <tr>\n",
       "      <th>9</th>\n",
       "      <td>1001_15</td>\n",
       "      <td>1001</td>\n",
       "      <td>2018-12-13</td>\n",
       "      <td>761.92</td>\n",
       "    </tr>\n",
       "  </tbody>\n",
       "</table>\n",
       "</div>"
      ],
      "text/plain": [
       "         id  user_id session_date  mb_used\n",
       "0   1000_13     1000   2018-12-29    89.86\n",
       "1  1000_204     1000   2018-12-31     0.00\n",
       "2  1000_379     1000   2018-12-28   660.40\n",
       "3  1000_413     1000   2018-12-26   270.99\n",
       "4  1000_442     1000   2018-12-27   880.22\n",
       "5    1001_0     1001   2018-08-24   284.68\n",
       "6    1001_3     1001   2018-12-09   656.04\n",
       "7    1001_4     1001   2018-11-04    16.97\n",
       "8   1001_10     1001   2018-11-27   135.18\n",
       "9   1001_15     1001   2018-12-13   761.92"
      ]
     },
     "execution_count": 122,
     "metadata": {},
     "output_type": "execute_result"
    }
   ],
   "source": [
    "# Cambiamos el formato de la columna session_date de object a datetime \n",
    "internet['session_date'] = pd.to_datetime(internet['session_date'], format= '%Y-%m-%d')\n",
    "internet.head(10)"
   ]
  },
  {
   "cell_type": "markdown",
   "metadata": {
    "id": "e8_mLF4a0q1E"
   },
   "source": [
    "### Enriquecer los datos"
   ]
  },
  {
   "cell_type": "code",
   "execution_count": 123,
   "metadata": {
    "id": "ESiYPIEK0q1E"
   },
   "outputs": [
    {
     "data": {
      "text/html": [
       "<div>\n",
       "<style scoped>\n",
       "    .dataframe tbody tr th:only-of-type {\n",
       "        vertical-align: middle;\n",
       "    }\n",
       "\n",
       "    .dataframe tbody tr th {\n",
       "        vertical-align: top;\n",
       "    }\n",
       "\n",
       "    .dataframe thead th {\n",
       "        text-align: right;\n",
       "    }\n",
       "</style>\n",
       "<table border=\"1\" class=\"dataframe\">\n",
       "  <thead>\n",
       "    <tr style=\"text-align: right;\">\n",
       "      <th></th>\n",
       "      <th>id</th>\n",
       "      <th>user_id</th>\n",
       "      <th>session_date</th>\n",
       "      <th>mb_used</th>\n",
       "      <th>gb_used</th>\n",
       "    </tr>\n",
       "  </thead>\n",
       "  <tbody>\n",
       "    <tr>\n",
       "      <th>0</th>\n",
       "      <td>1000_13</td>\n",
       "      <td>1000</td>\n",
       "      <td>2018-12-29</td>\n",
       "      <td>89.86</td>\n",
       "      <td>0.087754</td>\n",
       "    </tr>\n",
       "    <tr>\n",
       "      <th>1</th>\n",
       "      <td>1000_204</td>\n",
       "      <td>1000</td>\n",
       "      <td>2018-12-31</td>\n",
       "      <td>0.00</td>\n",
       "      <td>0.000000</td>\n",
       "    </tr>\n",
       "    <tr>\n",
       "      <th>2</th>\n",
       "      <td>1000_379</td>\n",
       "      <td>1000</td>\n",
       "      <td>2018-12-28</td>\n",
       "      <td>660.40</td>\n",
       "      <td>0.644922</td>\n",
       "    </tr>\n",
       "    <tr>\n",
       "      <th>3</th>\n",
       "      <td>1000_413</td>\n",
       "      <td>1000</td>\n",
       "      <td>2018-12-26</td>\n",
       "      <td>270.99</td>\n",
       "      <td>0.264639</td>\n",
       "    </tr>\n",
       "    <tr>\n",
       "      <th>4</th>\n",
       "      <td>1000_442</td>\n",
       "      <td>1000</td>\n",
       "      <td>2018-12-27</td>\n",
       "      <td>880.22</td>\n",
       "      <td>0.859590</td>\n",
       "    </tr>\n",
       "    <tr>\n",
       "      <th>5</th>\n",
       "      <td>1001_0</td>\n",
       "      <td>1001</td>\n",
       "      <td>2018-08-24</td>\n",
       "      <td>284.68</td>\n",
       "      <td>0.278008</td>\n",
       "    </tr>\n",
       "    <tr>\n",
       "      <th>6</th>\n",
       "      <td>1001_3</td>\n",
       "      <td>1001</td>\n",
       "      <td>2018-12-09</td>\n",
       "      <td>656.04</td>\n",
       "      <td>0.640664</td>\n",
       "    </tr>\n",
       "    <tr>\n",
       "      <th>7</th>\n",
       "      <td>1001_4</td>\n",
       "      <td>1001</td>\n",
       "      <td>2018-11-04</td>\n",
       "      <td>16.97</td>\n",
       "      <td>0.016572</td>\n",
       "    </tr>\n",
       "    <tr>\n",
       "      <th>8</th>\n",
       "      <td>1001_10</td>\n",
       "      <td>1001</td>\n",
       "      <td>2018-11-27</td>\n",
       "      <td>135.18</td>\n",
       "      <td>0.132012</td>\n",
       "    </tr>\n",
       "    <tr>\n",
       "      <th>9</th>\n",
       "      <td>1001_15</td>\n",
       "      <td>1001</td>\n",
       "      <td>2018-12-13</td>\n",
       "      <td>761.92</td>\n",
       "      <td>0.744062</td>\n",
       "    </tr>\n",
       "  </tbody>\n",
       "</table>\n",
       "</div>"
      ],
      "text/plain": [
       "         id  user_id session_date  mb_used   gb_used\n",
       "0   1000_13     1000   2018-12-29    89.86  0.087754\n",
       "1  1000_204     1000   2018-12-31     0.00  0.000000\n",
       "2  1000_379     1000   2018-12-28   660.40  0.644922\n",
       "3  1000_413     1000   2018-12-26   270.99  0.264639\n",
       "4  1000_442     1000   2018-12-27   880.22  0.859590\n",
       "5    1001_0     1001   2018-08-24   284.68  0.278008\n",
       "6    1001_3     1001   2018-12-09   656.04  0.640664\n",
       "7    1001_4     1001   2018-11-04    16.97  0.016572\n",
       "8   1001_10     1001   2018-11-27   135.18  0.132012\n",
       "9   1001_15     1001   2018-12-13   761.92  0.744062"
      ]
     },
     "execution_count": 123,
     "metadata": {},
     "output_type": "execute_result"
    }
   ],
   "source": [
    "# Agregamos una nueva columna que contiene los mb usados por el usuario en gb\n",
    "internet['gb_used'] = internet['mb_used'] / 1024\n",
    "internet.head(10)"
   ]
  },
  {
   "cell_type": "markdown",
   "metadata": {
    "id": "3UA2cqIW0q1E"
   },
   "source": [
    "## Estudiar las condiciones de las tarifas"
   ]
  },
  {
   "cell_type": "code",
   "execution_count": 124,
   "metadata": {
    "id": "i409op8p0q1F"
   },
   "outputs": [
    {
     "data": {
      "text/html": [
       "<div>\n",
       "<style scoped>\n",
       "    .dataframe tbody tr th:only-of-type {\n",
       "        vertical-align: middle;\n",
       "    }\n",
       "\n",
       "    .dataframe tbody tr th {\n",
       "        vertical-align: top;\n",
       "    }\n",
       "\n",
       "    .dataframe thead th {\n",
       "        text-align: right;\n",
       "    }\n",
       "</style>\n",
       "<table border=\"1\" class=\"dataframe\">\n",
       "  <thead>\n",
       "    <tr style=\"text-align: right;\">\n",
       "      <th></th>\n",
       "      <th>messages_included</th>\n",
       "      <th>mb_per_month_included</th>\n",
       "      <th>minutes_included</th>\n",
       "      <th>usd_monthly_pay</th>\n",
       "      <th>usd_per_gb</th>\n",
       "      <th>usd_per_message</th>\n",
       "      <th>usd_per_minute</th>\n",
       "      <th>plan_name</th>\n",
       "      <th>gb_per_month_included</th>\n",
       "    </tr>\n",
       "  </thead>\n",
       "  <tbody>\n",
       "    <tr>\n",
       "      <th>0</th>\n",
       "      <td>50</td>\n",
       "      <td>15360</td>\n",
       "      <td>500</td>\n",
       "      <td>20</td>\n",
       "      <td>10</td>\n",
       "      <td>0.03</td>\n",
       "      <td>0.03</td>\n",
       "      <td>surf</td>\n",
       "      <td>15</td>\n",
       "    </tr>\n",
       "    <tr>\n",
       "      <th>1</th>\n",
       "      <td>1000</td>\n",
       "      <td>30720</td>\n",
       "      <td>3000</td>\n",
       "      <td>70</td>\n",
       "      <td>7</td>\n",
       "      <td>0.01</td>\n",
       "      <td>0.01</td>\n",
       "      <td>ultimate</td>\n",
       "      <td>30</td>\n",
       "    </tr>\n",
       "  </tbody>\n",
       "</table>\n",
       "</div>"
      ],
      "text/plain": [
       "   messages_included  mb_per_month_included  minutes_included  \\\n",
       "0                 50                  15360               500   \n",
       "1               1000                  30720              3000   \n",
       "\n",
       "   usd_monthly_pay  usd_per_gb  usd_per_message  usd_per_minute plan_name  \\\n",
       "0               20          10             0.03            0.03      surf   \n",
       "1               70           7             0.01            0.01  ultimate   \n",
       "\n",
       "   gb_per_month_included  \n",
       "0                     15  \n",
       "1                     30  "
      ]
     },
     "execution_count": 124,
     "metadata": {},
     "output_type": "execute_result"
    }
   ],
   "source": [
    "# Imprime las condiciones de la tarifa y asegúrate de que te quedan claras\n",
    "\n",
    "plans"
   ]
  },
  {
   "cell_type": "code",
   "execution_count": 125,
   "metadata": {
    "id": "A332cedB0q1G"
   },
   "outputs": [
    {
     "data": {
      "text/html": [
       "<div>\n",
       "<style scoped>\n",
       "    .dataframe tbody tr th:only-of-type {\n",
       "        vertical-align: middle;\n",
       "    }\n",
       "\n",
       "    .dataframe tbody tr th {\n",
       "        vertical-align: top;\n",
       "    }\n",
       "\n",
       "    .dataframe thead th {\n",
       "        text-align: right;\n",
       "    }\n",
       "</style>\n",
       "<table border=\"1\" class=\"dataframe\">\n",
       "  <thead>\n",
       "    <tr style=\"text-align: right;\">\n",
       "      <th></th>\n",
       "      <th>user_id</th>\n",
       "      <th>month</th>\n",
       "      <th>total_calls</th>\n",
       "    </tr>\n",
       "  </thead>\n",
       "  <tbody>\n",
       "    <tr>\n",
       "      <th>0</th>\n",
       "      <td>1000</td>\n",
       "      <td>2018-12</td>\n",
       "      <td>16</td>\n",
       "    </tr>\n",
       "    <tr>\n",
       "      <th>1</th>\n",
       "      <td>1001</td>\n",
       "      <td>2018-08</td>\n",
       "      <td>27</td>\n",
       "    </tr>\n",
       "    <tr>\n",
       "      <th>2</th>\n",
       "      <td>1001</td>\n",
       "      <td>2018-09</td>\n",
       "      <td>49</td>\n",
       "    </tr>\n",
       "    <tr>\n",
       "      <th>3</th>\n",
       "      <td>1001</td>\n",
       "      <td>2018-10</td>\n",
       "      <td>65</td>\n",
       "    </tr>\n",
       "    <tr>\n",
       "      <th>4</th>\n",
       "      <td>1001</td>\n",
       "      <td>2018-11</td>\n",
       "      <td>64</td>\n",
       "    </tr>\n",
       "    <tr>\n",
       "      <th>...</th>\n",
       "      <td>...</td>\n",
       "      <td>...</td>\n",
       "      <td>...</td>\n",
       "    </tr>\n",
       "    <tr>\n",
       "      <th>2253</th>\n",
       "      <td>1498</td>\n",
       "      <td>2018-12</td>\n",
       "      <td>39</td>\n",
       "    </tr>\n",
       "    <tr>\n",
       "      <th>2254</th>\n",
       "      <td>1499</td>\n",
       "      <td>2018-09</td>\n",
       "      <td>41</td>\n",
       "    </tr>\n",
       "    <tr>\n",
       "      <th>2255</th>\n",
       "      <td>1499</td>\n",
       "      <td>2018-10</td>\n",
       "      <td>53</td>\n",
       "    </tr>\n",
       "    <tr>\n",
       "      <th>2256</th>\n",
       "      <td>1499</td>\n",
       "      <td>2018-11</td>\n",
       "      <td>45</td>\n",
       "    </tr>\n",
       "    <tr>\n",
       "      <th>2257</th>\n",
       "      <td>1499</td>\n",
       "      <td>2018-12</td>\n",
       "      <td>65</td>\n",
       "    </tr>\n",
       "  </tbody>\n",
       "</table>\n",
       "<p>2258 rows × 3 columns</p>\n",
       "</div>"
      ],
      "text/plain": [
       "      user_id    month  total_calls\n",
       "0        1000  2018-12           16\n",
       "1        1001  2018-08           27\n",
       "2        1001  2018-09           49\n",
       "3        1001  2018-10           65\n",
       "4        1001  2018-11           64\n",
       "...       ...      ...          ...\n",
       "2253     1498  2018-12           39\n",
       "2254     1499  2018-09           41\n",
       "2255     1499  2018-10           53\n",
       "2256     1499  2018-11           45\n",
       "2257     1499  2018-12           65\n",
       "\n",
       "[2258 rows x 3 columns]"
      ]
     },
     "execution_count": 125,
     "metadata": {},
     "output_type": "execute_result"
    }
   ],
   "source": [
    "# Calcula el número de llamadas hechas por cada usuario al mes. Guarda el resultado.\n",
    "calls['month'] = calls['call_date'].dt.to_period('M')\n",
    "monthly_calls = calls.groupby(['user_id', 'month']).agg(total_calls=('duration', 'count')).reset_index()\n",
    "monthly_calls"
   ]
  },
  {
   "cell_type": "code",
   "execution_count": 126,
   "metadata": {
    "id": "aw2cmuql0q1G"
   },
   "outputs": [
    {
     "data": {
      "text/html": [
       "<div>\n",
       "<style scoped>\n",
       "    .dataframe tbody tr th:only-of-type {\n",
       "        vertical-align: middle;\n",
       "    }\n",
       "\n",
       "    .dataframe tbody tr th {\n",
       "        vertical-align: top;\n",
       "    }\n",
       "\n",
       "    .dataframe thead th {\n",
       "        text-align: right;\n",
       "    }\n",
       "</style>\n",
       "<table border=\"1\" class=\"dataframe\">\n",
       "  <thead>\n",
       "    <tr style=\"text-align: right;\">\n",
       "      <th></th>\n",
       "      <th>user_id</th>\n",
       "      <th>month</th>\n",
       "      <th>total_minutes</th>\n",
       "    </tr>\n",
       "  </thead>\n",
       "  <tbody>\n",
       "    <tr>\n",
       "      <th>0</th>\n",
       "      <td>1000</td>\n",
       "      <td>2018-12</td>\n",
       "      <td>124</td>\n",
       "    </tr>\n",
       "    <tr>\n",
       "      <th>1</th>\n",
       "      <td>1001</td>\n",
       "      <td>2018-08</td>\n",
       "      <td>182</td>\n",
       "    </tr>\n",
       "    <tr>\n",
       "      <th>2</th>\n",
       "      <td>1001</td>\n",
       "      <td>2018-09</td>\n",
       "      <td>315</td>\n",
       "    </tr>\n",
       "    <tr>\n",
       "      <th>3</th>\n",
       "      <td>1001</td>\n",
       "      <td>2018-10</td>\n",
       "      <td>393</td>\n",
       "    </tr>\n",
       "    <tr>\n",
       "      <th>4</th>\n",
       "      <td>1001</td>\n",
       "      <td>2018-11</td>\n",
       "      <td>426</td>\n",
       "    </tr>\n",
       "    <tr>\n",
       "      <th>...</th>\n",
       "      <td>...</td>\n",
       "      <td>...</td>\n",
       "      <td>...</td>\n",
       "    </tr>\n",
       "    <tr>\n",
       "      <th>2253</th>\n",
       "      <td>1498</td>\n",
       "      <td>2018-12</td>\n",
       "      <td>339</td>\n",
       "    </tr>\n",
       "    <tr>\n",
       "      <th>2254</th>\n",
       "      <td>1499</td>\n",
       "      <td>2018-09</td>\n",
       "      <td>346</td>\n",
       "    </tr>\n",
       "    <tr>\n",
       "      <th>2255</th>\n",
       "      <td>1499</td>\n",
       "      <td>2018-10</td>\n",
       "      <td>385</td>\n",
       "    </tr>\n",
       "    <tr>\n",
       "      <th>2256</th>\n",
       "      <td>1499</td>\n",
       "      <td>2018-11</td>\n",
       "      <td>308</td>\n",
       "    </tr>\n",
       "    <tr>\n",
       "      <th>2257</th>\n",
       "      <td>1499</td>\n",
       "      <td>2018-12</td>\n",
       "      <td>496</td>\n",
       "    </tr>\n",
       "  </tbody>\n",
       "</table>\n",
       "<p>2258 rows × 3 columns</p>\n",
       "</div>"
      ],
      "text/plain": [
       "      user_id    month  total_minutes\n",
       "0        1000  2018-12            124\n",
       "1        1001  2018-08            182\n",
       "2        1001  2018-09            315\n",
       "3        1001  2018-10            393\n",
       "4        1001  2018-11            426\n",
       "...       ...      ...            ...\n",
       "2253     1498  2018-12            339\n",
       "2254     1499  2018-09            346\n",
       "2255     1499  2018-10            385\n",
       "2256     1499  2018-11            308\n",
       "2257     1499  2018-12            496\n",
       "\n",
       "[2258 rows x 3 columns]"
      ]
     },
     "execution_count": 126,
     "metadata": {},
     "output_type": "execute_result"
    }
   ],
   "source": [
    "# Calcula la cantidad de minutos usados por cada usuario al mes. Guarda el resultado.\n",
    "calls['month'] = calls['call_date'].dt.to_period('M')\n",
    "monthly_minutes = calls.groupby(['user_id', 'month']).agg(total_minutes=('duration', 'sum')).reset_index()\n",
    "monthly_minutes"
   ]
  },
  {
   "cell_type": "code",
   "execution_count": 127,
   "metadata": {
    "id": "CcQvNHn60q1G"
   },
   "outputs": [
    {
     "data": {
      "text/html": [
       "<div>\n",
       "<style scoped>\n",
       "    .dataframe tbody tr th:only-of-type {\n",
       "        vertical-align: middle;\n",
       "    }\n",
       "\n",
       "    .dataframe tbody tr th {\n",
       "        vertical-align: top;\n",
       "    }\n",
       "\n",
       "    .dataframe thead th {\n",
       "        text-align: right;\n",
       "    }\n",
       "</style>\n",
       "<table border=\"1\" class=\"dataframe\">\n",
       "  <thead>\n",
       "    <tr style=\"text-align: right;\">\n",
       "      <th></th>\n",
       "      <th>user_id</th>\n",
       "      <th>month</th>\n",
       "      <th>total_messages</th>\n",
       "    </tr>\n",
       "  </thead>\n",
       "  <tbody>\n",
       "    <tr>\n",
       "      <th>0</th>\n",
       "      <td>1000</td>\n",
       "      <td>2018-12</td>\n",
       "      <td>11</td>\n",
       "    </tr>\n",
       "    <tr>\n",
       "      <th>1</th>\n",
       "      <td>1001</td>\n",
       "      <td>2018-08</td>\n",
       "      <td>30</td>\n",
       "    </tr>\n",
       "    <tr>\n",
       "      <th>2</th>\n",
       "      <td>1001</td>\n",
       "      <td>2018-09</td>\n",
       "      <td>44</td>\n",
       "    </tr>\n",
       "    <tr>\n",
       "      <th>3</th>\n",
       "      <td>1001</td>\n",
       "      <td>2018-10</td>\n",
       "      <td>53</td>\n",
       "    </tr>\n",
       "    <tr>\n",
       "      <th>4</th>\n",
       "      <td>1001</td>\n",
       "      <td>2018-11</td>\n",
       "      <td>36</td>\n",
       "    </tr>\n",
       "    <tr>\n",
       "      <th>...</th>\n",
       "      <td>...</td>\n",
       "      <td>...</td>\n",
       "      <td>...</td>\n",
       "    </tr>\n",
       "    <tr>\n",
       "      <th>1801</th>\n",
       "      <td>1496</td>\n",
       "      <td>2018-09</td>\n",
       "      <td>21</td>\n",
       "    </tr>\n",
       "    <tr>\n",
       "      <th>1802</th>\n",
       "      <td>1496</td>\n",
       "      <td>2018-10</td>\n",
       "      <td>18</td>\n",
       "    </tr>\n",
       "    <tr>\n",
       "      <th>1803</th>\n",
       "      <td>1496</td>\n",
       "      <td>2018-11</td>\n",
       "      <td>13</td>\n",
       "    </tr>\n",
       "    <tr>\n",
       "      <th>1804</th>\n",
       "      <td>1496</td>\n",
       "      <td>2018-12</td>\n",
       "      <td>11</td>\n",
       "    </tr>\n",
       "    <tr>\n",
       "      <th>1805</th>\n",
       "      <td>1497</td>\n",
       "      <td>2018-12</td>\n",
       "      <td>50</td>\n",
       "    </tr>\n",
       "  </tbody>\n",
       "</table>\n",
       "<p>1806 rows × 3 columns</p>\n",
       "</div>"
      ],
      "text/plain": [
       "      user_id    month  total_messages\n",
       "0        1000  2018-12              11\n",
       "1        1001  2018-08              30\n",
       "2        1001  2018-09              44\n",
       "3        1001  2018-10              53\n",
       "4        1001  2018-11              36\n",
       "...       ...      ...             ...\n",
       "1801     1496  2018-09              21\n",
       "1802     1496  2018-10              18\n",
       "1803     1496  2018-11              13\n",
       "1804     1496  2018-12              11\n",
       "1805     1497  2018-12              50\n",
       "\n",
       "[1806 rows x 3 columns]"
      ]
     },
     "execution_count": 127,
     "metadata": {},
     "output_type": "execute_result"
    }
   ],
   "source": [
    "# Calcula el número de mensajes enviados por cada usuario al mes. Guarda el resultado.\n",
    "messages['month'] = messages['message_date'].dt.to_period('M')\n",
    "monthly_messages = messages.groupby(['user_id', 'month']).agg(total_messages=('id', 'count')).reset_index()\n",
    "monthly_messages\n"
   ]
  },
  {
   "cell_type": "code",
   "execution_count": 128,
   "metadata": {
    "id": "H1AqN2eG0q1H"
   },
   "outputs": [
    {
     "data": {
      "text/html": [
       "<div>\n",
       "<style scoped>\n",
       "    .dataframe tbody tr th:only-of-type {\n",
       "        vertical-align: middle;\n",
       "    }\n",
       "\n",
       "    .dataframe tbody tr th {\n",
       "        vertical-align: top;\n",
       "    }\n",
       "\n",
       "    .dataframe thead th {\n",
       "        text-align: right;\n",
       "    }\n",
       "</style>\n",
       "<table border=\"1\" class=\"dataframe\">\n",
       "  <thead>\n",
       "    <tr style=\"text-align: right;\">\n",
       "      <th></th>\n",
       "      <th>user_id</th>\n",
       "      <th>month</th>\n",
       "      <th>total_traffic_gb</th>\n",
       "    </tr>\n",
       "  </thead>\n",
       "  <tbody>\n",
       "    <tr>\n",
       "      <th>0</th>\n",
       "      <td>1000</td>\n",
       "      <td>2018-12</td>\n",
       "      <td>2</td>\n",
       "    </tr>\n",
       "    <tr>\n",
       "      <th>1</th>\n",
       "      <td>1001</td>\n",
       "      <td>2018-08</td>\n",
       "      <td>7</td>\n",
       "    </tr>\n",
       "    <tr>\n",
       "      <th>2</th>\n",
       "      <td>1001</td>\n",
       "      <td>2018-09</td>\n",
       "      <td>14</td>\n",
       "    </tr>\n",
       "    <tr>\n",
       "      <th>3</th>\n",
       "      <td>1001</td>\n",
       "      <td>2018-10</td>\n",
       "      <td>22</td>\n",
       "    </tr>\n",
       "    <tr>\n",
       "      <th>4</th>\n",
       "      <td>1001</td>\n",
       "      <td>2018-11</td>\n",
       "      <td>19</td>\n",
       "    </tr>\n",
       "    <tr>\n",
       "      <th>...</th>\n",
       "      <td>...</td>\n",
       "      <td>...</td>\n",
       "      <td>...</td>\n",
       "    </tr>\n",
       "    <tr>\n",
       "      <th>2272</th>\n",
       "      <td>1498</td>\n",
       "      <td>2018-12</td>\n",
       "      <td>23</td>\n",
       "    </tr>\n",
       "    <tr>\n",
       "      <th>2273</th>\n",
       "      <td>1499</td>\n",
       "      <td>2018-09</td>\n",
       "      <td>13</td>\n",
       "    </tr>\n",
       "    <tr>\n",
       "      <th>2274</th>\n",
       "      <td>1499</td>\n",
       "      <td>2018-10</td>\n",
       "      <td>20</td>\n",
       "    </tr>\n",
       "    <tr>\n",
       "      <th>2275</th>\n",
       "      <td>1499</td>\n",
       "      <td>2018-11</td>\n",
       "      <td>17</td>\n",
       "    </tr>\n",
       "    <tr>\n",
       "      <th>2276</th>\n",
       "      <td>1499</td>\n",
       "      <td>2018-12</td>\n",
       "      <td>22</td>\n",
       "    </tr>\n",
       "  </tbody>\n",
       "</table>\n",
       "<p>2277 rows × 3 columns</p>\n",
       "</div>"
      ],
      "text/plain": [
       "      user_id    month  total_traffic_gb\n",
       "0        1000  2018-12                 2\n",
       "1        1001  2018-08                 7\n",
       "2        1001  2018-09                14\n",
       "3        1001  2018-10                22\n",
       "4        1001  2018-11                19\n",
       "...       ...      ...               ...\n",
       "2272     1498  2018-12                23\n",
       "2273     1499  2018-09                13\n",
       "2274     1499  2018-10                20\n",
       "2275     1499  2018-11                17\n",
       "2276     1499  2018-12                22\n",
       "\n",
       "[2277 rows x 3 columns]"
      ]
     },
     "execution_count": 128,
     "metadata": {},
     "output_type": "execute_result"
    }
   ],
   "source": [
    "# Calcula el volumen del tráfico de Internet usado por cada usuario al mes. Guarda el resultado.\n",
    "internet['month'] = internet['session_date'].dt.to_period('M')\n",
    "monthly_traffic = internet.groupby(['user_id', 'month']).agg(total_traffic_gb=('gb_used', 'sum')).reset_index()\n",
    "monthly_traffic['total_traffic_gb'] = np.ceil(monthly_traffic['total_traffic_gb'])\n",
    "monthly_traffic['total_traffic_gb'] = monthly_traffic['total_traffic_gb'].astype(int)\n",
    "monthly_traffic"
   ]
  },
  {
   "cell_type": "markdown",
   "metadata": {
    "id": "VDfYXnj80q1H"
   },
   "source": [
    "[Junta los datos agregados en un DataFrame para que haya un registro que represente lo que consumió un usuario único en un mes determinado.]"
   ]
  },
  {
   "cell_type": "code",
   "execution_count": 129,
   "metadata": {
    "id": "FW99ykyf0q1H"
   },
   "outputs": [
    {
     "data": {
      "text/html": [
       "<div>\n",
       "<style scoped>\n",
       "    .dataframe tbody tr th:only-of-type {\n",
       "        vertical-align: middle;\n",
       "    }\n",
       "\n",
       "    .dataframe tbody tr th {\n",
       "        vertical-align: top;\n",
       "    }\n",
       "\n",
       "    .dataframe thead th {\n",
       "        text-align: right;\n",
       "    }\n",
       "</style>\n",
       "<table border=\"1\" class=\"dataframe\">\n",
       "  <thead>\n",
       "    <tr style=\"text-align: right;\">\n",
       "      <th></th>\n",
       "      <th>user_id</th>\n",
       "      <th>month</th>\n",
       "      <th>total_calls</th>\n",
       "      <th>total_messages</th>\n",
       "      <th>total_minutes</th>\n",
       "      <th>total_traffic_gb</th>\n",
       "    </tr>\n",
       "  </thead>\n",
       "  <tbody>\n",
       "    <tr>\n",
       "      <th>0</th>\n",
       "      <td>1000</td>\n",
       "      <td>2018-12</td>\n",
       "      <td>16</td>\n",
       "      <td>11</td>\n",
       "      <td>124</td>\n",
       "      <td>2</td>\n",
       "    </tr>\n",
       "    <tr>\n",
       "      <th>1</th>\n",
       "      <td>1001</td>\n",
       "      <td>2018-08</td>\n",
       "      <td>27</td>\n",
       "      <td>30</td>\n",
       "      <td>182</td>\n",
       "      <td>7</td>\n",
       "    </tr>\n",
       "    <tr>\n",
       "      <th>2</th>\n",
       "      <td>1001</td>\n",
       "      <td>2018-09</td>\n",
       "      <td>49</td>\n",
       "      <td>44</td>\n",
       "      <td>315</td>\n",
       "      <td>14</td>\n",
       "    </tr>\n",
       "    <tr>\n",
       "      <th>3</th>\n",
       "      <td>1001</td>\n",
       "      <td>2018-10</td>\n",
       "      <td>65</td>\n",
       "      <td>53</td>\n",
       "      <td>393</td>\n",
       "      <td>22</td>\n",
       "    </tr>\n",
       "    <tr>\n",
       "      <th>4</th>\n",
       "      <td>1001</td>\n",
       "      <td>2018-11</td>\n",
       "      <td>64</td>\n",
       "      <td>36</td>\n",
       "      <td>426</td>\n",
       "      <td>19</td>\n",
       "    </tr>\n",
       "    <tr>\n",
       "      <th>5</th>\n",
       "      <td>1001</td>\n",
       "      <td>2018-12</td>\n",
       "      <td>56</td>\n",
       "      <td>44</td>\n",
       "      <td>412</td>\n",
       "      <td>19</td>\n",
       "    </tr>\n",
       "    <tr>\n",
       "      <th>6</th>\n",
       "      <td>1002</td>\n",
       "      <td>2018-10</td>\n",
       "      <td>11</td>\n",
       "      <td>15</td>\n",
       "      <td>59</td>\n",
       "      <td>7</td>\n",
       "    </tr>\n",
       "    <tr>\n",
       "      <th>7</th>\n",
       "      <td>1002</td>\n",
       "      <td>2018-11</td>\n",
       "      <td>55</td>\n",
       "      <td>32</td>\n",
       "      <td>386</td>\n",
       "      <td>19</td>\n",
       "    </tr>\n",
       "    <tr>\n",
       "      <th>8</th>\n",
       "      <td>1002</td>\n",
       "      <td>2018-12</td>\n",
       "      <td>47</td>\n",
       "      <td>41</td>\n",
       "      <td>384</td>\n",
       "      <td>15</td>\n",
       "    </tr>\n",
       "    <tr>\n",
       "      <th>9</th>\n",
       "      <td>1003</td>\n",
       "      <td>2018-12</td>\n",
       "      <td>149</td>\n",
       "      <td>50</td>\n",
       "      <td>1104</td>\n",
       "      <td>27</td>\n",
       "    </tr>\n",
       "  </tbody>\n",
       "</table>\n",
       "</div>"
      ],
      "text/plain": [
       "   user_id    month  total_calls  total_messages  total_minutes  \\\n",
       "0     1000  2018-12           16              11            124   \n",
       "1     1001  2018-08           27              30            182   \n",
       "2     1001  2018-09           49              44            315   \n",
       "3     1001  2018-10           65              53            393   \n",
       "4     1001  2018-11           64              36            426   \n",
       "5     1001  2018-12           56              44            412   \n",
       "6     1002  2018-10           11              15             59   \n",
       "7     1002  2018-11           55              32            386   \n",
       "8     1002  2018-12           47              41            384   \n",
       "9     1003  2018-12          149              50           1104   \n",
       "\n",
       "   total_traffic_gb  \n",
       "0                 2  \n",
       "1                 7  \n",
       "2                14  \n",
       "3                22  \n",
       "4                19  \n",
       "5                19  \n",
       "6                 7  \n",
       "7                19  \n",
       "8                15  \n",
       "9                27  "
      ]
     },
     "execution_count": 129,
     "metadata": {},
     "output_type": "execute_result"
    }
   ],
   "source": [
    "# Fusiona los datos de llamadas, minutos, mensajes e Internet con base en user_id y month\n",
    "data = monthly_calls.merge(monthly_messages, on=['user_id', 'month'], how='left') \\\n",
    "                    .merge(monthly_minutes, on=['user_id', 'month'], how='left') \\\n",
    "                    .merge(monthly_traffic, on=['user_id', 'month'], how='left')\n",
    "\n",
    "data['total_messages'] = data['total_messages'].fillna(0).astype(int)\n",
    "data['total_traffic_gb'] = data['total_traffic_gb'].fillna(0).astype(int)\n",
    "data.head(10)"
   ]
  },
  {
   "cell_type": "code",
   "execution_count": 130,
   "metadata": {
    "id": "0dNOXHag0q1H",
    "scrolled": true
   },
   "outputs": [
    {
     "data": {
      "text/html": [
       "<div>\n",
       "<style scoped>\n",
       "    .dataframe tbody tr th:only-of-type {\n",
       "        vertical-align: middle;\n",
       "    }\n",
       "\n",
       "    .dataframe tbody tr th {\n",
       "        vertical-align: top;\n",
       "    }\n",
       "\n",
       "    .dataframe thead th {\n",
       "        text-align: right;\n",
       "    }\n",
       "</style>\n",
       "<table border=\"1\" class=\"dataframe\">\n",
       "  <thead>\n",
       "    <tr style=\"text-align: right;\">\n",
       "      <th></th>\n",
       "      <th>user_id</th>\n",
       "      <th>month</th>\n",
       "      <th>total_calls</th>\n",
       "      <th>total_messages</th>\n",
       "      <th>total_minutes</th>\n",
       "      <th>total_traffic_gb</th>\n",
       "      <th>city</th>\n",
       "      <th>plan_name</th>\n",
       "      <th>messages_included</th>\n",
       "      <th>mb_per_month_included</th>\n",
       "      <th>minutes_included</th>\n",
       "      <th>usd_monthly_pay</th>\n",
       "      <th>usd_per_gb</th>\n",
       "      <th>usd_per_message</th>\n",
       "      <th>usd_per_minute</th>\n",
       "      <th>gb_per_month_included</th>\n",
       "    </tr>\n",
       "  </thead>\n",
       "  <tbody>\n",
       "    <tr>\n",
       "      <th>0</th>\n",
       "      <td>1000</td>\n",
       "      <td>2018-12</td>\n",
       "      <td>16</td>\n",
       "      <td>11</td>\n",
       "      <td>124</td>\n",
       "      <td>2</td>\n",
       "      <td>Atlanta-Sandy Springs-Roswell, GA MSA</td>\n",
       "      <td>ultimate</td>\n",
       "      <td>1000</td>\n",
       "      <td>30720</td>\n",
       "      <td>3000</td>\n",
       "      <td>70</td>\n",
       "      <td>7</td>\n",
       "      <td>0.01</td>\n",
       "      <td>0.01</td>\n",
       "      <td>30</td>\n",
       "    </tr>\n",
       "    <tr>\n",
       "      <th>1</th>\n",
       "      <td>1001</td>\n",
       "      <td>2018-08</td>\n",
       "      <td>27</td>\n",
       "      <td>30</td>\n",
       "      <td>182</td>\n",
       "      <td>7</td>\n",
       "      <td>Seattle-Tacoma-Bellevue, WA MSA</td>\n",
       "      <td>surf</td>\n",
       "      <td>50</td>\n",
       "      <td>15360</td>\n",
       "      <td>500</td>\n",
       "      <td>20</td>\n",
       "      <td>10</td>\n",
       "      <td>0.03</td>\n",
       "      <td>0.03</td>\n",
       "      <td>15</td>\n",
       "    </tr>\n",
       "    <tr>\n",
       "      <th>2</th>\n",
       "      <td>1001</td>\n",
       "      <td>2018-09</td>\n",
       "      <td>49</td>\n",
       "      <td>44</td>\n",
       "      <td>315</td>\n",
       "      <td>14</td>\n",
       "      <td>Seattle-Tacoma-Bellevue, WA MSA</td>\n",
       "      <td>surf</td>\n",
       "      <td>50</td>\n",
       "      <td>15360</td>\n",
       "      <td>500</td>\n",
       "      <td>20</td>\n",
       "      <td>10</td>\n",
       "      <td>0.03</td>\n",
       "      <td>0.03</td>\n",
       "      <td>15</td>\n",
       "    </tr>\n",
       "    <tr>\n",
       "      <th>3</th>\n",
       "      <td>1001</td>\n",
       "      <td>2018-10</td>\n",
       "      <td>65</td>\n",
       "      <td>53</td>\n",
       "      <td>393</td>\n",
       "      <td>22</td>\n",
       "      <td>Seattle-Tacoma-Bellevue, WA MSA</td>\n",
       "      <td>surf</td>\n",
       "      <td>50</td>\n",
       "      <td>15360</td>\n",
       "      <td>500</td>\n",
       "      <td>20</td>\n",
       "      <td>10</td>\n",
       "      <td>0.03</td>\n",
       "      <td>0.03</td>\n",
       "      <td>15</td>\n",
       "    </tr>\n",
       "    <tr>\n",
       "      <th>4</th>\n",
       "      <td>1001</td>\n",
       "      <td>2018-11</td>\n",
       "      <td>64</td>\n",
       "      <td>36</td>\n",
       "      <td>426</td>\n",
       "      <td>19</td>\n",
       "      <td>Seattle-Tacoma-Bellevue, WA MSA</td>\n",
       "      <td>surf</td>\n",
       "      <td>50</td>\n",
       "      <td>15360</td>\n",
       "      <td>500</td>\n",
       "      <td>20</td>\n",
       "      <td>10</td>\n",
       "      <td>0.03</td>\n",
       "      <td>0.03</td>\n",
       "      <td>15</td>\n",
       "    </tr>\n",
       "    <tr>\n",
       "      <th>5</th>\n",
       "      <td>1001</td>\n",
       "      <td>2018-12</td>\n",
       "      <td>56</td>\n",
       "      <td>44</td>\n",
       "      <td>412</td>\n",
       "      <td>19</td>\n",
       "      <td>Seattle-Tacoma-Bellevue, WA MSA</td>\n",
       "      <td>surf</td>\n",
       "      <td>50</td>\n",
       "      <td>15360</td>\n",
       "      <td>500</td>\n",
       "      <td>20</td>\n",
       "      <td>10</td>\n",
       "      <td>0.03</td>\n",
       "      <td>0.03</td>\n",
       "      <td>15</td>\n",
       "    </tr>\n",
       "    <tr>\n",
       "      <th>6</th>\n",
       "      <td>1002</td>\n",
       "      <td>2018-10</td>\n",
       "      <td>11</td>\n",
       "      <td>15</td>\n",
       "      <td>59</td>\n",
       "      <td>7</td>\n",
       "      <td>Las Vegas-Henderson-Paradise, NV MSA</td>\n",
       "      <td>surf</td>\n",
       "      <td>50</td>\n",
       "      <td>15360</td>\n",
       "      <td>500</td>\n",
       "      <td>20</td>\n",
       "      <td>10</td>\n",
       "      <td>0.03</td>\n",
       "      <td>0.03</td>\n",
       "      <td>15</td>\n",
       "    </tr>\n",
       "    <tr>\n",
       "      <th>7</th>\n",
       "      <td>1002</td>\n",
       "      <td>2018-11</td>\n",
       "      <td>55</td>\n",
       "      <td>32</td>\n",
       "      <td>386</td>\n",
       "      <td>19</td>\n",
       "      <td>Las Vegas-Henderson-Paradise, NV MSA</td>\n",
       "      <td>surf</td>\n",
       "      <td>50</td>\n",
       "      <td>15360</td>\n",
       "      <td>500</td>\n",
       "      <td>20</td>\n",
       "      <td>10</td>\n",
       "      <td>0.03</td>\n",
       "      <td>0.03</td>\n",
       "      <td>15</td>\n",
       "    </tr>\n",
       "    <tr>\n",
       "      <th>8</th>\n",
       "      <td>1002</td>\n",
       "      <td>2018-12</td>\n",
       "      <td>47</td>\n",
       "      <td>41</td>\n",
       "      <td>384</td>\n",
       "      <td>15</td>\n",
       "      <td>Las Vegas-Henderson-Paradise, NV MSA</td>\n",
       "      <td>surf</td>\n",
       "      <td>50</td>\n",
       "      <td>15360</td>\n",
       "      <td>500</td>\n",
       "      <td>20</td>\n",
       "      <td>10</td>\n",
       "      <td>0.03</td>\n",
       "      <td>0.03</td>\n",
       "      <td>15</td>\n",
       "    </tr>\n",
       "    <tr>\n",
       "      <th>9</th>\n",
       "      <td>1003</td>\n",
       "      <td>2018-12</td>\n",
       "      <td>149</td>\n",
       "      <td>50</td>\n",
       "      <td>1104</td>\n",
       "      <td>27</td>\n",
       "      <td>Tulsa, OK MSA</td>\n",
       "      <td>surf</td>\n",
       "      <td>50</td>\n",
       "      <td>15360</td>\n",
       "      <td>500</td>\n",
       "      <td>20</td>\n",
       "      <td>10</td>\n",
       "      <td>0.03</td>\n",
       "      <td>0.03</td>\n",
       "      <td>15</td>\n",
       "    </tr>\n",
       "  </tbody>\n",
       "</table>\n",
       "</div>"
      ],
      "text/plain": [
       "   user_id    month  total_calls  total_messages  total_minutes  \\\n",
       "0     1000  2018-12           16              11            124   \n",
       "1     1001  2018-08           27              30            182   \n",
       "2     1001  2018-09           49              44            315   \n",
       "3     1001  2018-10           65              53            393   \n",
       "4     1001  2018-11           64              36            426   \n",
       "5     1001  2018-12           56              44            412   \n",
       "6     1002  2018-10           11              15             59   \n",
       "7     1002  2018-11           55              32            386   \n",
       "8     1002  2018-12           47              41            384   \n",
       "9     1003  2018-12          149              50           1104   \n",
       "\n",
       "   total_traffic_gb                                   city plan_name  \\\n",
       "0                 2  Atlanta-Sandy Springs-Roswell, GA MSA  ultimate   \n",
       "1                 7        Seattle-Tacoma-Bellevue, WA MSA      surf   \n",
       "2                14        Seattle-Tacoma-Bellevue, WA MSA      surf   \n",
       "3                22        Seattle-Tacoma-Bellevue, WA MSA      surf   \n",
       "4                19        Seattle-Tacoma-Bellevue, WA MSA      surf   \n",
       "5                19        Seattle-Tacoma-Bellevue, WA MSA      surf   \n",
       "6                 7   Las Vegas-Henderson-Paradise, NV MSA      surf   \n",
       "7                19   Las Vegas-Henderson-Paradise, NV MSA      surf   \n",
       "8                15   Las Vegas-Henderson-Paradise, NV MSA      surf   \n",
       "9                27                          Tulsa, OK MSA      surf   \n",
       "\n",
       "   messages_included  mb_per_month_included  minutes_included  \\\n",
       "0               1000                  30720              3000   \n",
       "1                 50                  15360               500   \n",
       "2                 50                  15360               500   \n",
       "3                 50                  15360               500   \n",
       "4                 50                  15360               500   \n",
       "5                 50                  15360               500   \n",
       "6                 50                  15360               500   \n",
       "7                 50                  15360               500   \n",
       "8                 50                  15360               500   \n",
       "9                 50                  15360               500   \n",
       "\n",
       "   usd_monthly_pay  usd_per_gb  usd_per_message  usd_per_minute  \\\n",
       "0               70           7             0.01            0.01   \n",
       "1               20          10             0.03            0.03   \n",
       "2               20          10             0.03            0.03   \n",
       "3               20          10             0.03            0.03   \n",
       "4               20          10             0.03            0.03   \n",
       "5               20          10             0.03            0.03   \n",
       "6               20          10             0.03            0.03   \n",
       "7               20          10             0.03            0.03   \n",
       "8               20          10             0.03            0.03   \n",
       "9               20          10             0.03            0.03   \n",
       "\n",
       "   gb_per_month_included  \n",
       "0                     30  \n",
       "1                     15  \n",
       "2                     15  \n",
       "3                     15  \n",
       "4                     15  \n",
       "5                     15  \n",
       "6                     15  \n",
       "7                     15  \n",
       "8                     15  \n",
       "9                     15  "
      ]
     },
     "execution_count": 130,
     "metadata": {},
     "output_type": "execute_result"
    }
   ],
   "source": [
    "# Añade la información de la tarifa\n",
    "users_subset = users[['user_id', 'city', 'plan_name']]\n",
    "data = data.merge(users_subset, on='user_id')\n",
    "\n",
    "data = data.merge(plans, on='plan_name', how='left')\n",
    "data.head(10)"
   ]
  },
  {
   "cell_type": "code",
   "execution_count": 131,
   "metadata": {
    "id": "5FGCf_c60q1I"
   },
   "outputs": [
    {
     "data": {
      "text/html": [
       "<div>\n",
       "<style scoped>\n",
       "    .dataframe tbody tr th:only-of-type {\n",
       "        vertical-align: middle;\n",
       "    }\n",
       "\n",
       "    .dataframe tbody tr th {\n",
       "        vertical-align: top;\n",
       "    }\n",
       "\n",
       "    .dataframe thead th {\n",
       "        text-align: right;\n",
       "    }\n",
       "</style>\n",
       "<table border=\"1\" class=\"dataframe\">\n",
       "  <thead>\n",
       "    <tr style=\"text-align: right;\">\n",
       "      <th></th>\n",
       "      <th>user_id</th>\n",
       "      <th>month</th>\n",
       "      <th>total_calls</th>\n",
       "      <th>total_messages</th>\n",
       "      <th>total_minutes</th>\n",
       "      <th>total_traffic_gb</th>\n",
       "      <th>city</th>\n",
       "      <th>plan_name</th>\n",
       "      <th>messages_included</th>\n",
       "      <th>mb_per_month_included</th>\n",
       "      <th>minutes_included</th>\n",
       "      <th>usd_monthly_pay</th>\n",
       "      <th>usd_per_gb</th>\n",
       "      <th>usd_per_message</th>\n",
       "      <th>usd_per_minute</th>\n",
       "      <th>gb_per_month_included</th>\n",
       "      <th>monthly_revenue</th>\n",
       "    </tr>\n",
       "  </thead>\n",
       "  <tbody>\n",
       "    <tr>\n",
       "      <th>0</th>\n",
       "      <td>1000</td>\n",
       "      <td>2018-12</td>\n",
       "      <td>16</td>\n",
       "      <td>11</td>\n",
       "      <td>124</td>\n",
       "      <td>2</td>\n",
       "      <td>Atlanta-Sandy Springs-Roswell, GA MSA</td>\n",
       "      <td>ultimate</td>\n",
       "      <td>1000</td>\n",
       "      <td>30720</td>\n",
       "      <td>3000</td>\n",
       "      <td>70</td>\n",
       "      <td>7</td>\n",
       "      <td>0.01</td>\n",
       "      <td>0.01</td>\n",
       "      <td>30</td>\n",
       "      <td>70.00</td>\n",
       "    </tr>\n",
       "    <tr>\n",
       "      <th>1</th>\n",
       "      <td>1001</td>\n",
       "      <td>2018-08</td>\n",
       "      <td>27</td>\n",
       "      <td>30</td>\n",
       "      <td>182</td>\n",
       "      <td>7</td>\n",
       "      <td>Seattle-Tacoma-Bellevue, WA MSA</td>\n",
       "      <td>surf</td>\n",
       "      <td>50</td>\n",
       "      <td>15360</td>\n",
       "      <td>500</td>\n",
       "      <td>20</td>\n",
       "      <td>10</td>\n",
       "      <td>0.03</td>\n",
       "      <td>0.03</td>\n",
       "      <td>15</td>\n",
       "      <td>20.00</td>\n",
       "    </tr>\n",
       "    <tr>\n",
       "      <th>2</th>\n",
       "      <td>1001</td>\n",
       "      <td>2018-09</td>\n",
       "      <td>49</td>\n",
       "      <td>44</td>\n",
       "      <td>315</td>\n",
       "      <td>14</td>\n",
       "      <td>Seattle-Tacoma-Bellevue, WA MSA</td>\n",
       "      <td>surf</td>\n",
       "      <td>50</td>\n",
       "      <td>15360</td>\n",
       "      <td>500</td>\n",
       "      <td>20</td>\n",
       "      <td>10</td>\n",
       "      <td>0.03</td>\n",
       "      <td>0.03</td>\n",
       "      <td>15</td>\n",
       "      <td>20.00</td>\n",
       "    </tr>\n",
       "    <tr>\n",
       "      <th>3</th>\n",
       "      <td>1001</td>\n",
       "      <td>2018-10</td>\n",
       "      <td>65</td>\n",
       "      <td>53</td>\n",
       "      <td>393</td>\n",
       "      <td>22</td>\n",
       "      <td>Seattle-Tacoma-Bellevue, WA MSA</td>\n",
       "      <td>surf</td>\n",
       "      <td>50</td>\n",
       "      <td>15360</td>\n",
       "      <td>500</td>\n",
       "      <td>20</td>\n",
       "      <td>10</td>\n",
       "      <td>0.03</td>\n",
       "      <td>0.03</td>\n",
       "      <td>15</td>\n",
       "      <td>90.09</td>\n",
       "    </tr>\n",
       "    <tr>\n",
       "      <th>4</th>\n",
       "      <td>1001</td>\n",
       "      <td>2018-11</td>\n",
       "      <td>64</td>\n",
       "      <td>36</td>\n",
       "      <td>426</td>\n",
       "      <td>19</td>\n",
       "      <td>Seattle-Tacoma-Bellevue, WA MSA</td>\n",
       "      <td>surf</td>\n",
       "      <td>50</td>\n",
       "      <td>15360</td>\n",
       "      <td>500</td>\n",
       "      <td>20</td>\n",
       "      <td>10</td>\n",
       "      <td>0.03</td>\n",
       "      <td>0.03</td>\n",
       "      <td>15</td>\n",
       "      <td>60.00</td>\n",
       "    </tr>\n",
       "    <tr>\n",
       "      <th>5</th>\n",
       "      <td>1001</td>\n",
       "      <td>2018-12</td>\n",
       "      <td>56</td>\n",
       "      <td>44</td>\n",
       "      <td>412</td>\n",
       "      <td>19</td>\n",
       "      <td>Seattle-Tacoma-Bellevue, WA MSA</td>\n",
       "      <td>surf</td>\n",
       "      <td>50</td>\n",
       "      <td>15360</td>\n",
       "      <td>500</td>\n",
       "      <td>20</td>\n",
       "      <td>10</td>\n",
       "      <td>0.03</td>\n",
       "      <td>0.03</td>\n",
       "      <td>15</td>\n",
       "      <td>60.00</td>\n",
       "    </tr>\n",
       "    <tr>\n",
       "      <th>6</th>\n",
       "      <td>1002</td>\n",
       "      <td>2018-10</td>\n",
       "      <td>11</td>\n",
       "      <td>15</td>\n",
       "      <td>59</td>\n",
       "      <td>7</td>\n",
       "      <td>Las Vegas-Henderson-Paradise, NV MSA</td>\n",
       "      <td>surf</td>\n",
       "      <td>50</td>\n",
       "      <td>15360</td>\n",
       "      <td>500</td>\n",
       "      <td>20</td>\n",
       "      <td>10</td>\n",
       "      <td>0.03</td>\n",
       "      <td>0.03</td>\n",
       "      <td>15</td>\n",
       "      <td>20.00</td>\n",
       "    </tr>\n",
       "    <tr>\n",
       "      <th>7</th>\n",
       "      <td>1002</td>\n",
       "      <td>2018-11</td>\n",
       "      <td>55</td>\n",
       "      <td>32</td>\n",
       "      <td>386</td>\n",
       "      <td>19</td>\n",
       "      <td>Las Vegas-Henderson-Paradise, NV MSA</td>\n",
       "      <td>surf</td>\n",
       "      <td>50</td>\n",
       "      <td>15360</td>\n",
       "      <td>500</td>\n",
       "      <td>20</td>\n",
       "      <td>10</td>\n",
       "      <td>0.03</td>\n",
       "      <td>0.03</td>\n",
       "      <td>15</td>\n",
       "      <td>60.00</td>\n",
       "    </tr>\n",
       "    <tr>\n",
       "      <th>8</th>\n",
       "      <td>1002</td>\n",
       "      <td>2018-12</td>\n",
       "      <td>47</td>\n",
       "      <td>41</td>\n",
       "      <td>384</td>\n",
       "      <td>15</td>\n",
       "      <td>Las Vegas-Henderson-Paradise, NV MSA</td>\n",
       "      <td>surf</td>\n",
       "      <td>50</td>\n",
       "      <td>15360</td>\n",
       "      <td>500</td>\n",
       "      <td>20</td>\n",
       "      <td>10</td>\n",
       "      <td>0.03</td>\n",
       "      <td>0.03</td>\n",
       "      <td>15</td>\n",
       "      <td>20.00</td>\n",
       "    </tr>\n",
       "    <tr>\n",
       "      <th>9</th>\n",
       "      <td>1003</td>\n",
       "      <td>2018-12</td>\n",
       "      <td>149</td>\n",
       "      <td>50</td>\n",
       "      <td>1104</td>\n",
       "      <td>27</td>\n",
       "      <td>Tulsa, OK MSA</td>\n",
       "      <td>surf</td>\n",
       "      <td>50</td>\n",
       "      <td>15360</td>\n",
       "      <td>500</td>\n",
       "      <td>20</td>\n",
       "      <td>10</td>\n",
       "      <td>0.03</td>\n",
       "      <td>0.03</td>\n",
       "      <td>15</td>\n",
       "      <td>158.12</td>\n",
       "    </tr>\n",
       "  </tbody>\n",
       "</table>\n",
       "</div>"
      ],
      "text/plain": [
       "   user_id    month  total_calls  total_messages  total_minutes  \\\n",
       "0     1000  2018-12           16              11            124   \n",
       "1     1001  2018-08           27              30            182   \n",
       "2     1001  2018-09           49              44            315   \n",
       "3     1001  2018-10           65              53            393   \n",
       "4     1001  2018-11           64              36            426   \n",
       "5     1001  2018-12           56              44            412   \n",
       "6     1002  2018-10           11              15             59   \n",
       "7     1002  2018-11           55              32            386   \n",
       "8     1002  2018-12           47              41            384   \n",
       "9     1003  2018-12          149              50           1104   \n",
       "\n",
       "   total_traffic_gb                                   city plan_name  \\\n",
       "0                 2  Atlanta-Sandy Springs-Roswell, GA MSA  ultimate   \n",
       "1                 7        Seattle-Tacoma-Bellevue, WA MSA      surf   \n",
       "2                14        Seattle-Tacoma-Bellevue, WA MSA      surf   \n",
       "3                22        Seattle-Tacoma-Bellevue, WA MSA      surf   \n",
       "4                19        Seattle-Tacoma-Bellevue, WA MSA      surf   \n",
       "5                19        Seattle-Tacoma-Bellevue, WA MSA      surf   \n",
       "6                 7   Las Vegas-Henderson-Paradise, NV MSA      surf   \n",
       "7                19   Las Vegas-Henderson-Paradise, NV MSA      surf   \n",
       "8                15   Las Vegas-Henderson-Paradise, NV MSA      surf   \n",
       "9                27                          Tulsa, OK MSA      surf   \n",
       "\n",
       "   messages_included  mb_per_month_included  minutes_included  \\\n",
       "0               1000                  30720              3000   \n",
       "1                 50                  15360               500   \n",
       "2                 50                  15360               500   \n",
       "3                 50                  15360               500   \n",
       "4                 50                  15360               500   \n",
       "5                 50                  15360               500   \n",
       "6                 50                  15360               500   \n",
       "7                 50                  15360               500   \n",
       "8                 50                  15360               500   \n",
       "9                 50                  15360               500   \n",
       "\n",
       "   usd_monthly_pay  usd_per_gb  usd_per_message  usd_per_minute  \\\n",
       "0               70           7             0.01            0.01   \n",
       "1               20          10             0.03            0.03   \n",
       "2               20          10             0.03            0.03   \n",
       "3               20          10             0.03            0.03   \n",
       "4               20          10             0.03            0.03   \n",
       "5               20          10             0.03            0.03   \n",
       "6               20          10             0.03            0.03   \n",
       "7               20          10             0.03            0.03   \n",
       "8               20          10             0.03            0.03   \n",
       "9               20          10             0.03            0.03   \n",
       "\n",
       "   gb_per_month_included  monthly_revenue  \n",
       "0                     30            70.00  \n",
       "1                     15            20.00  \n",
       "2                     15            20.00  \n",
       "3                     15            90.09  \n",
       "4                     15            60.00  \n",
       "5                     15            60.00  \n",
       "6                     15            20.00  \n",
       "7                     15            60.00  \n",
       "8                     15            20.00  \n",
       "9                     15           158.12  "
      ]
     },
     "execution_count": 131,
     "metadata": {},
     "output_type": "execute_result"
    }
   ],
   "source": [
    "# Calcula el ingreso mensual para cada usuario\n",
    "\n",
    "def calculate_revenue(row):\n",
    "    \n",
    "    messages_limit = row['messages_included']\n",
    "    minutes_limit = row['minutes_included']\n",
    "    data_limit_gb = row['gb_per_month_included']\n",
    "    \n",
    "    total_messages = row['total_messages']\n",
    "    total_minutes = row['total_minutes']\n",
    "    total_traffic_gb = row['total_traffic_gb']\n",
    "    \n",
    "    excess_messages = max(0, total_messages - messages_limit)\n",
    "    excess_minutes = max(0, total_minutes - minutes_limit)\n",
    "    excess_data_gb = max(0, total_traffic_gb - data_limit_gb)\n",
    "    \n",
    "    additional_message_charge = excess_messages * row['usd_per_message']\n",
    "    additional_minute_charge = excess_minutes * row['usd_per_minute']\n",
    "    additional_data_charge = excess_data_gb * row['usd_per_gb']\n",
    "    \n",
    "    total_revenue = row['usd_monthly_pay'] + additional_message_charge + additional_minute_charge + additional_data_charge\n",
    "    return total_revenue\n",
    "\n",
    "data['monthly_revenue'] = data.apply(calculate_revenue, axis=1)\n",
    "\n",
    "data.head(10)"
   ]
  },
  {
   "cell_type": "markdown",
   "metadata": {
    "id": "-jtyHzJb0q1I"
   },
   "source": [
    "## Estudia el comportamiento de usuario"
   ]
  },
  {
   "cell_type": "markdown",
   "metadata": {
    "id": "vtW4CJEe0q1J"
   },
   "source": [
    "### Llamadas"
   ]
  },
  {
   "cell_type": "code",
   "execution_count": 132,
   "metadata": {
    "id": "Jf5v5--k0q1J"
   },
   "outputs": [
    {
     "data": {
      "image/png": "[encoded data removed]",
      "text/plain": [
       "<Figure size 1200x600 with 1 Axes>"
      ]
     },
     "metadata": {},
     "output_type": "display_data"
    }
   ],
   "source": [
    "# Compara la duración promedio de llamadas por cada plan y por cada mes. Traza un gráfico de barras para visualizarla.\n",
    "duration_calls_mean = data.groupby(['month', 'plan_name'])['total_minutes'].mean().reset_index()\n",
    "duration_calls_mean.pivot(index='month', columns='plan_name', values='total_minutes').plot(kind='bar',\n",
    "                                                                                           figsize=(12, 6),\n",
    "                                                                                           title='Duración promedio de llamadas por plan y mes',\n",
    "                                                                                           xlabel='Mes',\n",
    "                                                                                           rot=45,\n",
    "                                                                                           ylabel='Duración promedio de llamadas (Minutos)')\n",
    "plt.show()"
   ]
  },
  {
   "cell_type": "code",
   "execution_count": 133,
   "metadata": {
    "id": "QoLqW1S_0q1J"
   },
   "outputs": [
    {
     "data": {
      "image/png": "[encoded data removed]",
      "text/plain": [
       "<Figure size 1000x600 with 1 Axes>"
      ]
     },
     "metadata": {},
     "output_type": "display_data"
    }
   ],
   "source": [
    "# Compara el número de minutos mensuales que necesitan los usuarios de cada plan. Traza un histograma.\n",
    "\n",
    "min_user = data.groupby('plan_name')['total_minutes']\n",
    "\n",
    "plt.figure(figsize=(10, 6))\n",
    "min_user.plot(kind='hist', bins=10, edgecolor='black', alpha=0.80)\n",
    "plt.title('Distribución de Minutos Totales por Plan')\n",
    "plt.xlabel('Minutos Totales')\n",
    "plt.ylabel('Frecuencia')\n",
    "plt.grid(axis='y')\n",
    "plt.legend(title='Planes')\n",
    "plt.show()"
   ]
  },
  {
   "cell_type": "markdown",
   "metadata": {
    "id": "bLS9T8OH0q1K"
   },
   "source": [
    "[Calcula la media y la variable de la duración de las llamadas para averiguar si los usuarios de los distintos planes se comportan de forma diferente al realizar sus llamadas.]"
   ]
  },
  {
   "cell_type": "code",
   "execution_count": 134,
   "metadata": {
    "id": "oSndbAnt0q1K"
   },
   "outputs": [
    {
     "data": {
      "text/html": [
       "<div>\n",
       "<style scoped>\n",
       "    .dataframe tbody tr th:only-of-type {\n",
       "        vertical-align: middle;\n",
       "    }\n",
       "\n",
       "    .dataframe tbody tr th {\n",
       "        vertical-align: top;\n",
       "    }\n",
       "\n",
       "    .dataframe thead th {\n",
       "        text-align: right;\n",
       "    }\n",
       "</style>\n",
       "<table border=\"1\" class=\"dataframe\">\n",
       "  <thead>\n",
       "    <tr style=\"text-align: right;\">\n",
       "      <th></th>\n",
       "      <th>plan_name</th>\n",
       "      <th>mean_duration</th>\n",
       "      <th>variance_duration</th>\n",
       "    </tr>\n",
       "  </thead>\n",
       "  <tbody>\n",
       "    <tr>\n",
       "      <th>0</th>\n",
       "      <td>surf</td>\n",
       "      <td>436.519741</td>\n",
       "      <td>52571.063243</td>\n",
       "    </tr>\n",
       "    <tr>\n",
       "      <th>1</th>\n",
       "      <td>ultimate</td>\n",
       "      <td>434.676017</td>\n",
       "      <td>56573.632247</td>\n",
       "    </tr>\n",
       "  </tbody>\n",
       "</table>\n",
       "</div>"
      ],
      "text/plain": [
       "  plan_name  mean_duration  variance_duration\n",
       "0      surf     436.519741       52571.063243\n",
       "1  ultimate     434.676017       56573.632247"
      ]
     },
     "execution_count": 134,
     "metadata": {},
     "output_type": "execute_result"
    }
   ],
   "source": [
    "monthly_call_stats = data.groupby('plan_name')['total_minutes'].agg(['mean', 'var']).reset_index()\n",
    "\n",
    "monthly_call_stats.columns = ['plan_name', 'mean_duration', 'variance_duration']\n",
    "\n",
    "monthly_call_stats"
   ]
  },
  {
   "cell_type": "code",
   "execution_count": 135,
   "metadata": {
    "id": "nZzoRUKc0q1K"
   },
   "outputs": [
    {
     "data": {
      "image/png": "[encoded data removed]",
      "text/plain": [
       "<Figure size 640x480 with 1 Axes>"
      ]
     },
     "metadata": {},
     "output_type": "display_data"
    }
   ],
   "source": [
    "# Traza un diagrama de caja para visualizar la distribución de la duración mensual de llamadas\n",
    "\n",
    "calls_distribution = data.boxplot(column='total_minutes')\n",
    "plt.show()"
   ]
  },
  {
   "cell_type": "markdown",
   "metadata": {
    "id": "r627zBO50q1K"
   },
   "source": [
    "###### La diferencia de la duración promedio es muy pequeña, lo cual sugiere que en términos generales, los usuarios de ambos planes realizan llamadas de duración muy similar. Ultimate tiene una varianza un  poco mayor, lo que podría sugerir que los usuarios de este plan tienen mayor variabilidad en la duración de sus llamadas."
   ]
  },
  {
   "cell_type": "markdown",
   "metadata": {
    "id": "8idKy8Wh0q1L"
   },
   "source": [
    "### Mensajes"
   ]
  },
  {
   "cell_type": "code",
   "execution_count": 136,
   "metadata": {
    "id": "NXLxiTit0q1L"
   },
   "outputs": [
    {
     "data": {
      "text/html": [
       "<div>\n",
       "<style scoped>\n",
       "    .dataframe tbody tr th:only-of-type {\n",
       "        vertical-align: middle;\n",
       "    }\n",
       "\n",
       "    .dataframe tbody tr th {\n",
       "        vertical-align: top;\n",
       "    }\n",
       "\n",
       "    .dataframe thead th {\n",
       "        text-align: right;\n",
       "    }\n",
       "</style>\n",
       "<table border=\"1\" class=\"dataframe\">\n",
       "  <thead>\n",
       "    <tr style=\"text-align: right;\">\n",
       "      <th></th>\n",
       "      <th>plan_name</th>\n",
       "      <th>mean_duration</th>\n",
       "      <th>variance_duration</th>\n",
       "    </tr>\n",
       "  </thead>\n",
       "  <tbody>\n",
       "    <tr>\n",
       "      <th>0</th>\n",
       "      <td>surf</td>\n",
       "      <td>30.897735</td>\n",
       "      <td>1131.949380</td>\n",
       "    </tr>\n",
       "    <tr>\n",
       "      <th>1</th>\n",
       "      <td>ultimate</td>\n",
       "      <td>37.725105</td>\n",
       "      <td>1210.143428</td>\n",
       "    </tr>\n",
       "  </tbody>\n",
       "</table>\n",
       "</div>"
      ],
      "text/plain": [
       "  plan_name  mean_duration  variance_duration\n",
       "0      surf      30.897735        1131.949380\n",
       "1  ultimate      37.725105        1210.143428"
      ]
     },
     "execution_count": 136,
     "metadata": {},
     "output_type": "execute_result"
    }
   ],
   "source": [
    "# Comprara el número de mensajes que tienden a enviar cada mes los usuarios de cada plan\n",
    "monthly_message_stats = data.groupby('plan_name')['total_messages'].agg(['mean', 'var']).reset_index()\n",
    "\n",
    "# Renombramos las columnas para mayor claridad\n",
    "monthly_message_stats.columns = ['plan_name', 'mean_duration', 'variance_duration']\n",
    "\n",
    "monthly_message_stats"
   ]
  },
  {
   "cell_type": "code",
   "execution_count": 137,
   "metadata": {
    "id": "GRI_R7xF0q1L"
   },
   "outputs": [
    {
     "data": {
      "image/png": "[encoded data removed]",
      "text/plain": [
       "<Figure size 640x480 with 1 Axes>"
      ]
     },
     "metadata": {},
     "output_type": "display_data"
    }
   ],
   "source": [
    "# Compara la cantidad de tráfico de Internet consumido por usuarios por plan\n",
    "\n",
    "traffic_internet = data.groupby('plan_name')['total_traffic_gb'].mean()\n",
    "\n",
    "traffic_internet.plot(kind='bar',\n",
    "                      title='Internet Consumido por Usuarios por Plan',\n",
    "                      xlabel='Nombre del Plan',\n",
    "                      ylabel='Total de GB Usados',\n",
    "                      )\n",
    "plt.show()"
   ]
  },
  {
   "cell_type": "code",
   "execution_count": 138,
   "metadata": {
    "id": "dtFwCGAp0q1M"
   },
   "outputs": [
    {
     "data": {
      "image/png": "[encoded data removed]",
      "text/plain": [
       "<Figure size 640x480 with 1 Axes>"
      ]
     },
     "metadata": {},
     "output_type": "display_data"
    }
   ],
   "source": [
    "calls_distribution = data.boxplot(column='total_messages')\n",
    "plt.show()"
   ]
  },
  {
   "cell_type": "markdown",
   "metadata": {
    "id": "390SSL480q1M"
   },
   "source": [
    "###### Los usuarios del plan Ultimate envían en promedio más mensajes que los usuarios del plan Surf, esto sugiere que en promedio los usuarios Ultimate tienden a usar el servicio de mensajería más que los usuarios de Surf."
   ]
  },
  {
   "cell_type": "markdown",
   "metadata": {
    "id": "42YSypXz0q1M"
   },
   "source": [
    "### Internet"
   ]
  },
  {
   "cell_type": "code",
   "execution_count": 139,
   "metadata": {
    "id": "lSuKPtjh0q1M"
   },
   "outputs": [
    {
     "data": {
      "image/png": "[encoded data removed]",
      "text/plain": [
       "<Figure size 1200x600 with 1 Axes>"
      ]
     },
     "metadata": {},
     "output_type": "display_data"
    }
   ],
   "source": [
    "traffic_gb_bar = data.groupby(['month', 'plan_name'])['total_traffic_gb'].mean().reset_index()\n",
    "traffic_gb_bar.pivot(index='month', columns='plan_name', values='total_traffic_gb').plot(kind='bar',\n",
    "                                                                                           figsize=(12, 6),\n",
    "                                                                                           title='Consumo promedio de GB por plan y mes',\n",
    "                                                                                           xlabel='Mes',\n",
    "                                                                                           rot=45,\n",
    "                                                                                           ylabel='Consumo promedio de internet (GB)')\n",
    "plt.show()"
   ]
  },
  {
   "cell_type": "code",
   "execution_count": 140,
   "metadata": {
    "id": "wnh8jYXi0q1N"
   },
   "outputs": [
    {
     "data": {
      "text/html": [
       "<div>\n",
       "<style scoped>\n",
       "    .dataframe tbody tr th:only-of-type {\n",
       "        vertical-align: middle;\n",
       "    }\n",
       "\n",
       "    .dataframe tbody tr th {\n",
       "        vertical-align: top;\n",
       "    }\n",
       "\n",
       "    .dataframe thead th {\n",
       "        text-align: right;\n",
       "    }\n",
       "</style>\n",
       "<table border=\"1\" class=\"dataframe\">\n",
       "  <thead>\n",
       "    <tr style=\"text-align: right;\">\n",
       "      <th></th>\n",
       "      <th>plan_name</th>\n",
       "      <th>total_traffic_gb</th>\n",
       "    </tr>\n",
       "  </thead>\n",
       "  <tbody>\n",
       "    <tr>\n",
       "      <th>0</th>\n",
       "      <td>surf</td>\n",
       "      <td>16.620065</td>\n",
       "    </tr>\n",
       "    <tr>\n",
       "      <th>1</th>\n",
       "      <td>ultimate</td>\n",
       "      <td>17.370266</td>\n",
       "    </tr>\n",
       "  </tbody>\n",
       "</table>\n",
       "</div>"
      ],
      "text/plain": [
       "  plan_name  total_traffic_gb\n",
       "0      surf         16.620065\n",
       "1  ultimate         17.370266"
      ]
     },
     "execution_count": 140,
     "metadata": {},
     "output_type": "execute_result"
    }
   ],
   "source": [
    "traffic_internet = data.groupby('plan_name')['total_traffic_gb'].mean().reset_index()\n",
    "\n",
    "traffic_internet.columns = ['plan_name', 'total_traffic_gb']\n",
    "\n",
    "traffic_internet"
   ]
  },
  {
   "cell_type": "code",
   "execution_count": 141,
   "metadata": {
    "id": "5VlyJ9ry0q1N"
   },
   "outputs": [
    {
     "data": {
      "image/png": "[encoded data removed]",
      "text/plain": [
       "<Figure size 640x480 with 1 Axes>"
      ]
     },
     "metadata": {},
     "output_type": "display_data"
    }
   ],
   "source": [
    "traffic_distribution = data.boxplot(column='total_traffic_gb')\n",
    "plt.show()"
   ]
  },
  {
   "cell_type": "markdown",
   "metadata": {
    "id": "UN9zwuMP0q1N"
   },
   "source": [
    "###### La diferencia, aunque no muy marcada, sugiere que los usuarios de Ultimate podrían estar aprovechando más su acceso a datos, posiblemente por la inclusión de un mayor volumne de datos en el plan o por mayores beneficios en cuanto a costo por GB"
   ]
  },
  {
   "cell_type": "markdown",
   "metadata": {
    "id": "tCijq3260q1N"
   },
   "source": [
    "## Ingreso"
   ]
  },
  {
   "cell_type": "markdown",
   "metadata": {
    "id": "9nq5IAcy0q1O"
   },
   "source": [
    "[Del mismo modo que has estudiado el comportamiento de los usuarios, describe estadísticamente los ingresos de los planes.]"
   ]
  },
  {
   "cell_type": "code",
   "execution_count": 142,
   "metadata": {
    "id": "tz-dq_V00q1O"
   },
   "outputs": [
    {
     "data": {
      "text/html": [
       "<div>\n",
       "<style scoped>\n",
       "    .dataframe tbody tr th:only-of-type {\n",
       "        vertical-align: middle;\n",
       "    }\n",
       "\n",
       "    .dataframe tbody tr th {\n",
       "        vertical-align: top;\n",
       "    }\n",
       "\n",
       "    .dataframe thead th {\n",
       "        text-align: right;\n",
       "    }\n",
       "</style>\n",
       "<table border=\"1\" class=\"dataframe\">\n",
       "  <thead>\n",
       "    <tr style=\"text-align: right;\">\n",
       "      <th></th>\n",
       "      <th>plan_name</th>\n",
       "      <th>monthly_revenue</th>\n",
       "    </tr>\n",
       "  </thead>\n",
       "  <tbody>\n",
       "    <tr>\n",
       "      <th>0</th>\n",
       "      <td>surf</td>\n",
       "      <td>60.125515</td>\n",
       "    </tr>\n",
       "    <tr>\n",
       "      <th>1</th>\n",
       "      <td>ultimate</td>\n",
       "      <td>72.277700</td>\n",
       "    </tr>\n",
       "  </tbody>\n",
       "</table>\n",
       "</div>"
      ],
      "text/plain": [
       "  plan_name  monthly_revenue\n",
       "0      surf        60.125515\n",
       "1  ultimate        72.277700"
      ]
     },
     "execution_count": 142,
     "metadata": {},
     "output_type": "execute_result"
    }
   ],
   "source": [
    "revenue_mean = data.groupby('plan_name')['monthly_revenue'].mean().reset_index()\n",
    "\n",
    "revenue_mean.columns = ['plan_name', 'monthly_revenue']\n",
    "\n",
    "revenue_mean"
   ]
  },
  {
   "cell_type": "code",
   "execution_count": 143,
   "metadata": {
    "id": "0Y1v8ZUz0q1P"
   },
   "outputs": [
    {
     "data": {
      "image/png": "[encoded data removed]",
      "text/plain": [
       "<Figure size 1200x600 with 1 Axes>"
      ]
     },
     "metadata": {},
     "output_type": "display_data"
    }
   ],
   "source": [
    "month_revenue = data.groupby(['month', 'plan_name'])['monthly_revenue'].mean().reset_index()\n",
    "month_revenue.pivot(index='month', columns='plan_name', values='monthly_revenue').plot(kind='bar',\n",
    "                                                                                           figsize=(12, 6),\n",
    "                                                                                           title='Ingreso promedio por plan y mes',\n",
    "                                                                                           xlabel='Mes',\n",
    "                                                                                           rot=45,\n",
    "                                                                                           ylabel='Ingreso promedio (USD)')\n",
    "plt.show()"
   ]
  },
  {
   "cell_type": "code",
   "execution_count": 144,
   "metadata": {
    "id": "bYmwxyVh0q1P"
   },
   "outputs": [
    {
     "data": {
      "image/png": "[encoded data removed]",
      "text/plain": [
       "<Figure size 640x480 with 1 Axes>"
      ]
     },
     "metadata": {},
     "output_type": "display_data"
    }
   ],
   "source": [
    "renenue_distribution = data.boxplot(column='monthly_revenue')\n",
    "plt.show()"
   ]
  },
  {
   "cell_type": "markdown",
   "metadata": {
    "id": "KAFidcXZ0q1P"
   },
   "source": [
    "###### Los usuarios del plan Ultimate generan un ingreso promedio mensual superior al de los usuarios del plan Surf. Lo cual podría indicar que este plan atrae a usuarios con necesidades de consumo más altas o dispuestos a pagar más por un servicio con mayores beneficios. Esto podría sugerir que el plan Ultimate es más rentable para la empresa, ya que genera ingresos más altos por usuario."
   ]
  },
  {
   "cell_type": "markdown",
   "metadata": {
    "id": "ajJ7VKeI0q1Q"
   },
   "source": [
    "## Prueba las hipótesis estadísticas"
   ]
  },
  {
   "cell_type": "code",
   "execution_count": 145,
   "metadata": {
    "id": "nFoPNlPq0q1R"
   },
   "outputs": [
    {
     "name": "stdout",
     "output_type": "stream",
     "text": [
      "Valor p: 3.363644868810144e-17\n",
      "Rechazamos la hipótesis nula: existe una diferencia significativa en los ingresos promedio.\n"
     ]
    }
   ],
   "source": [
    "# Prueba las hipótesis\n",
    "\n",
    "ultimate_revenues = data[data['plan_name'] == 'ultimate']['monthly_revenue']\n",
    "surf_revenues = data[data['plan_name'] == 'surf']['monthly_revenue']\n",
    "\n",
    "result = st.ttest_ind(ultimate_revenues, surf_revenues, equal_var=False)\n",
    "\n",
    "alpha = 0.05\n",
    "\n",
    "print(\"Valor p:\", result.pvalue)\n",
    "\n",
    "if result.pvalue < alpha:\n",
    "    print(\"Rechazamos la hipótesis nula: existe una diferencia significativa en los ingresos promedio.\")\n",
    "else:\n",
    "    print('No rechazamos la hipótesis nula: no hay evidencia suficiente para afirmar que los ingresos promedio son diferentes.')\n"
   ]
  },
  {
   "cell_type": "code",
   "execution_count": 146,
   "metadata": {
    "id": "Cqcj7wrZ0q1S",
    "scrolled": true
   },
   "outputs": [
    {
     "name": "stdout",
     "output_type": "stream",
     "text": [
      "Valor p: 0.013118130086619653\n",
      "Rechazamos la hipótesis nula: hay una diferencia significativa en los ingresos promedio\n"
     ]
    }
   ],
   "source": [
    "# Prueba las hipótesis\n",
    "ny_nj_income = data[data['city'] == 'New York-Newark-Jersey City, NY-NJ-PA MSA']['monthly_revenue']\n",
    "other_income = data[data['city'] != 'New York-Newark-Jersey City, NY-NJ-PA MSA']['monthly_revenue']\n",
    "\n",
    "# realizamos la prueba t\n",
    "result = st.ttest_ind(ny_nj_income, other_income, equal_var=False)\n",
    "\n",
    "alpha = 0.05\n",
    "\n",
    "# imprimimos el valor p\n",
    "print(\"Valor p:\", result.pvalue)\n",
    "\n",
    "# tomamos la decisión basada en el valor p\n",
    "if result.pvalue < alpha:\n",
    "    print('Rechazamos la hipótesis nula: hay una diferencia significativa en los ingresos promedio')\n",
    "else:\n",
    "    print(\"No se rechaza la hipótesis nula: no hay una diferencia significativa en los ingresos promedio.\")"
   ]
  },
  {
   "cell_type": "markdown",
   "metadata": {
    "id": "bbTR8UQO0q1T"
   },
   "source": [
    "## Conclusión general\n",
    "\n",
    "En este análisis, se encontraron diferencias notables en el comportamiento de los usuarios de los planes Surf y Ultimate. Aunque la duración promedio de las llamadas es similar en ambos planes, los usuarios de Ultimate tienden a enviar más mensajes y utilizar una cantidad ligeramente mayor de datos, lo que sugiere que tienen un uso más intensivo de los servicios. Además, el ingreso promedio mensual de los usuarios de Ultimate es más alto que el de Surf.\n",
    "\n",
    "Estos resultados indican que los usuarios del plan Ultimate podrían valorar más la variedad y el uso intensivo de los servicios que se ofrecen. Esta información es útil para tomar decisiones sobre posibles mejoras en los planes, como ajustar las características o los precios, para satisfacer mejor las necesidades de los diferentes grupos de usuarios. En general, entender el comportamiento de los usuarios ayuda a optimizar la oferta y aumentar la satisfacción del cliente."
   ]
  }
 ],
 "metadata": {
  "ExecuteTimeLog": [
   {
    "duration": 828,
    "start_time": "2021-11-16T09:21:11.304Z"
   },
   {
    "duration": 893,
    "start_time": "2021-11-16T09:21:17.728Z"
   },
   {
    "duration": 1150,
    "start_time": "2021-11-16T09:21:29.568Z"
   },
   {
    "duration": 3,
    "start_time": "2021-11-16T09:24:14.495Z"
   },
   {
    "duration": 120,
    "start_time": "2021-11-16T09:24:46.630Z"
   },
   {
    "duration": 3,
    "start_time": "2021-11-16T09:28:27.882Z"
   },
   {
    "duration": 4,
    "start_time": "2021-11-16T09:29:54.281Z"
   },
   {
    "duration": 3,
    "start_time": "2021-11-16T09:30:45.936Z"
   },
   {
    "duration": 4,
    "start_time": "2021-11-16T09:31:06.300Z"
   },
   {
    "duration": 113,
    "start_time": "2021-11-16T09:31:37.208Z"
   },
   {
    "duration": 143,
    "start_time": "2021-11-16T09:31:48.656Z"
   },
   {
    "duration": 98,
    "start_time": "2021-11-16T09:31:55.678Z"
   },
   {
    "duration": 3,
    "start_time": "2021-11-16T09:32:08.535Z"
   },
   {
    "duration": 111,
    "start_time": "2021-11-16T09:32:10.120Z"
   },
   {
    "duration": 3,
    "start_time": "2021-11-16T09:32:15.732Z"
   },
   {
    "duration": 4,
    "start_time": "2021-11-16T09:32:29.423Z"
   },
   {
    "duration": 3,
    "start_time": "2021-11-16T10:03:03.074Z"
   },
   {
    "duration": 3,
    "start_time": "2021-11-16T10:10:01.288Z"
   },
   {
    "duration": 3,
    "start_time": "2021-11-16T10:10:46.923Z"
   },
   {
    "duration": 121,
    "start_time": "2021-11-16T10:37:46.494Z"
   },
   {
    "duration": 125,
    "start_time": "2021-11-16T10:38:20.632Z"
   },
   {
    "duration": 112,
    "start_time": "2021-11-16T10:46:53.001Z"
   },
   {
    "duration": 110,
    "start_time": "2021-11-16T10:48:25.775Z"
   },
   {
    "duration": 3,
    "start_time": "2021-11-16T10:50:18.720Z"
   },
   {
    "duration": 4,
    "start_time": "2021-11-16T10:50:37.649Z"
   },
   {
    "duration": 2,
    "start_time": "2021-11-16T10:50:51.884Z"
   },
   {
    "duration": 3,
    "start_time": "2021-11-16T10:51:56.237Z"
   },
   {
    "duration": 101,
    "start_time": "2021-11-16T10:53:13.791Z"
   },
   {
    "duration": 3,
    "start_time": "2021-11-16T10:55:59.186Z"
   },
   {
    "duration": 3,
    "start_time": "2021-11-16T10:56:10.751Z"
   },
   {
    "duration": 3,
    "start_time": "2021-11-16T10:56:49.038Z"
   },
   {
    "duration": 3,
    "start_time": "2021-11-16T10:56:49.174Z"
   },
   {
    "duration": 4,
    "start_time": "2021-11-16T10:56:49.414Z"
   },
   {
    "duration": 3,
    "start_time": "2021-11-16T10:56:49.680Z"
   },
   {
    "duration": 3,
    "start_time": "2021-11-16T10:56:50.370Z"
   },
   {
    "duration": 114,
    "start_time": "2021-11-16T10:59:34.518Z"
   },
   {
    "duration": 3,
    "start_time": "2021-11-16T11:01:41.201Z"
   },
   {
    "duration": 116,
    "start_time": "2021-11-16T11:01:48.754Z"
   },
   {
    "duration": 3,
    "start_time": "2021-11-16T11:02:16.685Z"
   },
   {
    "duration": 3,
    "start_time": "2021-11-16T11:02:19.479Z"
   },
   {
    "duration": 3,
    "start_time": "2021-11-16T11:02:47.067Z"
   },
   {
    "duration": 3,
    "start_time": "2021-11-16T11:02:49.353Z"
   },
   {
    "duration": 3,
    "start_time": "2021-11-16T11:03:07.835Z"
   },
   {
    "duration": 3,
    "start_time": "2021-11-16T11:03:07.953Z"
   },
   {
    "duration": 112,
    "start_time": "2021-11-16T11:07:52.072Z"
   },
   {
    "duration": 187,
    "start_time": "2021-11-16T11:09:23.468Z"
   },
   {
    "duration": 4,
    "start_time": "2021-11-16T11:10:01.455Z"
   },
   {
    "duration": 3,
    "start_time": "2021-11-16T11:10:05.069Z"
   },
   {
    "duration": 4,
    "start_time": "2021-11-16T11:10:13.376Z"
   },
   {
    "duration": 3,
    "start_time": "2021-11-16T11:10:14.434Z"
   },
   {
    "duration": 3,
    "start_time": "2021-11-16T11:10:22.853Z"
   },
   {
    "duration": 4,
    "start_time": "2021-11-16T11:27:29.279Z"
   },
   {
    "duration": 4,
    "start_time": "2021-11-16T11:29:08.919Z"
   },
   {
    "duration": 118,
    "start_time": "2021-11-16T11:29:46.703Z"
   },
   {
    "duration": 437,
    "start_time": "2021-11-16T11:36:02.181Z"
   },
   {
    "duration": 157,
    "start_time": "2021-11-16T11:36:14.388Z"
   },
   {
    "duration": 207,
    "start_time": "2021-11-16T11:47:15.898Z"
   },
   {
    "duration": 3,
    "start_time": "2021-11-16T11:53:52.092Z"
   },
   {
    "duration": 3,
    "start_time": "2021-11-16T11:53:52.236Z"
   },
   {
    "duration": 3,
    "start_time": "2021-11-16T11:59:12.005Z"
   },
   {
    "duration": 112,
    "start_time": "2021-11-16T12:00:33.446Z"
   },
   {
    "duration": 3,
    "start_time": "2021-11-16T12:02:14.453Z"
   },
   {
    "duration": 3,
    "start_time": "2021-11-16T12:02:39.512Z"
   },
   {
    "duration": 106,
    "start_time": "2021-11-16T12:03:03.460Z"
   },
   {
    "duration": 3,
    "start_time": "2021-11-17T20:37:21.139Z"
   },
   {
    "duration": 3,
    "start_time": "2021-11-17T20:37:22.229Z"
   },
   {
    "duration": 3,
    "start_time": "2021-11-17T20:38:38.806Z"
   },
   {
    "duration": 3,
    "start_time": "2021-11-17T20:38:41.958Z"
   },
   {
    "duration": 3,
    "start_time": "2021-11-17T20:43:46.551Z"
   },
   {
    "duration": 4,
    "start_time": "2021-11-17T20:58:21.835Z"
   },
   {
    "duration": 3,
    "start_time": "2021-11-17T20:59:21.872Z"
   },
   {
    "duration": 4,
    "start_time": "2021-11-17T20:59:45.352Z"
   },
   {
    "duration": 4,
    "start_time": "2021-11-17T20:59:49.646Z"
   },
   {
    "duration": 159,
    "start_time": "2021-11-17T21:02:26.949Z"
   },
   {
    "duration": 3,
    "start_time": "2021-11-17T21:03:53.461Z"
   },
   {
    "duration": 3,
    "start_time": "2021-11-17T21:03:53.694Z"
   },
   {
    "duration": 3,
    "start_time": "2021-11-17T21:05:28.145Z"
   },
   {
    "duration": 116,
    "start_time": "2021-11-17T21:05:57.787Z"
   },
   {
    "duration": 3,
    "start_time": "2021-11-17T21:06:37.993Z"
   },
   {
    "duration": 3,
    "start_time": "2021-11-17T21:06:38.261Z"
   },
   {
    "duration": 3,
    "start_time": "2021-11-17T21:11:54.358Z"
   },
   {
    "duration": 3,
    "start_time": "2021-11-17T21:12:43.846Z"
   },
   {
    "duration": 4,
    "start_time": "2021-11-17T21:13:08.773Z"
   },
   {
    "duration": 3,
    "start_time": "2021-11-17T21:14:44.441Z"
   },
   {
    "duration": 3,
    "start_time": "2021-11-17T21:15:42.059Z"
   },
   {
    "duration": 4,
    "start_time": "2021-11-17T21:15:51.995Z"
   },
   {
    "duration": 3,
    "start_time": "2021-11-17T21:15:53.923Z"
   },
   {
    "duration": 3,
    "start_time": "2021-11-17T21:15:55.282Z"
   },
   {
    "duration": 3,
    "start_time": "2021-11-17T21:16:28.492Z"
   },
   {
    "duration": 3,
    "start_time": "2021-11-17T21:16:32.603Z"
   },
   {
    "duration": 3,
    "start_time": "2021-11-17T21:17:06.941Z"
   },
   {
    "duration": 98,
    "start_time": "2021-11-17T21:18:05.733Z"
   },
   {
    "duration": 4,
    "start_time": "2021-11-17T21:21:35.255Z"
   },
   {
    "duration": 3,
    "start_time": "2021-11-17T21:21:37.804Z"
   },
   {
    "duration": 4,
    "start_time": "2021-11-17T21:23:06.071Z"
   },
   {
    "duration": 3,
    "start_time": "2021-11-17T21:23:24.799Z"
   },
   {
    "duration": 3,
    "start_time": "2021-11-17T21:23:32.591Z"
   },
   {
    "duration": 98,
    "start_time": "2021-11-17T21:28:31.559Z"
   },
   {
    "duration": 3,
    "start_time": "2021-11-17T21:28:45.448Z"
   },
   {
    "duration": 3,
    "start_time": "2021-11-17T21:29:17.303Z"
   },
   {
    "duration": 3,
    "start_time": "2021-11-17T21:29:29.617Z"
   },
   {
    "duration": 3,
    "start_time": "2021-11-17T21:29:32.681Z"
   },
   {
    "duration": 3,
    "start_time": "2021-11-17T21:36:11.474Z"
   },
   {
    "duration": 3,
    "start_time": "2021-11-17T21:36:14.791Z"
   },
   {
    "duration": 3,
    "start_time": "2021-11-17T21:36:53.943Z"
   },
   {
    "duration": 3,
    "start_time": "2021-11-17T21:36:56.165Z"
   },
   {
    "duration": 4,
    "start_time": "2021-11-17T21:37:16.590Z"
   },
   {
    "duration": 3,
    "start_time": "2021-11-17T21:37:22.702Z"
   },
   {
    "duration": 4,
    "start_time": "2021-11-17T21:38:03.479Z"
   },
   {
    "duration": 3,
    "start_time": "2021-11-17T21:38:08.601Z"
   },
   {
    "duration": 3,
    "start_time": "2021-11-17T21:38:12.928Z"
   },
   {
    "duration": 3,
    "start_time": "2021-11-17T21:38:48.896Z"
   },
   {
    "duration": 2,
    "start_time": "2021-11-17T21:38:49.171Z"
   },
   {
    "duration": 4,
    "start_time": "2021-11-17T21:39:57.889Z"
   },
   {
    "duration": 3,
    "start_time": "2021-11-17T21:39:58.057Z"
   },
   {
    "duration": 3,
    "start_time": "2021-11-17T21:41:20.108Z"
   },
   {
    "duration": 3,
    "start_time": "2021-11-17T21:41:20.629Z"
   },
   {
    "duration": 3,
    "start_time": "2021-11-17T21:42:49.136Z"
   },
   {
    "duration": 3,
    "start_time": "2021-11-17T21:43:15.137Z"
   },
   {
    "duration": 4,
    "start_time": "2021-11-17T21:43:16.766Z"
   },
   {
    "duration": 4,
    "start_time": "2021-11-17T21:43:31.711Z"
   },
   {
    "duration": 3,
    "start_time": "2021-11-17T21:43:36.312Z"
   },
   {
    "duration": 4,
    "start_time": "2021-11-17T21:45:08.825Z"
   },
   {
    "duration": 4,
    "start_time": "2021-11-17T21:45:10.119Z"
   },
   {
    "duration": 4,
    "start_time": "2021-11-17T21:45:13.748Z"
   },
   {
    "duration": 3,
    "start_time": "2021-11-17T21:45:22.219Z"
   },
   {
    "duration": 3,
    "start_time": "2021-11-17T21:45:33.412Z"
   },
   {
    "duration": 2,
    "start_time": "2021-11-17T21:46:01.885Z"
   },
   {
    "duration": 3,
    "start_time": "2021-11-17T21:46:03.628Z"
   },
   {
    "duration": 107,
    "start_time": "2021-11-17T21:47:32.512Z"
   },
   {
    "duration": 103,
    "start_time": "2021-11-17T21:50:36.243Z"
   },
   {
    "duration": 3,
    "start_time": "2021-11-18T06:28:31.440Z"
   },
   {
    "duration": 3,
    "start_time": "2021-11-18T06:29:00.168Z"
   },
   {
    "duration": 3,
    "start_time": "2021-11-18T06:31:27.008Z"
   },
   {
    "duration": 2,
    "start_time": "2021-11-18T06:35:34.288Z"
   },
   {
    "duration": 2,
    "start_time": "2021-11-18T06:38:04.527Z"
   },
   {
    "duration": 8,
    "start_time": "2024-10-23T07:23:12.009Z"
   },
   {
    "duration": 3,
    "start_time": "2024-10-23T07:23:36.612Z"
   },
   {
    "duration": 6,
    "start_time": "2024-10-23T07:23:42.630Z"
   },
   {
    "duration": 2,
    "start_time": "2024-10-23T07:23:42.638Z"
   },
   {
    "duration": 2,
    "start_time": "2024-10-23T07:23:42.643Z"
   },
   {
    "duration": 3,
    "start_time": "2024-10-23T07:23:42.646Z"
   },
   {
    "duration": 2,
    "start_time": "2024-10-23T07:23:42.651Z"
   },
   {
    "duration": 3,
    "start_time": "2024-10-23T07:23:42.655Z"
   },
   {
    "duration": 3,
    "start_time": "2024-10-23T07:23:42.659Z"
   },
   {
    "duration": 4,
    "start_time": "2024-10-23T07:23:42.663Z"
   },
   {
    "duration": 3,
    "start_time": "2024-10-23T07:23:42.668Z"
   },
   {
    "duration": 2,
    "start_time": "2024-10-23T07:23:42.673Z"
   },
   {
    "duration": 3,
    "start_time": "2024-10-23T07:23:42.677Z"
   },
   {
    "duration": 3,
    "start_time": "2024-10-23T07:23:42.709Z"
   },
   {
    "duration": 3,
    "start_time": "2024-10-23T07:23:42.713Z"
   },
   {
    "duration": 2,
    "start_time": "2024-10-23T07:23:42.718Z"
   },
   {
    "duration": 2,
    "start_time": "2024-10-23T07:23:42.723Z"
   },
   {
    "duration": 2,
    "start_time": "2024-10-23T07:23:42.727Z"
   },
   {
    "duration": 2,
    "start_time": "2024-10-23T07:23:42.731Z"
   },
   {
    "duration": 3,
    "start_time": "2024-10-23T07:23:42.734Z"
   },
   {
    "duration": 3,
    "start_time": "2024-10-23T07:23:42.739Z"
   },
   {
    "duration": 2,
    "start_time": "2024-10-23T07:23:42.744Z"
   },
   {
    "duration": 2,
    "start_time": "2024-10-23T07:23:42.748Z"
   },
   {
    "duration": 3,
    "start_time": "2024-10-23T07:23:42.752Z"
   },
   {
    "duration": 4,
    "start_time": "2024-10-23T07:23:42.756Z"
   },
   {
    "duration": 3,
    "start_time": "2024-10-23T07:23:42.761Z"
   },
   {
    "duration": 3,
    "start_time": "2024-10-23T07:23:42.809Z"
   },
   {
    "duration": 2,
    "start_time": "2024-10-23T07:23:42.814Z"
   },
   {
    "duration": 2,
    "start_time": "2024-10-23T07:23:42.818Z"
   },
   {
    "duration": 2,
    "start_time": "2024-10-23T07:23:42.823Z"
   },
   {
    "duration": 2474,
    "start_time": "2024-10-23T07:24:40.805Z"
   },
   {
    "duration": 16,
    "start_time": "2024-10-23T07:26:43.537Z"
   },
   {
    "duration": 215,
    "start_time": "2024-10-23T07:28:41.559Z"
   },
   {
    "duration": 13,
    "start_time": "2024-10-23T07:28:49.326Z"
   },
   {
    "duration": 10,
    "start_time": "2024-10-23T07:28:58.762Z"
   },
   {
    "duration": 10,
    "start_time": "2024-10-23T07:29:07.906Z"
   },
   {
    "duration": 12,
    "start_time": "2024-10-23T07:29:14.866Z"
   },
   {
    "duration": 158,
    "start_time": "2024-10-23T07:29:32.381Z"
   },
   {
    "duration": 2,
    "start_time": "2024-10-23T07:29:56.472Z"
   },
   {
    "duration": 158,
    "start_time": "2024-10-23T07:33:28.305Z"
   },
   {
    "duration": 9,
    "start_time": "2024-10-23T07:34:32.877Z"
   },
   {
    "duration": 7,
    "start_time": "2024-10-23T07:34:38.479Z"
   },
   {
    "duration": 9,
    "start_time": "2024-10-23T07:35:00.100Z"
   },
   {
    "duration": 5,
    "start_time": "2024-10-23T07:35:08.051Z"
   },
   {
    "duration": 7,
    "start_time": "2024-10-23T07:35:20.523Z"
   },
   {
    "duration": 5,
    "start_time": "2024-10-23T07:35:30.508Z"
   },
   {
    "duration": 9,
    "start_time": "2024-10-23T07:35:37.887Z"
   },
   {
    "duration": 8,
    "start_time": "2024-10-23T07:35:47.484Z"
   },
   {
    "duration": 13,
    "start_time": "2024-10-23T07:35:49.764Z"
   },
   {
    "duration": 8,
    "start_time": "2024-10-23T08:07:22.806Z"
   },
   {
    "duration": 802,
    "start_time": "2024-10-23T08:07:34.232Z"
   },
   {
    "duration": 165,
    "start_time": "2024-10-23T08:07:35.037Z"
   },
   {
    "duration": 9,
    "start_time": "2024-10-23T08:07:35.204Z"
   },
   {
    "duration": 9,
    "start_time": "2024-10-23T08:07:35.215Z"
   },
   {
    "duration": 2,
    "start_time": "2024-10-23T08:07:35.226Z"
   },
   {
    "duration": 1,
    "start_time": "2024-10-23T08:07:35.231Z"
   },
   {
    "duration": 3,
    "start_time": "2024-10-23T08:07:35.234Z"
   },
   {
    "duration": 2,
    "start_time": "2024-10-23T08:07:35.238Z"
   },
   {
    "duration": 2,
    "start_time": "2024-10-23T08:07:35.242Z"
   },
   {
    "duration": 2,
    "start_time": "2024-10-23T08:07:35.248Z"
   },
   {
    "duration": 2,
    "start_time": "2024-10-23T08:07:35.252Z"
   },
   {
    "duration": 2,
    "start_time": "2024-10-23T08:07:35.256Z"
   },
   {
    "duration": 51,
    "start_time": "2024-10-23T08:07:35.259Z"
   },
   {
    "duration": 2,
    "start_time": "2024-10-23T08:07:35.312Z"
   },
   {
    "duration": 2,
    "start_time": "2024-10-23T08:07:35.316Z"
   },
   {
    "duration": 3,
    "start_time": "2024-10-23T08:07:35.320Z"
   },
   {
    "duration": 2,
    "start_time": "2024-10-23T08:07:35.325Z"
   },
   {
    "duration": 3,
    "start_time": "2024-10-23T08:07:35.328Z"
   },
   {
    "duration": 2,
    "start_time": "2024-10-23T08:07:35.332Z"
   },
   {
    "duration": 2,
    "start_time": "2024-10-23T08:07:35.336Z"
   },
   {
    "duration": 2,
    "start_time": "2024-10-23T08:07:35.340Z"
   },
   {
    "duration": 2,
    "start_time": "2024-10-23T08:07:35.344Z"
   },
   {
    "duration": 2,
    "start_time": "2024-10-23T08:07:35.348Z"
   },
   {
    "duration": 2,
    "start_time": "2024-10-23T08:07:35.352Z"
   },
   {
    "duration": 53,
    "start_time": "2024-10-23T08:07:35.355Z"
   },
   {
    "duration": 3,
    "start_time": "2024-10-23T08:07:35.410Z"
   },
   {
    "duration": 3,
    "start_time": "2024-10-23T08:07:35.414Z"
   },
   {
    "duration": 2,
    "start_time": "2024-10-23T08:07:35.420Z"
   },
   {
    "duration": 8,
    "start_time": "2024-10-23T08:07:42.008Z"
   },
   {
    "duration": 2,
    "start_time": "2024-10-23T08:18:08.264Z"
   },
   {
    "duration": 155,
    "start_time": "2024-10-23T08:18:08.269Z"
   },
   {
    "duration": 8,
    "start_time": "2024-10-23T08:18:08.426Z"
   },
   {
    "duration": 9,
    "start_time": "2024-10-23T08:28:46.806Z"
   },
   {
    "duration": 14,
    "start_time": "2024-10-23T08:28:55.798Z"
   },
   {
    "duration": 12,
    "start_time": "2024-10-23T08:29:09.760Z"
   },
   {
    "duration": 8,
    "start_time": "2024-10-23T08:29:19.869Z"
   },
   {
    "duration": 9,
    "start_time": "2024-10-23T08:29:24.873Z"
   },
   {
    "duration": 120,
    "start_time": "2024-10-23T08:32:33.690Z"
   },
   {
    "duration": 267,
    "start_time": "2024-10-23T08:34:29.214Z"
   },
   {
    "duration": 5,
    "start_time": "2024-10-23T08:34:50.281Z"
   },
   {
    "duration": 19,
    "start_time": "2024-10-23T08:34:57.646Z"
   },
   {
    "duration": 9,
    "start_time": "2024-10-23T08:35:02.663Z"
   },
   {
    "duration": 409,
    "start_time": "2024-10-23T08:36:58.749Z"
   },
   {
    "duration": 45,
    "start_time": "2024-10-23T08:37:34.578Z"
   },
   {
    "duration": 12,
    "start_time": "2024-10-23T08:37:54.522Z"
   },
   {
    "duration": 13,
    "start_time": "2024-10-23T08:38:03.848Z"
   },
   {
    "duration": 3,
    "start_time": "2024-10-23T08:38:15.290Z"
   },
   {
    "duration": 167,
    "start_time": "2024-10-23T08:38:15.295Z"
   },
   {
    "duration": 8,
    "start_time": "2024-10-23T08:38:15.464Z"
   },
   {
    "duration": 8,
    "start_time": "2024-10-23T08:38:15.474Z"
   },
   {
    "duration": 28,
    "start_time": "2024-10-23T08:38:15.483Z"
   },
   {
    "duration": 8,
    "start_time": "2024-10-23T08:38:15.513Z"
   },
   {
    "duration": 11,
    "start_time": "2024-10-23T08:38:15.522Z"
   },
   {
    "duration": 2,
    "start_time": "2024-10-23T08:38:15.535Z"
   },
   {
    "duration": 2,
    "start_time": "2024-10-23T08:38:15.540Z"
   },
   {
    "duration": 4,
    "start_time": "2024-10-23T08:38:15.544Z"
   },
   {
    "duration": 3,
    "start_time": "2024-10-23T08:38:15.549Z"
   },
   {
    "duration": 3,
    "start_time": "2024-10-23T08:38:15.553Z"
   },
   {
    "duration": 2,
    "start_time": "2024-10-23T08:38:15.558Z"
   },
   {
    "duration": 3,
    "start_time": "2024-10-23T08:38:15.561Z"
   },
   {
    "duration": 2,
    "start_time": "2024-10-23T08:38:15.608Z"
   },
   {
    "duration": 3,
    "start_time": "2024-10-23T08:38:15.612Z"
   },
   {
    "duration": 2,
    "start_time": "2024-10-23T08:38:15.617Z"
   },
   {
    "duration": 3,
    "start_time": "2024-10-23T08:38:15.620Z"
   },
   {
    "duration": 2,
    "start_time": "2024-10-23T08:38:15.625Z"
   },
   {
    "duration": 2,
    "start_time": "2024-10-23T08:38:15.629Z"
   },
   {
    "duration": 3,
    "start_time": "2024-10-23T08:38:15.633Z"
   },
   {
    "duration": 2,
    "start_time": "2024-10-23T08:38:15.638Z"
   },
   {
    "duration": 3,
    "start_time": "2024-10-23T08:38:15.641Z"
   },
   {
    "duration": 2,
    "start_time": "2024-10-23T08:38:15.647Z"
   },
   {
    "duration": 2,
    "start_time": "2024-10-23T08:38:15.651Z"
   },
   {
    "duration": 3,
    "start_time": "2024-10-23T08:38:15.655Z"
   },
   {
    "duration": 3,
    "start_time": "2024-10-23T08:38:15.659Z"
   },
   {
    "duration": 48,
    "start_time": "2024-10-23T08:38:15.663Z"
   },
   {
    "duration": 2,
    "start_time": "2024-10-23T08:38:15.713Z"
   },
   {
    "duration": 17,
    "start_time": "2024-10-23T08:42:59.266Z"
   },
   {
    "duration": 14,
    "start_time": "2024-10-23T08:43:15.222Z"
   },
   {
    "duration": 30,
    "start_time": "2024-10-23T08:45:41.078Z"
   },
   {
    "duration": 12,
    "start_time": "2024-10-23T08:46:16.786Z"
   },
   {
    "duration": 6,
    "start_time": "2024-10-23T08:46:31.630Z"
   },
   {
    "duration": 15,
    "start_time": "2024-10-23T08:48:40.259Z"
   },
   {
    "duration": 9,
    "start_time": "2024-10-23T08:49:01.958Z"
   },
   {
    "duration": 6,
    "start_time": "2024-10-23T08:49:46.770Z"
   },
   {
    "duration": 10,
    "start_time": "2024-10-23T08:49:51.289Z"
   },
   {
    "duration": 9,
    "start_time": "2024-10-23T08:49:55.554Z"
   },
   {
    "duration": 6,
    "start_time": "2024-10-23T08:49:59.487Z"
   },
   {
    "duration": 9,
    "start_time": "2024-10-23T08:50:00.602Z"
   },
   {
    "duration": 3,
    "start_time": "2024-10-23T08:50:03.855Z"
   },
   {
    "duration": 167,
    "start_time": "2024-10-23T08:50:03.861Z"
   },
   {
    "duration": 10,
    "start_time": "2024-10-23T08:50:04.030Z"
   },
   {
    "duration": 7,
    "start_time": "2024-10-23T08:50:04.043Z"
   },
   {
    "duration": 9,
    "start_time": "2024-10-23T08:50:04.051Z"
   },
   {
    "duration": 9,
    "start_time": "2024-10-23T08:50:04.061Z"
   },
   {
    "duration": 6,
    "start_time": "2024-10-23T08:50:04.071Z"
   },
   {
    "duration": 35,
    "start_time": "2024-10-23T08:50:04.079Z"
   },
   {
    "duration": 2,
    "start_time": "2024-10-23T08:50:04.117Z"
   },
   {
    "duration": 2,
    "start_time": "2024-10-23T08:50:04.122Z"
   },
   {
    "duration": 2,
    "start_time": "2024-10-23T08:50:04.126Z"
   },
   {
    "duration": 3,
    "start_time": "2024-10-23T08:50:04.130Z"
   },
   {
    "duration": 2,
    "start_time": "2024-10-23T08:50:04.135Z"
   },
   {
    "duration": 3,
    "start_time": "2024-10-23T08:50:04.139Z"
   },
   {
    "duration": 6,
    "start_time": "2024-10-23T08:50:04.143Z"
   },
   {
    "duration": 3,
    "start_time": "2024-10-23T08:50:04.150Z"
   },
   {
    "duration": 3,
    "start_time": "2024-10-23T08:50:04.154Z"
   },
   {
    "duration": 3,
    "start_time": "2024-10-23T08:50:04.158Z"
   },
   {
    "duration": 46,
    "start_time": "2024-10-23T08:50:04.163Z"
   },
   {
    "duration": 4,
    "start_time": "2024-10-23T08:50:04.210Z"
   },
   {
    "duration": 3,
    "start_time": "2024-10-23T08:50:04.215Z"
   },
   {
    "duration": 3,
    "start_time": "2024-10-23T08:50:04.220Z"
   },
   {
    "duration": 3,
    "start_time": "2024-10-23T08:50:04.224Z"
   },
   {
    "duration": 2,
    "start_time": "2024-10-23T08:50:04.231Z"
   },
   {
    "duration": 3,
    "start_time": "2024-10-23T08:50:04.234Z"
   },
   {
    "duration": 2,
    "start_time": "2024-10-23T08:50:04.239Z"
   },
   {
    "duration": 4,
    "start_time": "2024-10-23T08:50:04.243Z"
   },
   {
    "duration": 4,
    "start_time": "2024-10-23T08:50:04.248Z"
   },
   {
    "duration": 2,
    "start_time": "2024-10-23T08:50:04.254Z"
   },
   {
    "duration": 2,
    "start_time": "2024-10-23T08:50:04.258Z"
   },
   {
    "duration": 4,
    "start_time": "2024-10-23T08:54:47.450Z"
   },
   {
    "duration": 3,
    "start_time": "2024-10-23T08:54:53.433Z"
   },
   {
    "duration": 17,
    "start_time": "2024-10-23T08:55:03.251Z"
   },
   {
    "duration": 11,
    "start_time": "2024-10-23T08:55:12.288Z"
   },
   {
    "duration": 4,
    "start_time": "2024-10-23T08:55:46.784Z"
   },
   {
    "duration": 11,
    "start_time": "2024-10-23T08:55:59.455Z"
   },
   {
    "duration": 17,
    "start_time": "2024-10-23T08:56:57.398Z"
   },
   {
    "duration": 15,
    "start_time": "2024-10-23T08:57:07.861Z"
   },
   {
    "duration": 11,
    "start_time": "2024-10-23T08:57:23.433Z"
   },
   {
    "duration": 16,
    "start_time": "2024-10-23T08:58:47.568Z"
   },
   {
    "duration": 8,
    "start_time": "2024-10-23T08:58:55.507Z"
   },
   {
    "duration": 10,
    "start_time": "2024-10-23T09:00:39.356Z"
   },
   {
    "duration": 7,
    "start_time": "2024-10-23T09:00:51.339Z"
   },
   {
    "duration": 22,
    "start_time": "2024-10-23T09:04:42.534Z"
   },
   {
    "duration": 20,
    "start_time": "2024-10-23T09:04:48.098Z"
   },
   {
    "duration": 5,
    "start_time": "2024-10-23T09:11:15.607Z"
   },
   {
    "duration": 15,
    "start_time": "2024-10-23T09:11:19.963Z"
   },
   {
    "duration": 13,
    "start_time": "2024-10-23T09:11:33.898Z"
   },
   {
    "duration": 3,
    "start_time": "2024-10-23T09:11:52.836Z"
   },
   {
    "duration": 151,
    "start_time": "2024-10-23T09:11:52.842Z"
   },
   {
    "duration": 9,
    "start_time": "2024-10-23T09:11:52.996Z"
   },
   {
    "duration": 7,
    "start_time": "2024-10-23T09:11:53.008Z"
   },
   {
    "duration": 8,
    "start_time": "2024-10-23T09:11:53.018Z"
   },
   {
    "duration": 9,
    "start_time": "2024-10-23T09:11:53.028Z"
   },
   {
    "duration": 5,
    "start_time": "2024-10-23T09:11:53.039Z"
   },
   {
    "duration": 11,
    "start_time": "2024-10-23T09:11:53.045Z"
   },
   {
    "duration": 16,
    "start_time": "2024-10-23T09:11:53.057Z"
   },
   {
    "duration": 36,
    "start_time": "2024-10-23T09:11:53.075Z"
   },
   {
    "duration": 23,
    "start_time": "2024-10-23T09:11:53.113Z"
   },
   {
    "duration": 10,
    "start_time": "2024-10-23T09:11:53.138Z"
   },
   {
    "duration": 2,
    "start_time": "2024-10-23T09:11:53.152Z"
   },
   {
    "duration": 3,
    "start_time": "2024-10-23T09:11:53.155Z"
   },
   {
    "duration": 2,
    "start_time": "2024-10-23T09:11:53.160Z"
   },
   {
    "duration": 3,
    "start_time": "2024-10-23T09:11:53.164Z"
   },
   {
    "duration": 2,
    "start_time": "2024-10-23T09:11:53.210Z"
   },
   {
    "duration": 2,
    "start_time": "2024-10-23T09:11:53.214Z"
   },
   {
    "duration": 3,
    "start_time": "2024-10-23T09:11:53.218Z"
   },
   {
    "duration": 3,
    "start_time": "2024-10-23T09:11:53.222Z"
   },
   {
    "duration": 2,
    "start_time": "2024-10-23T09:11:53.227Z"
   },
   {
    "duration": 3,
    "start_time": "2024-10-23T09:11:53.231Z"
   },
   {
    "duration": 3,
    "start_time": "2024-10-23T09:11:53.235Z"
   },
   {
    "duration": 2,
    "start_time": "2024-10-23T09:11:53.240Z"
   },
   {
    "duration": 3,
    "start_time": "2024-10-23T09:11:53.244Z"
   },
   {
    "duration": 3,
    "start_time": "2024-10-23T09:11:53.248Z"
   },
   {
    "duration": 3,
    "start_time": "2024-10-23T09:11:53.252Z"
   },
   {
    "duration": 3,
    "start_time": "2024-10-23T09:11:53.257Z"
   },
   {
    "duration": 3,
    "start_time": "2024-10-23T09:11:53.261Z"
   },
   {
    "duration": 2,
    "start_time": "2024-10-23T09:11:53.309Z"
   },
   {
    "duration": 3,
    "start_time": "2024-10-23T09:11:53.313Z"
   },
   {
    "duration": 2,
    "start_time": "2024-10-23T09:11:53.318Z"
   },
   {
    "duration": 9,
    "start_time": "2024-10-23T09:12:08.884Z"
   },
   {
    "duration": 9,
    "start_time": "2024-10-23T09:16:56.491Z"
   },
   {
    "duration": 17,
    "start_time": "2024-10-23T09:17:29.755Z"
   },
   {
    "duration": 7,
    "start_time": "2024-10-23T09:18:09.613Z"
   },
   {
    "duration": 23,
    "start_time": "2024-10-23T09:19:53.228Z"
   },
   {
    "duration": 16,
    "start_time": "2024-10-23T09:19:58.826Z"
   },
   {
    "duration": 18,
    "start_time": "2024-10-23T09:20:17.417Z"
   },
   {
    "duration": 8,
    "start_time": "2024-10-23T09:25:43.260Z"
   },
   {
    "duration": 14,
    "start_time": "2024-10-23T09:25:53.187Z"
   },
   {
    "duration": 14,
    "start_time": "2024-10-23T09:27:06.547Z"
   },
   {
    "duration": 13,
    "start_time": "2024-10-23T09:27:19.278Z"
   },
   {
    "duration": 14,
    "start_time": "2024-10-23T09:27:40.930Z"
   },
   {
    "duration": 3,
    "start_time": "2024-10-23T09:28:07.065Z"
   },
   {
    "duration": 178,
    "start_time": "2024-10-23T09:28:07.070Z"
   },
   {
    "duration": 8,
    "start_time": "2024-10-23T09:28:07.250Z"
   },
   {
    "duration": 6,
    "start_time": "2024-10-23T09:28:07.261Z"
   },
   {
    "duration": 11,
    "start_time": "2024-10-23T09:28:07.269Z"
   },
   {
    "duration": 30,
    "start_time": "2024-10-23T09:28:07.282Z"
   },
   {
    "duration": 7,
    "start_time": "2024-10-23T09:28:07.314Z"
   },
   {
    "duration": 11,
    "start_time": "2024-10-23T09:28:07.323Z"
   },
   {
    "duration": 14,
    "start_time": "2024-10-23T09:28:07.337Z"
   },
   {
    "duration": 7,
    "start_time": "2024-10-23T09:28:07.353Z"
   },
   {
    "duration": 55,
    "start_time": "2024-10-23T09:28:07.362Z"
   },
   {
    "duration": 8,
    "start_time": "2024-10-23T09:28:07.421Z"
   },
   {
    "duration": 11,
    "start_time": "2024-10-23T09:28:07.431Z"
   },
   {
    "duration": 7,
    "start_time": "2024-10-23T09:28:07.444Z"
   },
   {
    "duration": 18,
    "start_time": "2024-10-23T09:28:07.452Z"
   },
   {
    "duration": 42,
    "start_time": "2024-10-23T09:28:07.471Z"
   },
   {
    "duration": 3,
    "start_time": "2024-10-23T09:28:07.514Z"
   },
   {
    "duration": 3,
    "start_time": "2024-10-23T09:28:07.519Z"
   },
   {
    "duration": 3,
    "start_time": "2024-10-23T09:28:07.524Z"
   },
   {
    "duration": 3,
    "start_time": "2024-10-23T09:28:07.528Z"
   },
   {
    "duration": 3,
    "start_time": "2024-10-23T09:28:07.532Z"
   },
   {
    "duration": 2,
    "start_time": "2024-10-23T09:28:07.538Z"
   },
   {
    "duration": 3,
    "start_time": "2024-10-23T09:28:07.542Z"
   },
   {
    "duration": 2,
    "start_time": "2024-10-23T09:28:07.549Z"
   },
   {
    "duration": 3,
    "start_time": "2024-10-23T09:28:07.552Z"
   },
   {
    "duration": 3,
    "start_time": "2024-10-23T09:28:07.556Z"
   },
   {
    "duration": 3,
    "start_time": "2024-10-23T09:28:07.560Z"
   },
   {
    "duration": 44,
    "start_time": "2024-10-23T09:28:07.565Z"
   },
   {
    "duration": 3,
    "start_time": "2024-10-23T09:28:07.611Z"
   },
   {
    "duration": 4,
    "start_time": "2024-10-23T09:28:07.616Z"
   },
   {
    "duration": 3,
    "start_time": "2024-10-23T09:28:07.622Z"
   },
   {
    "duration": 4,
    "start_time": "2024-10-23T09:28:07.626Z"
   },
   {
    "duration": 3,
    "start_time": "2024-10-23T09:28:07.631Z"
   },
   {
    "duration": 4,
    "start_time": "2024-10-23T09:28:07.635Z"
   },
   {
    "duration": 14,
    "start_time": "2024-10-23T09:32:20.232Z"
   },
   {
    "duration": 7,
    "start_time": "2024-10-23T09:32:43.412Z"
   },
   {
    "duration": 91,
    "start_time": "2024-10-23T09:35:10.298Z"
   },
   {
    "duration": 23,
    "start_time": "2024-10-23T09:35:50.299Z"
   },
   {
    "duration": 8,
    "start_time": "2024-10-23T09:38:19.859Z"
   },
   {
    "duration": 9,
    "start_time": "2024-10-23T09:45:36.777Z"
   },
   {
    "duration": 14,
    "start_time": "2024-10-23T09:45:52.969Z"
   },
   {
    "duration": 14,
    "start_time": "2024-10-23T09:46:06.775Z"
   },
   {
    "duration": 21,
    "start_time": "2024-10-23T09:46:32.484Z"
   },
   {
    "duration": 15,
    "start_time": "2024-10-23T09:46:56.124Z"
   },
   {
    "duration": 4,
    "start_time": "2024-10-23T09:50:53.059Z"
   },
   {
    "duration": 4,
    "start_time": "2024-10-23T09:51:00.820Z"
   },
   {
    "duration": 4,
    "start_time": "2024-10-23T09:51:28.576Z"
   },
   {
    "duration": 26,
    "start_time": "2024-10-23T09:52:39.666Z"
   },
   {
    "duration": 26,
    "start_time": "2024-10-23T09:53:05.535Z"
   },
   {
    "duration": 12,
    "start_time": "2024-10-23T09:57:55.631Z"
   },
   {
    "duration": 3,
    "start_time": "2024-10-23T09:58:24.002Z"
   },
   {
    "duration": 168,
    "start_time": "2024-10-23T09:58:24.007Z"
   },
   {
    "duration": 9,
    "start_time": "2024-10-23T09:58:24.177Z"
   },
   {
    "duration": 7,
    "start_time": "2024-10-23T09:58:24.187Z"
   },
   {
    "duration": 8,
    "start_time": "2024-10-23T09:58:24.208Z"
   },
   {
    "duration": 8,
    "start_time": "2024-10-23T09:58:24.218Z"
   },
   {
    "duration": 5,
    "start_time": "2024-10-23T09:58:24.228Z"
   },
   {
    "duration": 11,
    "start_time": "2024-10-23T09:58:24.234Z"
   },
   {
    "duration": 14,
    "start_time": "2024-10-23T09:58:24.247Z"
   },
   {
    "duration": 45,
    "start_time": "2024-10-23T09:58:24.263Z"
   },
   {
    "duration": 24,
    "start_time": "2024-10-23T09:58:24.312Z"
   },
   {
    "duration": 8,
    "start_time": "2024-10-23T09:58:24.338Z"
   },
   {
    "duration": 11,
    "start_time": "2024-10-23T09:58:24.347Z"
   },
   {
    "duration": 7,
    "start_time": "2024-10-23T09:58:24.360Z"
   },
   {
    "duration": 46,
    "start_time": "2024-10-23T09:58:24.368Z"
   },
   {
    "duration": 13,
    "start_time": "2024-10-23T09:58:24.416Z"
   },
   {
    "duration": 15,
    "start_time": "2024-10-23T09:58:24.430Z"
   },
   {
    "duration": 7,
    "start_time": "2024-10-23T09:58:24.447Z"
   },
   {
    "duration": 20,
    "start_time": "2024-10-23T09:58:24.456Z"
   },
   {
    "duration": 36,
    "start_time": "2024-10-23T09:58:24.479Z"
   },
   {
    "duration": 26,
    "start_time": "2024-10-23T09:58:24.517Z"
   },
   {
    "duration": 2,
    "start_time": "2024-10-23T09:58:24.545Z"
   },
   {
    "duration": 3,
    "start_time": "2024-10-23T09:58:24.548Z"
   },
   {
    "duration": 2,
    "start_time": "2024-10-23T09:58:24.553Z"
   },
   {
    "duration": 3,
    "start_time": "2024-10-23T09:58:24.557Z"
   },
   {
    "duration": 2,
    "start_time": "2024-10-23T09:58:24.562Z"
   },
   {
    "duration": 43,
    "start_time": "2024-10-23T09:58:24.566Z"
   },
   {
    "duration": 3,
    "start_time": "2024-10-23T09:58:24.610Z"
   },
   {
    "duration": 1,
    "start_time": "2024-10-23T09:58:24.618Z"
   },
   {
    "duration": 3,
    "start_time": "2024-10-23T09:58:24.621Z"
   },
   {
    "duration": 3,
    "start_time": "2024-10-23T09:58:24.625Z"
   },
   {
    "duration": 2,
    "start_time": "2024-10-23T09:58:24.630Z"
   },
   {
    "duration": 3,
    "start_time": "2024-10-23T09:58:24.634Z"
   },
   {
    "duration": 3,
    "start_time": "2024-10-23T09:58:24.638Z"
   },
   {
    "duration": 3,
    "start_time": "2024-10-23T09:58:24.642Z"
   },
   {
    "duration": 8,
    "start_time": "2024-10-23T09:59:32.487Z"
   },
   {
    "duration": 3,
    "start_time": "2024-10-23T09:59:39.747Z"
   },
   {
    "duration": 173,
    "start_time": "2024-10-23T09:59:39.752Z"
   },
   {
    "duration": 9,
    "start_time": "2024-10-23T09:59:39.927Z"
   },
   {
    "duration": 8,
    "start_time": "2024-10-23T09:59:39.938Z"
   },
   {
    "duration": 7,
    "start_time": "2024-10-23T09:59:39.948Z"
   },
   {
    "duration": 8,
    "start_time": "2024-10-23T09:59:39.957Z"
   },
   {
    "duration": 5,
    "start_time": "2024-10-23T09:59:39.967Z"
   },
   {
    "duration": 40,
    "start_time": "2024-10-23T09:59:39.973Z"
   },
   {
    "duration": 15,
    "start_time": "2024-10-23T09:59:40.016Z"
   },
   {
    "duration": 7,
    "start_time": "2024-10-23T09:59:40.033Z"
   },
   {
    "duration": 24,
    "start_time": "2024-10-23T09:59:40.042Z"
   },
   {
    "duration": 10,
    "start_time": "2024-10-23T09:59:40.067Z"
   },
   {
    "duration": 39,
    "start_time": "2024-10-23T09:59:40.080Z"
   },
   {
    "duration": 6,
    "start_time": "2024-10-23T09:59:40.121Z"
   },
   {
    "duration": 16,
    "start_time": "2024-10-23T09:59:40.128Z"
   },
   {
    "duration": 12,
    "start_time": "2024-10-23T09:59:40.146Z"
   },
   {
    "duration": 14,
    "start_time": "2024-10-23T09:59:40.160Z"
   },
   {
    "duration": 40,
    "start_time": "2024-10-23T09:59:40.175Z"
   },
   {
    "duration": 20,
    "start_time": "2024-10-23T09:59:40.216Z"
   },
   {
    "duration": 7,
    "start_time": "2024-10-23T09:59:40.238Z"
   },
   {
    "duration": 28,
    "start_time": "2024-10-23T09:59:40.247Z"
   },
   {
    "duration": 3,
    "start_time": "2024-10-23T09:59:40.277Z"
   },
   {
    "duration": 2,
    "start_time": "2024-10-23T09:59:40.308Z"
   },
   {
    "duration": 2,
    "start_time": "2024-10-23T09:59:40.312Z"
   },
   {
    "duration": 3,
    "start_time": "2024-10-23T09:59:40.316Z"
   },
   {
    "duration": 2,
    "start_time": "2024-10-23T09:59:40.321Z"
   },
   {
    "duration": 3,
    "start_time": "2024-10-23T09:59:40.325Z"
   },
   {
    "duration": 3,
    "start_time": "2024-10-23T09:59:40.329Z"
   },
   {
    "duration": 2,
    "start_time": "2024-10-23T09:59:40.334Z"
   },
   {
    "duration": 4,
    "start_time": "2024-10-23T09:59:40.337Z"
   },
   {
    "duration": 3,
    "start_time": "2024-10-23T09:59:40.342Z"
   },
   {
    "duration": 2,
    "start_time": "2024-10-23T09:59:40.347Z"
   },
   {
    "duration": 3,
    "start_time": "2024-10-23T09:59:40.351Z"
   },
   {
    "duration": 3,
    "start_time": "2024-10-23T09:59:40.355Z"
   },
   {
    "duration": 50,
    "start_time": "2024-10-23T09:59:40.360Z"
   },
   {
    "duration": 30,
    "start_time": "2024-10-23T10:00:02.657Z"
   },
   {
    "duration": 25,
    "start_time": "2024-10-23T10:00:23.598Z"
   },
   {
    "duration": 24,
    "start_time": "2024-10-23T10:01:05.439Z"
   },
   {
    "duration": 23,
    "start_time": "2024-10-23T10:01:14.190Z"
   },
   {
    "duration": 22,
    "start_time": "2024-10-23T10:01:23.463Z"
   },
   {
    "duration": 24,
    "start_time": "2024-10-23T10:01:30.456Z"
   },
   {
    "duration": 23,
    "start_time": "2024-10-23T10:01:43.825Z"
   },
   {
    "duration": 35,
    "start_time": "2024-10-23T10:01:50.023Z"
   },
   {
    "duration": 29,
    "start_time": "2024-10-23T10:01:53.756Z"
   },
   {
    "duration": 19,
    "start_time": "2024-10-23T10:02:46.077Z"
   },
   {
    "duration": 28,
    "start_time": "2024-10-23T10:02:57.041Z"
   },
   {
    "duration": 28,
    "start_time": "2024-10-23T10:03:18.434Z"
   },
   {
    "duration": 28,
    "start_time": "2024-10-23T10:05:52.806Z"
   },
   {
    "duration": 29,
    "start_time": "2024-10-23T10:06:10.525Z"
   },
   {
    "duration": 15,
    "start_time": "2024-10-23T10:11:46.500Z"
   },
   {
    "duration": 152,
    "start_time": "2024-10-23T10:12:07.978Z"
   },
   {
    "duration": 24,
    "start_time": "2024-10-23T10:12:16.436Z"
   },
   {
    "duration": 10,
    "start_time": "2024-10-23T10:12:40.221Z"
   },
   {
    "duration": 3,
    "start_time": "2024-10-23T10:13:11.751Z"
   },
   {
    "duration": 160,
    "start_time": "2024-10-23T10:13:11.756Z"
   },
   {
    "duration": 8,
    "start_time": "2024-10-23T10:13:11.918Z"
   },
   {
    "duration": 7,
    "start_time": "2024-10-23T10:13:11.928Z"
   },
   {
    "duration": 8,
    "start_time": "2024-10-23T10:13:11.937Z"
   },
   {
    "duration": 8,
    "start_time": "2024-10-23T10:13:11.947Z"
   },
   {
    "duration": 5,
    "start_time": "2024-10-23T10:13:11.956Z"
   },
   {
    "duration": 10,
    "start_time": "2024-10-23T10:13:11.963Z"
   },
   {
    "duration": 47,
    "start_time": "2024-10-23T10:13:11.975Z"
   },
   {
    "duration": 6,
    "start_time": "2024-10-23T10:13:12.024Z"
   },
   {
    "duration": 22,
    "start_time": "2024-10-23T10:13:12.035Z"
   },
   {
    "duration": 9,
    "start_time": "2024-10-23T10:13:12.059Z"
   },
   {
    "duration": 39,
    "start_time": "2024-10-23T10:13:12.070Z"
   },
   {
    "duration": 8,
    "start_time": "2024-10-23T10:13:12.111Z"
   },
   {
    "duration": 17,
    "start_time": "2024-10-23T10:13:12.121Z"
   },
   {
    "duration": 13,
    "start_time": "2024-10-23T10:13:12.139Z"
   },
   {
    "duration": 14,
    "start_time": "2024-10-23T10:13:12.153Z"
   },
   {
    "duration": 7,
    "start_time": "2024-10-23T10:13:12.169Z"
   },
   {
    "duration": 51,
    "start_time": "2024-10-23T10:13:12.177Z"
   },
   {
    "duration": 7,
    "start_time": "2024-10-23T10:13:12.230Z"
   },
   {
    "duration": 30,
    "start_time": "2024-10-23T10:13:12.239Z"
   },
   {
    "duration": 49,
    "start_time": "2024-10-23T10:13:12.271Z"
   },
   {
    "duration": 24,
    "start_time": "2024-10-23T10:13:12.321Z"
   },
   {
    "duration": 3,
    "start_time": "2024-10-23T10:13:12.347Z"
   },
   {
    "duration": 2,
    "start_time": "2024-10-23T10:13:12.352Z"
   },
   {
    "duration": 3,
    "start_time": "2024-10-23T10:13:12.356Z"
   },
   {
    "duration": 3,
    "start_time": "2024-10-23T10:13:12.360Z"
   },
   {
    "duration": 3,
    "start_time": "2024-10-23T10:13:12.365Z"
   },
   {
    "duration": 1,
    "start_time": "2024-10-23T10:13:12.372Z"
   },
   {
    "duration": 2,
    "start_time": "2024-10-23T10:13:12.409Z"
   },
   {
    "duration": 2,
    "start_time": "2024-10-23T10:13:12.413Z"
   },
   {
    "duration": 3,
    "start_time": "2024-10-23T10:13:12.417Z"
   },
   {
    "duration": 3,
    "start_time": "2024-10-23T10:13:12.421Z"
   },
   {
    "duration": 4,
    "start_time": "2024-10-23T10:13:12.425Z"
   },
   {
    "duration": 3,
    "start_time": "2024-10-23T10:13:12.430Z"
   },
   {
    "duration": 8,
    "start_time": "2024-10-23T10:13:37.086Z"
   },
   {
    "duration": 22,
    "start_time": "2024-10-23T10:13:57.629Z"
   },
   {
    "duration": 21,
    "start_time": "2024-10-23T10:14:39.345Z"
   },
   {
    "duration": 21,
    "start_time": "2024-10-23T10:14:47.361Z"
   },
   {
    "duration": 24,
    "start_time": "2024-10-23T10:14:55.309Z"
   },
   {
    "duration": 24,
    "start_time": "2024-10-23T10:17:42.283Z"
   },
   {
    "duration": 25,
    "start_time": "2024-10-23T10:17:54.171Z"
   },
   {
    "duration": 22,
    "start_time": "2024-10-23T10:19:35.026Z"
   },
   {
    "duration": 21,
    "start_time": "2024-10-23T10:19:47.133Z"
   },
   {
    "duration": 24,
    "start_time": "2024-10-23T10:20:08.064Z"
   },
   {
    "duration": 24,
    "start_time": "2024-10-23T10:20:53.923Z"
   },
   {
    "duration": 5,
    "start_time": "2024-10-23T10:23:15.924Z"
   },
   {
    "duration": 3,
    "start_time": "2024-10-23T10:23:19.475Z"
   },
   {
    "duration": 158,
    "start_time": "2024-10-23T10:23:19.480Z"
   },
   {
    "duration": 9,
    "start_time": "2024-10-23T10:23:19.639Z"
   },
   {
    "duration": 7,
    "start_time": "2024-10-23T10:23:19.649Z"
   },
   {
    "duration": 9,
    "start_time": "2024-10-23T10:23:19.659Z"
   },
   {
    "duration": 8,
    "start_time": "2024-10-23T10:23:19.670Z"
   },
   {
    "duration": 5,
    "start_time": "2024-10-23T10:23:19.709Z"
   },
   {
    "duration": 13,
    "start_time": "2024-10-23T10:23:19.716Z"
   },
   {
    "duration": 17,
    "start_time": "2024-10-23T10:23:19.731Z"
   },
   {
    "duration": 8,
    "start_time": "2024-10-23T10:23:19.750Z"
   },
   {
    "duration": 47,
    "start_time": "2024-10-23T10:23:19.762Z"
   },
   {
    "duration": 9,
    "start_time": "2024-10-23T10:23:19.811Z"
   },
   {
    "duration": 12,
    "start_time": "2024-10-23T10:23:19.824Z"
   },
   {
    "duration": 6,
    "start_time": "2024-10-23T10:23:19.837Z"
   },
   {
    "duration": 18,
    "start_time": "2024-10-23T10:23:19.844Z"
   },
   {
    "duration": 14,
    "start_time": "2024-10-23T10:23:19.863Z"
   },
   {
    "duration": 13,
    "start_time": "2024-10-23T10:23:19.909Z"
   },
   {
    "duration": 6,
    "start_time": "2024-10-23T10:23:19.924Z"
   },
   {
    "duration": 20,
    "start_time": "2024-10-23T10:23:19.932Z"
   },
   {
    "duration": 4,
    "start_time": "2024-10-23T10:23:19.953Z"
   },
   {
    "duration": 8,
    "start_time": "2024-10-23T10:23:19.959Z"
   },
   {
    "duration": 58,
    "start_time": "2024-10-23T10:23:19.970Z"
   },
   {
    "duration": 29,
    "start_time": "2024-10-23T10:23:20.030Z"
   },
   {
    "duration": 148,
    "start_time": "2024-10-23T10:23:20.061Z"
   },
   {
    "duration": 0,
    "start_time": "2024-10-23T10:23:20.211Z"
   },
   {
    "duration": 0,
    "start_time": "2024-10-23T10:23:20.211Z"
   },
   {
    "duration": 0,
    "start_time": "2024-10-23T10:23:20.213Z"
   },
   {
    "duration": 0,
    "start_time": "2024-10-23T10:23:20.213Z"
   },
   {
    "duration": 0,
    "start_time": "2024-10-23T10:23:20.214Z"
   },
   {
    "duration": 0,
    "start_time": "2024-10-23T10:23:20.215Z"
   },
   {
    "duration": 0,
    "start_time": "2024-10-23T10:23:20.216Z"
   },
   {
    "duration": 0,
    "start_time": "2024-10-23T10:23:20.217Z"
   },
   {
    "duration": 0,
    "start_time": "2024-10-23T10:23:20.219Z"
   },
   {
    "duration": 0,
    "start_time": "2024-10-23T10:23:20.220Z"
   },
   {
    "duration": 0,
    "start_time": "2024-10-23T10:23:20.221Z"
   },
   {
    "duration": 0,
    "start_time": "2024-10-23T10:23:20.222Z"
   },
   {
    "duration": 159,
    "start_time": "2024-10-23T10:23:46.702Z"
   },
   {
    "duration": 23,
    "start_time": "2024-10-23T10:23:53.861Z"
   },
   {
    "duration": 25,
    "start_time": "2024-10-23T10:24:02.773Z"
   },
   {
    "duration": 14,
    "start_time": "2024-10-23T10:25:01.083Z"
   },
   {
    "duration": 17,
    "start_time": "2024-10-23T10:25:25.773Z"
   },
   {
    "duration": 13,
    "start_time": "2024-10-23T10:25:30.137Z"
   },
   {
    "duration": 6,
    "start_time": "2024-10-23T10:25:49.786Z"
   },
   {
    "duration": 5,
    "start_time": "2024-10-23T10:25:52.237Z"
   },
   {
    "duration": 5,
    "start_time": "2024-10-23T10:25:58.706Z"
   },
   {
    "duration": 22,
    "start_time": "2024-10-23T10:26:08.136Z"
   },
   {
    "duration": 2,
    "start_time": "2024-10-23T10:26:11.441Z"
   },
   {
    "duration": 163,
    "start_time": "2024-10-23T10:26:11.446Z"
   },
   {
    "duration": 9,
    "start_time": "2024-10-23T10:26:11.610Z"
   },
   {
    "duration": 7,
    "start_time": "2024-10-23T10:26:11.621Z"
   },
   {
    "duration": 8,
    "start_time": "2024-10-23T10:26:11.630Z"
   },
   {
    "duration": 8,
    "start_time": "2024-10-23T10:26:11.640Z"
   },
   {
    "duration": 5,
    "start_time": "2024-10-23T10:26:11.650Z"
   },
   {
    "duration": 10,
    "start_time": "2024-10-23T10:26:11.657Z"
   },
   {
    "duration": 52,
    "start_time": "2024-10-23T10:26:11.670Z"
   },
   {
    "duration": 7,
    "start_time": "2024-10-23T10:26:11.724Z"
   },
   {
    "duration": 23,
    "start_time": "2024-10-23T10:26:11.733Z"
   },
   {
    "duration": 7,
    "start_time": "2024-10-23T10:26:11.758Z"
   },
   {
    "duration": 42,
    "start_time": "2024-10-23T10:26:11.767Z"
   },
   {
    "duration": 7,
    "start_time": "2024-10-23T10:26:11.810Z"
   },
   {
    "duration": 16,
    "start_time": "2024-10-23T10:26:11.819Z"
   },
   {
    "duration": 13,
    "start_time": "2024-10-23T10:26:11.837Z"
   },
   {
    "duration": 13,
    "start_time": "2024-10-23T10:26:11.851Z"
   },
   {
    "duration": 7,
    "start_time": "2024-10-23T10:26:11.866Z"
   },
   {
    "duration": 48,
    "start_time": "2024-10-23T10:26:11.874Z"
   },
   {
    "duration": 4,
    "start_time": "2024-10-23T10:26:11.923Z"
   },
   {
    "duration": 7,
    "start_time": "2024-10-23T10:26:11.929Z"
   },
   {
    "duration": 27,
    "start_time": "2024-10-23T10:26:11.937Z"
   },
   {
    "duration": 57,
    "start_time": "2024-10-23T10:26:11.966Z"
   },
   {
    "duration": 22,
    "start_time": "2024-10-23T10:26:12.027Z"
   },
   {
    "duration": 24,
    "start_time": "2024-10-23T10:26:12.050Z"
   },
   {
    "duration": 2,
    "start_time": "2024-10-23T10:26:12.076Z"
   },
   {
    "duration": 2,
    "start_time": "2024-10-23T10:26:12.080Z"
   },
   {
    "duration": 2,
    "start_time": "2024-10-23T10:26:12.110Z"
   },
   {
    "duration": 4,
    "start_time": "2024-10-23T10:26:12.113Z"
   },
   {
    "duration": 3,
    "start_time": "2024-10-23T10:26:12.118Z"
   },
   {
    "duration": 2,
    "start_time": "2024-10-23T10:26:12.124Z"
   },
   {
    "duration": 2,
    "start_time": "2024-10-23T10:26:12.128Z"
   },
   {
    "duration": 3,
    "start_time": "2024-10-23T10:26:12.132Z"
   },
   {
    "duration": 3,
    "start_time": "2024-10-23T10:26:12.136Z"
   },
   {
    "duration": 3,
    "start_time": "2024-10-23T10:26:12.140Z"
   },
   {
    "duration": 3,
    "start_time": "2024-10-23T10:26:12.144Z"
   },
   {
    "duration": 12,
    "start_time": "2024-10-23T10:27:32.249Z"
   },
   {
    "duration": 5,
    "start_time": "2024-10-23T10:27:55.224Z"
   },
   {
    "duration": 3,
    "start_time": "2024-10-23T10:28:00.111Z"
   },
   {
    "duration": 173,
    "start_time": "2024-10-23T10:28:00.116Z"
   },
   {
    "duration": 9,
    "start_time": "2024-10-23T10:28:00.291Z"
   },
   {
    "duration": 7,
    "start_time": "2024-10-23T10:28:00.309Z"
   },
   {
    "duration": 9,
    "start_time": "2024-10-23T10:28:00.319Z"
   },
   {
    "duration": 9,
    "start_time": "2024-10-23T10:28:00.329Z"
   },
   {
    "duration": 7,
    "start_time": "2024-10-23T10:28:00.339Z"
   },
   {
    "duration": 10,
    "start_time": "2024-10-23T10:28:00.347Z"
   },
   {
    "duration": 51,
    "start_time": "2024-10-23T10:28:00.359Z"
   },
   {
    "duration": 8,
    "start_time": "2024-10-23T10:28:00.412Z"
   },
   {
    "duration": 23,
    "start_time": "2024-10-23T10:28:00.423Z"
   },
   {
    "duration": 8,
    "start_time": "2024-10-23T10:28:00.447Z"
   },
   {
    "duration": 12,
    "start_time": "2024-10-23T10:28:00.456Z"
   },
   {
    "duration": 5,
    "start_time": "2024-10-23T10:28:00.470Z"
   },
   {
    "duration": 49,
    "start_time": "2024-10-23T10:28:00.477Z"
   },
   {
    "duration": 13,
    "start_time": "2024-10-23T10:28:00.527Z"
   },
   {
    "duration": 13,
    "start_time": "2024-10-23T10:28:00.541Z"
   },
   {
    "duration": 13,
    "start_time": "2024-10-23T10:28:00.556Z"
   },
   {
    "duration": 44,
    "start_time": "2024-10-23T10:28:00.571Z"
   },
   {
    "duration": 5,
    "start_time": "2024-10-23T10:28:00.617Z"
   },
   {
    "duration": 7,
    "start_time": "2024-10-23T10:28:00.623Z"
   },
   {
    "duration": 27,
    "start_time": "2024-10-23T10:28:00.632Z"
   },
   {
    "duration": 56,
    "start_time": "2024-10-23T10:28:00.661Z"
   },
   {
    "duration": 24,
    "start_time": "2024-10-23T10:28:00.718Z"
   },
   {
    "duration": 24,
    "start_time": "2024-10-23T10:28:00.743Z"
   },
   {
    "duration": 3,
    "start_time": "2024-10-23T10:28:00.768Z"
   },
   {
    "duration": 2,
    "start_time": "2024-10-23T10:28:00.773Z"
   },
   {
    "duration": 3,
    "start_time": "2024-10-23T10:28:00.777Z"
   },
   {
    "duration": 2,
    "start_time": "2024-10-23T10:28:00.808Z"
   },
   {
    "duration": 2,
    "start_time": "2024-10-23T10:28:00.812Z"
   },
   {
    "duration": 3,
    "start_time": "2024-10-23T10:28:00.816Z"
   },
   {
    "duration": 2,
    "start_time": "2024-10-23T10:28:00.821Z"
   },
   {
    "duration": 3,
    "start_time": "2024-10-23T10:28:00.825Z"
   },
   {
    "duration": 3,
    "start_time": "2024-10-23T10:28:00.830Z"
   },
   {
    "duration": 3,
    "start_time": "2024-10-23T10:28:00.834Z"
   },
   {
    "duration": 2,
    "start_time": "2024-10-23T10:28:00.839Z"
   },
   {
    "duration": 4,
    "start_time": "2024-10-23T10:29:50.294Z"
   },
   {
    "duration": 3,
    "start_time": "2024-10-23T10:29:52.454Z"
   },
   {
    "duration": 154,
    "start_time": "2024-10-23T10:29:52.459Z"
   },
   {
    "duration": 9,
    "start_time": "2024-10-23T10:29:52.614Z"
   },
   {
    "duration": 6,
    "start_time": "2024-10-23T10:29:52.626Z"
   },
   {
    "duration": 8,
    "start_time": "2024-10-23T10:29:52.634Z"
   },
   {
    "duration": 9,
    "start_time": "2024-10-23T10:29:52.643Z"
   },
   {
    "duration": 5,
    "start_time": "2024-10-23T10:29:52.655Z"
   },
   {
    "duration": 10,
    "start_time": "2024-10-23T10:29:52.662Z"
   },
   {
    "duration": 16,
    "start_time": "2024-10-23T10:29:52.709Z"
   },
   {
    "duration": 7,
    "start_time": "2024-10-23T10:29:52.726Z"
   },
   {
    "duration": 22,
    "start_time": "2024-10-23T10:29:52.734Z"
   },
   {
    "duration": 8,
    "start_time": "2024-10-23T10:29:52.759Z"
   },
   {
    "duration": 39,
    "start_time": "2024-10-23T10:29:52.769Z"
   },
   {
    "duration": 6,
    "start_time": "2024-10-23T10:29:52.811Z"
   },
   {
    "duration": 15,
    "start_time": "2024-10-23T10:29:52.819Z"
   },
   {
    "duration": 12,
    "start_time": "2024-10-23T10:29:52.836Z"
   },
   {
    "duration": 13,
    "start_time": "2024-10-23T10:29:52.849Z"
   },
   {
    "duration": 13,
    "start_time": "2024-10-23T10:29:52.864Z"
   },
   {
    "duration": 49,
    "start_time": "2024-10-23T10:29:52.878Z"
   },
   {
    "duration": 3,
    "start_time": "2024-10-23T10:29:52.928Z"
   },
   {
    "duration": 6,
    "start_time": "2024-10-23T10:29:52.933Z"
   },
   {
    "duration": 27,
    "start_time": "2024-10-23T10:29:52.941Z"
   },
   {
    "duration": 51,
    "start_time": "2024-10-23T10:29:52.970Z"
   },
   {
    "duration": 22,
    "start_time": "2024-10-23T10:29:53.024Z"
   },
   {
    "duration": 22,
    "start_time": "2024-10-23T10:29:53.048Z"
   },
   {
    "duration": 2,
    "start_time": "2024-10-23T10:29:53.072Z"
   },
   {
    "duration": 3,
    "start_time": "2024-10-23T10:29:53.075Z"
   },
   {
    "duration": 29,
    "start_time": "2024-10-23T10:29:53.080Z"
   },
   {
    "duration": 2,
    "start_time": "2024-10-23T10:29:53.110Z"
   },
   {
    "duration": 3,
    "start_time": "2024-10-23T10:29:53.114Z"
   },
   {
    "duration": 2,
    "start_time": "2024-10-23T10:29:53.119Z"
   },
   {
    "duration": 3,
    "start_time": "2024-10-23T10:29:53.123Z"
   },
   {
    "duration": 3,
    "start_time": "2024-10-23T10:29:53.127Z"
   },
   {
    "duration": 3,
    "start_time": "2024-10-23T10:29:53.132Z"
   },
   {
    "duration": 3,
    "start_time": "2024-10-23T10:29:53.137Z"
   },
   {
    "duration": 3,
    "start_time": "2024-10-23T10:29:53.141Z"
   },
   {
    "duration": 24,
    "start_time": "2024-10-23T10:32:11.924Z"
   },
   {
    "duration": 24,
    "start_time": "2024-10-23T10:32:23.257Z"
   },
   {
    "duration": 24,
    "start_time": "2024-10-23T10:32:34.561Z"
   },
   {
    "duration": 16,
    "start_time": "2024-10-23T10:33:38.844Z"
   },
   {
    "duration": 15,
    "start_time": "2024-10-23T10:34:44.822Z"
   },
   {
    "duration": 14,
    "start_time": "2024-10-23T10:34:58.532Z"
   },
   {
    "duration": 41,
    "start_time": "2024-10-23T10:35:20.555Z"
   },
   {
    "duration": 4,
    "start_time": "2024-10-23T10:35:36.041Z"
   },
   {
    "duration": 4,
    "start_time": "2024-10-23T10:35:38.650Z"
   },
   {
    "duration": 152,
    "start_time": "2024-10-23T10:35:38.656Z"
   },
   {
    "duration": 9,
    "start_time": "2024-10-23T10:35:38.810Z"
   },
   {
    "duration": 8,
    "start_time": "2024-10-23T10:35:38.822Z"
   },
   {
    "duration": 8,
    "start_time": "2024-10-23T10:35:38.831Z"
   },
   {
    "duration": 8,
    "start_time": "2024-10-23T10:35:38.841Z"
   },
   {
    "duration": 5,
    "start_time": "2024-10-23T10:35:38.851Z"
   },
   {
    "duration": 11,
    "start_time": "2024-10-23T10:35:38.857Z"
   },
   {
    "duration": 52,
    "start_time": "2024-10-23T10:35:38.871Z"
   },
   {
    "duration": 7,
    "start_time": "2024-10-23T10:35:38.924Z"
   },
   {
    "duration": 24,
    "start_time": "2024-10-23T10:35:38.932Z"
   },
   {
    "duration": 9,
    "start_time": "2024-10-23T10:35:38.958Z"
   },
   {
    "duration": 11,
    "start_time": "2024-10-23T10:35:38.968Z"
   },
   {
    "duration": 7,
    "start_time": "2024-10-23T10:35:39.010Z"
   },
   {
    "duration": 17,
    "start_time": "2024-10-23T10:35:39.019Z"
   },
   {
    "duration": 12,
    "start_time": "2024-10-23T10:35:39.038Z"
   },
   {
    "duration": 14,
    "start_time": "2024-10-23T10:35:39.052Z"
   },
   {
    "duration": 42,
    "start_time": "2024-10-23T10:35:39.067Z"
   },
   {
    "duration": 16,
    "start_time": "2024-10-23T10:35:39.111Z"
   },
   {
    "duration": 3,
    "start_time": "2024-10-23T10:35:39.129Z"
   },
   {
    "duration": 7,
    "start_time": "2024-10-23T10:35:39.134Z"
   },
   {
    "duration": 25,
    "start_time": "2024-10-23T10:35:39.143Z"
   },
   {
    "duration": 52,
    "start_time": "2024-10-23T10:35:39.169Z"
   },
   {
    "duration": 22,
    "start_time": "2024-10-23T10:35:39.225Z"
   },
   {
    "duration": 22,
    "start_time": "2024-10-23T10:35:39.249Z"
   },
   {
    "duration": 2,
    "start_time": "2024-10-23T10:35:39.273Z"
   },
   {
    "duration": 2,
    "start_time": "2024-10-23T10:35:39.277Z"
   },
   {
    "duration": 35,
    "start_time": "2024-10-23T10:35:39.281Z"
   },
   {
    "duration": 30,
    "start_time": "2024-10-23T10:35:39.317Z"
   },
   {
    "duration": 35,
    "start_time": "2024-10-23T10:35:39.348Z"
   },
   {
    "duration": 36,
    "start_time": "2024-10-23T10:35:39.385Z"
   },
   {
    "duration": 26,
    "start_time": "2024-10-23T10:35:39.422Z"
   },
   {
    "duration": 13,
    "start_time": "2024-10-23T10:35:39.449Z"
   },
   {
    "duration": 9,
    "start_time": "2024-10-23T10:35:39.463Z"
   },
   {
    "duration": 3,
    "start_time": "2024-10-23T10:35:39.474Z"
   },
   {
    "duration": 3,
    "start_time": "2024-10-23T10:35:39.479Z"
   },
   {
    "duration": 6,
    "start_time": "2024-10-23T10:36:53.334Z"
   },
   {
    "duration": 46,
    "start_time": "2024-10-23T10:36:57.903Z"
   },
   {
    "duration": 43,
    "start_time": "2024-10-23T10:37:24.509Z"
   },
   {
    "duration": 43,
    "start_time": "2024-10-23T10:37:28.078Z"
   },
   {
    "duration": 3,
    "start_time": "2024-10-23T10:37:43.283Z"
   },
   {
    "duration": 160,
    "start_time": "2024-10-23T10:37:43.288Z"
   },
   {
    "duration": 8,
    "start_time": "2024-10-23T10:37:43.450Z"
   },
   {
    "duration": 7,
    "start_time": "2024-10-23T10:37:43.461Z"
   },
   {
    "duration": 7,
    "start_time": "2024-10-23T10:37:43.470Z"
   },
   {
    "duration": 30,
    "start_time": "2024-10-23T10:37:43.479Z"
   },
   {
    "duration": 5,
    "start_time": "2024-10-23T10:37:43.511Z"
   },
   {
    "duration": 11,
    "start_time": "2024-10-23T10:37:43.517Z"
   },
   {
    "duration": 15,
    "start_time": "2024-10-23T10:37:43.531Z"
   },
   {
    "duration": 7,
    "start_time": "2024-10-23T10:37:43.549Z"
   },
   {
    "duration": 51,
    "start_time": "2024-10-23T10:37:43.558Z"
   },
   {
    "duration": 9,
    "start_time": "2024-10-23T10:37:43.611Z"
   },
   {
    "duration": 12,
    "start_time": "2024-10-23T10:37:43.622Z"
   },
   {
    "duration": 6,
    "start_time": "2024-10-23T10:37:43.636Z"
   },
   {
    "duration": 17,
    "start_time": "2024-10-23T10:37:43.644Z"
   },
   {
    "duration": 47,
    "start_time": "2024-10-23T10:37:43.662Z"
   },
   {
    "duration": 14,
    "start_time": "2024-10-23T10:37:43.711Z"
   },
   {
    "duration": 14,
    "start_time": "2024-10-23T10:37:43.726Z"
   },
   {
    "duration": 18,
    "start_time": "2024-10-23T10:37:43.743Z"
   },
   {
    "duration": 7,
    "start_time": "2024-10-23T10:37:43.762Z"
   },
   {
    "duration": 7,
    "start_time": "2024-10-23T10:37:43.770Z"
   },
   {
    "duration": 50,
    "start_time": "2024-10-23T10:37:43.779Z"
   },
   {
    "duration": 26,
    "start_time": "2024-10-23T10:37:43.832Z"
   },
   {
    "duration": 23,
    "start_time": "2024-10-23T10:37:43.862Z"
   },
   {
    "duration": 63,
    "start_time": "2024-10-23T10:37:43.887Z"
   },
   {
    "duration": 0,
    "start_time": "2024-10-23T10:37:43.952Z"
   },
   {
    "duration": 0,
    "start_time": "2024-10-23T10:37:43.954Z"
   },
   {
    "duration": 0,
    "start_time": "2024-10-23T10:37:43.955Z"
   },
   {
    "duration": 0,
    "start_time": "2024-10-23T10:37:43.957Z"
   },
   {
    "duration": 0,
    "start_time": "2024-10-23T10:37:43.958Z"
   },
   {
    "duration": 0,
    "start_time": "2024-10-23T10:37:43.959Z"
   },
   {
    "duration": 0,
    "start_time": "2024-10-23T10:37:43.961Z"
   },
   {
    "duration": 0,
    "start_time": "2024-10-23T10:37:43.962Z"
   },
   {
    "duration": 0,
    "start_time": "2024-10-23T10:37:43.963Z"
   },
   {
    "duration": 0,
    "start_time": "2024-10-23T10:37:43.964Z"
   },
   {
    "duration": 0,
    "start_time": "2024-10-23T10:37:43.965Z"
   },
   {
    "duration": 43,
    "start_time": "2024-10-23T10:37:58.724Z"
   },
   {
    "duration": 3,
    "start_time": "2024-10-23T10:39:05.532Z"
   },
   {
    "duration": 152,
    "start_time": "2024-10-23T10:39:05.537Z"
   },
   {
    "duration": 8,
    "start_time": "2024-10-23T10:39:05.691Z"
   },
   {
    "duration": 13,
    "start_time": "2024-10-23T10:39:05.701Z"
   },
   {
    "duration": 9,
    "start_time": "2024-10-23T10:39:05.716Z"
   },
   {
    "duration": 8,
    "start_time": "2024-10-23T10:39:05.726Z"
   },
   {
    "duration": 5,
    "start_time": "2024-10-23T10:39:05.736Z"
   },
   {
    "duration": 11,
    "start_time": "2024-10-23T10:39:05.742Z"
   },
   {
    "duration": 15,
    "start_time": "2024-10-23T10:39:05.754Z"
   },
   {
    "duration": 40,
    "start_time": "2024-10-23T10:39:05.770Z"
   },
   {
    "duration": 23,
    "start_time": "2024-10-23T10:39:05.814Z"
   },
   {
    "duration": 9,
    "start_time": "2024-10-23T10:39:05.839Z"
   },
   {
    "duration": 12,
    "start_time": "2024-10-23T10:39:05.849Z"
   },
   {
    "duration": 6,
    "start_time": "2024-10-23T10:39:05.862Z"
   },
   {
    "duration": 48,
    "start_time": "2024-10-23T10:39:05.870Z"
   },
   {
    "duration": 12,
    "start_time": "2024-10-23T10:39:05.920Z"
   },
   {
    "duration": 14,
    "start_time": "2024-10-23T10:39:05.934Z"
   },
   {
    "duration": 14,
    "start_time": "2024-10-23T10:39:05.949Z"
   },
   {
    "duration": 47,
    "start_time": "2024-10-23T10:39:05.965Z"
   },
   {
    "duration": 11,
    "start_time": "2024-10-23T10:39:06.014Z"
   },
   {
    "duration": 9,
    "start_time": "2024-10-23T10:39:06.027Z"
   },
   {
    "duration": 28,
    "start_time": "2024-10-23T10:39:06.038Z"
   },
   {
    "duration": 53,
    "start_time": "2024-10-23T10:39:06.068Z"
   },
   {
    "duration": 23,
    "start_time": "2024-10-23T10:39:06.123Z"
   },
   {
    "duration": 61,
    "start_time": "2024-10-23T10:39:06.148Z"
   },
   {
    "duration": 0,
    "start_time": "2024-10-23T10:39:06.211Z"
   },
   {
    "duration": 0,
    "start_time": "2024-10-23T10:39:06.213Z"
   },
   {
    "duration": 0,
    "start_time": "2024-10-23T10:39:06.214Z"
   },
   {
    "duration": 0,
    "start_time": "2024-10-23T10:39:06.216Z"
   },
   {
    "duration": 0,
    "start_time": "2024-10-23T10:39:06.217Z"
   },
   {
    "duration": 0,
    "start_time": "2024-10-23T10:39:06.218Z"
   },
   {
    "duration": 0,
    "start_time": "2024-10-23T10:39:06.219Z"
   },
   {
    "duration": 0,
    "start_time": "2024-10-23T10:39:06.219Z"
   },
   {
    "duration": 0,
    "start_time": "2024-10-23T10:39:06.220Z"
   },
   {
    "duration": 0,
    "start_time": "2024-10-23T10:39:06.221Z"
   },
   {
    "duration": 0,
    "start_time": "2024-10-23T10:39:06.222Z"
   },
   {
    "duration": 24,
    "start_time": "2024-10-23T10:39:53.486Z"
   },
   {
    "duration": 25,
    "start_time": "2024-10-23T10:40:43.996Z"
   },
   {
    "duration": 4,
    "start_time": "2024-10-23T10:40:57.773Z"
   },
   {
    "duration": 162,
    "start_time": "2024-10-23T10:40:57.779Z"
   },
   {
    "duration": 9,
    "start_time": "2024-10-23T10:40:57.943Z"
   },
   {
    "duration": 7,
    "start_time": "2024-10-23T10:40:57.954Z"
   },
   {
    "duration": 9,
    "start_time": "2024-10-23T10:40:57.962Z"
   },
   {
    "duration": 8,
    "start_time": "2024-10-23T10:40:57.972Z"
   },
   {
    "duration": 5,
    "start_time": "2024-10-23T10:40:58.010Z"
   },
   {
    "duration": 10,
    "start_time": "2024-10-23T10:40:58.016Z"
   },
   {
    "duration": 15,
    "start_time": "2024-10-23T10:40:58.031Z"
   },
   {
    "duration": 8,
    "start_time": "2024-10-23T10:40:58.048Z"
   },
   {
    "duration": 50,
    "start_time": "2024-10-23T10:40:58.059Z"
   },
   {
    "duration": 9,
    "start_time": "2024-10-23T10:40:58.110Z"
   },
   {
    "duration": 13,
    "start_time": "2024-10-23T10:40:58.121Z"
   },
   {
    "duration": 7,
    "start_time": "2024-10-23T10:40:58.135Z"
   },
   {
    "duration": 17,
    "start_time": "2024-10-23T10:40:58.144Z"
   },
   {
    "duration": 49,
    "start_time": "2024-10-23T10:40:58.163Z"
   },
   {
    "duration": 14,
    "start_time": "2024-10-23T10:40:58.214Z"
   },
   {
    "duration": 13,
    "start_time": "2024-10-23T10:40:58.229Z"
   },
   {
    "duration": 17,
    "start_time": "2024-10-23T10:40:58.243Z"
   },
   {
    "duration": 11,
    "start_time": "2024-10-23T10:40:58.261Z"
   },
   {
    "duration": 36,
    "start_time": "2024-10-23T10:40:58.273Z"
   },
   {
    "duration": 28,
    "start_time": "2024-10-23T10:40:58.310Z"
   },
   {
    "duration": 28,
    "start_time": "2024-10-23T10:40:58.339Z"
   },
   {
    "duration": 45,
    "start_time": "2024-10-23T10:40:58.375Z"
   },
   {
    "duration": 26,
    "start_time": "2024-10-23T10:40:58.421Z"
   },
   {
    "duration": 2,
    "start_time": "2024-10-23T10:40:58.450Z"
   },
   {
    "duration": 2,
    "start_time": "2024-10-23T10:40:58.454Z"
   },
   {
    "duration": 2,
    "start_time": "2024-10-23T10:40:58.458Z"
   },
   {
    "duration": 3,
    "start_time": "2024-10-23T10:40:58.461Z"
   },
   {
    "duration": 3,
    "start_time": "2024-10-23T10:40:58.465Z"
   },
   {
    "duration": 3,
    "start_time": "2024-10-23T10:40:58.469Z"
   },
   {
    "duration": 3,
    "start_time": "2024-10-23T10:40:58.509Z"
   },
   {
    "duration": 3,
    "start_time": "2024-10-23T10:40:58.513Z"
   },
   {
    "duration": 3,
    "start_time": "2024-10-23T10:40:58.517Z"
   },
   {
    "duration": 2,
    "start_time": "2024-10-23T10:40:58.522Z"
   },
   {
    "duration": 3,
    "start_time": "2024-10-23T10:40:58.525Z"
   },
   {
    "duration": 58,
    "start_time": "2024-10-23T10:41:18.910Z"
   },
   {
    "duration": 3,
    "start_time": "2024-10-23T10:41:32.889Z"
   },
   {
    "duration": 156,
    "start_time": "2024-10-23T10:41:32.895Z"
   },
   {
    "duration": 10,
    "start_time": "2024-10-23T10:41:33.052Z"
   },
   {
    "duration": 7,
    "start_time": "2024-10-23T10:41:33.065Z"
   },
   {
    "duration": 8,
    "start_time": "2024-10-23T10:41:33.074Z"
   },
   {
    "duration": 8,
    "start_time": "2024-10-23T10:41:33.109Z"
   },
   {
    "duration": 5,
    "start_time": "2024-10-23T10:41:33.119Z"
   },
   {
    "duration": 10,
    "start_time": "2024-10-23T10:41:33.126Z"
   },
   {
    "duration": 15,
    "start_time": "2024-10-23T10:41:33.139Z"
   },
   {
    "duration": 8,
    "start_time": "2024-10-23T10:41:33.156Z"
   },
   {
    "duration": 55,
    "start_time": "2024-10-23T10:41:33.165Z"
   },
   {
    "duration": 9,
    "start_time": "2024-10-23T10:41:33.221Z"
   },
   {
    "duration": 13,
    "start_time": "2024-10-23T10:41:33.231Z"
   },
   {
    "duration": 7,
    "start_time": "2024-10-23T10:41:33.246Z"
   },
   {
    "duration": 17,
    "start_time": "2024-10-23T10:41:33.254Z"
   },
   {
    "duration": 48,
    "start_time": "2024-10-23T10:41:33.273Z"
   },
   {
    "duration": 14,
    "start_time": "2024-10-23T10:41:33.322Z"
   },
   {
    "duration": 13,
    "start_time": "2024-10-23T10:41:33.338Z"
   },
   {
    "duration": 18,
    "start_time": "2024-10-23T10:41:33.353Z"
   },
   {
    "duration": 40,
    "start_time": "2024-10-23T10:41:33.373Z"
   },
   {
    "duration": 7,
    "start_time": "2024-10-23T10:41:33.415Z"
   },
   {
    "duration": 26,
    "start_time": "2024-10-23T10:41:33.424Z"
   },
   {
    "duration": 24,
    "start_time": "2024-10-23T10:41:33.452Z"
   },
   {
    "duration": 24,
    "start_time": "2024-10-23T10:41:33.509Z"
   },
   {
    "duration": 55,
    "start_time": "2024-10-23T10:41:33.535Z"
   },
   {
    "duration": 0,
    "start_time": "2024-10-23T10:41:33.591Z"
   },
   {
    "duration": 0,
    "start_time": "2024-10-23T10:41:33.608Z"
   },
   {
    "duration": 0,
    "start_time": "2024-10-23T10:41:33.611Z"
   },
   {
    "duration": 0,
    "start_time": "2024-10-23T10:41:33.612Z"
   },
   {
    "duration": 0,
    "start_time": "2024-10-23T10:41:33.613Z"
   },
   {
    "duration": 0,
    "start_time": "2024-10-23T10:41:33.614Z"
   },
   {
    "duration": 0,
    "start_time": "2024-10-23T10:41:33.615Z"
   },
   {
    "duration": 0,
    "start_time": "2024-10-23T10:41:33.616Z"
   },
   {
    "duration": 0,
    "start_time": "2024-10-23T10:41:33.616Z"
   },
   {
    "duration": 0,
    "start_time": "2024-10-23T10:41:33.617Z"
   },
   {
    "duration": 0,
    "start_time": "2024-10-23T10:41:33.619Z"
   },
   {
    "duration": 24,
    "start_time": "2024-10-23T10:41:54.780Z"
   },
   {
    "duration": 42,
    "start_time": "2024-10-23T10:48:02.352Z"
   },
   {
    "duration": 40,
    "start_time": "2024-10-23T10:48:12.852Z"
   },
   {
    "duration": 3,
    "start_time": "2024-10-23T10:48:15.131Z"
   },
   {
    "duration": 159,
    "start_time": "2024-10-23T10:48:15.136Z"
   },
   {
    "duration": 9,
    "start_time": "2024-10-23T10:48:15.297Z"
   },
   {
    "duration": 8,
    "start_time": "2024-10-23T10:48:15.308Z"
   },
   {
    "duration": 8,
    "start_time": "2024-10-23T10:48:15.318Z"
   },
   {
    "duration": 9,
    "start_time": "2024-10-23T10:48:15.327Z"
   },
   {
    "duration": 5,
    "start_time": "2024-10-23T10:48:15.338Z"
   },
   {
    "duration": 11,
    "start_time": "2024-10-23T10:48:15.345Z"
   },
   {
    "duration": 17,
    "start_time": "2024-10-23T10:48:15.358Z"
   },
   {
    "duration": 38,
    "start_time": "2024-10-23T10:48:15.377Z"
   },
   {
    "duration": 24,
    "start_time": "2024-10-23T10:48:15.416Z"
   },
   {
    "duration": 8,
    "start_time": "2024-10-23T10:48:15.442Z"
   },
   {
    "duration": 11,
    "start_time": "2024-10-23T10:48:15.454Z"
   },
   {
    "duration": 7,
    "start_time": "2024-10-23T10:48:15.467Z"
   },
   {
    "duration": 45,
    "start_time": "2024-10-23T10:48:15.475Z"
   },
   {
    "duration": 13,
    "start_time": "2024-10-23T10:48:15.521Z"
   },
   {
    "duration": 14,
    "start_time": "2024-10-23T10:48:15.535Z"
   },
   {
    "duration": 14,
    "start_time": "2024-10-23T10:48:15.551Z"
   },
   {
    "duration": 52,
    "start_time": "2024-10-23T10:48:15.566Z"
   },
   {
    "duration": 8,
    "start_time": "2024-10-23T10:48:15.620Z"
   },
   {
    "duration": 8,
    "start_time": "2024-10-23T10:48:15.629Z"
   },
   {
    "duration": 28,
    "start_time": "2024-10-23T10:48:15.638Z"
   },
   {
    "duration": 51,
    "start_time": "2024-10-23T10:48:15.667Z"
   },
   {
    "duration": 22,
    "start_time": "2024-10-23T10:48:15.720Z"
   },
   {
    "duration": 23,
    "start_time": "2024-10-23T10:48:15.744Z"
   },
   {
    "duration": 2,
    "start_time": "2024-10-23T10:48:15.769Z"
   },
   {
    "duration": 3,
    "start_time": "2024-10-23T10:48:15.773Z"
   },
   {
    "duration": 32,
    "start_time": "2024-10-23T10:48:15.777Z"
   },
   {
    "duration": 3,
    "start_time": "2024-10-23T10:48:15.811Z"
   },
   {
    "duration": 3,
    "start_time": "2024-10-23T10:48:15.816Z"
   },
   {
    "duration": 3,
    "start_time": "2024-10-23T10:48:15.820Z"
   },
   {
    "duration": 4,
    "start_time": "2024-10-23T10:48:15.824Z"
   },
   {
    "duration": 3,
    "start_time": "2024-10-23T10:48:15.829Z"
   },
   {
    "duration": 3,
    "start_time": "2024-10-23T10:48:15.834Z"
   },
   {
    "duration": 3,
    "start_time": "2024-10-23T10:48:15.838Z"
   },
   {
    "duration": 3,
    "start_time": "2024-10-23T10:48:15.842Z"
   },
   {
    "duration": 10,
    "start_time": "2024-10-23T10:48:28.095Z"
   },
   {
    "duration": 25,
    "start_time": "2024-10-23T10:49:01.811Z"
   },
   {
    "duration": 3,
    "start_time": "2024-10-23T10:52:04.100Z"
   },
   {
    "duration": 9,
    "start_time": "2024-10-23T10:52:08.170Z"
   },
   {
    "duration": 9,
    "start_time": "2024-10-23T10:52:54.769Z"
   },
   {
    "duration": 11,
    "start_time": "2024-10-23T10:53:23.429Z"
   },
   {
    "duration": 9,
    "start_time": "2024-10-23T10:53:35.401Z"
   },
   {
    "duration": 10,
    "start_time": "2024-10-23T10:54:25.238Z"
   },
   {
    "duration": 8,
    "start_time": "2024-10-23T10:54:39.458Z"
   },
   {
    "duration": 137,
    "start_time": "2024-10-23T10:56:49.143Z"
   },
   {
    "duration": 16,
    "start_time": "2024-10-23T10:58:09.774Z"
   },
   {
    "duration": 4,
    "start_time": "2024-10-23T11:02:43.175Z"
   },
   {
    "duration": 4,
    "start_time": "2024-10-23T11:03:18.168Z"
   },
   {
    "duration": 22,
    "start_time": "2024-10-23T11:03:27.275Z"
   },
   {
    "duration": 11,
    "start_time": "2024-10-23T11:03:34.918Z"
   },
   {
    "duration": 21,
    "start_time": "2024-10-23T11:03:39.422Z"
   },
   {
    "duration": 105,
    "start_time": "2024-10-23T11:04:01.343Z"
   },
   {
    "duration": 55,
    "start_time": "2024-10-23T11:04:08.039Z"
   },
   {
    "duration": 20,
    "start_time": "2024-10-23T11:04:14.007Z"
   },
   {
    "duration": 5,
    "start_time": "2024-10-23T11:04:43.808Z"
   },
   {
    "duration": 3,
    "start_time": "2024-10-23T11:04:56.049Z"
   },
   {
    "duration": 150,
    "start_time": "2024-10-23T11:04:56.055Z"
   },
   {
    "duration": 8,
    "start_time": "2024-10-23T11:04:56.207Z"
   },
   {
    "duration": 8,
    "start_time": "2024-10-23T11:04:56.217Z"
   },
   {
    "duration": 8,
    "start_time": "2024-10-23T11:04:56.227Z"
   },
   {
    "duration": 8,
    "start_time": "2024-10-23T11:04:56.237Z"
   },
   {
    "duration": 8,
    "start_time": "2024-10-23T11:04:56.247Z"
   },
   {
    "duration": 6,
    "start_time": "2024-10-23T11:04:56.256Z"
   },
   {
    "duration": 48,
    "start_time": "2024-10-23T11:04:56.263Z"
   },
   {
    "duration": 17,
    "start_time": "2024-10-23T11:04:56.313Z"
   },
   {
    "duration": 7,
    "start_time": "2024-10-23T11:04:56.331Z"
   },
   {
    "duration": 23,
    "start_time": "2024-10-23T11:04:56.340Z"
   },
   {
    "duration": 9,
    "start_time": "2024-10-23T11:04:56.367Z"
   },
   {
    "duration": 40,
    "start_time": "2024-10-23T11:04:56.378Z"
   },
   {
    "duration": 6,
    "start_time": "2024-10-23T11:04:56.420Z"
   },
   {
    "duration": 16,
    "start_time": "2024-10-23T11:04:56.428Z"
   },
   {
    "duration": 14,
    "start_time": "2024-10-23T11:04:56.445Z"
   },
   {
    "duration": 15,
    "start_time": "2024-10-23T11:04:56.460Z"
   },
   {
    "duration": 34,
    "start_time": "2024-10-23T11:04:56.476Z"
   },
   {
    "duration": 16,
    "start_time": "2024-10-23T11:04:56.511Z"
   },
   {
    "duration": 9,
    "start_time": "2024-10-23T11:04:56.528Z"
   },
   {
    "duration": 6,
    "start_time": "2024-10-23T11:04:56.538Z"
   },
   {
    "duration": 27,
    "start_time": "2024-10-23T11:04:56.547Z"
   },
   {
    "duration": 51,
    "start_time": "2024-10-23T11:04:56.576Z"
   },
   {
    "duration": 24,
    "start_time": "2024-10-23T11:04:56.628Z"
   },
   {
    "duration": 23,
    "start_time": "2024-10-23T11:04:56.655Z"
   },
   {
    "duration": 41,
    "start_time": "2024-10-23T11:04:56.680Z"
   },
   {
    "duration": 2,
    "start_time": "2024-10-23T11:04:56.722Z"
   },
   {
    "duration": 3,
    "start_time": "2024-10-23T11:04:56.726Z"
   },
   {
    "duration": 3,
    "start_time": "2024-10-23T11:04:56.730Z"
   },
   {
    "duration": 3,
    "start_time": "2024-10-23T11:04:56.734Z"
   },
   {
    "duration": 2,
    "start_time": "2024-10-23T11:04:56.739Z"
   },
   {
    "duration": 2,
    "start_time": "2024-10-23T11:04:56.743Z"
   },
   {
    "duration": 3,
    "start_time": "2024-10-23T11:04:56.747Z"
   },
   {
    "duration": 2,
    "start_time": "2024-10-23T11:04:56.752Z"
   },
   {
    "duration": 3,
    "start_time": "2024-10-23T11:04:56.756Z"
   },
   {
    "duration": 3,
    "start_time": "2024-10-23T11:04:56.762Z"
   },
   {
    "duration": 17,
    "start_time": "2024-10-23T11:05:20.999Z"
   },
   {
    "duration": 24,
    "start_time": "2024-10-23T11:05:48.889Z"
   },
   {
    "duration": 5,
    "start_time": "2024-10-23T11:06:48.017Z"
   },
   {
    "duration": 4,
    "start_time": "2024-10-23T11:07:04.718Z"
   },
   {
    "duration": 15,
    "start_time": "2024-10-23T11:07:21.857Z"
   },
   {
    "duration": 124,
    "start_time": "2024-10-23T11:07:40.075Z"
   },
   {
    "duration": 5,
    "start_time": "2024-10-23T11:08:34.858Z"
   },
   {
    "duration": 5,
    "start_time": "2024-10-23T11:08:46.392Z"
   },
   {
    "duration": 7,
    "start_time": "2024-10-23T11:08:54.967Z"
   },
   {
    "duration": 10,
    "start_time": "2024-10-23T11:09:09.376Z"
   },
   {
    "duration": 14,
    "start_time": "2024-10-23T11:09:19.726Z"
   },
   {
    "duration": 11,
    "start_time": "2024-10-23T11:09:29.916Z"
   },
   {
    "duration": 11,
    "start_time": "2024-10-23T11:09:35.555Z"
   },
   {
    "duration": 12,
    "start_time": "2024-10-23T11:09:39.939Z"
   },
   {
    "duration": 14,
    "start_time": "2024-10-23T11:10:14.882Z"
   },
   {
    "duration": 6,
    "start_time": "2024-10-23T11:10:18.478Z"
   },
   {
    "duration": 8,
    "start_time": "2024-10-23T11:10:25.707Z"
   },
   {
    "duration": 633,
    "start_time": "2024-10-23T11:11:40.016Z"
   },
   {
    "duration": 56,
    "start_time": "2024-10-23T11:11:53.009Z"
   },
   {
    "duration": 13,
    "start_time": "2024-10-23T11:12:20.600Z"
   },
   {
    "duration": 19,
    "start_time": "2024-10-23T11:12:24.331Z"
   },
   {
    "duration": 18,
    "start_time": "2024-10-23T11:12:56.842Z"
   },
   {
    "duration": 25,
    "start_time": "2024-10-23T11:13:29.273Z"
   },
   {
    "duration": 20,
    "start_time": "2024-10-23T11:13:53.054Z"
   },
   {
    "duration": 18,
    "start_time": "2024-10-23T11:13:57.459Z"
   },
   {
    "duration": 19,
    "start_time": "2024-10-23T11:14:04.127Z"
   },
   {
    "duration": 19,
    "start_time": "2024-10-23T11:18:13.347Z"
   },
   {
    "duration": 3,
    "start_time": "2024-10-23T11:19:50.638Z"
   },
   {
    "duration": 160,
    "start_time": "2024-10-23T11:19:50.643Z"
   },
   {
    "duration": 9,
    "start_time": "2024-10-23T11:19:50.805Z"
   },
   {
    "duration": 7,
    "start_time": "2024-10-23T11:19:50.817Z"
   },
   {
    "duration": 8,
    "start_time": "2024-10-23T11:19:50.826Z"
   },
   {
    "duration": 8,
    "start_time": "2024-10-23T11:19:50.836Z"
   },
   {
    "duration": 8,
    "start_time": "2024-10-23T11:19:50.845Z"
   },
   {
    "duration": 5,
    "start_time": "2024-10-23T11:19:50.855Z"
   },
   {
    "duration": 11,
    "start_time": "2024-10-23T11:19:50.861Z"
   },
   {
    "duration": 48,
    "start_time": "2024-10-23T11:19:50.874Z"
   },
   {
    "duration": 7,
    "start_time": "2024-10-23T11:19:50.924Z"
   },
   {
    "duration": 24,
    "start_time": "2024-10-23T11:19:50.932Z"
   },
   {
    "duration": 9,
    "start_time": "2024-10-23T11:19:50.961Z"
   },
   {
    "duration": 42,
    "start_time": "2024-10-23T11:19:50.971Z"
   },
   {
    "duration": 6,
    "start_time": "2024-10-23T11:19:51.016Z"
   },
   {
    "duration": 17,
    "start_time": "2024-10-23T11:19:51.025Z"
   },
   {
    "duration": 12,
    "start_time": "2024-10-23T11:19:51.043Z"
   },
   {
    "duration": 13,
    "start_time": "2024-10-23T11:19:51.057Z"
   },
   {
    "duration": 37,
    "start_time": "2024-10-23T11:19:51.072Z"
   },
   {
    "duration": 16,
    "start_time": "2024-10-23T11:19:51.111Z"
   },
   {
    "duration": 9,
    "start_time": "2024-10-23T11:19:51.129Z"
   },
   {
    "duration": 7,
    "start_time": "2024-10-23T11:19:51.139Z"
   },
   {
    "duration": 25,
    "start_time": "2024-10-23T11:19:51.148Z"
   },
   {
    "duration": 53,
    "start_time": "2024-10-23T11:19:51.174Z"
   },
   {
    "duration": 22,
    "start_time": "2024-10-23T11:19:51.229Z"
   },
   {
    "duration": 24,
    "start_time": "2024-10-23T11:19:51.252Z"
   },
   {
    "duration": 40,
    "start_time": "2024-10-23T11:19:51.278Z"
   },
   {
    "duration": 2,
    "start_time": "2024-10-23T11:19:51.320Z"
   },
   {
    "duration": 4,
    "start_time": "2024-10-23T11:19:51.323Z"
   },
   {
    "duration": 3,
    "start_time": "2024-10-23T11:19:51.328Z"
   },
   {
    "duration": 3,
    "start_time": "2024-10-23T11:19:51.333Z"
   },
   {
    "duration": 3,
    "start_time": "2024-10-23T11:19:51.337Z"
   },
   {
    "duration": 3,
    "start_time": "2024-10-23T11:19:51.342Z"
   },
   {
    "duration": 2,
    "start_time": "2024-10-23T11:19:51.347Z"
   },
   {
    "duration": 3,
    "start_time": "2024-10-23T11:19:51.351Z"
   },
   {
    "duration": 3,
    "start_time": "2024-10-23T11:19:51.356Z"
   },
   {
    "duration": 2,
    "start_time": "2024-10-23T11:19:51.364Z"
   },
   {
    "duration": 20,
    "start_time": "2024-10-23T11:20:20.468Z"
   },
   {
    "duration": 45,
    "start_time": "2024-10-23T11:22:59.706Z"
   },
   {
    "duration": 34,
    "start_time": "2024-10-23T11:23:06.666Z"
   },
   {
    "duration": 4,
    "start_time": "2024-10-23T11:23:12.871Z"
   },
   {
    "duration": 10,
    "start_time": "2024-10-23T11:23:30.483Z"
   },
   {
    "duration": 6,
    "start_time": "2024-10-23T11:25:29.348Z"
   },
   {
    "duration": 6,
    "start_time": "2024-10-23T11:25:43.447Z"
   },
   {
    "duration": 3,
    "start_time": "2024-10-23T11:25:48.396Z"
   },
   {
    "duration": 162,
    "start_time": "2024-10-23T11:25:48.401Z"
   },
   {
    "duration": 9,
    "start_time": "2024-10-23T11:25:48.566Z"
   },
   {
    "duration": 8,
    "start_time": "2024-10-23T11:25:48.578Z"
   },
   {
    "duration": 23,
    "start_time": "2024-10-23T11:25:48.587Z"
   },
   {
    "duration": 10,
    "start_time": "2024-10-23T11:25:48.611Z"
   },
   {
    "duration": 10,
    "start_time": "2024-10-23T11:25:48.622Z"
   },
   {
    "duration": 5,
    "start_time": "2024-10-23T11:25:48.633Z"
   },
   {
    "duration": 9,
    "start_time": "2024-10-23T11:25:48.641Z"
   },
   {
    "duration": 14,
    "start_time": "2024-10-23T11:25:48.652Z"
   },
   {
    "duration": 6,
    "start_time": "2024-10-23T11:25:48.668Z"
   },
   {
    "duration": 24,
    "start_time": "2024-10-23T11:25:48.709Z"
   },
   {
    "duration": 9,
    "start_time": "2024-10-23T11:25:48.734Z"
   },
   {
    "duration": 11,
    "start_time": "2024-10-23T11:25:48.744Z"
   },
   {
    "duration": 6,
    "start_time": "2024-10-23T11:25:48.757Z"
   },
   {
    "duration": 52,
    "start_time": "2024-10-23T11:25:48.765Z"
   },
   {
    "duration": 13,
    "start_time": "2024-10-23T11:25:48.819Z"
   },
   {
    "duration": 13,
    "start_time": "2024-10-23T11:25:48.833Z"
   },
   {
    "duration": 7,
    "start_time": "2024-10-23T11:25:48.847Z"
   },
   {
    "duration": 17,
    "start_time": "2024-10-23T11:25:48.856Z"
   },
   {
    "duration": 37,
    "start_time": "2024-10-23T11:25:48.874Z"
   },
   {
    "duration": 8,
    "start_time": "2024-10-23T11:25:48.913Z"
   },
   {
    "duration": 27,
    "start_time": "2024-10-23T11:25:48.922Z"
   },
   {
    "duration": 28,
    "start_time": "2024-10-23T11:25:48.953Z"
   },
   {
    "duration": 46,
    "start_time": "2024-10-23T11:25:48.983Z"
   },
   {
    "duration": 24,
    "start_time": "2024-10-23T11:25:49.030Z"
   },
   {
    "duration": 20,
    "start_time": "2024-10-23T11:25:49.056Z"
   },
   {
    "duration": 2,
    "start_time": "2024-10-23T11:25:49.078Z"
   },
   {
    "duration": 28,
    "start_time": "2024-10-23T11:25:49.082Z"
   },
   {
    "duration": 2,
    "start_time": "2024-10-23T11:25:49.112Z"
   },
   {
    "duration": 4,
    "start_time": "2024-10-23T11:25:49.116Z"
   },
   {
    "duration": 3,
    "start_time": "2024-10-23T11:25:49.121Z"
   },
   {
    "duration": 2,
    "start_time": "2024-10-23T11:25:49.126Z"
   },
   {
    "duration": 3,
    "start_time": "2024-10-23T11:25:49.130Z"
   },
   {
    "duration": 3,
    "start_time": "2024-10-23T11:25:49.134Z"
   },
   {
    "duration": 2,
    "start_time": "2024-10-23T11:25:49.139Z"
   },
   {
    "duration": 2,
    "start_time": "2024-10-23T11:25:49.143Z"
   },
   {
    "duration": 7,
    "start_time": "2024-10-23T11:26:19.759Z"
   },
   {
    "duration": 11,
    "start_time": "2024-10-23T11:26:23.655Z"
   },
   {
    "duration": 3,
    "start_time": "2024-10-23T11:26:26.550Z"
   },
   {
    "duration": 155,
    "start_time": "2024-10-23T11:26:26.555Z"
   },
   {
    "duration": 8,
    "start_time": "2024-10-23T11:26:26.713Z"
   },
   {
    "duration": 7,
    "start_time": "2024-10-23T11:26:26.722Z"
   },
   {
    "duration": 8,
    "start_time": "2024-10-23T11:26:26.732Z"
   },
   {
    "duration": 8,
    "start_time": "2024-10-23T11:26:26.742Z"
   },
   {
    "duration": 9,
    "start_time": "2024-10-23T11:26:26.752Z"
   },
   {
    "duration": 7,
    "start_time": "2024-10-23T11:26:26.762Z"
   },
   {
    "duration": 40,
    "start_time": "2024-10-23T11:26:26.770Z"
   },
   {
    "duration": 15,
    "start_time": "2024-10-23T11:26:26.811Z"
   },
   {
    "duration": 9,
    "start_time": "2024-10-23T11:26:26.830Z"
   },
   {
    "duration": 24,
    "start_time": "2024-10-23T11:26:26.840Z"
   },
   {
    "duration": 9,
    "start_time": "2024-10-23T11:26:26.866Z"
   },
   {
    "duration": 43,
    "start_time": "2024-10-23T11:26:26.876Z"
   },
   {
    "duration": 8,
    "start_time": "2024-10-23T11:26:26.920Z"
   },
   {
    "duration": 16,
    "start_time": "2024-10-23T11:26:26.930Z"
   },
   {
    "duration": 12,
    "start_time": "2024-10-23T11:26:26.948Z"
   },
   {
    "duration": 15,
    "start_time": "2024-10-23T11:26:26.962Z"
   },
   {
    "duration": 31,
    "start_time": "2024-10-23T11:26:26.979Z"
   },
   {
    "duration": 17,
    "start_time": "2024-10-23T11:26:27.012Z"
   },
   {
    "duration": 8,
    "start_time": "2024-10-23T11:26:27.030Z"
   },
   {
    "duration": 7,
    "start_time": "2024-10-23T11:26:27.040Z"
   },
   {
    "duration": 26,
    "start_time": "2024-10-23T11:26:27.049Z"
   },
   {
    "duration": 28,
    "start_time": "2024-10-23T11:26:27.108Z"
   },
   {
    "duration": 23,
    "start_time": "2024-10-23T11:26:27.138Z"
   },
   {
    "duration": 51,
    "start_time": "2024-10-23T11:26:27.163Z"
   },
   {
    "duration": 21,
    "start_time": "2024-10-23T11:26:27.215Z"
   },
   {
    "duration": 2,
    "start_time": "2024-10-23T11:26:27.238Z"
   },
   {
    "duration": 2,
    "start_time": "2024-10-23T11:26:27.243Z"
   },
   {
    "duration": 3,
    "start_time": "2024-10-23T11:26:27.247Z"
   },
   {
    "duration": 3,
    "start_time": "2024-10-23T11:26:27.251Z"
   },
   {
    "duration": 2,
    "start_time": "2024-10-23T11:26:27.256Z"
   },
   {
    "duration": 2,
    "start_time": "2024-10-23T11:26:27.260Z"
   },
   {
    "duration": 3,
    "start_time": "2024-10-23T11:26:27.264Z"
   },
   {
    "duration": 4,
    "start_time": "2024-10-23T11:26:27.268Z"
   },
   {
    "duration": 40,
    "start_time": "2024-10-23T11:26:27.274Z"
   },
   {
    "duration": 3,
    "start_time": "2024-10-23T11:26:27.316Z"
   },
   {
    "duration": 17,
    "start_time": "2024-10-23T11:27:00.297Z"
   },
   {
    "duration": 2434,
    "start_time": "2024-10-23T23:02:36.338Z"
   },
   {
    "duration": 224,
    "start_time": "2024-10-23T23:02:38.774Z"
   },
   {
    "duration": 10,
    "start_time": "2024-10-23T23:02:39.000Z"
   },
   {
    "duration": 8,
    "start_time": "2024-10-23T23:02:39.012Z"
   },
   {
    "duration": 9,
    "start_time": "2024-10-23T23:02:39.022Z"
   },
   {
    "duration": 8,
    "start_time": "2024-10-23T23:02:39.033Z"
   },
   {
    "duration": 8,
    "start_time": "2024-10-23T23:02:39.042Z"
   },
   {
    "duration": 6,
    "start_time": "2024-10-23T23:02:39.052Z"
   },
   {
    "duration": 46,
    "start_time": "2024-10-23T23:02:39.059Z"
   },
   {
    "duration": 15,
    "start_time": "2024-10-23T23:02:39.108Z"
   },
   {
    "duration": 7,
    "start_time": "2024-10-23T23:02:39.125Z"
   },
   {
    "duration": 23,
    "start_time": "2024-10-23T23:02:39.133Z"
   },
   {
    "duration": 7,
    "start_time": "2024-10-23T23:02:39.157Z"
   },
   {
    "duration": 40,
    "start_time": "2024-10-23T23:02:39.166Z"
   },
   {
    "duration": 6,
    "start_time": "2024-10-23T23:02:39.208Z"
   },
   {
    "duration": 17,
    "start_time": "2024-10-23T23:02:39.215Z"
   },
   {
    "duration": 13,
    "start_time": "2024-10-23T23:02:39.234Z"
   },
   {
    "duration": 12,
    "start_time": "2024-10-23T23:02:39.249Z"
   },
   {
    "duration": 6,
    "start_time": "2024-10-23T23:02:39.263Z"
   },
   {
    "duration": 50,
    "start_time": "2024-10-23T23:02:39.271Z"
   },
   {
    "duration": 9,
    "start_time": "2024-10-23T23:02:39.323Z"
   },
   {
    "duration": 8,
    "start_time": "2024-10-23T23:02:39.333Z"
   },
   {
    "duration": 28,
    "start_time": "2024-10-23T23:02:39.342Z"
   },
   {
    "duration": 52,
    "start_time": "2024-10-23T23:02:39.372Z"
   },
   {
    "duration": 22,
    "start_time": "2024-10-23T23:02:39.426Z"
   },
   {
    "duration": 23,
    "start_time": "2024-10-23T23:02:39.450Z"
   },
   {
    "duration": 41,
    "start_time": "2024-10-23T23:02:39.475Z"
   },
   {
    "duration": 2,
    "start_time": "2024-10-23T23:02:39.520Z"
   },
   {
    "duration": 3,
    "start_time": "2024-10-23T23:02:39.523Z"
   },
   {
    "duration": 3,
    "start_time": "2024-10-23T23:02:39.528Z"
   },
   {
    "duration": 3,
    "start_time": "2024-10-23T23:02:39.532Z"
   },
   {
    "duration": 4,
    "start_time": "2024-10-23T23:02:39.537Z"
   },
   {
    "duration": 3,
    "start_time": "2024-10-23T23:02:39.543Z"
   },
   {
    "duration": 3,
    "start_time": "2024-10-23T23:02:39.547Z"
   },
   {
    "duration": 3,
    "start_time": "2024-10-23T23:02:39.552Z"
   },
   {
    "duration": 3,
    "start_time": "2024-10-23T23:02:39.556Z"
   },
   {
    "duration": 3,
    "start_time": "2024-10-23T23:02:39.561Z"
   },
   {
    "duration": 6,
    "start_time": "2024-10-23T23:05:08.898Z"
   },
   {
    "duration": 11,
    "start_time": "2024-10-23T23:05:10.360Z"
   },
   {
    "duration": 3,
    "start_time": "2024-10-23T23:05:14.118Z"
   },
   {
    "duration": 159,
    "start_time": "2024-10-23T23:05:14.123Z"
   },
   {
    "duration": 8,
    "start_time": "2024-10-23T23:05:14.284Z"
   },
   {
    "duration": 16,
    "start_time": "2024-10-23T23:05:14.295Z"
   },
   {
    "duration": 8,
    "start_time": "2024-10-23T23:05:14.314Z"
   },
   {
    "duration": 8,
    "start_time": "2024-10-23T23:05:14.323Z"
   },
   {
    "duration": 9,
    "start_time": "2024-10-23T23:05:14.332Z"
   },
   {
    "duration": 6,
    "start_time": "2024-10-23T23:05:14.342Z"
   },
   {
    "duration": 10,
    "start_time": "2024-10-23T23:05:14.350Z"
   },
   {
    "duration": 46,
    "start_time": "2024-10-23T23:05:14.362Z"
   },
   {
    "duration": 7,
    "start_time": "2024-10-23T23:05:14.410Z"
   },
   {
    "duration": 23,
    "start_time": "2024-10-23T23:05:14.420Z"
   },
   {
    "duration": 9,
    "start_time": "2024-10-23T23:05:14.447Z"
   },
   {
    "duration": 11,
    "start_time": "2024-10-23T23:05:14.457Z"
   },
   {
    "duration": 6,
    "start_time": "2024-10-23T23:05:14.470Z"
   },
   {
    "duration": 17,
    "start_time": "2024-10-23T23:05:14.505Z"
   },
   {
    "duration": 12,
    "start_time": "2024-10-23T23:05:14.523Z"
   },
   {
    "duration": 13,
    "start_time": "2024-10-23T23:05:14.537Z"
   },
   {
    "duration": 6,
    "start_time": "2024-10-23T23:05:14.551Z"
   },
   {
    "duration": 45,
    "start_time": "2024-10-23T23:05:14.559Z"
   },
   {
    "duration": 9,
    "start_time": "2024-10-23T23:05:14.606Z"
   },
   {
    "duration": 8,
    "start_time": "2024-10-23T23:05:14.616Z"
   },
   {
    "duration": 27,
    "start_time": "2024-10-23T23:05:14.626Z"
   },
   {
    "duration": 51,
    "start_time": "2024-10-23T23:05:14.655Z"
   },
   {
    "duration": 26,
    "start_time": "2024-10-23T23:05:14.708Z"
   },
   {
    "duration": 24,
    "start_time": "2024-10-23T23:05:14.736Z"
   },
   {
    "duration": 19,
    "start_time": "2024-10-23T23:05:14.762Z"
   },
   {
    "duration": 22,
    "start_time": "2024-10-23T23:05:14.783Z"
   },
   {
    "duration": 2,
    "start_time": "2024-10-23T23:05:14.807Z"
   },
   {
    "duration": 2,
    "start_time": "2024-10-23T23:05:14.812Z"
   },
   {
    "duration": 4,
    "start_time": "2024-10-23T23:05:14.815Z"
   },
   {
    "duration": 2,
    "start_time": "2024-10-23T23:05:14.821Z"
   },
   {
    "duration": 5,
    "start_time": "2024-10-23T23:05:14.825Z"
   },
   {
    "duration": 4,
    "start_time": "2024-10-23T23:05:14.833Z"
   },
   {
    "duration": 3,
    "start_time": "2024-10-23T23:05:14.839Z"
   },
   {
    "duration": 2,
    "start_time": "2024-10-23T23:05:14.845Z"
   },
   {
    "duration": 3,
    "start_time": "2024-10-23T23:05:14.854Z"
   },
   {
    "duration": 276,
    "start_time": "2024-10-23T23:05:56.792Z"
   },
   {
    "duration": 25,
    "start_time": "2024-10-23T23:06:02.796Z"
   },
   {
    "duration": 6,
    "start_time": "2024-10-23T23:06:07.990Z"
   },
   {
    "duration": 6,
    "start_time": "2024-10-23T23:06:48.527Z"
   },
   {
    "duration": 11,
    "start_time": "2024-10-23T23:06:49.973Z"
   },
   {
    "duration": 6,
    "start_time": "2024-10-23T23:06:59.075Z"
   },
   {
    "duration": 7,
    "start_time": "2024-10-23T23:07:01.320Z"
   },
   {
    "duration": 10,
    "start_time": "2024-10-23T23:07:02.746Z"
   },
   {
    "duration": 267,
    "start_time": "2024-10-24T00:04:32.384Z"
   },
   {
    "duration": 31,
    "start_time": "2024-10-24T00:04:35.656Z"
   },
   {
    "duration": 23,
    "start_time": "2024-10-24T00:04:59.606Z"
   },
   {
    "duration": 30,
    "start_time": "2024-10-24T00:05:20.073Z"
   },
   {
    "duration": 3,
    "start_time": "2024-10-24T00:05:35.214Z"
   },
   {
    "duration": 154,
    "start_time": "2024-10-24T00:05:35.219Z"
   },
   {
    "duration": 9,
    "start_time": "2024-10-24T00:05:35.375Z"
   },
   {
    "duration": 7,
    "start_time": "2024-10-24T00:05:35.386Z"
   },
   {
    "duration": 9,
    "start_time": "2024-10-24T00:05:35.405Z"
   },
   {
    "duration": 9,
    "start_time": "2024-10-24T00:05:35.416Z"
   },
   {
    "duration": 9,
    "start_time": "2024-10-24T00:05:35.427Z"
   },
   {
    "duration": 6,
    "start_time": "2024-10-24T00:05:35.437Z"
   },
   {
    "duration": 10,
    "start_time": "2024-10-24T00:05:35.446Z"
   },
   {
    "duration": 14,
    "start_time": "2024-10-24T00:05:35.457Z"
   },
   {
    "duration": 38,
    "start_time": "2024-10-24T00:05:35.472Z"
   },
   {
    "duration": 26,
    "start_time": "2024-10-24T00:05:35.511Z"
   },
   {
    "duration": 12,
    "start_time": "2024-10-24T00:05:35.540Z"
   },
   {
    "duration": 13,
    "start_time": "2024-10-24T00:05:35.554Z"
   },
   {
    "duration": 8,
    "start_time": "2024-10-24T00:05:35.569Z"
   },
   {
    "duration": 38,
    "start_time": "2024-10-24T00:05:35.580Z"
   },
   {
    "duration": 14,
    "start_time": "2024-10-24T00:05:35.620Z"
   },
   {
    "duration": 13,
    "start_time": "2024-10-24T00:05:35.635Z"
   },
   {
    "duration": 6,
    "start_time": "2024-10-24T00:05:35.650Z"
   },
   {
    "duration": 49,
    "start_time": "2024-10-24T00:05:35.658Z"
   },
   {
    "duration": 8,
    "start_time": "2024-10-24T00:05:35.709Z"
   },
   {
    "duration": 7,
    "start_time": "2024-10-24T00:05:35.718Z"
   },
   {
    "duration": 27,
    "start_time": "2024-10-24T00:05:35.726Z"
   },
   {
    "duration": 25,
    "start_time": "2024-10-24T00:05:35.756Z"
   },
   {
    "duration": 24,
    "start_time": "2024-10-24T00:05:35.805Z"
   },
   {
    "duration": 22,
    "start_time": "2024-10-24T00:05:35.831Z"
   },
   {
    "duration": 17,
    "start_time": "2024-10-24T00:05:35.855Z"
   },
   {
    "duration": 54,
    "start_time": "2024-10-24T00:05:35.874Z"
   },
   {
    "duration": 0,
    "start_time": "2024-10-24T00:05:35.929Z"
   },
   {
    "duration": 0,
    "start_time": "2024-10-24T00:05:35.930Z"
   },
   {
    "duration": 0,
    "start_time": "2024-10-24T00:05:35.931Z"
   },
   {
    "duration": 0,
    "start_time": "2024-10-24T00:05:35.932Z"
   },
   {
    "duration": 0,
    "start_time": "2024-10-24T00:05:35.933Z"
   },
   {
    "duration": 0,
    "start_time": "2024-10-24T00:05:35.934Z"
   },
   {
    "duration": 0,
    "start_time": "2024-10-24T00:05:35.935Z"
   },
   {
    "duration": 0,
    "start_time": "2024-10-24T00:05:35.936Z"
   },
   {
    "duration": 0,
    "start_time": "2024-10-24T00:05:35.938Z"
   },
   {
    "duration": 5,
    "start_time": "2024-10-24T00:07:05.590Z"
   },
   {
    "duration": 4,
    "start_time": "2024-10-24T00:07:25.994Z"
   },
   {
    "duration": 30,
    "start_time": "2024-10-24T00:07:38.481Z"
   },
   {
    "duration": 199,
    "start_time": "2024-10-24T00:07:47.606Z"
   },
   {
    "duration": 216,
    "start_time": "2024-10-24T00:08:04.818Z"
   },
   {
    "duration": 41,
    "start_time": "2024-10-24T00:08:12.088Z"
   },
   {
    "duration": 20,
    "start_time": "2024-10-24T00:08:53.304Z"
   },
   {
    "duration": 19,
    "start_time": "2024-10-24T00:10:47.479Z"
   },
   {
    "duration": 3,
    "start_time": "2024-10-24T00:10:54.245Z"
   },
   {
    "duration": 154,
    "start_time": "2024-10-24T00:10:54.251Z"
   },
   {
    "duration": 9,
    "start_time": "2024-10-24T00:10:54.406Z"
   },
   {
    "duration": 7,
    "start_time": "2024-10-24T00:10:54.417Z"
   },
   {
    "duration": 9,
    "start_time": "2024-10-24T00:10:54.426Z"
   },
   {
    "duration": 7,
    "start_time": "2024-10-24T00:10:54.438Z"
   },
   {
    "duration": 8,
    "start_time": "2024-10-24T00:10:54.447Z"
   },
   {
    "duration": 6,
    "start_time": "2024-10-24T00:10:54.456Z"
   },
   {
    "duration": 48,
    "start_time": "2024-10-24T00:10:54.464Z"
   },
   {
    "duration": 16,
    "start_time": "2024-10-24T00:10:54.513Z"
   },
   {
    "duration": 7,
    "start_time": "2024-10-24T00:10:54.530Z"
   },
   {
    "duration": 23,
    "start_time": "2024-10-24T00:10:54.539Z"
   },
   {
    "duration": 9,
    "start_time": "2024-10-24T00:10:54.563Z"
   },
   {
    "duration": 36,
    "start_time": "2024-10-24T00:10:54.574Z"
   },
   {
    "duration": 6,
    "start_time": "2024-10-24T00:10:54.612Z"
   },
   {
    "duration": 17,
    "start_time": "2024-10-24T00:10:54.620Z"
   },
   {
    "duration": 13,
    "start_time": "2024-10-24T00:10:54.638Z"
   },
   {
    "duration": 13,
    "start_time": "2024-10-24T00:10:54.652Z"
   },
   {
    "duration": 40,
    "start_time": "2024-10-24T00:10:54.666Z"
   },
   {
    "duration": 17,
    "start_time": "2024-10-24T00:10:54.708Z"
   },
   {
    "duration": 8,
    "start_time": "2024-10-24T00:10:54.727Z"
   },
   {
    "duration": 7,
    "start_time": "2024-10-24T00:10:54.737Z"
   },
   {
    "duration": 27,
    "start_time": "2024-10-24T00:10:54.746Z"
   },
   {
    "duration": 27,
    "start_time": "2024-10-24T00:10:54.806Z"
   },
   {
    "duration": 25,
    "start_time": "2024-10-24T00:10:54.834Z"
   },
   {
    "duration": 23,
    "start_time": "2024-10-24T00:10:54.860Z"
   },
   {
    "duration": 33,
    "start_time": "2024-10-24T00:10:54.885Z"
   },
   {
    "duration": 19,
    "start_time": "2024-10-24T00:10:54.919Z"
   },
   {
    "duration": 0,
    "start_time": "2024-10-24T00:10:54.939Z"
   },
   {
    "duration": 0,
    "start_time": "2024-10-24T00:10:54.940Z"
   },
   {
    "duration": 0,
    "start_time": "2024-10-24T00:10:54.942Z"
   },
   {
    "duration": 0,
    "start_time": "2024-10-24T00:10:54.944Z"
   },
   {
    "duration": 0,
    "start_time": "2024-10-24T00:10:54.946Z"
   },
   {
    "duration": 0,
    "start_time": "2024-10-24T00:10:54.947Z"
   },
   {
    "duration": 0,
    "start_time": "2024-10-24T00:10:54.948Z"
   },
   {
    "duration": 0,
    "start_time": "2024-10-24T00:10:54.950Z"
   },
   {
    "duration": 0,
    "start_time": "2024-10-24T00:10:54.951Z"
   },
   {
    "duration": 749,
    "start_time": "2024-10-24T00:11:09.877Z"
   },
   {
    "duration": 156,
    "start_time": "2024-10-24T00:11:10.629Z"
   },
   {
    "duration": 10,
    "start_time": "2024-10-24T00:11:10.786Z"
   },
   {
    "duration": 15,
    "start_time": "2024-10-24T00:11:10.798Z"
   },
   {
    "duration": 9,
    "start_time": "2024-10-24T00:11:10.814Z"
   },
   {
    "duration": 7,
    "start_time": "2024-10-24T00:11:10.825Z"
   },
   {
    "duration": 8,
    "start_time": "2024-10-24T00:11:10.834Z"
   },
   {
    "duration": 6,
    "start_time": "2024-10-24T00:11:10.843Z"
   },
   {
    "duration": 10,
    "start_time": "2024-10-24T00:11:10.851Z"
   },
   {
    "duration": 47,
    "start_time": "2024-10-24T00:11:10.865Z"
   },
   {
    "duration": 7,
    "start_time": "2024-10-24T00:11:10.913Z"
   },
   {
    "duration": 23,
    "start_time": "2024-10-24T00:11:10.922Z"
   },
   {
    "duration": 8,
    "start_time": "2024-10-24T00:11:10.946Z"
   },
   {
    "duration": 11,
    "start_time": "2024-10-24T00:11:10.956Z"
   },
   {
    "duration": 6,
    "start_time": "2024-10-24T00:11:10.968Z"
   },
   {
    "duration": 15,
    "start_time": "2024-10-24T00:11:11.007Z"
   },
   {
    "duration": 12,
    "start_time": "2024-10-24T00:11:11.024Z"
   },
   {
    "duration": 13,
    "start_time": "2024-10-24T00:11:11.038Z"
   },
   {
    "duration": 6,
    "start_time": "2024-10-24T00:11:11.053Z"
   },
   {
    "duration": 45,
    "start_time": "2024-10-24T00:11:11.061Z"
   },
   {
    "duration": 7,
    "start_time": "2024-10-24T00:11:11.108Z"
   },
   {
    "duration": 7,
    "start_time": "2024-10-24T00:11:11.117Z"
   },
   {
    "duration": 30,
    "start_time": "2024-10-24T00:11:11.126Z"
   },
   {
    "duration": 59,
    "start_time": "2024-10-24T00:11:11.157Z"
   },
   {
    "duration": 30,
    "start_time": "2024-10-24T00:11:11.220Z"
   },
   {
    "duration": 24,
    "start_time": "2024-10-24T00:11:11.252Z"
   },
   {
    "duration": 33,
    "start_time": "2024-10-24T00:11:11.278Z"
   },
   {
    "duration": 133,
    "start_time": "2024-10-24T00:11:11.315Z"
   },
   {
    "duration": 0,
    "start_time": "2024-10-24T00:11:11.449Z"
   },
   {
    "duration": 0,
    "start_time": "2024-10-24T00:11:11.450Z"
   },
   {
    "duration": 0,
    "start_time": "2024-10-24T00:11:11.451Z"
   },
   {
    "duration": 0,
    "start_time": "2024-10-24T00:11:11.453Z"
   },
   {
    "duration": 0,
    "start_time": "2024-10-24T00:11:11.455Z"
   },
   {
    "duration": 0,
    "start_time": "2024-10-24T00:11:11.456Z"
   },
   {
    "duration": 0,
    "start_time": "2024-10-24T00:11:11.457Z"
   },
   {
    "duration": 0,
    "start_time": "2024-10-24T00:11:11.458Z"
   },
   {
    "duration": 0,
    "start_time": "2024-10-24T00:11:11.459Z"
   },
   {
    "duration": 19,
    "start_time": "2024-10-24T00:11:21.976Z"
   },
   {
    "duration": 20,
    "start_time": "2024-10-24T00:11:28.253Z"
   },
   {
    "duration": 32,
    "start_time": "2024-10-24T00:14:30.395Z"
   },
   {
    "duration": 32,
    "start_time": "2024-10-24T00:15:03.920Z"
   },
   {
    "duration": 31,
    "start_time": "2024-10-24T00:16:20.124Z"
   },
   {
    "duration": 2,
    "start_time": "2024-10-24T00:16:24.454Z"
   },
   {
    "duration": 158,
    "start_time": "2024-10-24T00:16:24.458Z"
   },
   {
    "duration": 10,
    "start_time": "2024-10-24T00:16:24.618Z"
   },
   {
    "duration": 7,
    "start_time": "2024-10-24T00:16:24.631Z"
   },
   {
    "duration": 12,
    "start_time": "2024-10-24T00:16:24.640Z"
   },
   {
    "duration": 8,
    "start_time": "2024-10-24T00:16:24.653Z"
   },
   {
    "duration": 8,
    "start_time": "2024-10-24T00:16:24.663Z"
   },
   {
    "duration": 32,
    "start_time": "2024-10-24T00:16:24.674Z"
   },
   {
    "duration": 11,
    "start_time": "2024-10-24T00:16:24.709Z"
   },
   {
    "duration": 15,
    "start_time": "2024-10-24T00:16:24.722Z"
   },
   {
    "duration": 7,
    "start_time": "2024-10-24T00:16:24.738Z"
   },
   {
    "duration": 24,
    "start_time": "2024-10-24T00:16:24.746Z"
   },
   {
    "duration": 37,
    "start_time": "2024-10-24T00:16:24.772Z"
   },
   {
    "duration": 14,
    "start_time": "2024-10-24T00:16:24.810Z"
   },
   {
    "duration": 7,
    "start_time": "2024-10-24T00:16:24.826Z"
   },
   {
    "duration": 16,
    "start_time": "2024-10-24T00:16:24.835Z"
   },
   {
    "duration": 13,
    "start_time": "2024-10-24T00:16:24.853Z"
   },
   {
    "duration": 39,
    "start_time": "2024-10-24T00:16:24.867Z"
   },
   {
    "duration": 7,
    "start_time": "2024-10-24T00:16:24.907Z"
   },
   {
    "duration": 16,
    "start_time": "2024-10-24T00:16:24.916Z"
   },
   {
    "duration": 8,
    "start_time": "2024-10-24T00:16:24.934Z"
   },
   {
    "duration": 6,
    "start_time": "2024-10-24T00:16:24.944Z"
   },
   {
    "duration": 56,
    "start_time": "2024-10-24T00:16:24.951Z"
   },
   {
    "duration": 27,
    "start_time": "2024-10-24T00:16:25.011Z"
   },
   {
    "duration": 24,
    "start_time": "2024-10-24T00:16:25.039Z"
   },
   {
    "duration": 45,
    "start_time": "2024-10-24T00:16:25.064Z"
   },
   {
    "duration": 16,
    "start_time": "2024-10-24T00:16:25.110Z"
   },
   {
    "duration": 14,
    "start_time": "2024-10-24T00:16:25.128Z"
   },
   {
    "duration": 2,
    "start_time": "2024-10-24T00:16:25.144Z"
   },
   {
    "duration": 3,
    "start_time": "2024-10-24T00:16:25.148Z"
   },
   {
    "duration": 3,
    "start_time": "2024-10-24T00:16:25.152Z"
   },
   {
    "duration": 3,
    "start_time": "2024-10-24T00:16:25.156Z"
   },
   {
    "duration": 3,
    "start_time": "2024-10-24T00:16:25.160Z"
   },
   {
    "duration": 40,
    "start_time": "2024-10-24T00:16:25.165Z"
   },
   {
    "duration": 3,
    "start_time": "2024-10-24T00:16:25.206Z"
   },
   {
    "duration": 3,
    "start_time": "2024-10-24T00:16:25.210Z"
   },
   {
    "duration": 3,
    "start_time": "2024-10-24T00:16:25.215Z"
   },
   {
    "duration": 12,
    "start_time": "2024-10-24T00:16:50.092Z"
   },
   {
    "duration": 2,
    "start_time": "2024-10-24T00:16:57.444Z"
   },
   {
    "duration": 155,
    "start_time": "2024-10-24T00:16:57.448Z"
   },
   {
    "duration": 8,
    "start_time": "2024-10-24T00:16:57.605Z"
   },
   {
    "duration": 6,
    "start_time": "2024-10-24T00:16:57.616Z"
   },
   {
    "duration": 8,
    "start_time": "2024-10-24T00:16:57.624Z"
   },
   {
    "duration": 8,
    "start_time": "2024-10-24T00:16:57.633Z"
   },
   {
    "duration": 9,
    "start_time": "2024-10-24T00:16:57.642Z"
   },
   {
    "duration": 6,
    "start_time": "2024-10-24T00:16:57.652Z"
   },
   {
    "duration": 10,
    "start_time": "2024-10-24T00:16:57.660Z"
   },
   {
    "duration": 15,
    "start_time": "2024-10-24T00:16:57.705Z"
   },
   {
    "duration": 6,
    "start_time": "2024-10-24T00:16:57.722Z"
   },
   {
    "duration": 22,
    "start_time": "2024-10-24T00:16:57.730Z"
   },
   {
    "duration": 8,
    "start_time": "2024-10-24T00:16:57.754Z"
   },
   {
    "duration": 42,
    "start_time": "2024-10-24T00:16:57.763Z"
   },
   {
    "duration": 6,
    "start_time": "2024-10-24T00:16:57.807Z"
   },
   {
    "duration": 17,
    "start_time": "2024-10-24T00:16:57.814Z"
   },
   {
    "duration": 12,
    "start_time": "2024-10-24T00:16:57.833Z"
   },
   {
    "duration": 14,
    "start_time": "2024-10-24T00:16:57.846Z"
   },
   {
    "duration": 7,
    "start_time": "2024-10-24T00:16:57.861Z"
   },
   {
    "duration": 49,
    "start_time": "2024-10-24T00:16:57.870Z"
   },
   {
    "duration": 8,
    "start_time": "2024-10-24T00:16:57.921Z"
   },
   {
    "duration": 8,
    "start_time": "2024-10-24T00:16:57.931Z"
   },
   {
    "duration": 27,
    "start_time": "2024-10-24T00:16:57.940Z"
   },
   {
    "duration": 50,
    "start_time": "2024-10-24T00:16:57.970Z"
   },
   {
    "duration": 22,
    "start_time": "2024-10-24T00:16:58.022Z"
   },
   {
    "duration": 24,
    "start_time": "2024-10-24T00:16:58.045Z"
   },
   {
    "duration": 36,
    "start_time": "2024-10-24T00:16:58.070Z"
   },
   {
    "duration": 12,
    "start_time": "2024-10-24T00:16:58.108Z"
   },
   {
    "duration": 3,
    "start_time": "2024-10-24T00:16:58.122Z"
   },
   {
    "duration": 3,
    "start_time": "2024-10-24T00:16:58.126Z"
   },
   {
    "duration": 2,
    "start_time": "2024-10-24T00:16:58.132Z"
   },
   {
    "duration": 3,
    "start_time": "2024-10-24T00:16:58.136Z"
   },
   {
    "duration": 2,
    "start_time": "2024-10-24T00:16:58.141Z"
   },
   {
    "duration": 3,
    "start_time": "2024-10-24T00:16:58.145Z"
   },
   {
    "duration": 3,
    "start_time": "2024-10-24T00:16:58.150Z"
   },
   {
    "duration": 2,
    "start_time": "2024-10-24T00:16:58.155Z"
   },
   {
    "duration": 3,
    "start_time": "2024-10-24T00:16:58.159Z"
   },
   {
    "duration": 13,
    "start_time": "2024-10-24T00:17:24.013Z"
   },
   {
    "duration": 2,
    "start_time": "2024-10-24T00:17:39.777Z"
   },
   {
    "duration": 158,
    "start_time": "2024-10-24T00:17:39.781Z"
   },
   {
    "duration": 9,
    "start_time": "2024-10-24T00:17:39.941Z"
   },
   {
    "duration": 8,
    "start_time": "2024-10-24T00:17:39.951Z"
   },
   {
    "duration": 7,
    "start_time": "2024-10-24T00:17:39.962Z"
   },
   {
    "duration": 7,
    "start_time": "2024-10-24T00:17:39.971Z"
   },
   {
    "duration": 8,
    "start_time": "2024-10-24T00:17:40.005Z"
   },
   {
    "duration": 6,
    "start_time": "2024-10-24T00:17:40.015Z"
   },
   {
    "duration": 10,
    "start_time": "2024-10-24T00:17:40.023Z"
   },
   {
    "duration": 15,
    "start_time": "2024-10-24T00:17:40.034Z"
   },
   {
    "duration": 7,
    "start_time": "2024-10-24T00:17:40.050Z"
   },
   {
    "duration": 52,
    "start_time": "2024-10-24T00:17:40.058Z"
   },
   {
    "duration": 9,
    "start_time": "2024-10-24T00:17:40.113Z"
   },
   {
    "duration": 11,
    "start_time": "2024-10-24T00:17:40.123Z"
   },
   {
    "duration": 6,
    "start_time": "2024-10-24T00:17:40.136Z"
   },
   {
    "duration": 16,
    "start_time": "2024-10-24T00:17:40.143Z"
   },
   {
    "duration": 46,
    "start_time": "2024-10-24T00:17:40.160Z"
   },
   {
    "duration": 14,
    "start_time": "2024-10-24T00:17:40.208Z"
   },
   {
    "duration": 7,
    "start_time": "2024-10-24T00:17:40.223Z"
   },
   {
    "duration": 17,
    "start_time": "2024-10-24T00:17:40.231Z"
   },
   {
    "duration": 8,
    "start_time": "2024-10-24T00:17:40.249Z"
   },
   {
    "duration": 6,
    "start_time": "2024-10-24T00:17:40.259Z"
   },
   {
    "duration": 58,
    "start_time": "2024-10-24T00:17:40.267Z"
   },
   {
    "duration": 26,
    "start_time": "2024-10-24T00:17:40.327Z"
   },
   {
    "duration": 22,
    "start_time": "2024-10-24T00:17:40.355Z"
   },
   {
    "duration": 51,
    "start_time": "2024-10-24T00:17:40.379Z"
   },
   {
    "duration": 17,
    "start_time": "2024-10-24T00:17:40.431Z"
   },
   {
    "duration": 10,
    "start_time": "2024-10-24T00:17:40.449Z"
   },
   {
    "duration": 2,
    "start_time": "2024-10-24T00:17:40.461Z"
   },
   {
    "duration": 3,
    "start_time": "2024-10-24T00:17:40.465Z"
   },
   {
    "duration": 3,
    "start_time": "2024-10-24T00:17:40.469Z"
   },
   {
    "duration": 33,
    "start_time": "2024-10-24T00:17:40.473Z"
   },
   {
    "duration": 2,
    "start_time": "2024-10-24T00:17:40.508Z"
   },
   {
    "duration": 3,
    "start_time": "2024-10-24T00:17:40.512Z"
   },
   {
    "duration": 2,
    "start_time": "2024-10-24T00:17:40.517Z"
   },
   {
    "duration": 3,
    "start_time": "2024-10-24T00:17:40.520Z"
   },
   {
    "duration": 2,
    "start_time": "2024-10-24T00:17:40.527Z"
   },
   {
    "duration": 16,
    "start_time": "2024-10-24T00:17:56.257Z"
   },
   {
    "duration": 13,
    "start_time": "2024-10-24T00:18:33.554Z"
   },
   {
    "duration": 2,
    "start_time": "2024-10-24T00:18:37.849Z"
   },
   {
    "duration": 153,
    "start_time": "2024-10-24T00:18:37.854Z"
   },
   {
    "duration": 8,
    "start_time": "2024-10-24T00:18:38.009Z"
   },
   {
    "duration": 6,
    "start_time": "2024-10-24T00:18:38.019Z"
   },
   {
    "duration": 8,
    "start_time": "2024-10-24T00:18:38.029Z"
   },
   {
    "duration": 7,
    "start_time": "2024-10-24T00:18:38.039Z"
   },
   {
    "duration": 8,
    "start_time": "2024-10-24T00:18:38.047Z"
   },
   {
    "duration": 6,
    "start_time": "2024-10-24T00:18:38.057Z"
   },
   {
    "duration": 46,
    "start_time": "2024-10-24T00:18:38.065Z"
   },
   {
    "duration": 15,
    "start_time": "2024-10-24T00:18:38.113Z"
   },
   {
    "duration": 8,
    "start_time": "2024-10-24T00:18:38.129Z"
   },
   {
    "duration": 22,
    "start_time": "2024-10-24T00:18:38.139Z"
   },
   {
    "duration": 8,
    "start_time": "2024-10-24T00:18:38.163Z"
   },
   {
    "duration": 40,
    "start_time": "2024-10-24T00:18:38.175Z"
   },
   {
    "duration": 6,
    "start_time": "2024-10-24T00:18:38.217Z"
   },
   {
    "duration": 15,
    "start_time": "2024-10-24T00:18:38.225Z"
   },
   {
    "duration": 14,
    "start_time": "2024-10-24T00:18:38.242Z"
   },
   {
    "duration": 16,
    "start_time": "2024-10-24T00:18:38.258Z"
   },
   {
    "duration": 36,
    "start_time": "2024-10-24T00:18:38.276Z"
   },
   {
    "duration": 19,
    "start_time": "2024-10-24T00:18:38.314Z"
   },
   {
    "duration": 10,
    "start_time": "2024-10-24T00:18:38.335Z"
   },
   {
    "duration": 8,
    "start_time": "2024-10-24T00:18:38.347Z"
   },
   {
    "duration": 56,
    "start_time": "2024-10-24T00:18:38.356Z"
   },
   {
    "duration": 27,
    "start_time": "2024-10-24T00:18:38.413Z"
   },
   {
    "duration": 23,
    "start_time": "2024-10-24T00:18:38.442Z"
   },
   {
    "duration": 44,
    "start_time": "2024-10-24T00:18:38.466Z"
   },
   {
    "duration": 16,
    "start_time": "2024-10-24T00:18:38.511Z"
   },
   {
    "duration": 11,
    "start_time": "2024-10-24T00:18:38.529Z"
   },
   {
    "duration": 2,
    "start_time": "2024-10-24T00:18:38.542Z"
   },
   {
    "duration": 4,
    "start_time": "2024-10-24T00:18:38.545Z"
   },
   {
    "duration": 2,
    "start_time": "2024-10-24T00:18:38.551Z"
   },
   {
    "duration": 3,
    "start_time": "2024-10-24T00:18:38.555Z"
   },
   {
    "duration": 3,
    "start_time": "2024-10-24T00:18:38.559Z"
   },
   {
    "duration": 2,
    "start_time": "2024-10-24T00:18:38.564Z"
   },
   {
    "duration": 39,
    "start_time": "2024-10-24T00:18:38.567Z"
   },
   {
    "duration": 2,
    "start_time": "2024-10-24T00:18:38.607Z"
   },
   {
    "duration": 2,
    "start_time": "2024-10-24T00:18:38.611Z"
   },
   {
    "duration": 538,
    "start_time": "2024-10-24T00:32:50.255Z"
   },
   {
    "duration": 24,
    "start_time": "2024-10-24T00:33:00.781Z"
   },
   {
    "duration": 24,
    "start_time": "2024-10-24T00:34:00.339Z"
   },
   {
    "duration": 27,
    "start_time": "2024-10-24T00:34:07.608Z"
   },
   {
    "duration": 15,
    "start_time": "2024-10-24T00:34:55.842Z"
   },
   {
    "duration": 3,
    "start_time": "2024-10-24T00:35:04.074Z"
   },
   {
    "duration": 175,
    "start_time": "2024-10-24T00:35:04.079Z"
   },
   {
    "duration": 9,
    "start_time": "2024-10-24T00:35:04.256Z"
   },
   {
    "duration": 7,
    "start_time": "2024-10-24T00:35:04.266Z"
   },
   {
    "duration": 8,
    "start_time": "2024-10-24T00:35:04.275Z"
   },
   {
    "duration": 27,
    "start_time": "2024-10-24T00:35:04.285Z"
   },
   {
    "duration": 9,
    "start_time": "2024-10-24T00:35:04.314Z"
   },
   {
    "duration": 7,
    "start_time": "2024-10-24T00:35:04.324Z"
   },
   {
    "duration": 10,
    "start_time": "2024-10-24T00:35:04.332Z"
   },
   {
    "duration": 14,
    "start_time": "2024-10-24T00:35:04.344Z"
   },
   {
    "duration": 6,
    "start_time": "2024-10-24T00:35:04.361Z"
   },
   {
    "duration": 60,
    "start_time": "2024-10-24T00:35:04.369Z"
   },
   {
    "duration": 8,
    "start_time": "2024-10-24T00:35:04.431Z"
   },
   {
    "duration": 12,
    "start_time": "2024-10-24T00:35:04.440Z"
   },
   {
    "duration": 6,
    "start_time": "2024-10-24T00:35:04.453Z"
   },
   {
    "duration": 44,
    "start_time": "2024-10-24T00:35:04.461Z"
   },
   {
    "duration": 13,
    "start_time": "2024-10-24T00:35:04.507Z"
   },
   {
    "duration": 13,
    "start_time": "2024-10-24T00:35:04.521Z"
   },
   {
    "duration": 6,
    "start_time": "2024-10-24T00:35:04.535Z"
   },
   {
    "duration": 16,
    "start_time": "2024-10-24T00:35:04.543Z"
   },
   {
    "duration": 8,
    "start_time": "2024-10-24T00:35:04.561Z"
   },
   {
    "duration": 36,
    "start_time": "2024-10-24T00:35:04.571Z"
   },
   {
    "duration": 28,
    "start_time": "2024-10-24T00:35:04.608Z"
   },
   {
    "duration": 26,
    "start_time": "2024-10-24T00:35:04.637Z"
   },
   {
    "duration": 47,
    "start_time": "2024-10-24T00:35:04.665Z"
   },
   {
    "duration": 25,
    "start_time": "2024-10-24T00:35:04.714Z"
   },
   {
    "duration": 16,
    "start_time": "2024-10-24T00:35:04.740Z"
   },
   {
    "duration": 12,
    "start_time": "2024-10-24T00:35:04.757Z"
   },
   {
    "duration": 2,
    "start_time": "2024-10-24T00:35:04.772Z"
   },
   {
    "duration": 33,
    "start_time": "2024-10-24T00:35:04.776Z"
   },
   {
    "duration": 3,
    "start_time": "2024-10-24T00:35:04.811Z"
   },
   {
    "duration": 4,
    "start_time": "2024-10-24T00:35:04.815Z"
   },
   {
    "duration": 3,
    "start_time": "2024-10-24T00:35:04.821Z"
   },
   {
    "duration": 3,
    "start_time": "2024-10-24T00:35:04.826Z"
   },
   {
    "duration": 4,
    "start_time": "2024-10-24T00:35:04.830Z"
   },
   {
    "duration": 4,
    "start_time": "2024-10-24T00:35:04.835Z"
   },
   {
    "duration": 3,
    "start_time": "2024-10-24T00:35:04.840Z"
   },
   {
    "duration": 25,
    "start_time": "2024-10-24T00:35:31.947Z"
   },
   {
    "duration": 26,
    "start_time": "2024-10-24T00:36:52.612Z"
   },
   {
    "duration": 25,
    "start_time": "2024-10-24T00:37:28.875Z"
   },
   {
    "duration": 25,
    "start_time": "2024-10-24T00:37:41.180Z"
   },
   {
    "duration": 15,
    "start_time": "2024-10-24T00:38:44.166Z"
   },
   {
    "duration": 3,
    "start_time": "2024-10-24T00:40:32.398Z"
   },
   {
    "duration": 217,
    "start_time": "2024-10-24T00:40:32.404Z"
   },
   {
    "duration": 10,
    "start_time": "2024-10-24T00:40:32.624Z"
   },
   {
    "duration": 6,
    "start_time": "2024-10-24T00:40:32.636Z"
   },
   {
    "duration": 8,
    "start_time": "2024-10-24T00:40:32.645Z"
   },
   {
    "duration": 9,
    "start_time": "2024-10-24T00:40:32.655Z"
   },
   {
    "duration": 9,
    "start_time": "2024-10-24T00:40:32.666Z"
   },
   {
    "duration": 9,
    "start_time": "2024-10-24T00:40:32.705Z"
   },
   {
    "duration": 13,
    "start_time": "2024-10-24T00:40:32.716Z"
   },
   {
    "duration": 17,
    "start_time": "2024-10-24T00:40:32.731Z"
   },
   {
    "duration": 8,
    "start_time": "2024-10-24T00:40:32.749Z"
   },
   {
    "duration": 46,
    "start_time": "2024-10-24T00:40:32.759Z"
   },
   {
    "duration": 13,
    "start_time": "2024-10-24T00:40:32.811Z"
   },
   {
    "duration": 13,
    "start_time": "2024-10-24T00:40:32.826Z"
   },
   {
    "duration": 8,
    "start_time": "2024-10-24T00:40:32.841Z"
   },
   {
    "duration": 18,
    "start_time": "2024-10-24T00:40:32.851Z"
   },
   {
    "duration": 44,
    "start_time": "2024-10-24T00:40:32.871Z"
   },
   {
    "duration": 16,
    "start_time": "2024-10-24T00:40:32.916Z"
   },
   {
    "duration": 9,
    "start_time": "2024-10-24T00:40:32.934Z"
   },
   {
    "duration": 24,
    "start_time": "2024-10-24T00:40:32.947Z"
   },
   {
    "duration": 32,
    "start_time": "2024-10-24T00:40:32.973Z"
   },
   {
    "duration": 20,
    "start_time": "2024-10-24T00:40:33.007Z"
   },
   {
    "duration": 34,
    "start_time": "2024-10-24T00:40:33.029Z"
   },
   {
    "duration": 39,
    "start_time": "2024-10-24T00:40:33.066Z"
   },
   {
    "duration": 27,
    "start_time": "2024-10-24T00:40:33.107Z"
   },
   {
    "duration": 23,
    "start_time": "2024-10-24T00:40:33.135Z"
   },
   {
    "duration": 15,
    "start_time": "2024-10-24T00:40:33.160Z"
   },
   {
    "duration": 35,
    "start_time": "2024-10-24T00:40:33.177Z"
   },
   {
    "duration": 2,
    "start_time": "2024-10-24T00:40:33.214Z"
   },
   {
    "duration": 2,
    "start_time": "2024-10-24T00:40:33.218Z"
   },
   {
    "duration": 3,
    "start_time": "2024-10-24T00:40:33.222Z"
   },
   {
    "duration": 4,
    "start_time": "2024-10-24T00:40:33.226Z"
   },
   {
    "duration": 2,
    "start_time": "2024-10-24T00:40:33.232Z"
   },
   {
    "duration": 2,
    "start_time": "2024-10-24T00:40:33.236Z"
   },
   {
    "duration": 4,
    "start_time": "2024-10-24T00:40:33.240Z"
   },
   {
    "duration": 4,
    "start_time": "2024-10-24T00:40:33.249Z"
   },
   {
    "duration": 3,
    "start_time": "2024-10-24T00:40:33.257Z"
   },
   {
    "duration": 24,
    "start_time": "2024-10-24T00:40:43.564Z"
   },
   {
    "duration": 24,
    "start_time": "2024-10-24T00:41:15.036Z"
   },
   {
    "duration": 23,
    "start_time": "2024-10-24T00:41:23.767Z"
   },
   {
    "duration": 23,
    "start_time": "2024-10-24T00:41:52.669Z"
   },
   {
    "duration": 20,
    "start_time": "2024-10-24T00:41:59.167Z"
   },
   {
    "duration": 20,
    "start_time": "2024-10-24T00:42:41.129Z"
   },
   {
    "duration": 3,
    "start_time": "2024-10-24T00:42:47.430Z"
   },
   {
    "duration": 155,
    "start_time": "2024-10-24T00:42:47.436Z"
   },
   {
    "duration": 8,
    "start_time": "2024-10-24T00:42:47.593Z"
   },
   {
    "duration": 7,
    "start_time": "2024-10-24T00:42:47.605Z"
   },
   {
    "duration": 8,
    "start_time": "2024-10-24T00:42:47.614Z"
   },
   {
    "duration": 8,
    "start_time": "2024-10-24T00:42:47.624Z"
   },
   {
    "duration": 8,
    "start_time": "2024-10-24T00:42:47.634Z"
   },
   {
    "duration": 6,
    "start_time": "2024-10-24T00:42:47.644Z"
   },
   {
    "duration": 9,
    "start_time": "2024-10-24T00:42:47.652Z"
   },
   {
    "duration": 55,
    "start_time": "2024-10-24T00:42:47.663Z"
   },
   {
    "duration": 7,
    "start_time": "2024-10-24T00:42:47.720Z"
   },
   {
    "duration": 24,
    "start_time": "2024-10-24T00:42:47.728Z"
   },
   {
    "duration": 7,
    "start_time": "2024-10-24T00:42:47.754Z"
   },
   {
    "duration": 11,
    "start_time": "2024-10-24T00:42:47.762Z"
   },
   {
    "duration": 6,
    "start_time": "2024-10-24T00:42:47.805Z"
   },
   {
    "duration": 17,
    "start_time": "2024-10-24T00:42:47.812Z"
   },
   {
    "duration": 13,
    "start_time": "2024-10-24T00:42:47.830Z"
   },
   {
    "duration": 13,
    "start_time": "2024-10-24T00:42:47.844Z"
   },
   {
    "duration": 7,
    "start_time": "2024-10-24T00:42:47.858Z"
   },
   {
    "duration": 45,
    "start_time": "2024-10-24T00:42:47.866Z"
   },
   {
    "duration": 9,
    "start_time": "2024-10-24T00:42:47.912Z"
   },
   {
    "duration": 7,
    "start_time": "2024-10-24T00:42:47.922Z"
   },
   {
    "duration": 27,
    "start_time": "2024-10-24T00:42:47.931Z"
   },
   {
    "duration": 50,
    "start_time": "2024-10-24T00:42:47.959Z"
   },
   {
    "duration": 23,
    "start_time": "2024-10-24T00:42:48.011Z"
   },
   {
    "duration": 23,
    "start_time": "2024-10-24T00:42:48.036Z"
   },
   {
    "duration": 15,
    "start_time": "2024-10-24T00:42:48.061Z"
   },
   {
    "duration": 38,
    "start_time": "2024-10-24T00:42:48.078Z"
   },
   {
    "duration": 2,
    "start_time": "2024-10-24T00:42:48.118Z"
   },
   {
    "duration": 3,
    "start_time": "2024-10-24T00:42:48.121Z"
   },
   {
    "duration": 3,
    "start_time": "2024-10-24T00:42:48.125Z"
   },
   {
    "duration": 3,
    "start_time": "2024-10-24T00:42:48.129Z"
   },
   {
    "duration": 3,
    "start_time": "2024-10-24T00:42:48.134Z"
   },
   {
    "duration": 4,
    "start_time": "2024-10-24T00:42:48.138Z"
   },
   {
    "duration": 3,
    "start_time": "2024-10-24T00:42:48.143Z"
   },
   {
    "duration": 3,
    "start_time": "2024-10-24T00:42:48.148Z"
   },
   {
    "duration": 3,
    "start_time": "2024-10-24T00:42:48.152Z"
   },
   {
    "duration": 13,
    "start_time": "2024-10-24T00:45:16.719Z"
   },
   {
    "duration": 14,
    "start_time": "2024-10-24T00:45:23.484Z"
   },
   {
    "duration": 427,
    "start_time": "2024-10-24T00:45:35.413Z"
   },
   {
    "duration": 10,
    "start_time": "2024-10-24T00:45:46.100Z"
   },
   {
    "duration": 25,
    "start_time": "2024-10-24T00:46:19.196Z"
   },
   {
    "duration": 3,
    "start_time": "2024-10-24T00:47:37.456Z"
   },
   {
    "duration": 169,
    "start_time": "2024-10-24T00:47:37.461Z"
   },
   {
    "duration": 9,
    "start_time": "2024-10-24T00:47:37.631Z"
   },
   {
    "duration": 7,
    "start_time": "2024-10-24T00:47:37.642Z"
   },
   {
    "duration": 8,
    "start_time": "2024-10-24T00:47:37.650Z"
   },
   {
    "duration": 7,
    "start_time": "2024-10-24T00:47:37.660Z"
   },
   {
    "duration": 37,
    "start_time": "2024-10-24T00:47:37.669Z"
   },
   {
    "duration": 5,
    "start_time": "2024-10-24T00:47:37.708Z"
   },
   {
    "duration": 9,
    "start_time": "2024-10-24T00:47:37.716Z"
   },
   {
    "duration": 14,
    "start_time": "2024-10-24T00:47:37.727Z"
   },
   {
    "duration": 7,
    "start_time": "2024-10-24T00:47:37.743Z"
   },
   {
    "duration": 22,
    "start_time": "2024-10-24T00:47:37.752Z"
   },
   {
    "duration": 8,
    "start_time": "2024-10-24T00:47:37.806Z"
   },
   {
    "duration": 12,
    "start_time": "2024-10-24T00:47:37.815Z"
   },
   {
    "duration": 6,
    "start_time": "2024-10-24T00:47:37.828Z"
   },
   {
    "duration": 16,
    "start_time": "2024-10-24T00:47:37.836Z"
   },
   {
    "duration": 12,
    "start_time": "2024-10-24T00:47:37.853Z"
   },
   {
    "duration": 44,
    "start_time": "2024-10-24T00:47:37.866Z"
   },
   {
    "duration": 6,
    "start_time": "2024-10-24T00:47:37.912Z"
   },
   {
    "duration": 16,
    "start_time": "2024-10-24T00:47:37.920Z"
   },
   {
    "duration": 9,
    "start_time": "2024-10-24T00:47:37.937Z"
   },
   {
    "duration": 7,
    "start_time": "2024-10-24T00:47:37.947Z"
   },
   {
    "duration": 55,
    "start_time": "2024-10-24T00:47:37.956Z"
   },
   {
    "duration": 28,
    "start_time": "2024-10-24T00:47:38.014Z"
   },
   {
    "duration": 22,
    "start_time": "2024-10-24T00:47:38.044Z"
   },
   {
    "duration": 45,
    "start_time": "2024-10-24T00:47:38.067Z"
   },
   {
    "duration": 16,
    "start_time": "2024-10-24T00:47:38.113Z"
   },
   {
    "duration": 23,
    "start_time": "2024-10-24T00:47:38.131Z"
   },
   {
    "duration": 2,
    "start_time": "2024-10-24T00:47:38.155Z"
   },
   {
    "duration": 2,
    "start_time": "2024-10-24T00:47:38.159Z"
   },
   {
    "duration": 2,
    "start_time": "2024-10-24T00:47:38.163Z"
   },
   {
    "duration": 2,
    "start_time": "2024-10-24T00:47:38.167Z"
   },
   {
    "duration": 35,
    "start_time": "2024-10-24T00:47:38.171Z"
   },
   {
    "duration": 2,
    "start_time": "2024-10-24T00:47:38.208Z"
   },
   {
    "duration": 3,
    "start_time": "2024-10-24T00:47:38.212Z"
   },
   {
    "duration": 3,
    "start_time": "2024-10-24T00:47:38.216Z"
   },
   {
    "duration": 2,
    "start_time": "2024-10-24T00:47:38.221Z"
   },
   {
    "duration": 28,
    "start_time": "2024-10-24T00:48:49.372Z"
   },
   {
    "duration": 32,
    "start_time": "2024-10-24T00:49:04.388Z"
   },
   {
    "duration": 30,
    "start_time": "2024-10-24T00:50:02.103Z"
   },
   {
    "duration": 3,
    "start_time": "2024-10-24T00:50:11.564Z"
   },
   {
    "duration": 162,
    "start_time": "2024-10-24T00:50:11.569Z"
   },
   {
    "duration": 9,
    "start_time": "2024-10-24T00:50:11.733Z"
   },
   {
    "duration": 7,
    "start_time": "2024-10-24T00:50:11.743Z"
   },
   {
    "duration": 8,
    "start_time": "2024-10-24T00:50:11.753Z"
   },
   {
    "duration": 8,
    "start_time": "2024-10-24T00:50:11.762Z"
   },
   {
    "duration": 10,
    "start_time": "2024-10-24T00:50:11.771Z"
   },
   {
    "duration": 5,
    "start_time": "2024-10-24T00:50:11.806Z"
   },
   {
    "duration": 10,
    "start_time": "2024-10-24T00:50:11.813Z"
   },
   {
    "duration": 15,
    "start_time": "2024-10-24T00:50:11.824Z"
   },
   {
    "duration": 7,
    "start_time": "2024-10-24T00:50:11.840Z"
   },
   {
    "duration": 22,
    "start_time": "2024-10-24T00:50:11.849Z"
   },
   {
    "duration": 37,
    "start_time": "2024-10-24T00:50:11.874Z"
   },
   {
    "duration": 11,
    "start_time": "2024-10-24T00:50:11.912Z"
   },
   {
    "duration": 6,
    "start_time": "2024-10-24T00:50:11.925Z"
   },
   {
    "duration": 16,
    "start_time": "2024-10-24T00:50:11.932Z"
   },
   {
    "duration": 12,
    "start_time": "2024-10-24T00:50:11.950Z"
   },
   {
    "duration": 45,
    "start_time": "2024-10-24T00:50:11.963Z"
   },
   {
    "duration": 8,
    "start_time": "2024-10-24T00:50:12.009Z"
   },
   {
    "duration": 16,
    "start_time": "2024-10-24T00:50:12.019Z"
   },
   {
    "duration": 8,
    "start_time": "2024-10-24T00:50:12.037Z"
   },
   {
    "duration": 6,
    "start_time": "2024-10-24T00:50:12.047Z"
   },
   {
    "duration": 56,
    "start_time": "2024-10-24T00:50:12.054Z"
   },
   {
    "duration": 28,
    "start_time": "2024-10-24T00:50:12.112Z"
   },
   {
    "duration": 21,
    "start_time": "2024-10-24T00:50:12.142Z"
   },
   {
    "duration": 41,
    "start_time": "2024-10-24T00:50:12.165Z"
   },
   {
    "duration": 16,
    "start_time": "2024-10-24T00:50:12.208Z"
   },
   {
    "duration": 13,
    "start_time": "2024-10-24T00:50:12.226Z"
   },
   {
    "duration": 2,
    "start_time": "2024-10-24T00:50:12.241Z"
   },
   {
    "duration": 3,
    "start_time": "2024-10-24T00:50:12.244Z"
   },
   {
    "duration": 2,
    "start_time": "2024-10-24T00:50:12.249Z"
   },
   {
    "duration": 3,
    "start_time": "2024-10-24T00:50:12.253Z"
   },
   {
    "duration": 2,
    "start_time": "2024-10-24T00:50:12.258Z"
   },
   {
    "duration": 3,
    "start_time": "2024-10-24T00:50:12.262Z"
   },
   {
    "duration": 39,
    "start_time": "2024-10-24T00:50:12.266Z"
   },
   {
    "duration": 3,
    "start_time": "2024-10-24T00:50:12.307Z"
   },
   {
    "duration": 1,
    "start_time": "2024-10-24T00:50:12.314Z"
   },
   {
    "duration": 23,
    "start_time": "2024-10-24T00:50:33.512Z"
   },
   {
    "duration": 3,
    "start_time": "2024-10-24T00:50:48.315Z"
   },
   {
    "duration": 165,
    "start_time": "2024-10-24T00:50:48.320Z"
   },
   {
    "duration": 9,
    "start_time": "2024-10-24T00:50:48.486Z"
   },
   {
    "duration": 6,
    "start_time": "2024-10-24T00:50:48.505Z"
   },
   {
    "duration": 8,
    "start_time": "2024-10-24T00:50:48.513Z"
   },
   {
    "duration": 7,
    "start_time": "2024-10-24T00:50:48.522Z"
   },
   {
    "duration": 8,
    "start_time": "2024-10-24T00:50:48.531Z"
   },
   {
    "duration": 6,
    "start_time": "2024-10-24T00:50:48.540Z"
   },
   {
    "duration": 8,
    "start_time": "2024-10-24T00:50:48.550Z"
   },
   {
    "duration": 51,
    "start_time": "2024-10-24T00:50:48.560Z"
   },
   {
    "duration": 7,
    "start_time": "2024-10-24T00:50:48.613Z"
   },
   {
    "duration": 22,
    "start_time": "2024-10-24T00:50:48.622Z"
   },
   {
    "duration": 8,
    "start_time": "2024-10-24T00:50:48.645Z"
   },
   {
    "duration": 11,
    "start_time": "2024-10-24T00:50:48.654Z"
   },
   {
    "duration": 6,
    "start_time": "2024-10-24T00:50:48.666Z"
   },
   {
    "duration": 17,
    "start_time": "2024-10-24T00:50:48.706Z"
   },
   {
    "duration": 12,
    "start_time": "2024-10-24T00:50:48.725Z"
   },
   {
    "duration": 12,
    "start_time": "2024-10-24T00:50:48.739Z"
   },
   {
    "duration": 6,
    "start_time": "2024-10-24T00:50:48.753Z"
   },
   {
    "duration": 46,
    "start_time": "2024-10-24T00:50:48.760Z"
   },
   {
    "duration": 8,
    "start_time": "2024-10-24T00:50:48.808Z"
   },
   {
    "duration": 7,
    "start_time": "2024-10-24T00:50:48.818Z"
   },
   {
    "duration": 28,
    "start_time": "2024-10-24T00:50:48.827Z"
   },
   {
    "duration": 51,
    "start_time": "2024-10-24T00:50:48.858Z"
   },
   {
    "duration": 23,
    "start_time": "2024-10-24T00:50:48.910Z"
   },
   {
    "duration": 23,
    "start_time": "2024-10-24T00:50:48.934Z"
   },
   {
    "duration": 16,
    "start_time": "2024-10-24T00:50:48.959Z"
   },
   {
    "duration": 315,
    "start_time": "2024-10-24T00:50:48.976Z"
   },
   {
    "duration": 0,
    "start_time": "2024-10-24T00:50:49.293Z"
   },
   {
    "duration": 0,
    "start_time": "2024-10-24T00:50:49.294Z"
   },
   {
    "duration": 0,
    "start_time": "2024-10-24T00:50:49.295Z"
   },
   {
    "duration": 0,
    "start_time": "2024-10-24T00:50:49.305Z"
   },
   {
    "duration": 0,
    "start_time": "2024-10-24T00:50:49.306Z"
   },
   {
    "duration": 0,
    "start_time": "2024-10-24T00:50:49.308Z"
   },
   {
    "duration": 0,
    "start_time": "2024-10-24T00:50:49.309Z"
   },
   {
    "duration": 0,
    "start_time": "2024-10-24T00:50:49.310Z"
   },
   {
    "duration": 0,
    "start_time": "2024-10-24T00:50:49.311Z"
   },
   {
    "duration": 24,
    "start_time": "2024-10-24T00:50:59.282Z"
   },
   {
    "duration": 3,
    "start_time": "2024-10-24T00:51:03.927Z"
   },
   {
    "duration": 153,
    "start_time": "2024-10-24T00:51:03.932Z"
   },
   {
    "duration": 9,
    "start_time": "2024-10-24T00:51:04.087Z"
   },
   {
    "duration": 14,
    "start_time": "2024-10-24T00:51:04.098Z"
   },
   {
    "duration": 9,
    "start_time": "2024-10-24T00:51:04.113Z"
   },
   {
    "duration": 8,
    "start_time": "2024-10-24T00:51:04.123Z"
   },
   {
    "duration": 13,
    "start_time": "2024-10-24T00:51:04.133Z"
   },
   {
    "duration": 6,
    "start_time": "2024-10-24T00:51:04.147Z"
   },
   {
    "duration": 11,
    "start_time": "2024-10-24T00:51:04.157Z"
   },
   {
    "duration": 47,
    "start_time": "2024-10-24T00:51:04.171Z"
   },
   {
    "duration": 6,
    "start_time": "2024-10-24T00:51:04.220Z"
   },
   {
    "duration": 24,
    "start_time": "2024-10-24T00:51:04.228Z"
   },
   {
    "duration": 8,
    "start_time": "2024-10-24T00:51:04.254Z"
   },
   {
    "duration": 11,
    "start_time": "2024-10-24T00:51:04.263Z"
   },
   {
    "duration": 7,
    "start_time": "2024-10-24T00:51:04.304Z"
   },
   {
    "duration": 20,
    "start_time": "2024-10-24T00:51:04.314Z"
   },
   {
    "duration": 15,
    "start_time": "2024-10-24T00:51:04.336Z"
   },
   {
    "duration": 13,
    "start_time": "2024-10-24T00:51:04.353Z"
   },
   {
    "duration": 38,
    "start_time": "2024-10-24T00:51:04.367Z"
   },
   {
    "duration": 16,
    "start_time": "2024-10-24T00:51:04.407Z"
   },
   {
    "duration": 7,
    "start_time": "2024-10-24T00:51:04.425Z"
   },
   {
    "duration": 7,
    "start_time": "2024-10-24T00:51:04.434Z"
   },
   {
    "duration": 26,
    "start_time": "2024-10-24T00:51:04.443Z"
   },
   {
    "duration": 52,
    "start_time": "2024-10-24T00:51:04.473Z"
   },
   {
    "duration": 23,
    "start_time": "2024-10-24T00:51:04.526Z"
   },
   {
    "duration": 23,
    "start_time": "2024-10-24T00:51:04.551Z"
   },
   {
    "duration": 41,
    "start_time": "2024-10-24T00:51:04.576Z"
   },
   {
    "duration": 24,
    "start_time": "2024-10-24T00:51:04.619Z"
   },
   {
    "duration": 3,
    "start_time": "2024-10-24T00:51:04.644Z"
   },
   {
    "duration": 3,
    "start_time": "2024-10-24T00:51:04.648Z"
   },
   {
    "duration": 2,
    "start_time": "2024-10-24T00:51:04.654Z"
   },
   {
    "duration": 2,
    "start_time": "2024-10-24T00:51:04.659Z"
   },
   {
    "duration": 4,
    "start_time": "2024-10-24T00:51:04.663Z"
   },
   {
    "duration": 4,
    "start_time": "2024-10-24T00:51:04.668Z"
   },
   {
    "duration": 34,
    "start_time": "2024-10-24T00:51:04.673Z"
   },
   {
    "duration": 3,
    "start_time": "2024-10-24T00:51:04.709Z"
   },
   {
    "duration": 4,
    "start_time": "2024-10-24T00:51:04.714Z"
   },
   {
    "duration": 3,
    "start_time": "2024-10-24T00:51:54.197Z"
   },
   {
    "duration": 172,
    "start_time": "2024-10-24T00:51:54.202Z"
   },
   {
    "duration": 8,
    "start_time": "2024-10-24T00:51:54.376Z"
   },
   {
    "duration": 6,
    "start_time": "2024-10-24T00:51:54.386Z"
   },
   {
    "duration": 8,
    "start_time": "2024-10-24T00:51:54.407Z"
   },
   {
    "duration": 8,
    "start_time": "2024-10-24T00:51:54.417Z"
   },
   {
    "duration": 8,
    "start_time": "2024-10-24T00:51:54.426Z"
   },
   {
    "duration": 6,
    "start_time": "2024-10-24T00:51:54.436Z"
   },
   {
    "duration": 9,
    "start_time": "2024-10-24T00:51:54.443Z"
   },
   {
    "duration": 14,
    "start_time": "2024-10-24T00:51:54.455Z"
   },
   {
    "duration": 40,
    "start_time": "2024-10-24T00:51:54.470Z"
   },
   {
    "duration": 23,
    "start_time": "2024-10-24T00:51:54.512Z"
   },
   {
    "duration": 8,
    "start_time": "2024-10-24T00:51:54.537Z"
   },
   {
    "duration": 11,
    "start_time": "2024-10-24T00:51:54.548Z"
   },
   {
    "duration": 5,
    "start_time": "2024-10-24T00:51:54.560Z"
   },
   {
    "duration": 51,
    "start_time": "2024-10-24T00:51:54.567Z"
   },
   {
    "duration": 14,
    "start_time": "2024-10-24T00:51:54.620Z"
   },
   {
    "duration": 13,
    "start_time": "2024-10-24T00:51:54.635Z"
   },
   {
    "duration": 6,
    "start_time": "2024-10-24T00:51:54.649Z"
   },
   {
    "duration": 16,
    "start_time": "2024-10-24T00:51:54.658Z"
   },
   {
    "duration": 38,
    "start_time": "2024-10-24T00:51:54.675Z"
   },
   {
    "duration": 7,
    "start_time": "2024-10-24T00:51:54.715Z"
   },
   {
    "duration": 28,
    "start_time": "2024-10-24T00:51:54.724Z"
   },
   {
    "duration": 27,
    "start_time": "2024-10-24T00:51:54.754Z"
   },
   {
    "duration": 23,
    "start_time": "2024-10-24T00:51:54.805Z"
   },
   {
    "duration": 23,
    "start_time": "2024-10-24T00:51:54.829Z"
   },
   {
    "duration": 17,
    "start_time": "2024-10-24T00:51:54.854Z"
   },
   {
    "duration": 50,
    "start_time": "2024-10-24T00:51:54.872Z"
   },
   {
    "duration": 2,
    "start_time": "2024-10-24T00:51:54.924Z"
   },
   {
    "duration": 2,
    "start_time": "2024-10-24T00:51:54.929Z"
   },
   {
    "duration": 3,
    "start_time": "2024-10-24T00:51:54.932Z"
   },
   {
    "duration": 3,
    "start_time": "2024-10-24T00:51:54.937Z"
   },
   {
    "duration": 3,
    "start_time": "2024-10-24T00:51:54.942Z"
   },
   {
    "duration": 2,
    "start_time": "2024-10-24T00:51:54.947Z"
   },
   {
    "duration": 4,
    "start_time": "2024-10-24T00:51:54.950Z"
   },
   {
    "duration": 3,
    "start_time": "2024-10-24T00:51:54.955Z"
   },
   {
    "duration": 3,
    "start_time": "2024-10-24T00:51:54.959Z"
   },
   {
    "duration": 22,
    "start_time": "2024-10-24T00:53:36.762Z"
   },
   {
    "duration": 4,
    "start_time": "2024-10-24T00:53:41.357Z"
   },
   {
    "duration": 159,
    "start_time": "2024-10-24T00:53:41.364Z"
   },
   {
    "duration": 11,
    "start_time": "2024-10-24T00:53:41.525Z"
   },
   {
    "duration": 11,
    "start_time": "2024-10-24T00:53:41.538Z"
   },
   {
    "duration": 9,
    "start_time": "2024-10-24T00:53:41.553Z"
   },
   {
    "duration": 9,
    "start_time": "2024-10-24T00:53:41.564Z"
   },
   {
    "duration": 33,
    "start_time": "2024-10-24T00:53:41.574Z"
   },
   {
    "duration": 6,
    "start_time": "2024-10-24T00:53:41.608Z"
   },
   {
    "duration": 10,
    "start_time": "2024-10-24T00:53:41.616Z"
   },
   {
    "duration": 14,
    "start_time": "2024-10-24T00:53:41.627Z"
   },
   {
    "duration": 6,
    "start_time": "2024-10-24T00:53:41.643Z"
   },
   {
    "duration": 22,
    "start_time": "2024-10-24T00:53:41.651Z"
   },
   {
    "duration": 9,
    "start_time": "2024-10-24T00:53:41.704Z"
   },
   {
    "duration": 11,
    "start_time": "2024-10-24T00:53:41.718Z"
   },
   {
    "duration": 6,
    "start_time": "2024-10-24T00:53:41.731Z"
   },
   {
    "duration": 16,
    "start_time": "2024-10-24T00:53:41.739Z"
   },
   {
    "duration": 13,
    "start_time": "2024-10-24T00:53:41.756Z"
   },
   {
    "duration": 46,
    "start_time": "2024-10-24T00:53:41.770Z"
   },
   {
    "duration": 8,
    "start_time": "2024-10-24T00:53:41.818Z"
   },
   {
    "duration": 16,
    "start_time": "2024-10-24T00:53:41.827Z"
   },
   {
    "duration": 8,
    "start_time": "2024-10-24T00:53:41.845Z"
   },
   {
    "duration": 7,
    "start_time": "2024-10-24T00:53:41.854Z"
   },
   {
    "duration": 58,
    "start_time": "2024-10-24T00:53:41.862Z"
   },
   {
    "duration": 27,
    "start_time": "2024-10-24T00:53:41.921Z"
   },
   {
    "duration": 23,
    "start_time": "2024-10-24T00:53:41.949Z"
   },
   {
    "duration": 46,
    "start_time": "2024-10-24T00:53:41.973Z"
   },
   {
    "duration": 16,
    "start_time": "2024-10-24T00:53:42.021Z"
   },
   {
    "duration": 16,
    "start_time": "2024-10-24T00:53:42.039Z"
   },
   {
    "duration": 3,
    "start_time": "2024-10-24T00:53:42.056Z"
   },
   {
    "duration": 2,
    "start_time": "2024-10-24T00:53:42.060Z"
   },
   {
    "duration": 2,
    "start_time": "2024-10-24T00:53:42.065Z"
   },
   {
    "duration": 2,
    "start_time": "2024-10-24T00:53:42.069Z"
   },
   {
    "duration": 3,
    "start_time": "2024-10-24T00:53:42.073Z"
   },
   {
    "duration": 2,
    "start_time": "2024-10-24T00:53:42.106Z"
   },
   {
    "duration": 3,
    "start_time": "2024-10-24T00:53:42.110Z"
   },
   {
    "duration": 3,
    "start_time": "2024-10-24T00:53:42.115Z"
   },
   {
    "duration": 3,
    "start_time": "2024-10-24T00:53:42.119Z"
   },
   {
    "duration": 64,
    "start_time": "2024-10-24T01:11:04.222Z"
   },
   {
    "duration": 75,
    "start_time": "2024-10-24T01:11:08.188Z"
   },
   {
    "duration": 76,
    "start_time": "2024-10-24T01:12:00.868Z"
   },
   {
    "duration": 73,
    "start_time": "2024-10-24T01:15:27.157Z"
   },
   {
    "duration": 75,
    "start_time": "2024-10-24T01:20:45.075Z"
   },
   {
    "duration": 70,
    "start_time": "2024-10-24T01:23:16.722Z"
   },
   {
    "duration": 78,
    "start_time": "2024-10-24T01:24:13.857Z"
   },
   {
    "duration": 67,
    "start_time": "2024-10-24T01:24:23.704Z"
   },
   {
    "duration": 89,
    "start_time": "2024-10-24T01:25:24.460Z"
   },
   {
    "duration": 3,
    "start_time": "2024-10-24T01:25:33.969Z"
   },
   {
    "duration": 155,
    "start_time": "2024-10-24T01:25:33.976Z"
   },
   {
    "duration": 15,
    "start_time": "2024-10-24T01:25:34.134Z"
   },
   {
    "duration": 12,
    "start_time": "2024-10-24T01:25:34.151Z"
   },
   {
    "duration": 11,
    "start_time": "2024-10-24T01:25:34.165Z"
   },
   {
    "duration": 8,
    "start_time": "2024-10-24T01:25:34.179Z"
   },
   {
    "duration": 21,
    "start_time": "2024-10-24T01:25:34.188Z"
   },
   {
    "duration": 7,
    "start_time": "2024-10-24T01:25:34.210Z"
   },
   {
    "duration": 10,
    "start_time": "2024-10-24T01:25:34.218Z"
   },
   {
    "duration": 14,
    "start_time": "2024-10-24T01:25:34.229Z"
   },
   {
    "duration": 6,
    "start_time": "2024-10-24T01:25:34.245Z"
   },
   {
    "duration": 52,
    "start_time": "2024-10-24T01:25:34.253Z"
   },
   {
    "duration": 8,
    "start_time": "2024-10-24T01:25:34.307Z"
   },
   {
    "duration": 11,
    "start_time": "2024-10-24T01:25:34.316Z"
   },
   {
    "duration": 6,
    "start_time": "2024-10-24T01:25:34.331Z"
   },
   {
    "duration": 16,
    "start_time": "2024-10-24T01:25:34.338Z"
   },
   {
    "duration": 12,
    "start_time": "2024-10-24T01:25:34.356Z"
   },
   {
    "duration": 46,
    "start_time": "2024-10-24T01:25:34.370Z"
   },
   {
    "duration": 8,
    "start_time": "2024-10-24T01:25:34.417Z"
   },
   {
    "duration": 16,
    "start_time": "2024-10-24T01:25:34.427Z"
   },
   {
    "duration": 8,
    "start_time": "2024-10-24T01:25:34.446Z"
   },
   {
    "duration": 8,
    "start_time": "2024-10-24T01:25:34.456Z"
   },
   {
    "duration": 57,
    "start_time": "2024-10-24T01:25:34.466Z"
   },
   {
    "duration": 27,
    "start_time": "2024-10-24T01:25:34.525Z"
   },
   {
    "duration": 23,
    "start_time": "2024-10-24T01:25:34.554Z"
   },
   {
    "duration": 44,
    "start_time": "2024-10-24T01:25:34.578Z"
   },
   {
    "duration": 15,
    "start_time": "2024-10-24T01:25:34.624Z"
   },
   {
    "duration": 15,
    "start_time": "2024-10-24T01:25:34.641Z"
   },
   {
    "duration": 0,
    "start_time": "2024-10-24T01:25:34.725Z"
   },
   {
    "duration": 0,
    "start_time": "2024-10-24T01:25:34.726Z"
   },
   {
    "duration": 0,
    "start_time": "2024-10-24T01:25:34.728Z"
   },
   {
    "duration": 0,
    "start_time": "2024-10-24T01:25:34.729Z"
   },
   {
    "duration": 0,
    "start_time": "2024-10-24T01:25:34.730Z"
   },
   {
    "duration": 0,
    "start_time": "2024-10-24T01:25:34.731Z"
   },
   {
    "duration": 0,
    "start_time": "2024-10-24T01:25:34.732Z"
   },
   {
    "duration": 0,
    "start_time": "2024-10-24T01:25:34.733Z"
   },
   {
    "duration": 46,
    "start_time": "2024-10-24T01:25:39.371Z"
   },
   {
    "duration": 67,
    "start_time": "2024-10-24T01:25:54.334Z"
   },
   {
    "duration": 169,
    "start_time": "2024-10-24T01:26:27.561Z"
   },
   {
    "duration": 70,
    "start_time": "2024-10-24T01:26:43.569Z"
   },
   {
    "duration": 68,
    "start_time": "2024-10-24T01:28:31.968Z"
   },
   {
    "duration": 47,
    "start_time": "2024-10-24T01:33:12.455Z"
   },
   {
    "duration": 67,
    "start_time": "2024-10-24T01:33:36.105Z"
   },
   {
    "duration": 12,
    "start_time": "2024-10-24T03:21:43.041Z"
   },
   {
    "duration": 12,
    "start_time": "2024-10-24T03:21:57.195Z"
   },
   {
    "duration": 14,
    "start_time": "2024-10-24T03:22:08.105Z"
   },
   {
    "duration": 13,
    "start_time": "2024-10-24T03:22:37.405Z"
   },
   {
    "duration": 15,
    "start_time": "2024-10-24T03:22:47.076Z"
   },
   {
    "duration": 12,
    "start_time": "2024-10-24T03:23:38.311Z"
   },
   {
    "duration": 12,
    "start_time": "2024-10-24T03:23:56.680Z"
   },
   {
    "duration": 13,
    "start_time": "2024-10-24T03:24:40.437Z"
   },
   {
    "duration": 14,
    "start_time": "2024-10-24T03:25:07.294Z"
   },
   {
    "duration": 13,
    "start_time": "2024-10-24T03:25:24.941Z"
   },
   {
    "duration": 178,
    "start_time": "2024-10-24T03:25:46.296Z"
   },
   {
    "duration": 88,
    "start_time": "2024-10-24T03:26:58.100Z"
   },
   {
    "duration": 168,
    "start_time": "2024-10-24T03:27:16.975Z"
   },
   {
    "duration": 190,
    "start_time": "2024-10-24T03:27:42.741Z"
   },
   {
    "duration": 180,
    "start_time": "2024-10-24T03:28:11.245Z"
   },
   {
    "duration": 223,
    "start_time": "2024-10-24T03:28:54.448Z"
   },
   {
    "duration": 181,
    "start_time": "2024-10-24T03:29:06.080Z"
   },
   {
    "duration": 179,
    "start_time": "2024-10-24T03:29:11.258Z"
   },
   {
    "duration": 174,
    "start_time": "2024-10-24T03:29:35.150Z"
   },
   {
    "duration": 183,
    "start_time": "2024-10-24T03:29:57.192Z"
   },
   {
    "duration": 177,
    "start_time": "2024-10-24T03:30:07.421Z"
   },
   {
    "duration": 405,
    "start_time": "2024-10-24T03:30:31.728Z"
   },
   {
    "duration": 185,
    "start_time": "2024-10-24T03:31:00.020Z"
   },
   {
    "duration": 183,
    "start_time": "2024-10-24T03:31:07.559Z"
   },
   {
    "duration": 186,
    "start_time": "2024-10-24T03:31:40.377Z"
   },
   {
    "duration": 180,
    "start_time": "2024-10-24T03:31:50.129Z"
   },
   {
    "duration": 133,
    "start_time": "2024-10-24T03:35:35.544Z"
   },
   {
    "duration": 158,
    "start_time": "2024-10-24T03:36:00.215Z"
   },
   {
    "duration": 176,
    "start_time": "2024-10-24T03:36:37.079Z"
   },
   {
    "duration": 194,
    "start_time": "2024-10-24T03:37:56.702Z"
   },
   {
    "duration": 185,
    "start_time": "2024-10-24T03:38:45.297Z"
   },
   {
    "duration": 183,
    "start_time": "2024-10-24T03:39:38.768Z"
   },
   {
    "duration": 4,
    "start_time": "2024-10-24T03:39:53.030Z"
   },
   {
    "duration": 178,
    "start_time": "2024-10-24T03:39:56.259Z"
   },
   {
    "duration": 188,
    "start_time": "2024-10-24T03:40:26.975Z"
   },
   {
    "duration": 189,
    "start_time": "2024-10-24T03:42:07.065Z"
   },
   {
    "duration": 168,
    "start_time": "2024-10-24T03:42:45.323Z"
   },
   {
    "duration": 196,
    "start_time": "2024-10-24T03:42:51.098Z"
   },
   {
    "duration": 5,
    "start_time": "2024-10-24T03:50:15.739Z"
   },
   {
    "duration": 116,
    "start_time": "2024-10-24T03:50:35.016Z"
   },
   {
    "duration": 118,
    "start_time": "2024-10-24T03:50:52.797Z"
   },
   {
    "duration": 120,
    "start_time": "2024-10-24T03:51:32.737Z"
   },
   {
    "duration": 107,
    "start_time": "2024-10-24T03:52:29.561Z"
   },
   {
    "duration": 113,
    "start_time": "2024-10-24T03:52:39.759Z"
   },
   {
    "duration": 751,
    "start_time": "2024-10-24T03:53:11.265Z"
   },
   {
    "duration": 112,
    "start_time": "2024-10-24T03:53:24.066Z"
   },
   {
    "duration": 107,
    "start_time": "2024-10-24T03:54:17.111Z"
   },
   {
    "duration": 116,
    "start_time": "2024-10-24T03:56:16.716Z"
   },
   {
    "duration": 102,
    "start_time": "2024-10-24T03:57:25.040Z"
   },
   {
    "duration": 108,
    "start_time": "2024-10-24T03:57:36.011Z"
   },
   {
    "duration": 128,
    "start_time": "2024-10-24T03:57:41.471Z"
   },
   {
    "duration": 108,
    "start_time": "2024-10-24T03:58:41.780Z"
   },
   {
    "duration": 133,
    "start_time": "2024-10-24T03:58:56.359Z"
   },
   {
    "duration": 143,
    "start_time": "2024-10-24T04:01:36.414Z"
   },
   {
    "duration": 135,
    "start_time": "2024-10-24T04:01:51.554Z"
   },
   {
    "duration": 151,
    "start_time": "2024-10-24T04:01:55.758Z"
   },
   {
    "duration": 454,
    "start_time": "2024-10-24T04:02:17.039Z"
   },
   {
    "duration": 153,
    "start_time": "2024-10-24T04:02:29.381Z"
   },
   {
    "duration": 285,
    "start_time": "2024-10-24T04:04:01.790Z"
   },
   {
    "duration": 268,
    "start_time": "2024-10-24T04:04:08.505Z"
   },
   {
    "duration": 154,
    "start_time": "2024-10-24T04:04:26.618Z"
   },
   {
    "duration": 151,
    "start_time": "2024-10-24T04:05:03.243Z"
   },
   {
    "duration": 154,
    "start_time": "2024-10-24T04:05:08.425Z"
   },
   {
    "duration": 177,
    "start_time": "2024-10-24T04:06:57.117Z"
   },
   {
    "duration": 161,
    "start_time": "2024-10-24T04:07:25.439Z"
   },
   {
    "duration": 178,
    "start_time": "2024-10-24T04:07:35.081Z"
   },
   {
    "duration": 163,
    "start_time": "2024-10-24T04:07:43.024Z"
   },
   {
    "duration": 175,
    "start_time": "2024-10-24T04:07:48.173Z"
   },
   {
    "duration": 183,
    "start_time": "2024-10-24T04:12:44.049Z"
   },
   {
    "duration": 175,
    "start_time": "2024-10-24T04:12:50.111Z"
   },
   {
    "duration": 528,
    "start_time": "2024-10-24T04:12:57.759Z"
   },
   {
    "duration": 176,
    "start_time": "2024-10-24T04:13:03.060Z"
   },
   {
    "duration": 186,
    "start_time": "2024-10-24T04:13:12.336Z"
   },
   {
    "duration": 171,
    "start_time": "2024-10-24T04:13:19.725Z"
   },
   {
    "duration": 183,
    "start_time": "2024-10-24T04:13:23.971Z"
   },
   {
    "duration": 164,
    "start_time": "2024-10-26T23:47:16.051Z"
   },
   {
    "duration": 14,
    "start_time": "2024-10-26T23:47:50.317Z"
   },
   {
    "duration": 13,
    "start_time": "2024-10-26T23:47:56.418Z"
   },
   {
    "duration": 13,
    "start_time": "2024-10-26T23:48:17.468Z"
   },
   {
    "duration": 2665,
    "start_time": "2024-10-26T23:48:28.467Z"
   },
   {
    "duration": 447,
    "start_time": "2024-10-26T23:48:31.134Z"
   },
   {
    "duration": 10,
    "start_time": "2024-10-26T23:48:31.582Z"
   },
   {
    "duration": 9,
    "start_time": "2024-10-26T23:48:31.595Z"
   },
   {
    "duration": 31,
    "start_time": "2024-10-26T23:48:31.606Z"
   },
   {
    "duration": 9,
    "start_time": "2024-10-26T23:48:31.639Z"
   },
   {
    "duration": 9,
    "start_time": "2024-10-26T23:48:31.651Z"
   },
   {
    "duration": 7,
    "start_time": "2024-10-26T23:48:31.662Z"
   },
   {
    "duration": 11,
    "start_time": "2024-10-26T23:48:31.670Z"
   },
   {
    "duration": 15,
    "start_time": "2024-10-26T23:48:31.684Z"
   },
   {
    "duration": 7,
    "start_time": "2024-10-26T23:48:31.732Z"
   },
   {
    "duration": 24,
    "start_time": "2024-10-26T23:48:31.742Z"
   },
   {
    "duration": 8,
    "start_time": "2024-10-26T23:48:31.768Z"
   },
   {
    "duration": 14,
    "start_time": "2024-10-26T23:48:31.778Z"
   },
   {
    "duration": 38,
    "start_time": "2024-10-26T23:48:31.794Z"
   },
   {
    "duration": 17,
    "start_time": "2024-10-26T23:48:31.834Z"
   },
   {
    "duration": 13,
    "start_time": "2024-10-26T23:48:31.853Z"
   },
   {
    "duration": 73,
    "start_time": "2024-10-26T23:48:31.867Z"
   },
   {
    "duration": 13,
    "start_time": "2024-10-26T23:48:31.942Z"
   },
   {
    "duration": 80,
    "start_time": "2024-10-26T23:48:31.957Z"
   },
   {
    "duration": 12,
    "start_time": "2024-10-26T23:48:32.039Z"
   },
   {
    "duration": 10,
    "start_time": "2024-10-26T23:48:32.053Z"
   },
   {
    "duration": 88,
    "start_time": "2024-10-26T23:48:32.065Z"
   },
   {
    "duration": 80,
    "start_time": "2024-10-26T23:48:32.155Z"
   },
   {
    "duration": 24,
    "start_time": "2024-10-26T23:48:32.237Z"
   },
   {
    "duration": 79,
    "start_time": "2024-10-26T23:48:32.263Z"
   },
   {
    "duration": 24,
    "start_time": "2024-10-26T23:48:32.344Z"
   },
   {
    "duration": 76,
    "start_time": "2024-10-26T23:48:32.371Z"
   },
   {
    "duration": 126,
    "start_time": "2024-10-26T23:48:32.449Z"
   },
   {
    "duration": 302,
    "start_time": "2024-10-26T23:48:32.577Z"
   },
   {
    "duration": 455,
    "start_time": "2024-10-26T23:48:32.881Z"
   },
   {
    "duration": 0,
    "start_time": "2024-10-26T23:48:33.338Z"
   },
   {
    "duration": 0,
    "start_time": "2024-10-26T23:48:33.340Z"
   },
   {
    "duration": 0,
    "start_time": "2024-10-26T23:48:33.341Z"
   },
   {
    "duration": 0,
    "start_time": "2024-10-26T23:48:33.343Z"
   },
   {
    "duration": 0,
    "start_time": "2024-10-26T23:48:33.344Z"
   },
   {
    "duration": 0,
    "start_time": "2024-10-26T23:48:33.345Z"
   },
   {
    "duration": 836,
    "start_time": "2024-10-26T23:48:47.192Z"
   },
   {
    "duration": 731,
    "start_time": "2024-10-26T23:49:19.256Z"
   },
   {
    "duration": 720,
    "start_time": "2024-10-26T23:49:28.196Z"
   },
   {
    "duration": 154,
    "start_time": "2024-10-26T23:49:50.927Z"
   },
   {
    "duration": 287,
    "start_time": "2024-10-26T23:50:15.221Z"
   },
   {
    "duration": 144,
    "start_time": "2024-10-26T23:52:10.911Z"
   },
   {
    "duration": 391,
    "start_time": "2024-10-26T23:53:04.129Z"
   },
   {
    "duration": 176,
    "start_time": "2024-10-26T23:53:11.141Z"
   },
   {
    "duration": 3,
    "start_time": "2024-10-26T23:57:31.483Z"
   },
   {
    "duration": 3,
    "start_time": "2024-10-26T23:57:34.177Z"
   },
   {
    "duration": 5,
    "start_time": "2024-10-26T23:57:41.904Z"
   },
   {
    "duration": 4,
    "start_time": "2024-10-26T23:58:40.438Z"
   },
   {
    "duration": 57,
    "start_time": "2024-10-26T23:59:40.565Z"
   },
   {
    "duration": 8,
    "start_time": "2024-10-27T00:00:49.378Z"
   },
   {
    "duration": 6,
    "start_time": "2024-10-27T00:00:57.494Z"
   },
   {
    "duration": 3,
    "start_time": "2024-10-27T00:02:48.342Z"
   },
   {
    "duration": 10,
    "start_time": "2024-10-27T00:02:52.902Z"
   },
   {
    "duration": 24,
    "start_time": "2024-10-27T00:03:10.409Z"
   },
   {
    "duration": 476,
    "start_time": "2024-10-27T00:03:17.272Z"
   },
   {
    "duration": 13,
    "start_time": "2024-10-27T00:03:46.507Z"
   },
   {
    "duration": 735,
    "start_time": "2024-10-27T00:04:33.890Z"
   },
   {
    "duration": 1418,
    "start_time": "2024-10-27T00:05:07.422Z"
   },
   {
    "duration": 326,
    "start_time": "2024-10-27T00:05:15.093Z"
   },
   {
    "duration": 746,
    "start_time": "2024-10-27T00:05:19.267Z"
   },
   {
    "duration": 749,
    "start_time": "2024-10-27T00:05:41.386Z"
   },
   {
    "duration": 179,
    "start_time": "2024-10-27T00:08:10.589Z"
   },
   {
    "duration": 178,
    "start_time": "2024-10-27T00:08:16.446Z"
   },
   {
    "duration": 183,
    "start_time": "2024-10-27T00:08:24.262Z"
   },
   {
    "duration": 177,
    "start_time": "2024-10-27T00:08:37.328Z"
   },
   {
    "duration": 192,
    "start_time": "2024-10-27T00:08:50.851Z"
   },
   {
    "duration": 34,
    "start_time": "2024-10-27T00:09:11.148Z"
   },
   {
    "duration": 11,
    "start_time": "2024-10-27T00:09:21.264Z"
   },
   {
    "duration": 14,
    "start_time": "2024-10-27T00:11:50.971Z"
   },
   {
    "duration": 13,
    "start_time": "2024-10-27T00:12:01.058Z"
   },
   {
    "duration": 89,
    "start_time": "2024-10-27T00:12:16.737Z"
   },
   {
    "duration": 8,
    "start_time": "2024-10-27T00:13:40.815Z"
   },
   {
    "duration": 87,
    "start_time": "2024-10-27T00:13:45.730Z"
   },
   {
    "duration": 13,
    "start_time": "2024-10-27T00:14:33.361Z"
   },
   {
    "duration": 9,
    "start_time": "2024-10-27T00:14:39.480Z"
   },
   {
    "duration": 87,
    "start_time": "2024-10-27T00:14:39.945Z"
   },
   {
    "duration": 9,
    "start_time": "2024-10-27T00:17:13.118Z"
   },
   {
    "duration": 6,
    "start_time": "2024-10-27T00:17:21.432Z"
   },
   {
    "duration": 11,
    "start_time": "2024-10-27T00:17:29.027Z"
   },
   {
    "duration": 9,
    "start_time": "2024-10-27T00:17:49.594Z"
   },
   {
    "duration": 9,
    "start_time": "2024-10-27T00:17:55.659Z"
   },
   {
    "duration": 14,
    "start_time": "2024-10-27T00:21:02.425Z"
   },
   {
    "duration": 14,
    "start_time": "2024-10-27T00:21:46.749Z"
   },
   {
    "duration": 82,
    "start_time": "2024-10-27T00:22:18.317Z"
   },
   {
    "duration": 95,
    "start_time": "2024-10-27T00:26:35.205Z"
   },
   {
    "duration": 18,
    "start_time": "2024-10-27T00:26:59.120Z"
   },
   {
    "duration": 94,
    "start_time": "2024-10-27T00:27:11.952Z"
   },
   {
    "duration": 89,
    "start_time": "2024-10-27T00:28:53.644Z"
   },
   {
    "duration": 328,
    "start_time": "2024-10-27T00:30:42.930Z"
   },
   {
    "duration": 86,
    "start_time": "2024-10-27T00:30:56.158Z"
   },
   {
    "duration": 100,
    "start_time": "2024-10-27T00:32:24.538Z"
   },
   {
    "duration": 13,
    "start_time": "2024-10-27T00:43:29.223Z"
   },
   {
    "duration": 11,
    "start_time": "2024-10-27T00:44:04.464Z"
   },
   {
    "duration": 12,
    "start_time": "2024-10-27T00:44:10.789Z"
   },
   {
    "duration": 12,
    "start_time": "2024-10-27T00:44:19.624Z"
   },
   {
    "duration": 11,
    "start_time": "2024-10-27T00:44:40.823Z"
   },
   {
    "duration": 14,
    "start_time": "2024-10-27T00:44:57.531Z"
   },
   {
    "duration": 12,
    "start_time": "2024-10-27T00:45:05.692Z"
   },
   {
    "duration": 87,
    "start_time": "2024-10-27T00:46:39.013Z"
   },
   {
    "duration": 31,
    "start_time": "2024-10-27T01:02:21.502Z"
   },
   {
    "duration": 32,
    "start_time": "2024-10-27T01:02:30.475Z"
   },
   {
    "duration": 8,
    "start_time": "2024-10-27T01:03:22.189Z"
   },
   {
    "duration": 12,
    "start_time": "2024-10-27T01:03:29.356Z"
   },
   {
    "duration": 8,
    "start_time": "2024-10-27T01:03:45.697Z"
   },
   {
    "duration": 6,
    "start_time": "2024-10-27T01:45:19.339Z"
   },
   {
    "duration": 9,
    "start_time": "2024-10-27T01:45:46.459Z"
   },
   {
    "duration": 11,
    "start_time": "2024-10-27T01:53:07.602Z"
   },
   {
    "duration": 87,
    "start_time": "2024-10-27T01:56:02.371Z"
   },
   {
    "duration": 83,
    "start_time": "2024-10-27T01:56:17.723Z"
   },
   {
    "duration": 112,
    "start_time": "2024-10-27T01:56:37.729Z"
   },
   {
    "duration": 17,
    "start_time": "2024-10-27T01:56:43.456Z"
   },
   {
    "duration": 105,
    "start_time": "2024-10-27T01:56:49.000Z"
   },
   {
    "duration": 105,
    "start_time": "2024-10-27T01:57:03.206Z"
   },
   {
    "duration": 96,
    "start_time": "2024-10-27T01:57:08.859Z"
   },
   {
    "duration": 95,
    "start_time": "2024-10-27T01:57:30.091Z"
   },
   {
    "duration": 85,
    "start_time": "2024-10-27T01:58:28.342Z"
   },
   {
    "duration": 248,
    "start_time": "2024-10-27T01:59:15.544Z"
   },
   {
    "duration": 7,
    "start_time": "2024-10-27T01:59:23.431Z"
   },
   {
    "duration": 118,
    "start_time": "2024-10-27T01:59:39.265Z"
   },
   {
    "duration": 95,
    "start_time": "2024-10-27T01:59:50.541Z"
   },
   {
    "duration": 106,
    "start_time": "2024-10-27T02:00:36.925Z"
   },
   {
    "duration": 94,
    "start_time": "2024-10-27T02:01:01.173Z"
   },
   {
    "duration": 210,
    "start_time": "2024-10-27T02:02:06.730Z"
   },
   {
    "duration": 104,
    "start_time": "2024-10-27T02:02:18.006Z"
   },
   {
    "duration": 100,
    "start_time": "2024-10-27T02:02:26.680Z"
   },
   {
    "duration": 95,
    "start_time": "2024-10-27T02:03:12.738Z"
   },
   {
    "duration": 93,
    "start_time": "2024-10-27T02:03:58.817Z"
   },
   {
    "duration": 101,
    "start_time": "2024-10-27T02:05:16.461Z"
   },
   {
    "duration": 9,
    "start_time": "2024-10-27T02:05:27.105Z"
   },
   {
    "duration": 105,
    "start_time": "2024-10-27T02:06:27.415Z"
   },
   {
    "duration": 2480,
    "start_time": "2024-10-28T02:37:26.512Z"
   },
   {
    "duration": 232,
    "start_time": "2024-10-28T02:37:28.994Z"
   },
   {
    "duration": 10,
    "start_time": "2024-10-28T02:37:29.227Z"
   },
   {
    "duration": 8,
    "start_time": "2024-10-28T02:37:29.240Z"
   },
   {
    "duration": 11,
    "start_time": "2024-10-28T02:37:29.249Z"
   },
   {
    "duration": 9,
    "start_time": "2024-10-28T02:37:29.261Z"
   },
   {
    "duration": 8,
    "start_time": "2024-10-28T02:37:29.272Z"
   },
   {
    "duration": 6,
    "start_time": "2024-10-28T02:37:29.282Z"
   },
   {
    "duration": 9,
    "start_time": "2024-10-28T02:37:29.325Z"
   },
   {
    "duration": 15,
    "start_time": "2024-10-28T02:37:29.339Z"
   },
   {
    "duration": 8,
    "start_time": "2024-10-28T02:37:29.356Z"
   },
   {
    "duration": 23,
    "start_time": "2024-10-28T02:37:29.365Z"
   },
   {
    "duration": 37,
    "start_time": "2024-10-28T02:37:29.390Z"
   },
   {
    "duration": 12,
    "start_time": "2024-10-28T02:37:29.428Z"
   },
   {
    "duration": 7,
    "start_time": "2024-10-28T02:37:29.441Z"
   },
   {
    "duration": 17,
    "start_time": "2024-10-28T02:37:29.449Z"
   },
   {
    "duration": 13,
    "start_time": "2024-10-28T02:37:29.467Z"
   },
   {
    "duration": 46,
    "start_time": "2024-10-28T02:37:29.481Z"
   },
   {
    "duration": 7,
    "start_time": "2024-10-28T02:37:29.528Z"
   },
   {
    "duration": 17,
    "start_time": "2024-10-28T02:37:29.536Z"
   },
   {
    "duration": 7,
    "start_time": "2024-10-28T02:37:29.555Z"
   },
   {
    "duration": 6,
    "start_time": "2024-10-28T02:37:29.564Z"
   },
   {
    "duration": 57,
    "start_time": "2024-10-28T02:37:29.572Z"
   },
   {
    "duration": 28,
    "start_time": "2024-10-28T02:37:29.631Z"
   },
   {
    "duration": 23,
    "start_time": "2024-10-28T02:37:29.660Z"
   },
   {
    "duration": 45,
    "start_time": "2024-10-28T02:37:29.684Z"
   },
   {
    "duration": 17,
    "start_time": "2024-10-28T02:37:29.730Z"
   },
   {
    "duration": 16,
    "start_time": "2024-10-28T02:37:29.752Z"
   },
   {
    "duration": 87,
    "start_time": "2024-10-28T02:37:29.769Z"
   },
   {
    "duration": 219,
    "start_time": "2024-10-28T02:37:29.857Z"
   },
   {
    "duration": 187,
    "start_time": "2024-10-28T02:37:30.077Z"
   },
   {
    "duration": 9,
    "start_time": "2024-10-28T02:37:30.267Z"
   },
   {
    "duration": 99,
    "start_time": "2024-10-28T02:37:30.277Z"
   },
   {
    "duration": 105,
    "start_time": "2024-10-28T02:37:30.378Z"
   },
   {
    "duration": 108,
    "start_time": "2024-10-28T02:37:30.484Z"
   },
   {
    "duration": 138,
    "start_time": "2024-10-28T02:37:30.594Z"
   },
   {
    "duration": 8,
    "start_time": "2024-10-28T02:37:30.735Z"
   },
   {
    "duration": 3,
    "start_time": "2024-10-28T02:37:30.744Z"
   },
   {
    "duration": 3,
    "start_time": "2024-10-28T02:37:30.748Z"
   },
   {
    "duration": 215,
    "start_time": "2024-10-28T02:37:32.449Z"
   },
   {
    "duration": 16,
    "start_time": "2024-10-28T02:38:02.294Z"
   },
   {
    "duration": 15,
    "start_time": "2024-10-28T02:38:18.871Z"
   },
   {
    "duration": 744,
    "start_time": "2024-10-28T02:38:43.895Z"
   },
   {
    "duration": 153,
    "start_time": "2024-10-28T02:38:44.641Z"
   },
   {
    "duration": 9,
    "start_time": "2024-10-28T02:38:44.796Z"
   },
   {
    "duration": 21,
    "start_time": "2024-10-28T02:38:44.808Z"
   },
   {
    "duration": 9,
    "start_time": "2024-10-28T02:38:44.830Z"
   },
   {
    "duration": 8,
    "start_time": "2024-10-28T02:38:44.840Z"
   },
   {
    "duration": 8,
    "start_time": "2024-10-28T02:38:44.850Z"
   },
   {
    "duration": 5,
    "start_time": "2024-10-28T02:38:44.860Z"
   },
   {
    "duration": 9,
    "start_time": "2024-10-28T02:38:44.867Z"
   },
   {
    "duration": 47,
    "start_time": "2024-10-28T02:38:44.879Z"
   },
   {
    "duration": 6,
    "start_time": "2024-10-28T02:38:44.928Z"
   },
   {
    "duration": 22,
    "start_time": "2024-10-28T02:38:44.936Z"
   },
   {
    "duration": 9,
    "start_time": "2024-10-28T02:38:44.960Z"
   },
   {
    "duration": 12,
    "start_time": "2024-10-28T02:38:44.971Z"
   },
   {
    "duration": 40,
    "start_time": "2024-10-28T02:38:44.984Z"
   },
   {
    "duration": 17,
    "start_time": "2024-10-28T02:38:45.026Z"
   },
   {
    "duration": 12,
    "start_time": "2024-10-28T02:38:45.045Z"
   },
   {
    "duration": 14,
    "start_time": "2024-10-28T02:38:45.059Z"
   },
   {
    "duration": 7,
    "start_time": "2024-10-28T02:38:45.074Z"
   },
   {
    "duration": 45,
    "start_time": "2024-10-28T02:38:45.082Z"
   },
   {
    "duration": 9,
    "start_time": "2024-10-28T02:38:45.128Z"
   },
   {
    "duration": 7,
    "start_time": "2024-10-28T02:38:45.138Z"
   },
   {
    "duration": 28,
    "start_time": "2024-10-28T02:38:45.146Z"
   },
   {
    "duration": 48,
    "start_time": "2024-10-28T02:38:45.178Z"
   },
   {
    "duration": 24,
    "start_time": "2024-10-28T02:38:45.227Z"
   },
   {
    "duration": 23,
    "start_time": "2024-10-28T02:38:45.253Z"
   },
   {
    "duration": 16,
    "start_time": "2024-10-28T02:38:45.277Z"
   },
   {
    "duration": 41,
    "start_time": "2024-10-28T02:38:45.297Z"
   },
   {
    "duration": 70,
    "start_time": "2024-10-28T02:38:45.340Z"
   },
   {
    "duration": 207,
    "start_time": "2024-10-28T02:38:45.423Z"
   },
   {
    "duration": 183,
    "start_time": "2024-10-28T02:38:45.634Z"
   },
   {
    "duration": 13,
    "start_time": "2024-10-28T02:38:45.818Z"
   },
   {
    "duration": 91,
    "start_time": "2024-10-28T02:38:45.834Z"
   },
   {
    "duration": 147,
    "start_time": "2024-10-28T02:38:45.927Z"
   },
   {
    "duration": 107,
    "start_time": "2024-10-28T02:38:46.075Z"
   },
   {
    "duration": 85,
    "start_time": "2024-10-28T02:38:46.184Z"
   },
   {
    "duration": 7,
    "start_time": "2024-10-28T02:38:46.271Z"
   },
   {
    "duration": 2,
    "start_time": "2024-10-28T02:38:46.280Z"
   },
   {
    "duration": 0,
    "start_time": "2024-10-28T02:38:46.515Z"
   },
   {
    "duration": 15,
    "start_time": "2024-10-28T02:38:49.492Z"
   },
   {
    "duration": 509,
    "start_time": "2024-10-28T02:39:16.398Z"
   },
   {
    "duration": 168,
    "start_time": "2024-10-28T02:39:53.835Z"
   },
   {
    "duration": 2490,
    "start_time": "2024-10-28T08:23:14.512Z"
   },
   {
    "duration": 224,
    "start_time": "2024-10-28T08:23:17.004Z"
   },
   {
    "duration": 10,
    "start_time": "2024-10-28T08:23:17.230Z"
   },
   {
    "duration": 9,
    "start_time": "2024-10-28T08:23:17.242Z"
   },
   {
    "duration": 9,
    "start_time": "2024-10-28T08:23:17.255Z"
   },
   {
    "duration": 8,
    "start_time": "2024-10-28T08:23:17.266Z"
   },
   {
    "duration": 9,
    "start_time": "2024-10-28T08:23:17.276Z"
   },
   {
    "duration": 38,
    "start_time": "2024-10-28T08:23:17.287Z"
   },
   {
    "duration": 10,
    "start_time": "2024-10-28T08:23:17.327Z"
   },
   {
    "duration": 16,
    "start_time": "2024-10-28T08:23:17.338Z"
   },
   {
    "duration": 7,
    "start_time": "2024-10-28T08:23:17.355Z"
   },
   {
    "duration": 22,
    "start_time": "2024-10-28T08:23:17.364Z"
   },
   {
    "duration": 41,
    "start_time": "2024-10-28T08:23:17.388Z"
   },
   {
    "duration": 12,
    "start_time": "2024-10-28T08:23:17.433Z"
   },
   {
    "duration": 7,
    "start_time": "2024-10-28T08:23:17.446Z"
   },
   {
    "duration": 16,
    "start_time": "2024-10-28T08:23:17.454Z"
   },
   {
    "duration": 13,
    "start_time": "2024-10-28T08:23:17.472Z"
   },
   {
    "duration": 49,
    "start_time": "2024-10-28T08:23:17.486Z"
   },
   {
    "duration": 7,
    "start_time": "2024-10-28T08:23:17.537Z"
   },
   {
    "duration": 17,
    "start_time": "2024-10-28T08:23:17.546Z"
   },
   {
    "duration": 8,
    "start_time": "2024-10-28T08:23:17.564Z"
   },
   {
    "duration": 6,
    "start_time": "2024-10-28T08:23:17.574Z"
   },
   {
    "duration": 51,
    "start_time": "2024-10-28T08:23:17.583Z"
   },
   {
    "duration": 28,
    "start_time": "2024-10-28T08:23:17.636Z"
   },
   {
    "duration": 25,
    "start_time": "2024-10-28T08:23:17.666Z"
   },
   {
    "duration": 48,
    "start_time": "2024-10-28T08:23:17.693Z"
   },
   {
    "duration": 16,
    "start_time": "2024-10-28T08:23:17.743Z"
   },
   {
    "duration": 16,
    "start_time": "2024-10-28T08:23:17.761Z"
   },
   {
    "duration": 95,
    "start_time": "2024-10-28T08:23:17.779Z"
   },
   {
    "duration": 212,
    "start_time": "2024-10-28T08:23:17.876Z"
   },
   {
    "duration": 193,
    "start_time": "2024-10-28T08:23:18.090Z"
   },
   {
    "duration": 9,
    "start_time": "2024-10-28T08:23:18.285Z"
   },
   {
    "duration": 100,
    "start_time": "2024-10-28T08:23:18.296Z"
   },
   {
    "duration": 105,
    "start_time": "2024-10-28T08:23:18.398Z"
   },
   {
    "duration": 104,
    "start_time": "2024-10-28T08:23:18.505Z"
   },
   {
    "duration": 87,
    "start_time": "2024-10-28T08:23:18.611Z"
   },
   {
    "duration": 8,
    "start_time": "2024-10-28T08:23:18.700Z"
   },
   {
    "duration": 15,
    "start_time": "2024-10-28T08:23:18.709Z"
   },
   {
    "duration": 220,
    "start_time": "2024-10-28T08:23:18.725Z"
   },
   {
    "duration": 2,
    "start_time": "2024-10-28T08:23:25.761Z"
   },
   {
    "duration": 176,
    "start_time": "2024-10-28T08:23:47.775Z"
   },
   {
    "duration": 10,
    "start_time": "2024-10-28T08:25:10.018Z"
   },
   {
    "duration": 195,
    "start_time": "2024-10-28T08:26:15.301Z"
   },
   {
    "duration": 202,
    "start_time": "2024-10-28T08:26:47.335Z"
   },
   {
    "duration": 193,
    "start_time": "2024-10-28T08:27:14.334Z"
   },
   {
    "duration": 84,
    "start_time": "2024-10-28T08:28:21.646Z"
   },
   {
    "duration": 149,
    "start_time": "2024-10-28T08:28:33.345Z"
   },
   {
    "duration": 696,
    "start_time": "2024-10-28T08:28:53.505Z"
   },
   {
    "duration": 199,
    "start_time": "2024-10-28T08:29:01.158Z"
   },
   {
    "duration": 207,
    "start_time": "2024-10-28T08:30:07.842Z"
   },
   {
    "duration": 8,
    "start_time": "2024-10-28T08:30:21.593Z"
   },
   {
    "duration": 90,
    "start_time": "2024-10-28T08:33:14.658Z"
   },
   {
    "duration": 87,
    "start_time": "2024-10-28T08:33:38.791Z"
   },
   {
    "duration": 93,
    "start_time": "2024-10-28T08:34:41.466Z"
   },
   {
    "duration": 92,
    "start_time": "2024-10-28T08:34:50.579Z"
   },
   {
    "duration": 8,
    "start_time": "2024-10-28T08:35:06.535Z"
   },
   {
    "duration": 92,
    "start_time": "2024-10-28T08:35:11.592Z"
   },
   {
    "duration": 92,
    "start_time": "2024-10-28T08:35:20.587Z"
   },
   {
    "duration": 96,
    "start_time": "2024-10-28T08:35:55.769Z"
   },
   {
    "duration": 305,
    "start_time": "2024-10-28T08:36:39.792Z"
   },
   {
    "duration": 81,
    "start_time": "2024-10-28T08:37:00.340Z"
   },
   {
    "duration": 81,
    "start_time": "2024-10-28T08:37:48.845Z"
   },
   {
    "duration": 218,
    "start_time": "2024-10-28T08:38:03.252Z"
   },
   {
    "duration": 83,
    "start_time": "2024-10-28T08:38:06.912Z"
   },
   {
    "duration": 97,
    "start_time": "2024-10-28T08:41:15.705Z"
   },
   {
    "duration": 312,
    "start_time": "2024-10-28T08:41:36.384Z"
   },
   {
    "duration": 59,
    "start_time": "2024-10-28T08:41:48.526Z"
   },
   {
    "duration": 192,
    "start_time": "2024-10-28T08:42:03.348Z"
   },
   {
    "duration": 194,
    "start_time": "2024-10-28T08:43:07.850Z"
   },
   {
    "duration": 5,
    "start_time": "2024-10-28T08:55:01.396Z"
   },
   {
    "duration": 5,
    "start_time": "2024-10-28T08:55:16.548Z"
   },
   {
    "duration": 4,
    "start_time": "2024-10-28T08:55:22.196Z"
   },
   {
    "duration": 44,
    "start_time": "2024-10-28T08:55:55.915Z"
   },
   {
    "duration": 18,
    "start_time": "2024-10-28T08:56:25.022Z"
   },
   {
    "duration": 17,
    "start_time": "2024-10-28T08:57:14.022Z"
   },
   {
    "duration": 6,
    "start_time": "2024-10-28T08:58:27.616Z"
   },
   {
    "duration": 7,
    "start_time": "2024-10-28T09:04:49.906Z"
   },
   {
    "duration": 18,
    "start_time": "2024-10-28T09:05:52.724Z"
   },
   {
    "duration": 19,
    "start_time": "2024-10-28T09:06:18.997Z"
   },
   {
    "duration": 8,
    "start_time": "2024-10-28T09:07:02.657Z"
   },
   {
    "duration": 26,
    "start_time": "2024-10-28T09:11:41.033Z"
   },
   {
    "duration": 23,
    "start_time": "2024-10-28T09:13:23.626Z"
   },
   {
    "duration": 3,
    "start_time": "2024-10-28T09:13:44.505Z"
   },
   {
    "duration": 162,
    "start_time": "2024-10-28T09:13:44.510Z"
   },
   {
    "duration": 9,
    "start_time": "2024-10-28T09:13:44.674Z"
   },
   {
    "duration": 7,
    "start_time": "2024-10-28T09:13:44.685Z"
   },
   {
    "duration": 9,
    "start_time": "2024-10-28T09:13:44.693Z"
   },
   {
    "duration": 9,
    "start_time": "2024-10-28T09:13:44.723Z"
   },
   {
    "duration": 9,
    "start_time": "2024-10-28T09:13:44.734Z"
   },
   {
    "duration": 6,
    "start_time": "2024-10-28T09:13:44.744Z"
   },
   {
    "duration": 9,
    "start_time": "2024-10-28T09:13:44.752Z"
   },
   {
    "duration": 15,
    "start_time": "2024-10-28T09:13:44.763Z"
   },
   {
    "duration": 7,
    "start_time": "2024-10-28T09:13:44.779Z"
   },
   {
    "duration": 24,
    "start_time": "2024-10-28T09:13:44.824Z"
   },
   {
    "duration": 9,
    "start_time": "2024-10-28T09:13:44.849Z"
   },
   {
    "duration": 11,
    "start_time": "2024-10-28T09:13:44.859Z"
   },
   {
    "duration": 6,
    "start_time": "2024-10-28T09:13:44.872Z"
   },
   {
    "duration": 17,
    "start_time": "2024-10-28T09:13:44.879Z"
   },
   {
    "duration": 13,
    "start_time": "2024-10-28T09:13:44.924Z"
   },
   {
    "duration": 13,
    "start_time": "2024-10-28T09:13:44.939Z"
   },
   {
    "duration": 6,
    "start_time": "2024-10-28T09:13:44.954Z"
   },
   {
    "duration": 17,
    "start_time": "2024-10-28T09:13:44.963Z"
   },
   {
    "duration": 8,
    "start_time": "2024-10-28T09:13:44.981Z"
   },
   {
    "duration": 38,
    "start_time": "2024-10-28T09:13:44.991Z"
   },
   {
    "duration": 27,
    "start_time": "2024-10-28T09:13:45.031Z"
   },
   {
    "duration": 28,
    "start_time": "2024-10-28T09:13:45.063Z"
   },
   {
    "duration": 48,
    "start_time": "2024-10-28T09:13:45.093Z"
   },
   {
    "duration": 23,
    "start_time": "2024-10-28T09:13:45.142Z"
   },
   {
    "duration": 16,
    "start_time": "2024-10-28T09:13:45.167Z"
   },
   {
    "duration": 17,
    "start_time": "2024-10-28T09:13:45.185Z"
   },
   {
    "duration": 68,
    "start_time": "2024-10-28T09:13:45.224Z"
   },
   {
    "duration": 195,
    "start_time": "2024-10-28T09:13:45.294Z"
   },
   {
    "duration": 184,
    "start_time": "2024-10-28T09:13:45.491Z"
   },
   {
    "duration": 10,
    "start_time": "2024-10-28T09:13:45.677Z"
   },
   {
    "duration": 103,
    "start_time": "2024-10-28T09:13:45.688Z"
   },
   {
    "duration": 104,
    "start_time": "2024-10-28T09:13:45.793Z"
   },
   {
    "duration": 105,
    "start_time": "2024-10-28T09:13:45.898Z"
   },
   {
    "duration": 82,
    "start_time": "2024-10-28T09:13:46.005Z"
   },
   {
    "duration": 204,
    "start_time": "2024-10-28T09:13:46.088Z"
   },
   {
    "duration": 9,
    "start_time": "2024-10-28T09:13:46.294Z"
   },
   {
    "duration": 95,
    "start_time": "2024-10-28T09:13:46.304Z"
   },
   {
    "duration": 105,
    "start_time": "2024-10-28T09:13:46.401Z"
   },
   {
    "duration": 200,
    "start_time": "2024-10-28T09:13:46.508Z"
   },
   {
    "duration": 86,
    "start_time": "2024-10-28T09:13:46.711Z"
   },
   {
    "duration": 7,
    "start_time": "2024-10-28T09:13:46.798Z"
   },
   {
    "duration": 3,
    "start_time": "2024-10-28T09:13:46.807Z"
   },
   {
    "duration": 3,
    "start_time": "2024-10-28T09:14:46.424Z"
   },
   {
    "duration": 4,
    "start_time": "2024-10-28T09:15:04.285Z"
   },
   {
    "duration": 4,
    "start_time": "2024-10-28T09:15:20.022Z"
   },
   {
    "duration": 4,
    "start_time": "2024-10-28T09:15:23.572Z"
   },
   {
    "duration": 21,
    "start_time": "2024-10-28T09:15:52.257Z"
   },
   {
    "duration": 19,
    "start_time": "2024-10-28T09:18:37.282Z"
   },
   {
    "duration": 7,
    "start_time": "2024-10-28T09:23:36.127Z"
   },
   {
    "duration": 3,
    "start_time": "2024-10-28T09:24:09.076Z"
   },
   {
    "duration": 157,
    "start_time": "2024-10-28T09:24:09.081Z"
   },
   {
    "duration": 9,
    "start_time": "2024-10-28T09:24:09.239Z"
   },
   {
    "duration": 7,
    "start_time": "2024-10-28T09:24:09.250Z"
   },
   {
    "duration": 9,
    "start_time": "2024-10-28T09:24:09.258Z"
   },
   {
    "duration": 9,
    "start_time": "2024-10-28T09:24:09.269Z"
   },
   {
    "duration": 9,
    "start_time": "2024-10-28T09:24:09.279Z"
   },
   {
    "duration": 39,
    "start_time": "2024-10-28T09:24:09.290Z"
   },
   {
    "duration": 9,
    "start_time": "2024-10-28T09:24:09.333Z"
   },
   {
    "duration": 14,
    "start_time": "2024-10-28T09:24:09.344Z"
   },
   {
    "duration": 7,
    "start_time": "2024-10-28T09:24:09.360Z"
   },
   {
    "duration": 23,
    "start_time": "2024-10-28T09:24:09.369Z"
   },
   {
    "duration": 37,
    "start_time": "2024-10-28T09:24:09.394Z"
   },
   {
    "duration": 12,
    "start_time": "2024-10-28T09:24:09.433Z"
   },
   {
    "duration": 6,
    "start_time": "2024-10-28T09:24:09.446Z"
   },
   {
    "duration": 16,
    "start_time": "2024-10-28T09:24:09.454Z"
   },
   {
    "duration": 14,
    "start_time": "2024-10-28T09:24:09.472Z"
   },
   {
    "duration": 44,
    "start_time": "2024-10-28T09:24:09.488Z"
   },
   {
    "duration": 7,
    "start_time": "2024-10-28T09:24:09.534Z"
   },
   {
    "duration": 17,
    "start_time": "2024-10-28T09:24:09.542Z"
   },
   {
    "duration": 8,
    "start_time": "2024-10-28T09:24:09.560Z"
   },
   {
    "duration": 7,
    "start_time": "2024-10-28T09:24:09.570Z"
   },
   {
    "duration": 57,
    "start_time": "2024-10-28T09:24:09.578Z"
   },
   {
    "duration": 26,
    "start_time": "2024-10-28T09:24:09.639Z"
   },
   {
    "duration": 25,
    "start_time": "2024-10-28T09:24:09.666Z"
   },
   {
    "duration": 44,
    "start_time": "2024-10-28T09:24:09.693Z"
   },
   {
    "duration": 15,
    "start_time": "2024-10-28T09:24:09.739Z"
   },
   {
    "duration": 16,
    "start_time": "2024-10-28T09:24:09.756Z"
   },
   {
    "duration": 90,
    "start_time": "2024-10-28T09:24:09.774Z"
   },
   {
    "duration": 194,
    "start_time": "2024-10-28T09:24:09.865Z"
   },
   {
    "duration": 181,
    "start_time": "2024-10-28T09:24:10.061Z"
   },
   {
    "duration": 10,
    "start_time": "2024-10-28T09:24:10.243Z"
   },
   {
    "duration": 99,
    "start_time": "2024-10-28T09:24:10.256Z"
   },
   {
    "duration": 106,
    "start_time": "2024-10-28T09:24:10.357Z"
   },
   {
    "duration": 106,
    "start_time": "2024-10-28T09:24:10.466Z"
   },
   {
    "duration": 86,
    "start_time": "2024-10-28T09:24:10.574Z"
   },
   {
    "duration": 350,
    "start_time": "2024-10-28T09:24:10.661Z"
   },
   {
    "duration": 16,
    "start_time": "2024-10-28T09:24:11.013Z"
   },
   {
    "duration": 81,
    "start_time": "2024-10-28T09:24:11.031Z"
   },
   {
    "duration": 112,
    "start_time": "2024-10-28T09:24:11.125Z"
   },
   {
    "duration": 200,
    "start_time": "2024-10-28T09:24:11.239Z"
   },
   {
    "duration": 91,
    "start_time": "2024-10-28T09:24:11.441Z"
   },
   {
    "duration": 7,
    "start_time": "2024-10-28T09:24:11.534Z"
   },
   {
    "duration": 6,
    "start_time": "2024-10-28T09:24:11.543Z"
   },
   {
    "duration": 9,
    "start_time": "2024-10-28T09:25:14.933Z"
   },
   {
    "duration": 7,
    "start_time": "2024-10-28T09:25:39.836Z"
   },
   {
    "duration": 6,
    "start_time": "2024-10-28T09:25:44.773Z"
   },
   {
    "duration": 5,
    "start_time": "2024-10-28T09:25:53.354Z"
   },
   {
    "duration": 154,
    "start_time": "2024-10-28T09:25:53.360Z"
   },
   {
    "duration": 9,
    "start_time": "2024-10-28T09:25:53.516Z"
   },
   {
    "duration": 7,
    "start_time": "2024-10-28T09:25:53.528Z"
   },
   {
    "duration": 9,
    "start_time": "2024-10-28T09:25:53.536Z"
   },
   {
    "duration": 8,
    "start_time": "2024-10-28T09:25:53.547Z"
   },
   {
    "duration": 8,
    "start_time": "2024-10-28T09:25:53.557Z"
   },
   {
    "duration": 7,
    "start_time": "2024-10-28T09:25:53.566Z"
   },
   {
    "duration": 9,
    "start_time": "2024-10-28T09:25:53.575Z"
   },
   {
    "duration": 51,
    "start_time": "2024-10-28T09:25:53.588Z"
   },
   {
    "duration": 6,
    "start_time": "2024-10-28T09:25:53.641Z"
   },
   {
    "duration": 23,
    "start_time": "2024-10-28T09:25:53.649Z"
   },
   {
    "duration": 8,
    "start_time": "2024-10-28T09:25:53.674Z"
   },
   {
    "duration": 41,
    "start_time": "2024-10-28T09:25:53.684Z"
   },
   {
    "duration": 7,
    "start_time": "2024-10-28T09:25:53.726Z"
   },
   {
    "duration": 16,
    "start_time": "2024-10-28T09:25:53.735Z"
   },
   {
    "duration": 12,
    "start_time": "2024-10-28T09:25:53.753Z"
   },
   {
    "duration": 13,
    "start_time": "2024-10-28T09:25:53.767Z"
   },
   {
    "duration": 7,
    "start_time": "2024-10-28T09:25:53.782Z"
   },
   {
    "duration": 50,
    "start_time": "2024-10-28T09:25:53.790Z"
   },
   {
    "duration": 9,
    "start_time": "2024-10-28T09:25:53.841Z"
   },
   {
    "duration": 11,
    "start_time": "2024-10-28T09:25:53.852Z"
   },
   {
    "duration": 30,
    "start_time": "2024-10-28T09:25:53.866Z"
   },
   {
    "duration": 47,
    "start_time": "2024-10-28T09:25:53.898Z"
   },
   {
    "duration": 23,
    "start_time": "2024-10-28T09:25:53.946Z"
   },
   {
    "duration": 24,
    "start_time": "2024-10-28T09:25:53.971Z"
   },
   {
    "duration": 36,
    "start_time": "2024-10-28T09:25:53.997Z"
   },
   {
    "duration": 16,
    "start_time": "2024-10-28T09:25:54.037Z"
   },
   {
    "duration": 82,
    "start_time": "2024-10-28T09:25:54.055Z"
   },
   {
    "duration": 196,
    "start_time": "2024-10-28T09:25:54.139Z"
   },
   {
    "duration": 189,
    "start_time": "2024-10-28T09:25:54.337Z"
   },
   {
    "duration": 9,
    "start_time": "2024-10-28T09:25:54.528Z"
   },
   {
    "duration": 99,
    "start_time": "2024-10-28T09:25:54.539Z"
   },
   {
    "duration": 106,
    "start_time": "2024-10-28T09:25:54.640Z"
   },
   {
    "duration": 105,
    "start_time": "2024-10-28T09:25:54.748Z"
   },
   {
    "duration": 87,
    "start_time": "2024-10-28T09:25:54.855Z"
   },
   {
    "duration": 200,
    "start_time": "2024-10-28T09:25:54.944Z"
   },
   {
    "duration": 8,
    "start_time": "2024-10-28T09:25:55.146Z"
   },
   {
    "duration": 100,
    "start_time": "2024-10-28T09:25:55.155Z"
   },
   {
    "duration": 119,
    "start_time": "2024-10-28T09:25:55.257Z"
   },
   {
    "duration": 200,
    "start_time": "2024-10-28T09:25:55.378Z"
   },
   {
    "duration": 92,
    "start_time": "2024-10-28T09:25:55.580Z"
   },
   {
    "duration": 7,
    "start_time": "2024-10-28T09:25:55.674Z"
   },
   {
    "duration": 6,
    "start_time": "2024-10-28T09:25:55.683Z"
   },
   {
    "duration": 6,
    "start_time": "2024-10-28T09:26:43.137Z"
   },
   {
    "duration": 7,
    "start_time": "2024-10-28T09:26:45.417Z"
   },
   {
    "duration": 7,
    "start_time": "2024-10-28T09:26:47.315Z"
   },
   {
    "duration": 8,
    "start_time": "2024-10-28T09:27:28.826Z"
   },
   {
    "duration": 7,
    "start_time": "2024-10-28T09:27:36.985Z"
   },
   {
    "duration": 7,
    "start_time": "2024-10-28T09:27:42.595Z"
   },
   {
    "duration": 7,
    "start_time": "2024-10-28T09:27:44.451Z"
   },
   {
    "duration": 169,
    "start_time": "2024-10-28T22:03:23.290Z"
   },
   {
    "duration": 3,
    "start_time": "2024-10-28T22:03:29.233Z"
   },
   {
    "duration": 162,
    "start_time": "2024-10-28T22:03:29.237Z"
   },
   {
    "duration": 10,
    "start_time": "2024-10-28T22:03:29.403Z"
   },
   {
    "duration": 7,
    "start_time": "2024-10-28T22:03:29.415Z"
   },
   {
    "duration": 10,
    "start_time": "2024-10-28T22:03:29.423Z"
   },
   {
    "duration": 8,
    "start_time": "2024-10-28T22:03:29.434Z"
   },
   {
    "duration": 7,
    "start_time": "2024-10-28T22:03:29.444Z"
   },
   {
    "duration": 6,
    "start_time": "2024-10-28T22:03:29.453Z"
   },
   {
    "duration": 16,
    "start_time": "2024-10-28T22:03:29.460Z"
   },
   {
    "duration": 12,
    "start_time": "2024-10-28T22:03:29.513Z"
   },
   {
    "duration": 25,
    "start_time": "2024-10-28T22:03:29.527Z"
   },
   {
    "duration": 8,
    "start_time": "2024-10-28T22:03:29.553Z"
   },
   {
    "duration": 12,
    "start_time": "2024-10-28T22:03:29.563Z"
   },
   {
    "duration": 6,
    "start_time": "2024-10-28T22:03:29.576Z"
   },
   {
    "duration": 45,
    "start_time": "2024-10-28T22:03:29.584Z"
   },
   {
    "duration": 13,
    "start_time": "2024-10-28T22:03:29.631Z"
   },
   {
    "duration": 15,
    "start_time": "2024-10-28T22:03:29.646Z"
   },
   {
    "duration": 8,
    "start_time": "2024-10-28T22:03:29.663Z"
   },
   {
    "duration": 51,
    "start_time": "2024-10-28T22:03:29.673Z"
   },
   {
    "duration": 10,
    "start_time": "2024-10-28T22:03:29.725Z"
   },
   {
    "duration": 8,
    "start_time": "2024-10-28T22:03:29.736Z"
   },
   {
    "duration": 30,
    "start_time": "2024-10-28T22:03:29.745Z"
   },
   {
    "duration": 54,
    "start_time": "2024-10-28T22:03:29.777Z"
   },
   {
    "duration": 24,
    "start_time": "2024-10-28T22:03:29.833Z"
   },
   {
    "duration": 28,
    "start_time": "2024-10-28T22:03:29.859Z"
   },
   {
    "duration": 39,
    "start_time": "2024-10-28T22:03:29.889Z"
   },
   {
    "duration": 439,
    "start_time": "2024-10-28T22:03:29.930Z"
   },
   {
    "duration": 0,
    "start_time": "2024-10-28T22:03:30.372Z"
   },
   {
    "duration": 0,
    "start_time": "2024-10-28T22:03:30.373Z"
   },
   {
    "duration": 0,
    "start_time": "2024-10-28T22:03:30.374Z"
   },
   {
    "duration": 0,
    "start_time": "2024-10-28T22:03:30.376Z"
   },
   {
    "duration": 0,
    "start_time": "2024-10-28T22:03:30.377Z"
   },
   {
    "duration": 0,
    "start_time": "2024-10-28T22:03:30.378Z"
   },
   {
    "duration": 0,
    "start_time": "2024-10-28T22:03:30.380Z"
   },
   {
    "duration": 0,
    "start_time": "2024-10-28T22:03:30.381Z"
   },
   {
    "duration": 0,
    "start_time": "2024-10-28T22:03:30.382Z"
   },
   {
    "duration": 0,
    "start_time": "2024-10-28T22:03:30.383Z"
   },
   {
    "duration": 0,
    "start_time": "2024-10-28T22:03:30.384Z"
   },
   {
    "duration": 0,
    "start_time": "2024-10-28T22:03:30.385Z"
   },
   {
    "duration": 1,
    "start_time": "2024-10-28T22:03:30.386Z"
   },
   {
    "duration": 0,
    "start_time": "2024-10-28T22:03:30.413Z"
   },
   {
    "duration": 0,
    "start_time": "2024-10-28T22:03:30.416Z"
   },
   {
    "duration": 0,
    "start_time": "2024-10-28T22:03:30.417Z"
   },
   {
    "duration": 11,
    "start_time": "2024-10-28T22:04:09.665Z"
   },
   {
    "duration": 18,
    "start_time": "2024-10-28T22:08:55.233Z"
   },
   {
    "duration": 50,
    "start_time": "2024-10-28T22:09:59.828Z"
   },
   {
    "duration": 14,
    "start_time": "2024-10-28T22:10:13.662Z"
   },
   {
    "duration": 21,
    "start_time": "2024-10-28T22:13:06.006Z"
   },
   {
    "duration": 17,
    "start_time": "2024-10-28T22:13:29.530Z"
   },
   {
    "duration": 9,
    "start_time": "2024-10-28T22:14:08.925Z"
   },
   {
    "duration": 31,
    "start_time": "2024-10-28T22:15:42.712Z"
   },
   {
    "duration": 3,
    "start_time": "2024-10-28T22:16:05.891Z"
   },
   {
    "duration": 170,
    "start_time": "2024-10-28T22:16:05.897Z"
   },
   {
    "duration": 8,
    "start_time": "2024-10-28T22:16:06.069Z"
   },
   {
    "duration": 7,
    "start_time": "2024-10-28T22:16:06.079Z"
   },
   {
    "duration": 26,
    "start_time": "2024-10-28T22:16:06.087Z"
   },
   {
    "duration": 8,
    "start_time": "2024-10-28T22:16:06.114Z"
   },
   {
    "duration": 9,
    "start_time": "2024-10-28T22:16:06.123Z"
   },
   {
    "duration": 6,
    "start_time": "2024-10-28T22:16:06.134Z"
   },
   {
    "duration": 15,
    "start_time": "2024-10-28T22:16:06.141Z"
   },
   {
    "duration": 6,
    "start_time": "2024-10-28T22:16:06.159Z"
   },
   {
    "duration": 56,
    "start_time": "2024-10-28T22:16:06.167Z"
   },
   {
    "duration": 9,
    "start_time": "2024-10-28T22:16:06.225Z"
   },
   {
    "duration": 11,
    "start_time": "2024-10-28T22:16:06.235Z"
   },
   {
    "duration": 6,
    "start_time": "2024-10-28T22:16:06.247Z"
   },
   {
    "duration": 16,
    "start_time": "2024-10-28T22:16:06.255Z"
   },
   {
    "duration": 44,
    "start_time": "2024-10-28T22:16:06.272Z"
   },
   {
    "duration": 14,
    "start_time": "2024-10-28T22:16:06.317Z"
   },
   {
    "duration": 7,
    "start_time": "2024-10-28T22:16:06.332Z"
   },
   {
    "duration": 17,
    "start_time": "2024-10-28T22:16:06.340Z"
   },
   {
    "duration": 8,
    "start_time": "2024-10-28T22:16:06.359Z"
   },
   {
    "duration": 6,
    "start_time": "2024-10-28T22:16:06.369Z"
   },
   {
    "duration": 64,
    "start_time": "2024-10-28T22:16:06.377Z"
   },
   {
    "duration": 28,
    "start_time": "2024-10-28T22:16:06.443Z"
   },
   {
    "duration": 39,
    "start_time": "2024-10-28T22:16:06.473Z"
   },
   {
    "duration": 24,
    "start_time": "2024-10-28T22:16:06.514Z"
   },
   {
    "duration": 15,
    "start_time": "2024-10-28T22:16:06.540Z"
   },
   {
    "duration": 55,
    "start_time": "2024-10-28T22:16:06.557Z"
   },
   {
    "duration": 0,
    "start_time": "2024-10-28T22:16:06.614Z"
   },
   {
    "duration": 0,
    "start_time": "2024-10-28T22:16:06.615Z"
   },
   {
    "duration": 0,
    "start_time": "2024-10-28T22:16:06.616Z"
   },
   {
    "duration": 0,
    "start_time": "2024-10-28T22:16:06.618Z"
   },
   {
    "duration": 0,
    "start_time": "2024-10-28T22:16:06.619Z"
   },
   {
    "duration": 0,
    "start_time": "2024-10-28T22:16:06.620Z"
   },
   {
    "duration": 0,
    "start_time": "2024-10-28T22:16:06.623Z"
   },
   {
    "duration": 0,
    "start_time": "2024-10-28T22:16:06.625Z"
   },
   {
    "duration": 0,
    "start_time": "2024-10-28T22:16:06.626Z"
   },
   {
    "duration": 0,
    "start_time": "2024-10-28T22:16:06.627Z"
   },
   {
    "duration": 0,
    "start_time": "2024-10-28T22:16:06.629Z"
   },
   {
    "duration": 0,
    "start_time": "2024-10-28T22:16:06.629Z"
   },
   {
    "duration": 0,
    "start_time": "2024-10-28T22:16:06.630Z"
   },
   {
    "duration": 0,
    "start_time": "2024-10-28T22:16:06.632Z"
   },
   {
    "duration": 0,
    "start_time": "2024-10-28T22:16:06.633Z"
   },
   {
    "duration": 0,
    "start_time": "2024-10-28T22:16:06.634Z"
   },
   {
    "duration": 15,
    "start_time": "2024-10-28T22:17:35.041Z"
   },
   {
    "duration": 14,
    "start_time": "2024-10-28T22:19:38.555Z"
   },
   {
    "duration": 32,
    "start_time": "2024-10-28T22:19:46.167Z"
   },
   {
    "duration": 19,
    "start_time": "2024-10-28T22:19:51.219Z"
   },
   {
    "duration": 17,
    "start_time": "2024-10-28T22:20:01.087Z"
   },
   {
    "duration": 2,
    "start_time": "2024-10-28T22:20:12.912Z"
   },
   {
    "duration": 177,
    "start_time": "2024-10-28T22:20:12.917Z"
   },
   {
    "duration": 10,
    "start_time": "2024-10-28T22:20:13.095Z"
   },
   {
    "duration": 7,
    "start_time": "2024-10-28T22:20:13.111Z"
   },
   {
    "duration": 8,
    "start_time": "2024-10-28T22:20:13.121Z"
   },
   {
    "duration": 8,
    "start_time": "2024-10-28T22:20:13.131Z"
   },
   {
    "duration": 9,
    "start_time": "2024-10-28T22:20:13.142Z"
   },
   {
    "duration": 5,
    "start_time": "2024-10-28T22:20:13.153Z"
   },
   {
    "duration": 15,
    "start_time": "2024-10-28T22:20:13.160Z"
   },
   {
    "duration": 48,
    "start_time": "2024-10-28T22:20:13.177Z"
   },
   {
    "duration": 7,
    "start_time": "2024-10-28T22:20:13.227Z"
   },
   {
    "duration": 23,
    "start_time": "2024-10-28T22:20:13.236Z"
   },
   {
    "duration": 8,
    "start_time": "2024-10-28T22:20:13.261Z"
   },
   {
    "duration": 40,
    "start_time": "2024-10-28T22:20:13.273Z"
   },
   {
    "duration": 7,
    "start_time": "2024-10-28T22:20:13.315Z"
   },
   {
    "duration": 16,
    "start_time": "2024-10-28T22:20:13.324Z"
   },
   {
    "duration": 12,
    "start_time": "2024-10-28T22:20:13.342Z"
   },
   {
    "duration": 14,
    "start_time": "2024-10-28T22:20:13.356Z"
   },
   {
    "duration": 7,
    "start_time": "2024-10-28T22:20:13.371Z"
   },
   {
    "duration": 47,
    "start_time": "2024-10-28T22:20:13.380Z"
   },
   {
    "duration": 9,
    "start_time": "2024-10-28T22:20:13.429Z"
   },
   {
    "duration": 7,
    "start_time": "2024-10-28T22:20:13.439Z"
   },
   {
    "duration": 29,
    "start_time": "2024-10-28T22:20:13.448Z"
   },
   {
    "duration": 53,
    "start_time": "2024-10-28T22:20:13.479Z"
   },
   {
    "duration": 23,
    "start_time": "2024-10-28T22:20:13.534Z"
   },
   {
    "duration": 25,
    "start_time": "2024-10-28T22:20:13.558Z"
   },
   {
    "duration": 41,
    "start_time": "2024-10-28T22:20:13.584Z"
   },
   {
    "duration": 15,
    "start_time": "2024-10-28T22:20:13.628Z"
   },
   {
    "duration": 443,
    "start_time": "2024-10-28T22:20:13.645Z"
   },
   {
    "duration": 0,
    "start_time": "2024-10-28T22:20:14.090Z"
   },
   {
    "duration": 0,
    "start_time": "2024-10-28T22:20:14.091Z"
   },
   {
    "duration": 0,
    "start_time": "2024-10-28T22:20:14.092Z"
   },
   {
    "duration": 0,
    "start_time": "2024-10-28T22:20:14.093Z"
   },
   {
    "duration": 0,
    "start_time": "2024-10-28T22:20:14.094Z"
   },
   {
    "duration": 0,
    "start_time": "2024-10-28T22:20:14.095Z"
   },
   {
    "duration": 0,
    "start_time": "2024-10-28T22:20:14.096Z"
   },
   {
    "duration": 0,
    "start_time": "2024-10-28T22:20:14.096Z"
   },
   {
    "duration": 0,
    "start_time": "2024-10-28T22:20:14.097Z"
   },
   {
    "duration": 0,
    "start_time": "2024-10-28T22:20:14.098Z"
   },
   {
    "duration": 0,
    "start_time": "2024-10-28T22:20:14.098Z"
   },
   {
    "duration": 0,
    "start_time": "2024-10-28T22:20:14.111Z"
   },
   {
    "duration": 0,
    "start_time": "2024-10-28T22:20:14.113Z"
   },
   {
    "duration": 0,
    "start_time": "2024-10-28T22:20:14.114Z"
   },
   {
    "duration": 0,
    "start_time": "2024-10-28T22:20:14.116Z"
   },
   {
    "duration": 16,
    "start_time": "2024-10-28T22:21:17.952Z"
   },
   {
    "duration": 3,
    "start_time": "2024-10-28T22:21:21.575Z"
   },
   {
    "duration": 164,
    "start_time": "2024-10-28T22:21:21.580Z"
   },
   {
    "duration": 10,
    "start_time": "2024-10-28T22:21:21.746Z"
   },
   {
    "duration": 8,
    "start_time": "2024-10-28T22:21:21.758Z"
   },
   {
    "duration": 9,
    "start_time": "2024-10-28T22:21:21.767Z"
   },
   {
    "duration": 8,
    "start_time": "2024-10-28T22:21:21.777Z"
   },
   {
    "duration": 30,
    "start_time": "2024-10-28T22:21:21.786Z"
   },
   {
    "duration": 5,
    "start_time": "2024-10-28T22:21:21.818Z"
   },
   {
    "duration": 14,
    "start_time": "2024-10-28T22:21:21.825Z"
   },
   {
    "duration": 14,
    "start_time": "2024-10-28T22:21:21.841Z"
   },
   {
    "duration": 7,
    "start_time": "2024-10-28T22:21:21.856Z"
   },
   {
    "duration": 56,
    "start_time": "2024-10-28T22:21:21.865Z"
   },
   {
    "duration": 13,
    "start_time": "2024-10-28T22:21:21.922Z"
   },
   {
    "duration": 14,
    "start_time": "2024-10-28T22:21:21.938Z"
   },
   {
    "duration": 8,
    "start_time": "2024-10-28T22:21:21.953Z"
   },
   {
    "duration": 16,
    "start_time": "2024-10-28T22:21:21.964Z"
   },
   {
    "duration": 34,
    "start_time": "2024-10-28T22:21:21.983Z"
   },
   {
    "duration": 13,
    "start_time": "2024-10-28T22:21:22.019Z"
   },
   {
    "duration": 8,
    "start_time": "2024-10-28T22:21:22.034Z"
   },
   {
    "duration": 17,
    "start_time": "2024-10-28T22:21:22.043Z"
   },
   {
    "duration": 8,
    "start_time": "2024-10-28T22:21:22.061Z"
   },
   {
    "duration": 43,
    "start_time": "2024-10-28T22:21:22.070Z"
   },
   {
    "duration": 30,
    "start_time": "2024-10-28T22:21:22.114Z"
   },
   {
    "duration": 28,
    "start_time": "2024-10-28T22:21:22.145Z"
   },
   {
    "duration": 43,
    "start_time": "2024-10-28T22:21:22.175Z"
   },
   {
    "duration": 25,
    "start_time": "2024-10-28T22:21:22.219Z"
   },
   {
    "duration": 16,
    "start_time": "2024-10-28T22:21:22.245Z"
   },
   {
    "duration": 12,
    "start_time": "2024-10-28T22:21:22.265Z"
   },
   {
    "duration": 97,
    "start_time": "2024-10-28T22:21:22.279Z"
   },
   {
    "duration": 0,
    "start_time": "2024-10-28T22:21:22.377Z"
   },
   {
    "duration": 0,
    "start_time": "2024-10-28T22:21:22.378Z"
   },
   {
    "duration": 0,
    "start_time": "2024-10-28T22:21:22.380Z"
   },
   {
    "duration": 0,
    "start_time": "2024-10-28T22:21:22.381Z"
   },
   {
    "duration": 0,
    "start_time": "2024-10-28T22:21:22.382Z"
   },
   {
    "duration": 0,
    "start_time": "2024-10-28T22:21:22.383Z"
   },
   {
    "duration": 0,
    "start_time": "2024-10-28T22:21:22.384Z"
   },
   {
    "duration": 0,
    "start_time": "2024-10-28T22:21:22.386Z"
   },
   {
    "duration": 0,
    "start_time": "2024-10-28T22:21:22.387Z"
   },
   {
    "duration": 0,
    "start_time": "2024-10-28T22:21:22.388Z"
   },
   {
    "duration": 0,
    "start_time": "2024-10-28T22:21:22.389Z"
   },
   {
    "duration": 0,
    "start_time": "2024-10-28T22:21:22.390Z"
   },
   {
    "duration": 1,
    "start_time": "2024-10-28T22:21:22.411Z"
   },
   {
    "duration": 0,
    "start_time": "2024-10-28T22:21:22.413Z"
   },
   {
    "duration": 0,
    "start_time": "2024-10-28T22:21:22.413Z"
   },
   {
    "duration": 19,
    "start_time": "2024-10-28T22:21:48.070Z"
   },
   {
    "duration": 3,
    "start_time": "2024-10-28T22:21:55.033Z"
   },
   {
    "duration": 168,
    "start_time": "2024-10-28T22:21:55.037Z"
   },
   {
    "duration": 11,
    "start_time": "2024-10-28T22:21:55.207Z"
   },
   {
    "duration": 7,
    "start_time": "2024-10-28T22:21:55.223Z"
   },
   {
    "duration": 8,
    "start_time": "2024-10-28T22:21:55.233Z"
   },
   {
    "duration": 8,
    "start_time": "2024-10-28T22:21:55.242Z"
   },
   {
    "duration": 8,
    "start_time": "2024-10-28T22:21:55.252Z"
   },
   {
    "duration": 6,
    "start_time": "2024-10-28T22:21:55.262Z"
   },
   {
    "duration": 48,
    "start_time": "2024-10-28T22:21:55.270Z"
   },
   {
    "duration": 16,
    "start_time": "2024-10-28T22:21:55.319Z"
   },
   {
    "duration": 8,
    "start_time": "2024-10-28T22:21:55.336Z"
   },
   {
    "duration": 23,
    "start_time": "2024-10-28T22:21:55.345Z"
   },
   {
    "duration": 9,
    "start_time": "2024-10-28T22:21:55.370Z"
   },
   {
    "duration": 36,
    "start_time": "2024-10-28T22:21:55.382Z"
   },
   {
    "duration": 7,
    "start_time": "2024-10-28T22:21:55.420Z"
   },
   {
    "duration": 17,
    "start_time": "2024-10-28T22:21:55.428Z"
   },
   {
    "duration": 13,
    "start_time": "2024-10-28T22:21:55.447Z"
   },
   {
    "duration": 13,
    "start_time": "2024-10-28T22:21:55.462Z"
   },
   {
    "duration": 37,
    "start_time": "2024-10-28T22:21:55.476Z"
   },
   {
    "duration": 17,
    "start_time": "2024-10-28T22:21:55.514Z"
   },
   {
    "duration": 10,
    "start_time": "2024-10-28T22:21:55.532Z"
   },
   {
    "duration": 7,
    "start_time": "2024-10-28T22:21:55.543Z"
   },
   {
    "duration": 29,
    "start_time": "2024-10-28T22:21:55.552Z"
   },
   {
    "duration": 29,
    "start_time": "2024-10-28T22:21:55.611Z"
   },
   {
    "duration": 22,
    "start_time": "2024-10-28T22:21:55.642Z"
   },
   {
    "duration": 46,
    "start_time": "2024-10-28T22:21:55.666Z"
   },
   {
    "duration": 17,
    "start_time": "2024-10-28T22:21:55.714Z"
   },
   {
    "duration": 17,
    "start_time": "2024-10-28T22:21:55.733Z"
   },
   {
    "duration": 84,
    "start_time": "2024-10-28T22:21:55.752Z"
   },
   {
    "duration": 213,
    "start_time": "2024-10-28T22:21:55.838Z"
   },
   {
    "duration": 298,
    "start_time": "2024-10-28T22:21:56.052Z"
   },
   {
    "duration": 10,
    "start_time": "2024-10-28T22:21:56.351Z"
   },
   {
    "duration": 96,
    "start_time": "2024-10-28T22:21:56.362Z"
   },
   {
    "duration": 112,
    "start_time": "2024-10-28T22:21:56.460Z"
   },
   {
    "duration": 106,
    "start_time": "2024-10-28T22:21:56.573Z"
   },
   {
    "duration": 89,
    "start_time": "2024-10-28T22:21:56.681Z"
   },
   {
    "duration": 202,
    "start_time": "2024-10-28T22:21:56.772Z"
   },
   {
    "duration": 8,
    "start_time": "2024-10-28T22:21:56.976Z"
   },
   {
    "duration": 94,
    "start_time": "2024-10-28T22:21:56.986Z"
   },
   {
    "duration": 107,
    "start_time": "2024-10-28T22:21:57.082Z"
   },
   {
    "duration": 228,
    "start_time": "2024-10-28T22:21:57.194Z"
   },
   {
    "duration": 89,
    "start_time": "2024-10-28T22:21:57.424Z"
   },
   {
    "duration": 7,
    "start_time": "2024-10-28T22:21:57.515Z"
   },
   {
    "duration": 6,
    "start_time": "2024-10-28T22:21:57.524Z"
   },
   {
    "duration": 11,
    "start_time": "2024-10-28T22:31:07.319Z"
   },
   {
    "duration": 9,
    "start_time": "2024-10-28T22:38:49.118Z"
   },
   {
    "duration": 3,
    "start_time": "2024-10-28T22:44:35.727Z"
   },
   {
    "duration": 157,
    "start_time": "2024-10-28T22:44:35.732Z"
   },
   {
    "duration": 9,
    "start_time": "2024-10-28T22:44:35.890Z"
   },
   {
    "duration": 16,
    "start_time": "2024-10-28T22:44:35.901Z"
   },
   {
    "duration": 8,
    "start_time": "2024-10-28T22:44:35.919Z"
   },
   {
    "duration": 8,
    "start_time": "2024-10-28T22:44:35.929Z"
   },
   {
    "duration": 8,
    "start_time": "2024-10-28T22:44:35.939Z"
   },
   {
    "duration": 6,
    "start_time": "2024-10-28T22:44:35.949Z"
   },
   {
    "duration": 14,
    "start_time": "2024-10-28T22:44:35.956Z"
   },
   {
    "duration": 45,
    "start_time": "2024-10-28T22:44:35.972Z"
   },
   {
    "duration": 6,
    "start_time": "2024-10-28T22:44:36.019Z"
   },
   {
    "duration": 24,
    "start_time": "2024-10-28T22:44:36.027Z"
   },
   {
    "duration": 8,
    "start_time": "2024-10-28T22:44:36.053Z"
   },
   {
    "duration": 12,
    "start_time": "2024-10-28T22:44:36.064Z"
   },
   {
    "duration": 35,
    "start_time": "2024-10-28T22:44:36.077Z"
   },
   {
    "duration": 22,
    "start_time": "2024-10-28T22:44:36.114Z"
   },
   {
    "duration": 14,
    "start_time": "2024-10-28T22:44:36.138Z"
   },
   {
    "duration": 14,
    "start_time": "2024-10-28T22:44:36.156Z"
   },
   {
    "duration": 7,
    "start_time": "2024-10-28T22:44:36.173Z"
   },
   {
    "duration": 46,
    "start_time": "2024-10-28T22:44:36.182Z"
   },
   {
    "duration": 8,
    "start_time": "2024-10-28T22:44:36.230Z"
   },
   {
    "duration": 7,
    "start_time": "2024-10-28T22:44:36.240Z"
   },
   {
    "duration": 28,
    "start_time": "2024-10-28T22:44:36.249Z"
   },
   {
    "duration": 53,
    "start_time": "2024-10-28T22:44:36.279Z"
   },
   {
    "duration": 23,
    "start_time": "2024-10-28T22:44:36.334Z"
   },
   {
    "duration": 23,
    "start_time": "2024-10-28T22:44:36.359Z"
   },
   {
    "duration": 37,
    "start_time": "2024-10-28T22:44:36.384Z"
   },
   {
    "duration": 17,
    "start_time": "2024-10-28T22:44:36.423Z"
   },
   {
    "duration": 80,
    "start_time": "2024-10-28T22:44:36.441Z"
   },
   {
    "duration": 201,
    "start_time": "2024-10-28T22:44:36.523Z"
   },
   {
    "duration": 182,
    "start_time": "2024-10-28T22:44:36.727Z"
   },
   {
    "duration": 10,
    "start_time": "2024-10-28T22:44:36.911Z"
   },
   {
    "duration": 96,
    "start_time": "2024-10-28T22:44:36.923Z"
   },
   {
    "duration": 9,
    "start_time": "2024-10-28T22:44:37.023Z"
   },
   {
    "duration": 113,
    "start_time": "2024-10-28T22:44:37.034Z"
   },
   {
    "duration": 96,
    "start_time": "2024-10-28T22:44:37.148Z"
   },
   {
    "duration": 204,
    "start_time": "2024-10-28T22:44:37.245Z"
   },
   {
    "duration": 8,
    "start_time": "2024-10-28T22:44:37.450Z"
   },
   {
    "duration": 275,
    "start_time": "2024-10-28T22:44:37.461Z"
   },
   {
    "duration": 8,
    "start_time": "2024-10-28T22:44:37.737Z"
   },
   {
    "duration": 470,
    "start_time": "2024-10-28T22:44:37.749Z"
   },
   {
    "duration": 142,
    "start_time": "2024-10-28T22:44:38.221Z"
   },
   {
    "duration": 8,
    "start_time": "2024-10-28T22:44:38.365Z"
   },
   {
    "duration": 6,
    "start_time": "2024-10-28T22:44:38.375Z"
   },
   {
    "duration": 186,
    "start_time": "2024-10-28T22:45:32.467Z"
   },
   {
    "duration": 11,
    "start_time": "2024-10-28T22:45:36.761Z"
   },
   {
    "duration": 3,
    "start_time": "2024-10-28T22:49:04.915Z"
   },
   {
    "duration": 169,
    "start_time": "2024-10-28T22:49:04.923Z"
   },
   {
    "duration": 9,
    "start_time": "2024-10-28T22:49:05.094Z"
   },
   {
    "duration": 15,
    "start_time": "2024-10-28T22:49:05.105Z"
   },
   {
    "duration": 9,
    "start_time": "2024-10-28T22:49:05.122Z"
   },
   {
    "duration": 8,
    "start_time": "2024-10-28T22:49:05.134Z"
   },
   {
    "duration": 8,
    "start_time": "2024-10-28T22:49:05.145Z"
   },
   {
    "duration": 7,
    "start_time": "2024-10-28T22:49:05.154Z"
   },
   {
    "duration": 14,
    "start_time": "2024-10-28T22:49:05.162Z"
   },
   {
    "duration": 52,
    "start_time": "2024-10-28T22:49:05.177Z"
   },
   {
    "duration": 7,
    "start_time": "2024-10-28T22:49:05.231Z"
   },
   {
    "duration": 22,
    "start_time": "2024-10-28T22:49:05.240Z"
   },
   {
    "duration": 9,
    "start_time": "2024-10-28T22:49:05.264Z"
   },
   {
    "duration": 39,
    "start_time": "2024-10-28T22:49:05.274Z"
   },
   {
    "duration": 6,
    "start_time": "2024-10-28T22:49:05.318Z"
   },
   {
    "duration": 16,
    "start_time": "2024-10-28T22:49:05.327Z"
   },
   {
    "duration": 13,
    "start_time": "2024-10-28T22:49:05.345Z"
   },
   {
    "duration": 13,
    "start_time": "2024-10-28T22:49:05.360Z"
   },
   {
    "duration": 7,
    "start_time": "2024-10-28T22:49:05.374Z"
   },
   {
    "duration": 46,
    "start_time": "2024-10-28T22:49:05.382Z"
   },
   {
    "duration": 9,
    "start_time": "2024-10-28T22:49:05.430Z"
   },
   {
    "duration": 7,
    "start_time": "2024-10-28T22:49:05.441Z"
   },
   {
    "duration": 28,
    "start_time": "2024-10-28T22:49:05.450Z"
   },
   {
    "duration": 56,
    "start_time": "2024-10-28T22:49:05.479Z"
   },
   {
    "duration": 24,
    "start_time": "2024-10-28T22:49:05.536Z"
   },
   {
    "duration": 24,
    "start_time": "2024-10-28T22:49:05.561Z"
   },
   {
    "duration": 39,
    "start_time": "2024-10-28T22:49:05.587Z"
   },
   {
    "duration": 18,
    "start_time": "2024-10-28T22:49:05.627Z"
   },
   {
    "duration": 88,
    "start_time": "2024-10-28T22:49:05.647Z"
   },
   {
    "duration": 202,
    "start_time": "2024-10-28T22:49:05.737Z"
   },
   {
    "duration": 185,
    "start_time": "2024-10-28T22:49:05.941Z"
   },
   {
    "duration": 10,
    "start_time": "2024-10-28T22:49:06.128Z"
   },
   {
    "duration": 108,
    "start_time": "2024-10-28T22:49:06.141Z"
   },
   {
    "duration": 67,
    "start_time": "2024-10-28T22:49:06.251Z"
   },
   {
    "duration": 203,
    "start_time": "2024-10-28T22:49:06.320Z"
   },
   {
    "duration": 226,
    "start_time": "2024-10-28T22:49:06.526Z"
   },
   {
    "duration": 363,
    "start_time": "2024-10-28T22:49:06.754Z"
   },
   {
    "duration": 9,
    "start_time": "2024-10-28T22:49:07.119Z"
   },
   {
    "duration": 99,
    "start_time": "2024-10-28T22:49:07.130Z"
   },
   {
    "duration": 9,
    "start_time": "2024-10-28T22:49:07.231Z"
   },
   {
    "duration": 205,
    "start_time": "2024-10-28T22:49:07.241Z"
   },
   {
    "duration": 94,
    "start_time": "2024-10-28T22:49:07.451Z"
   },
   {
    "duration": 6,
    "start_time": "2024-10-28T22:49:07.547Z"
   },
   {
    "duration": 5,
    "start_time": "2024-10-28T22:49:07.555Z"
   },
   {
    "duration": 2871,
    "start_time": "2024-10-30T21:19:07.518Z"
   },
   {
    "duration": 217,
    "start_time": "2024-10-30T21:19:10.392Z"
   },
   {
    "duration": 9,
    "start_time": "2024-10-30T21:19:10.611Z"
   },
   {
    "duration": 9,
    "start_time": "2024-10-30T21:19:10.623Z"
   },
   {
    "duration": 9,
    "start_time": "2024-10-30T21:19:10.633Z"
   },
   {
    "duration": 31,
    "start_time": "2024-10-30T21:19:10.644Z"
   },
   {
    "duration": 8,
    "start_time": "2024-10-30T21:19:10.677Z"
   },
   {
    "duration": 7,
    "start_time": "2024-10-30T21:19:10.687Z"
   },
   {
    "duration": 14,
    "start_time": "2024-10-30T21:19:10.696Z"
   },
   {
    "duration": 15,
    "start_time": "2024-10-30T21:19:10.713Z"
   },
   {
    "duration": 51,
    "start_time": "2024-10-30T21:19:10.730Z"
   },
   {
    "duration": 25,
    "start_time": "2024-10-30T21:19:10.783Z"
   },
   {
    "duration": 9,
    "start_time": "2024-10-30T21:19:10.809Z"
   },
   {
    "duration": 11,
    "start_time": "2024-10-30T21:19:10.819Z"
   },
   {
    "duration": 5,
    "start_time": "2024-10-30T21:19:10.832Z"
   },
   {
    "duration": 37,
    "start_time": "2024-10-30T21:19:10.839Z"
   },
   {
    "duration": 13,
    "start_time": "2024-10-30T21:19:10.878Z"
   },
   {
    "duration": 13,
    "start_time": "2024-10-30T21:19:10.892Z"
   },
   {
    "duration": 7,
    "start_time": "2024-10-30T21:19:10.908Z"
   },
   {
    "duration": 17,
    "start_time": "2024-10-30T21:19:10.917Z"
   },
   {
    "duration": 39,
    "start_time": "2024-10-30T21:19:10.936Z"
   },
   {
    "duration": 7,
    "start_time": "2024-10-30T21:19:10.976Z"
   },
   {
    "duration": 29,
    "start_time": "2024-10-30T21:19:10.984Z"
   },
   {
    "duration": 28,
    "start_time": "2024-10-30T21:19:11.015Z"
   },
   {
    "duration": 45,
    "start_time": "2024-10-30T21:19:11.044Z"
   },
   {
    "duration": 25,
    "start_time": "2024-10-30T21:19:11.090Z"
   },
   {
    "duration": 16,
    "start_time": "2024-10-30T21:19:11.116Z"
   },
   {
    "duration": 45,
    "start_time": "2024-10-30T21:19:11.136Z"
   },
   {
    "duration": 80,
    "start_time": "2024-10-30T21:19:11.183Z"
   },
   {
    "duration": 212,
    "start_time": "2024-10-30T21:19:11.270Z"
   },
   {
    "duration": 189,
    "start_time": "2024-10-30T21:19:11.484Z"
   },
   {
    "duration": 10,
    "start_time": "2024-10-30T21:19:11.675Z"
   },
   {
    "duration": 103,
    "start_time": "2024-10-30T21:19:11.686Z"
   },
   {
    "duration": 10,
    "start_time": "2024-10-30T21:19:11.791Z"
   },
   {
    "duration": 113,
    "start_time": "2024-10-30T21:19:11.802Z"
   },
   {
    "duration": 87,
    "start_time": "2024-10-30T21:19:11.917Z"
   },
   {
    "duration": 198,
    "start_time": "2024-10-30T21:19:12.005Z"
   },
   {
    "duration": 9,
    "start_time": "2024-10-30T21:19:12.205Z"
   },
   {
    "duration": 163,
    "start_time": "2024-10-30T21:19:12.216Z"
   },
   {
    "duration": 9,
    "start_time": "2024-10-30T21:19:12.380Z"
   },
   {
    "duration": 213,
    "start_time": "2024-10-30T21:19:12.390Z"
   },
   {
    "duration": 95,
    "start_time": "2024-10-30T21:19:12.605Z"
   },
   {
    "duration": 7,
    "start_time": "2024-10-30T21:19:12.702Z"
   },
   {
    "duration": 6,
    "start_time": "2024-10-30T21:19:12.710Z"
   },
   {
    "duration": 130,
    "start_time": "2024-10-30T21:21:14.651Z"
   },
   {
    "duration": 13,
    "start_time": "2024-10-30T21:21:42.244Z"
   },
   {
    "duration": 106,
    "start_time": "2024-10-30T21:22:16.723Z"
   },
   {
    "duration": 8,
    "start_time": "2024-10-30T21:22:40.160Z"
   },
   {
    "duration": 143,
    "start_time": "2024-10-30T21:24:08.383Z"
   },
   {
    "duration": 17,
    "start_time": "2024-10-30T21:24:15.209Z"
   },
   {
    "duration": 18,
    "start_time": "2024-10-30T21:24:20.265Z"
   },
   {
    "duration": 8,
    "start_time": "2024-10-30T21:24:44.156Z"
   },
   {
    "duration": 9,
    "start_time": "2024-10-30T21:25:28.583Z"
   },
   {
    "duration": 12,
    "start_time": "2024-10-30T21:25:36.684Z"
   },
   {
    "duration": 14,
    "start_time": "2024-10-30T21:27:07.564Z"
   },
   {
    "duration": 13,
    "start_time": "2024-10-30T21:27:15.081Z"
   },
   {
    "duration": 3,
    "start_time": "2024-10-30T21:28:58.300Z"
   },
   {
    "duration": 159,
    "start_time": "2024-10-30T21:28:58.305Z"
   },
   {
    "duration": 10,
    "start_time": "2024-10-30T21:28:58.465Z"
   },
   {
    "duration": 7,
    "start_time": "2024-10-30T21:28:58.476Z"
   },
   {
    "duration": 10,
    "start_time": "2024-10-30T21:28:58.486Z"
   },
   {
    "duration": 9,
    "start_time": "2024-10-30T21:28:58.498Z"
   },
   {
    "duration": 10,
    "start_time": "2024-10-30T21:28:58.509Z"
   },
   {
    "duration": 8,
    "start_time": "2024-10-30T21:28:58.520Z"
   },
   {
    "duration": 47,
    "start_time": "2024-10-30T21:28:58.532Z"
   },
   {
    "duration": 15,
    "start_time": "2024-10-30T21:28:58.581Z"
   },
   {
    "duration": 7,
    "start_time": "2024-10-30T21:28:58.598Z"
   },
   {
    "duration": 23,
    "start_time": "2024-10-30T21:28:58.606Z"
   },
   {
    "duration": 7,
    "start_time": "2024-10-30T21:28:58.632Z"
   },
   {
    "duration": 39,
    "start_time": "2024-10-30T21:28:58.641Z"
   },
   {
    "duration": 6,
    "start_time": "2024-10-30T21:28:58.682Z"
   },
   {
    "duration": 16,
    "start_time": "2024-10-30T21:28:58.691Z"
   },
   {
    "duration": 13,
    "start_time": "2024-10-30T21:28:58.709Z"
   },
   {
    "duration": 14,
    "start_time": "2024-10-30T21:28:58.723Z"
   },
   {
    "duration": 36,
    "start_time": "2024-10-30T21:28:58.739Z"
   },
   {
    "duration": 16,
    "start_time": "2024-10-30T21:28:58.777Z"
   },
   {
    "duration": 9,
    "start_time": "2024-10-30T21:28:58.794Z"
   },
   {
    "duration": 7,
    "start_time": "2024-10-30T21:28:58.804Z"
   },
   {
    "duration": 57,
    "start_time": "2024-10-30T21:28:58.813Z"
   },
   {
    "duration": 26,
    "start_time": "2024-10-30T21:28:58.872Z"
   },
   {
    "duration": 24,
    "start_time": "2024-10-30T21:28:58.899Z"
   },
   {
    "duration": 25,
    "start_time": "2024-10-30T21:28:58.925Z"
   },
   {
    "duration": 17,
    "start_time": "2024-10-30T21:28:58.970Z"
   },
   {
    "duration": 17,
    "start_time": "2024-10-30T21:28:58.989Z"
   },
   {
    "duration": 85,
    "start_time": "2024-10-30T21:28:59.007Z"
   },
   {
    "duration": 195,
    "start_time": "2024-10-30T21:28:59.093Z"
   },
   {
    "duration": 181,
    "start_time": "2024-10-30T21:28:59.291Z"
   },
   {
    "duration": 10,
    "start_time": "2024-10-30T21:28:59.474Z"
   },
   {
    "duration": 101,
    "start_time": "2024-10-30T21:28:59.485Z"
   },
   {
    "duration": 12,
    "start_time": "2024-10-30T21:28:59.588Z"
   },
   {
    "duration": 115,
    "start_time": "2024-10-30T21:28:59.601Z"
   },
   {
    "duration": 82,
    "start_time": "2024-10-30T21:28:59.718Z"
   },
   {
    "duration": 210,
    "start_time": "2024-10-30T21:28:59.804Z"
   },
   {
    "duration": 9,
    "start_time": "2024-10-30T21:29:00.016Z"
   },
   {
    "duration": 99,
    "start_time": "2024-10-30T21:29:00.027Z"
   },
   {
    "duration": 7,
    "start_time": "2024-10-30T21:29:00.128Z"
   },
   {
    "duration": 278,
    "start_time": "2024-10-30T21:29:00.137Z"
   },
   {
    "duration": 88,
    "start_time": "2024-10-30T21:29:00.417Z"
   },
   {
    "duration": 6,
    "start_time": "2024-10-30T21:29:00.507Z"
   },
   {
    "duration": 7,
    "start_time": "2024-10-30T21:29:00.515Z"
   },
   {
    "duration": 6,
    "start_time": "2024-10-30T21:33:39.074Z"
   },
   {
    "duration": 7,
    "start_time": "2024-10-30T21:35:09.603Z"
   },
   {
    "duration": 2,
    "start_time": "2024-10-30T21:35:20.494Z"
   },
   {
    "duration": 153,
    "start_time": "2024-10-30T21:35:20.499Z"
   },
   {
    "duration": 8,
    "start_time": "2024-10-30T21:35:20.654Z"
   },
   {
    "duration": 12,
    "start_time": "2024-10-30T21:35:20.664Z"
   },
   {
    "duration": 9,
    "start_time": "2024-10-30T21:35:20.678Z"
   },
   {
    "duration": 8,
    "start_time": "2024-10-30T21:35:20.689Z"
   },
   {
    "duration": 9,
    "start_time": "2024-10-30T21:35:20.698Z"
   },
   {
    "duration": 5,
    "start_time": "2024-10-30T21:35:20.709Z"
   },
   {
    "duration": 14,
    "start_time": "2024-10-30T21:35:20.716Z"
   },
   {
    "duration": 51,
    "start_time": "2024-10-30T21:35:20.732Z"
   },
   {
    "duration": 7,
    "start_time": "2024-10-30T21:35:20.787Z"
   },
   {
    "duration": 23,
    "start_time": "2024-10-30T21:35:20.796Z"
   },
   {
    "duration": 8,
    "start_time": "2024-10-30T21:35:20.821Z"
   },
   {
    "duration": 41,
    "start_time": "2024-10-30T21:35:20.831Z"
   },
   {
    "duration": 6,
    "start_time": "2024-10-30T21:35:20.874Z"
   },
   {
    "duration": 16,
    "start_time": "2024-10-30T21:35:20.882Z"
   },
   {
    "duration": 12,
    "start_time": "2024-10-30T21:35:20.900Z"
   },
   {
    "duration": 13,
    "start_time": "2024-10-30T21:35:20.914Z"
   },
   {
    "duration": 6,
    "start_time": "2024-10-30T21:35:20.929Z"
   },
   {
    "duration": 49,
    "start_time": "2024-10-30T21:35:20.937Z"
   },
   {
    "duration": 8,
    "start_time": "2024-10-30T21:35:20.988Z"
   },
   {
    "duration": 7,
    "start_time": "2024-10-30T21:35:20.998Z"
   },
   {
    "duration": 27,
    "start_time": "2024-10-30T21:35:21.006Z"
   },
   {
    "duration": 55,
    "start_time": "2024-10-30T21:35:21.035Z"
   },
   {
    "duration": 23,
    "start_time": "2024-10-30T21:35:21.092Z"
   },
   {
    "duration": 25,
    "start_time": "2024-10-30T21:35:21.116Z"
   },
   {
    "duration": 35,
    "start_time": "2024-10-30T21:35:21.143Z"
   },
   {
    "duration": 17,
    "start_time": "2024-10-30T21:35:21.180Z"
   },
   {
    "duration": 79,
    "start_time": "2024-10-30T21:35:21.201Z"
   },
   {
    "duration": 206,
    "start_time": "2024-10-30T21:35:21.281Z"
   },
   {
    "duration": 208,
    "start_time": "2024-10-30T21:35:21.490Z"
   },
   {
    "duration": 10,
    "start_time": "2024-10-30T21:35:21.700Z"
   },
   {
    "duration": 97,
    "start_time": "2024-10-30T21:35:21.711Z"
   },
   {
    "duration": 10,
    "start_time": "2024-10-30T21:35:21.810Z"
   },
   {
    "duration": 114,
    "start_time": "2024-10-30T21:35:21.821Z"
   },
   {
    "duration": 86,
    "start_time": "2024-10-30T21:35:21.937Z"
   },
   {
    "duration": 204,
    "start_time": "2024-10-30T21:35:22.025Z"
   },
   {
    "duration": 9,
    "start_time": "2024-10-30T21:35:22.231Z"
   },
   {
    "duration": 101,
    "start_time": "2024-10-30T21:35:22.241Z"
   },
   {
    "duration": 9,
    "start_time": "2024-10-30T21:35:22.343Z"
   },
   {
    "duration": 204,
    "start_time": "2024-10-30T21:35:22.353Z"
   },
   {
    "duration": 90,
    "start_time": "2024-10-30T21:35:22.559Z"
   },
   {
    "duration": 7,
    "start_time": "2024-10-30T21:35:22.651Z"
   },
   {
    "duration": 6,
    "start_time": "2024-10-30T21:35:22.670Z"
   }
  ],
  "colab": {
   "provenance": []
  },
  "kernelspec": {
   "display_name": "Python 3 (ipykernel)",
   "language": "python",
   "name": "python3"
  },
  "language_info": {
   "codemirror_mode": {
    "name": "ipython",
    "version": 3
   },
   "file_extension": ".py",
   "mimetype": "text/x-python",
   "name": "python",
   "nbconvert_exporter": "python",
   "pygments_lexer": "ipython3",
   "version": "3.9.19"
  },
  "toc": {
   "base_numbering": 1,
   "nav_menu": {},
   "number_sections": true,
   "sideBar": true,
   "skip_h1_title": false,
   "title_cell": "Table of Contents",
   "title_sidebar": "Contents",
   "toc_cell": false,
   "toc_position": {
    "height": "calc(100% - 180px)",
    "left": "10px",
    "top": "150px",
    "width": "165px"
   },
   "toc_section_display": true,
   "toc_window_display": true
  }
 },
 "nbformat": 4,
 "nbformat_minor": 1
}
